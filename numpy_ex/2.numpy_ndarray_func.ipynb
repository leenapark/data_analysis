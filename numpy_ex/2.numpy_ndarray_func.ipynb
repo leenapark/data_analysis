{
 "cells": [
  {
   "cell_type": "markdown",
   "id": "bc3a25ea-5a18-4130-a7db-e05b7bdab61a",
   "metadata": {},
   "source": [
    "# ndarray"
   ]
  },
  {
   "cell_type": "code",
   "execution_count": 3,
   "id": "7bb6fe02-7eab-40ba-a673-edd986189d39",
   "metadata": {
    "tags": []
   },
   "outputs": [],
   "source": [
    "import numpy as np\n",
    "import random"
   ]
  },
  {
   "cell_type": "markdown",
   "id": "3a018c46-1afa-4ef4-bb4b-a7c766057d0d",
   "metadata": {},
   "source": [
    "## 1. arange 살펴보기\n",
    "순차적인 값을 생성할 때 사용 예를 들면,\n",
    "    1. 회원에 대한 가입 번호 부여 (1번 회원부터 순차적으로~)\n",
    "    2. 100개 한정 판매 상품에 대한 고유 번호 부여"
   ]
  },
  {
   "cell_type": "code",
   "execution_count": 2,
   "id": "9a00425a-6707-4383-bb7f-7ce162afe49a",
   "metadata": {
    "tags": []
   },
   "outputs": [],
   "source": [
    "arr = [1, 2, 3, 4, 5, 6, 7, 8, 9, 10]"
   ]
  },
  {
   "cell_type": "code",
   "execution_count": 3,
   "id": "c615e552-355f-4432-95fb-61aeeece9eba",
   "metadata": {
    "tags": []
   },
   "outputs": [
    {
     "name": "stdout",
     "output_type": "stream",
     "text": [
      "[ 1  2  3  4  5  6  7  8  9 10]\n"
     ]
    }
   ],
   "source": [
    "print(np.array(arr))"
   ]
  },
  {
   "cell_type": "markdown",
   "id": "132e0a6f-b8a1-413f-a375-ac9e0eb38ffe",
   "metadata": {},
   "source": [
    "### 1-1. arange를 사용해서 쉽게 생성하기\n",
    "- 첫번째 인자에는 start 이상\n",
    "- 두번째 인자에는 stop의 미만"
   ]
  },
  {
   "cell_type": "code",
   "execution_count": 4,
   "id": "86999e6e-a736-4653-8c61-c576e72d0c82",
   "metadata": {
    "tags": []
   },
   "outputs": [
    {
     "name": "stdout",
     "output_type": "stream",
     "text": [
      "[ 1  2  3  4  5  6  7  8  9 10]\n"
     ]
    }
   ],
   "source": [
    "# arange() 1~10까지 ndarray 객체 생성 하여 arr에 대입\n",
    "arr = np.arange(1, 11)\n",
    "print(arr)"
   ]
  },
  {
   "cell_type": "markdown",
   "id": "15da2b03-ed20-4b37-9d87-e0e132c21679",
   "metadata": {},
   "source": [
    "### 1-2. keyword 인자를 사용해보기\n",
    "파라미터(인자)의 keyword를 지정해줌으로썬 순서 없이 지정해 줌"
   ]
  },
  {
   "cell_type": "code",
   "execution_count": 5,
   "id": "e3748bd7-a0ce-4fe3-92e6-e142b29b486d",
   "metadata": {
    "tags": []
   },
   "outputs": [],
   "source": [
    "arr = np.arange(start=1, stop=11)"
   ]
  },
  {
   "cell_type": "code",
   "execution_count": 6,
   "id": "d60fc094-f0e3-44e1-9d10-f8201fa6d37a",
   "metadata": {
    "tags": []
   },
   "outputs": [
    {
     "name": "stdout",
     "output_type": "stream",
     "text": [
      "[ 1  2  3  4  5  6  7  8  9 10]\n"
     ]
    }
   ],
   "source": [
    "print(arr)"
   ]
  },
  {
   "cell_type": "code",
   "execution_count": 7,
   "id": "c880499d-4837-4244-aca1-e86eca5d96cf",
   "metadata": {
    "tags": []
   },
   "outputs": [
    {
     "name": "stdout",
     "output_type": "stream",
     "text": [
      "[ 1  2  3  4  5  6  7  8  9 10]\n"
     ]
    }
   ],
   "source": [
    "arr = np.arange(stop=11, start=1)\n",
    "print(arr)"
   ]
  },
  {
   "cell_type": "markdown",
   "id": "536433bd-c21b-4d4e-bdd6-112cdd044b25",
   "metadata": {},
   "source": [
    "### 1-3. 홀수의 값만 생성\n",
    "- np.arange(start,stop,step) step 키워드 활용"
   ]
  },
  {
   "cell_type": "code",
   "execution_count": 8,
   "id": "f6480bc7-f5db-4e83-9041-b0fb2356656f",
   "metadata": {
    "tags": []
   },
   "outputs": [
    {
     "name": "stdout",
     "output_type": "stream",
     "text": [
      "[1 3 5 7 9]\n"
     ]
    }
   ],
   "source": [
    "# 1~10 사이의 값중 홀수만 생성\n",
    "arr = np.arange(1, 11, 2)\n",
    "print(arr)"
   ]
  },
  {
   "cell_type": "code",
   "execution_count": 9,
   "id": "ce6234bd-fd04-438e-bded-7725ac8cef6f",
   "metadata": {
    "tags": []
   },
   "outputs": [
    {
     "name": "stdout",
     "output_type": "stream",
     "text": [
      "[1 3 5 7 9]\n"
     ]
    }
   ],
   "source": [
    "arr = np.arange(start=1, stop=11, step=2)\n",
    "print(arr)"
   ]
  },
  {
   "cell_type": "markdown",
   "id": "157ac4da-5748-43c2-885c-08629debcde0",
   "metadata": {
    "tags": []
   },
   "source": [
    "## 2. range (numpy와는 상관없는 python 문법)\n",
    "- range는 범위를 지정해 주는 것\n",
    "- 보통 for in 의 반복문에서 많이 사용됨"
   ]
  },
  {
   "cell_type": "code",
   "execution_count": 81,
   "id": "d45e3507-2cba-49dd-b7f7-b016e0dd8c1e",
   "metadata": {
    "tags": []
   },
   "outputs": [
    {
     "name": "stdout",
     "output_type": "stream",
     "text": [
      "[ 1  2  3  4  5  6  7  8  9 10]\n"
     ]
    }
   ],
   "source": [
    "arr = np.arange(1, 11)\n",
    "print(arr)"
   ]
  },
  {
   "cell_type": "code",
   "execution_count": 82,
   "id": "d0ed8b11-3878-4199-88cd-80948e8ccaac",
   "metadata": {
    "tags": []
   },
   "outputs": [
    {
     "name": "stdout",
     "output_type": "stream",
     "text": [
      "1\n",
      "2\n",
      "3\n",
      "4\n",
      "5\n",
      "6\n",
      "7\n",
      "8\n",
      "9\n",
      "10\n"
     ]
    }
   ],
   "source": [
    "for i in arr:\n",
    "    print(i)"
   ]
  },
  {
   "cell_type": "markdown",
   "id": "6d7202cd-f897-4e06-b5a6-c046125c7c0c",
   "metadata": {},
   "source": [
    "### 2-1. range 구문 활용시 - 범위 지정"
   ]
  },
  {
   "cell_type": "code",
   "execution_count": 83,
   "id": "bb279345-82a5-49f8-a6a7-1b24e44b91a9",
   "metadata": {
    "tags": []
   },
   "outputs": [
    {
     "name": "stdout",
     "output_type": "stream",
     "text": [
      "1\n",
      "2\n",
      "3\n",
      "4\n",
      "5\n",
      "6\n",
      "7\n",
      "8\n",
      "9\n",
      "10\n"
     ]
    }
   ],
   "source": [
    "for i in range(1, 11):\n",
    "    print(i)"
   ]
  },
  {
   "cell_type": "code",
   "execution_count": 84,
   "id": "ad5a0e9a-4533-41f4-a10a-9d7922626d2e",
   "metadata": {
    "tags": []
   },
   "outputs": [
    {
     "name": "stdout",
     "output_type": "stream",
     "text": [
      "1\n",
      "3\n",
      "5\n",
      "7\n",
      "9\n"
     ]
    }
   ],
   "source": [
    "# 1~11까지 홀수만 출력 하도록\n",
    "# for in 문 range() 활용\n",
    "for i in range(1, 11, 2):\n",
    "    print(i)"
   ]
  },
  {
   "cell_type": "code",
   "execution_count": null,
   "id": "f83eccdd-5a8c-4398-b2d2-9ece2c260347",
   "metadata": {},
   "outputs": [],
   "source": []
  },
  {
   "cell_type": "markdown",
   "id": "00cb6154-c886-4369-935f-72ff63249c37",
   "metadata": {},
   "source": [
    "## 3. 정렬(sorting) 하기\n",
    "- (1) 1차원 배열 정렬 : np.sort(x)\n",
    "- (2) 1차원 배열 거꾸로 정렬 : np.sort(x)[::-1] , x[np.argsort(-x)]\n",
    "- (3) 2차원 배열 열 축 기준으로 정렬 : np.sort(x, axis=1)\n",
    "- (4) 2차원 배열 행 축 기준으로 정렬 : np.sort(x, axis=0)\n",
    "- (5) 2차원 배열 행 축 기준으로 거꾸로 정렬 : np.sort(x, axis=0)[::-1]"
   ]
  },
  {
   "cell_type": "markdown",
   "id": "760e7a6d-d3eb-4fd5-a830-651a5744fba3",
   "metadata": {},
   "source": [
    "### 3-1. 1차원 정렬\n",
    "3-1. 1차원 정렬"
   ]
  },
  {
   "cell_type": "code",
   "execution_count": 10,
   "id": "68acb8f5-5b48-4553-a970-96acb6d36d6e",
   "metadata": {
    "tags": []
   },
   "outputs": [
    {
     "name": "stdout",
     "output_type": "stream",
     "text": [
      "<module 'numpy' from 'C:\\\\playdata_lab\\\\data_analysis\\\\da_venv\\\\lib\\\\site-packages\\\\numpy\\\\__init__.py'>\n"
     ]
    }
   ],
   "source": [
    "print(np)"
   ]
  },
  {
   "cell_type": "code",
   "execution_count": 30,
   "id": "0f46eedc-d6d7-43c5-81f6-a2702183ea91",
   "metadata": {
    "tags": []
   },
   "outputs": [
    {
     "name": "stdout",
     "output_type": "stream",
     "text": [
      "[ 1 10  5  8  2  4  3  6  8  7  9]\n"
     ]
    }
   ],
   "source": [
    "arr = np.array([1, 10, 5, 8, 2, 4, 3, 6, 8, 7, 9])\n",
    "print(arr)"
   ]
  },
  {
   "cell_type": "code",
   "execution_count": 31,
   "id": "3e9d2b73-bc09-461f-a41a-df1fb80c5777",
   "metadata": {
    "tags": []
   },
   "outputs": [
    {
     "name": "stdout",
     "output_type": "stream",
     "text": [
      "[ 1  2  3  4  5  6  7  8  8  9 10]\n",
      "[ 1 10  5  8  2  4  3  6  8  7  9]\n",
      "[ 1  2  3  4  5  6  7  8  8  9 10]\n"
     ]
    }
   ],
   "source": [
    "print(np.sort(arr)) # 원본은 그대로\n",
    "print(arr)\n",
    "arr.sort() # 원본 자체를 sort\n",
    "print(arr)"
   ]
  },
  {
   "cell_type": "code",
   "execution_count": 23,
   "id": "29e8720f-e390-46a1-83fc-7800d091e220",
   "metadata": {
    "tags": []
   },
   "outputs": [
    {
     "name": "stdout",
     "output_type": "stream",
     "text": [
      "[ 1  2  3  4  5  6  7  8  8  9 10]\n"
     ]
    }
   ],
   "source": [
    "print(np.sort(arr, axis=0))"
   ]
  },
  {
   "cell_type": "code",
   "execution_count": 27,
   "id": "00dab8e9-f569-4266-8879-e187dc1f116e",
   "metadata": {
    "tags": []
   },
   "outputs": [
    {
     "name": "stdout",
     "output_type": "stream",
     "text": [
      "[ 1  2  3  4  5  6  7  8  8  9 10]\n"
     ]
    }
   ],
   "source": [
    "print(np.sort(arr, axis=-1))"
   ]
  },
  {
   "cell_type": "code",
   "execution_count": 28,
   "id": "879bd624-790f-4209-98c3-8c89e237d03c",
   "metadata": {
    "tags": []
   },
   "outputs": [
    {
     "name": "stdout",
     "output_type": "stream",
     "text": [
      "[10  9  8  8  7  6  5  4  3  2  1]\n"
     ]
    }
   ],
   "source": [
    "print(np.sort(arr)[::-1])"
   ]
  },
  {
   "cell_type": "markdown",
   "id": "d8874b0a-4ea7-4ed3-b364-3a0651524778",
   "metadata": {},
   "source": [
    "### 3-2. N차원 정렬"
   ]
  },
  {
   "cell_type": "code",
   "execution_count": 32,
   "id": "309799ce-61d5-40a5-a95b-8809cdd2c637",
   "metadata": {
    "tags": []
   },
   "outputs": [
    {
     "name": "stdout",
     "output_type": "stream",
     "text": [
      "[[ 5  2  7  8]\n",
      " [ 4  3  2  1]\n",
      " [10  9  3 11]]\n"
     ]
    }
   ],
   "source": [
    "arr2d = np.array([[5, 2, 7, 8], \n",
    "                  [4, 3, 2, 1],\n",
    "                  [10, 9, 3, 11]])\n",
    "print(arr2d)"
   ]
  },
  {
   "cell_type": "markdown",
   "id": "10ee3b45-06c1-4eb5-b618-041d0367655b",
   "metadata": {},
   "source": [
    "### 2차원 배열 정렬\n",
    "- default: axis=1"
   ]
  },
  {
   "cell_type": "code",
   "execution_count": 38,
   "id": "c866b05f-dc44-46fc-81d0-378f4d5e256b",
   "metadata": {
    "tags": []
   },
   "outputs": [
    {
     "name": "stdout",
     "output_type": "stream",
     "text": [
      "[[ 5  2  7  8]\n",
      " [ 4  3  2  1]\n",
      " [10  9  3 11]]\n",
      "[[ 2  5  7  8]\n",
      " [ 1  2  3  4]\n",
      " [ 3  9 10 11]]\n",
      "[[ 4  2  2  1]\n",
      " [ 5  3  3  8]\n",
      " [10  9  7 11]]\n"
     ]
    }
   ],
   "source": [
    "print(arr2d)\n",
    "print(np.sort(arr2d, axis=1)) # 열 축\n",
    "print(np.sort(arr2d, axis=0)) # 행 축"
   ]
  },
  {
   "cell_type": "code",
   "execution_count": 42,
   "id": "b3058480-1bb2-4ea6-a2ca-e00917b4717b",
   "metadata": {
    "tags": []
   },
   "outputs": [
    {
     "name": "stdout",
     "output_type": "stream",
     "text": [
      "[[[ 1  2]\n",
      "  [ 3  4]]\n",
      "\n",
      " [[ 5  6]\n",
      "  [ 7  8]]\n",
      "\n",
      " [[ 9 10]\n",
      "  [11 12]]]\n"
     ]
    }
   ],
   "source": [
    "arr = np.arange(1, 13)\n",
    "arr3d = arr.reshape(3,2,2)\n",
    "print(arr3d)"
   ]
  },
  {
   "cell_type": "code",
   "execution_count": 49,
   "id": "d144460e-79f1-47ff-b29a-782876855481",
   "metadata": {
    "tags": []
   },
   "outputs": [
    {
     "name": "stdout",
     "output_type": "stream",
     "text": [
      "[[[ 1  2]\n",
      "  [ 3  4]]\n",
      "\n",
      " [[ 5  6]\n",
      "  [ 7  8]]\n",
      "\n",
      " [[ 9 10]\n",
      "  [11 12]]]\n"
     ]
    }
   ],
   "source": [
    "print(np.sort(arr3d, axis=0))"
   ]
  },
  {
   "cell_type": "code",
   "execution_count": 47,
   "id": "a50a3346-69c5-418c-88c4-d8caa9d4927c",
   "metadata": {
    "tags": []
   },
   "outputs": [
    {
     "name": "stdout",
     "output_type": "stream",
     "text": [
      "[[[[ 1  2  3  4]\n",
      "   [ 5  6  7  8]]\n",
      "\n",
      "  [[ 9 10 11 12]\n",
      "   [13 14 15 16]]]\n",
      "\n",
      "\n",
      " [[[17 18 19 20]\n",
      "   [21 22 23 24]]\n",
      "\n",
      "  [[25 26 27 28]\n",
      "   [29 30 31 32]]]\n",
      "\n",
      "\n",
      " [[[33 34 35 36]\n",
      "   [37 38 39 40]]\n",
      "\n",
      "  [[41 42 43 44]\n",
      "   [45 46 47 48]]]]\n"
     ]
    }
   ],
   "source": [
    "arr4 = np.arange(1, 49)\n",
    "arr4d = arr4.reshape(3,2,2,4)\n",
    "print(arr4d)"
   ]
  },
  {
   "cell_type": "markdown",
   "id": "1d7bcea1-6d04-4c11-97c5-50d4e3b518ab",
   "metadata": {},
   "source": [
    "## 4. index를 반환하는 argsort"
   ]
  },
  {
   "cell_type": "code",
   "execution_count": 50,
   "id": "56d7ac9e-8d34-41a4-ae3c-bb31b6c4d28a",
   "metadata": {
    "tags": []
   },
   "outputs": [
    {
     "name": "stdout",
     "output_type": "stream",
     "text": [
      "[[ 5  6  7  8]\n",
      " [ 1  2  3  4]\n",
      " [ 9 10 11 12]]\n"
     ]
    }
   ],
   "source": [
    "arr2d = np.array([[5, 6, 7, 8], \n",
    "                  [4, 3, 2, 1],\n",
    "                  [10, 9, 12, 11]])\n",
    "print(np.sort(arr2d))"
   ]
  },
  {
   "cell_type": "code",
   "execution_count": 51,
   "id": "addf2552-b4cd-4729-8125-de16b8719236",
   "metadata": {
    "tags": []
   },
   "outputs": [
    {
     "name": "stdout",
     "output_type": "stream",
     "text": [
      "[[0 1 2 3]\n",
      " [3 2 1 0]\n",
      " [1 0 3 2]]\n"
     ]
    }
   ],
   "source": [
    "print(np.argsort(arr2d, axis=1))"
   ]
  },
  {
   "cell_type": "code",
   "execution_count": 64,
   "id": "1805969b-59d9-497f-9829-c547607826ec",
   "metadata": {
    "tags": []
   },
   "outputs": [
    {
     "name": "stdout",
     "output_type": "stream",
     "text": [
      "[[29 28 31 23]\n",
      " [24 30 22 27]\n",
      " [25 21 20 26]]\n"
     ]
    }
   ],
   "source": [
    "# arr2d = np.arange(20, 32, 1)\n",
    "arr2d = np.arange(20, 32)\n",
    "arrRe = arr2d.reshape(3, 4)\n",
    "arrRe = np.array([[29, 28, 31, 23],\n",
    "                  [24, 30, 22, 27],\n",
    "                  [25, 21, 20, 26]])\n",
    "print(arrRe)"
   ]
  },
  {
   "cell_type": "code",
   "execution_count": 66,
   "id": "fa63c67b-8012-4fd6-8f00-812792a0b0b2",
   "metadata": {
    "tags": []
   },
   "outputs": [
    {
     "name": "stdout",
     "output_type": "stream",
     "text": [
      "[[29 28 31 23]\n",
      " [24 30 22 27]\n",
      " [25 21 20 26]]\n",
      "[[3 1 0 2]\n",
      " [2 0 3 1]\n",
      " [2 1 0 3]]\n",
      "[[1 2 2 0]\n",
      " [2 0 1 2]\n",
      " [0 1 0 1]]\n"
     ]
    }
   ],
   "source": [
    "print(arrRe)\n",
    "print(np.argsort(arrRe, axis=1))\n",
    "print(np.argsort(arrRe, axis=0))"
   ]
  },
  {
   "cell_type": "code",
   "execution_count": 70,
   "id": "ecdc3ca5-eb7b-414d-a12f-38f608053ba8",
   "metadata": {
    "tags": []
   },
   "outputs": [
    {
     "name": "stdout",
     "output_type": "stream",
     "text": [
      "[[20 30 22 27]\n",
      " [25 21 24 26]\n",
      " [28 23 29 31]]\n",
      "[[20 22 27 30]\n",
      " [21 24 25 26]\n",
      " [23 28 29 31]]\n",
      "[[0 2 3 1]\n",
      " [1 2 0 3]\n",
      " [1 0 2 3]]\n",
      "[[20 21 22 26]\n",
      " [25 23 24 27]\n",
      " [28 30 29 31]]\n",
      "[[0 1 0 1]\n",
      " [1 2 1 0]\n",
      " [2 0 2 2]]\n"
     ]
    }
   ],
   "source": [
    "arr2d = np.array(\n",
    "    [[20, 30, 22, 27],\n",
    "     [25, 21, 24, 26],\n",
    "     [28, 23, 29, 31]]\n",
    ")\n",
    "print(arr2d)\n",
    "print(np.sort(arr2d, axis=1))\n",
    "print(np.argsort(arr2d, axis=1)) # 열 축으로 정렬한 뒤 원래 위치 인덱스 반환\n",
    "print(np.sort(arr2d, axis=0))\n",
    "print(np.argsort(arr2d, axis=0)) # 행 축으로 정렬한 뒤 원래 위치 인덱스 반환"
   ]
  },
  {
   "cell_type": "markdown",
   "id": "ef14fd09-268e-4c23-a897-56631a3cbab3",
   "metadata": {},
   "source": [
    "## 5. Numpy의 유용한 함수들"
   ]
  },
  {
   "cell_type": "markdown",
   "id": "7b1355a6-ceff-48e1-a28e-1965adea63bf",
   "metadata": {},
   "source": [
    "### 5-1. ndarray 객체 생성 함수\n",
    "설정한 차원으로 ndarray 객체를 만들고 지정한 숫자로 값을 초기화 하는 함수"
   ]
  },
  {
   "cell_type": "code",
   "execution_count": 75,
   "id": "00b0b3e6-92ba-4396-a17e-4f09523f5daa",
   "metadata": {
    "tags": []
   },
   "outputs": [
    {
     "name": "stdout",
     "output_type": "stream",
     "text": [
      "[0. 0. 0. 0. 0. 0. 0. 0. 0. 0.]\n",
      "[0 0 0 0 0 0 0 0 0 0]\n"
     ]
    }
   ],
   "source": [
    "# 1차원 0으로 모두 초기화\n",
    "print(np.zeros(10))\n",
    "print(np.zeros(10, dtype=int))"
   ]
  },
  {
   "cell_type": "code",
   "execution_count": 76,
   "id": "c6d5eb64-1ee2-4910-a39d-ffa8604ee97e",
   "metadata": {
    "tags": []
   },
   "outputs": [
    {
     "name": "stdout",
     "output_type": "stream",
     "text": [
      "[[0. 0. 0. 0.]\n",
      " [0. 0. 0. 0.]\n",
      " [0. 0. 0. 0.]]\n"
     ]
    }
   ],
   "source": [
    "print(# (3,4)행렬로 0으로 모두 초기화\n",
    "np.zeros((3,4)))"
   ]
  },
  {
   "cell_type": "code",
   "execution_count": 78,
   "id": "00736ec2-fa2c-4596-80b9-dcfe10c19bbf",
   "metadata": {
    "tags": []
   },
   "outputs": [
    {
     "name": "stdout",
     "output_type": "stream",
     "text": [
      "[[1. 1. 1. 1. 1. 1.]\n",
      " [1. 1. 1. 1. 1. 1.]\n",
      " [1. 1. 1. 1. 1. 1.]]\n"
     ]
    }
   ],
   "source": [
    "# 1로 모두 초기화\n",
    "print(np.ones((3,6)))"
   ]
  },
  {
   "cell_type": "code",
   "execution_count": 80,
   "id": "067135c5-b397-48ec-8dde-c9204985b5fa",
   "metadata": {
    "tags": []
   },
   "outputs": [
    {
     "name": "stdout",
     "output_type": "stream",
     "text": [
      "[[5 5 5]\n",
      " [5 5 5]]\n",
      "[[7 7 7 7]\n",
      " [7 7 7 7]\n",
      " [7 7 7 7]]\n"
     ]
    }
   ],
   "source": [
    "# 지정숫자로 초기화 full((행, 열), 지정숫자)\n",
    "print(np.full((2,3),5))\n",
    "print(np.full((3, 4), 7))"
   ]
  },
  {
   "cell_type": "code",
   "execution_count": 85,
   "id": "aaa5f792-b9b3-4fce-a635-2f08d467783f",
   "metadata": {
    "tags": []
   },
   "outputs": [
    {
     "name": "stdout",
     "output_type": "stream",
     "text": [
      "[ 1  2  3  4  5  6  7  8  9 10]\n"
     ]
    }
   ],
   "source": [
    "a = np.arange(1,11, 1)\n",
    "print(a)"
   ]
  },
  {
   "cell_type": "code",
   "execution_count": 105,
   "id": "41fa6d89-cb7f-442f-ba16-fac43711a362",
   "metadata": {
    "tags": []
   },
   "outputs": [
    {
     "name": "stdout",
     "output_type": "stream",
     "text": [
      "[[ 1  2  3  4  5]\n",
      " [ 6  7  8  9 10]]\n",
      "[[ 1  2]\n",
      " [ 3  4]\n",
      " [ 5  6]\n",
      " [ 7  8]\n",
      " [ 9 10]]\n"
     ]
    }
   ],
   "source": [
    "# reshape(행의 갯수, 열의 갯수)\n",
    "# -1 이란? : 해당 갯수의 상관없을 때\n",
    "# a = a.reshape(-1, -1) # error : 한쪽은 반드시 정해줘야 함\n",
    "a = a.reshape(2, -1)\n",
    "print(a)\n",
    "a = a.reshape(-1, 2)\n",
    "print(a)"
   ]
  },
  {
   "cell_type": "code",
   "execution_count": 88,
   "id": "053f195e-f9bd-4527-86c0-d806e94e0c0c",
   "metadata": {
    "tags": []
   },
   "outputs": [
    {
     "data": {
      "text/plain": [
       "array([ 0, 22, 45, 67, 90])"
      ]
     },
     "execution_count": 88,
     "metadata": {},
     "output_type": "execute_result"
    }
   ],
   "source": [
    "# 균등하게 값을 분할 \n",
    "np.linspace(0,90, 5, dtype=int)"
   ]
  },
  {
   "cell_type": "code",
   "execution_count": 89,
   "id": "5b2a973f-57bf-487a-830f-cb863dbf5685",
   "metadata": {
    "tags": []
   },
   "outputs": [
    {
     "data": {
      "text/plain": [
       "array([[0.96109666, 0.12485333, 0.69452173],\n",
       "       [0.55956881, 0.07474996, 0.12139979],\n",
       "       [0.09599443, 0.15915082, 0.69326817]])"
      ]
     },
     "execution_count": 89,
     "metadata": {},
     "output_type": "execute_result"
    }
   ],
   "source": [
    "# random 값으로 채우기(0~1 사이, 3x3)\n",
    "np.random.random((3,3))"
   ]
  },
  {
   "cell_type": "code",
   "execution_count": 96,
   "id": "e7cd65e4-9469-454f-b55c-f76b1e6e053e",
   "metadata": {
    "tags": []
   },
   "outputs": [
    {
     "data": {
      "text/plain": [
       "array([[6, 3, 3],\n",
       "       [1, 6, 3],\n",
       "       [6, 9, 4]])"
      ]
     },
     "execution_count": 96,
     "metadata": {},
     "output_type": "execute_result"
    }
   ],
   "source": [
    "# random 값으로 채우기(정수 0~n-1까지, nxn)\n",
    "np.random.randint(0, 10, (3,3))"
   ]
  },
  {
   "cell_type": "code",
   "execution_count": 121,
   "id": "f7c0f67e-d722-4d74-8fb2-d0de6f43dfad",
   "metadata": {
    "tags": []
   },
   "outputs": [
    {
     "name": "stdout",
     "output_type": "stream",
     "text": [
      "[[ 1.39799638 -0.27124799  0.61320418]\n",
      " [-0.26731719 -0.54930901  0.1327083 ]\n",
      " [-0.47614201  1.30847308  0.19501328]]\n"
     ]
    }
   ],
   "source": [
    "# 설정한 평균, 표준편차 정규분포 확률에 의한 난수 배열 생성\n",
    "print(np.random.normal(0,1, (3,3))) # 실행 할 때마다 출력 값 달라짐"
   ]
  },
  {
   "cell_type": "code",
   "execution_count": 136,
   "id": "f5655dab-0fe5-4c1e-990e-5fd020714df7",
   "metadata": {
    "tags": []
   },
   "outputs": [
    {
     "data": {
      "text/plain": [
       "array([[-1.26405266,  1.52790535, -0.97071094],\n",
       "       [ 0.47055962, -0.10069672,  0.30379318],\n",
       "       [-1.72596243,  1.58509537,  0.13429659]])"
      ]
     },
     "execution_count": 136,
     "metadata": {},
     "output_type": "execute_result"
    }
   ],
   "source": [
    "# random seed는 난수 값을 동일한 값 생성을 재현함.  \n",
    "# seed는 해당 shell에만 적용된다\n",
    "np.random.seed(30) # seed 값이 있을 경우 seed 기준 값이 달라지지 않으면 출력값도 변하지 않음\n",
    "np.random.normal(0,1, (3,3))"
   ]
  },
  {
   "cell_type": "code",
   "execution_count": 167,
   "id": "b9f2ef1c-8364-4bed-9baa-d7dcf98abe1d",
   "metadata": {
    "tags": []
   },
   "outputs": [
    {
     "name": "stdout",
     "output_type": "stream",
     "text": [
      "[[30 34 33 35]\n",
      " [16 93 28 27]\n",
      " [42 16 90 69]]\n",
      "[[45 91 80 62]\n",
      " [70 49 15 35]\n",
      " [50 86 10 48]]\n"
     ]
    }
   ],
   "source": [
    "# 중복되지 않게 3x4 배열 만들어보기\n",
    "print(np.random.randint(10, 100, (3, 4)))\n",
    "# arrList = []\n",
    "# for i in range(10, 101):\n",
    "#     arrRandom = randint(10, 100)\n",
    "#     while a in arrList:\n",
    "#         arrRandom = randint(10, 100)\n",
    "#         arrRandom = arrRandom.reshape(3, 4)\n",
    "#         print(arrRandom)\n",
    "# testArr = np.random.sample((3, 4))\n",
    "print(np.random.choice(range(10, 100), (3, 4), replace=False))"
   ]
  },
  {
   "cell_type": "markdown",
   "id": "c2e861db-3a51-4aed-bdd2-28ad9d85c463",
   "metadata": {},
   "source": [
    "### 5-2. Numpy 배열 객체의 연결 및 shape 바꾸기\n",
    "- 같은 차원의 list 및 ndarray를 연결함\n",
    "- 2차원 이상은 연결할 축의 방향 설정"
   ]
  },
  {
   "cell_type": "code",
   "execution_count": 106,
   "id": "d3a933f7-bc54-42bb-b2d1-96a63f2137eb",
   "metadata": {
    "tags": []
   },
   "outputs": [],
   "source": [
    "list1 = [1,2,3,4]\n",
    "list2 = [4,5,6,7]"
   ]
  },
  {
   "cell_type": "code",
   "execution_count": 107,
   "id": "4e7e846e-ed8e-4d34-9151-02d88a38c313",
   "metadata": {
    "tags": []
   },
   "outputs": [
    {
     "name": "stdout",
     "output_type": "stream",
     "text": [
      "[1 2 3 4 4 5 6 7]\n",
      "[1 2 3 4 4 5 6 7]\n"
     ]
    }
   ],
   "source": [
    "print(np.concatenate([list1,list2]))\n",
    "print(np.array(list1 + list2))"
   ]
  },
  {
   "cell_type": "code",
   "execution_count": 118,
   "id": "d5007c38-8d6f-4690-ae2a-949055c08a32",
   "metadata": {
    "tags": []
   },
   "outputs": [
    {
     "name": "stdout",
     "output_type": "stream",
     "text": [
      "[1 2 3 4 4 5 6 7]\n"
     ]
    }
   ],
   "source": [
    "# 이건 가능할까요?\n",
    "# print(np.concatenate([list1, list2], axis=1)) # error\n",
    "# print(np.concatenate([list1], axis=1)) # error\n",
    "# axis 1 is out of bounds for array of dimension 1 : 축 1이 차원 1의 배열 범위를 벗어났습니다.\n",
    "testArr = np.concatenate([list1, list2])\n",
    "print(np.sort(testArr, axis=-1))"
   ]
  },
  {
   "cell_type": "code",
   "execution_count": 138,
   "id": "46e751a4-88b3-4f0c-88c1-f36cf9d623c9",
   "metadata": {
    "tags": []
   },
   "outputs": [
    {
     "name": "stdout",
     "output_type": "stream",
     "text": [
      "[[1 2 3 4]\n",
      " [4 5 6 7]]\n"
     ]
    }
   ],
   "source": [
    "# 1차원을 2차원으로 reshape함\n",
    "arr1d = np.concatenate([list1,list2])\n",
    "arr2d = arr1d.reshape(-1,4)\n",
    "print(arr2d)"
   ]
  },
  {
   "cell_type": "code",
   "execution_count": 142,
   "id": "684ba483-9070-4c5a-8255-80bde4bc92e6",
   "metadata": {
    "tags": []
   },
   "outputs": [
    {
     "name": "stdout",
     "output_type": "stream",
     "text": [
      "[[1 2 3 4]\n",
      " [4 5 6 7]\n",
      " [1 2 3 4]\n",
      " [4 5 6 7]]\n",
      "[1 2 3 4]\n",
      "[4 5 6 7]\n",
      "1\n"
     ]
    }
   ],
   "source": [
    "print(np.concatenate([arr2d, arr2d], axis=0))\n",
    "print(np.concatenate([arr2d, arr2d], axis=0)[0])\n",
    "print(np.concatenate([arr2d, arr2d], axis=0)[1])\n",
    "print(np.concatenate([arr2d, arr2d], axis=0)[0][0])"
   ]
  },
  {
   "cell_type": "code",
   "execution_count": 144,
   "id": "b9e5660b-588e-47a2-95bb-66eb7cc55f3b",
   "metadata": {
    "tags": []
   },
   "outputs": [
    {
     "name": "stdout",
     "output_type": "stream",
     "text": [
      "[[1 2 3 4 1 2 3 4]\n",
      " [4 5 6 7 4 5 6 7]]\n",
      "[1 2 3 4 1 2 3 4]\n",
      "5\n"
     ]
    }
   ],
   "source": [
    "print(np.concatenate([arr2d,arr2d], axis=1))\n",
    "print(np.concatenate([arr2d,arr2d], axis=1)[0])\n",
    "print(np.concatenate([arr2d,arr2d], axis=1)[1][5])"
   ]
  },
  {
   "cell_type": "code",
   "execution_count": 145,
   "id": "5e91f844-633f-479e-8e66-1a70b771c6e0",
   "metadata": {
    "tags": []
   },
   "outputs": [
    {
     "name": "stdout",
     "output_type": "stream",
     "text": [
      "[[1 2 3 4]\n",
      " [4 5 6 7]\n",
      " [1 2 3 4]\n",
      " [4 5 6 7]]\n"
     ]
    }
   ],
   "source": [
    "# 2차원 리스트 연결\n",
    "arr2 = [[1, 2, 3, 4],\n",
    "       [4, 5, 6, 7]]\n",
    "print(np.concatenate([arr2,arr2], axis=0))"
   ]
  },
  {
   "cell_type": "markdown",
   "id": "2304403c-3f29-499c-8200-2610cbf42d79",
   "metadata": {},
   "source": [
    "#### np.vstack(), np.hstack()\n",
    "- vertical\n",
    "- horizontal"
   ]
  },
  {
   "cell_type": "code",
   "execution_count": 148,
   "id": "da385003-24d9-4403-aa7b-8503e51594df",
   "metadata": {
    "tags": []
   },
   "outputs": [
    {
     "name": "stdout",
     "output_type": "stream",
     "text": [
      "[[1 2 3 4]\n",
      " [4 5 6 7]\n",
      " [1 2 3 4]\n",
      " [4 5 6 7]]\n",
      "[[1 2 3 4]\n",
      " [4 5 6 7]\n",
      " [1 2 3 4]\n",
      " [4 5 6 7]]\n"
     ]
    }
   ],
   "source": [
    "print(np.concatenate([arr2,arr2], axis=0))\n",
    "print(np.vstack([arr2, arr2]))"
   ]
  },
  {
   "cell_type": "code",
   "execution_count": 149,
   "id": "bc0cd5a9-27cc-40cf-a257-5e45f2a701b8",
   "metadata": {
    "tags": []
   },
   "outputs": [
    {
     "name": "stdout",
     "output_type": "stream",
     "text": [
      "[[1 2 3 4 1 2 3 4]\n",
      " [4 5 6 7 4 5 6 7]]\n",
      "[[1 2 3 4 1 2 3 4]\n",
      " [4 5 6 7 4 5 6 7]]\n"
     ]
    }
   ],
   "source": [
    "print(np.concatenate([arr2,arr2], axis=1))\n",
    "print(np.hstack([arr2d, arr2d]))"
   ]
  },
  {
   "cell_type": "markdown",
   "id": "30b41ccb-be8e-4eeb-a79c-1178e049a82e",
   "metadata": {
    "tags": []
   },
   "source": [
    "## 6. Numpy 기술(describe) 통계함수\n",
    "- x= np.array([18,5,3,4,7,12,17,8,23, -1,-2,-9,-20,0,3,4,9,20])\n",
    "  - 배열의 갯수 : len(x)\n",
    "  - 데이터 갯수(size) : np.size(x) == x.size\n",
    "  - 평균(mean, average) : np.mean(x)\n",
    "  - 표준편차(standard deviation) : np.std(x)\n",
    "  - 분산(variance) : np.var(x)\n",
    "  - 최소값(minimum) : np.min(x)\n",
    "  - 최대값(maximum) : np.max(x)\n",
    "  - 중앙값(median) : np.median(x)\n",
    "  - 최빈값(most frequency) : np.bincount()\n",
    "  - scipy.stats 모듈의 mode(x) 함수 사용 \n",
    "  - from scipy.stats import mode\n",
    "  - 사분위수(quartile) :\n",
    "  - np.percentile(x,0)\n",
    "  - np.percentile(x,25)\n",
    "  - np.percentile(x,50) # median() = 중앙값\n",
    "  - np.percentile(x,70)\n",
    "  - 합계 : np.sum(x)\n",
    "  - 누적곱 : np.cumprod(x)\n",
    "  - 누적합 : np.cumsum(x)\n",
    "  - 공분산 : 3행 3열의 난수를 생성\n",
    "- -- y = np.random.randn(3,3) -- np.cov(y)"
   ]
  },
  {
   "cell_type": "code",
   "execution_count": 245,
   "id": "f3b248d9-44a8-4bf6-81a5-b8469d85fa81",
   "metadata": {
    "tags": []
   },
   "outputs": [
    {
     "name": "stdout",
     "output_type": "stream",
     "text": [
      "18\n",
      "18 18\n",
      "5.611111111111111 5.611111111111111\n",
      "10.20424143235922\n",
      "104.12654320987653\n",
      "-20\n",
      "23\n",
      "4.5\n",
      "[ 1  2  1  4  3  3  5  3  5  9 10 11]\n",
      "[ 18   5   3   4   7  12  17   8  23  -1  -2  -9 -20   0   3   4   9  20]\n",
      "[0 2 1 3 1 2 0 0 0 1 1 1]\n"
     ]
    }
   ],
   "source": [
    "x= np.array([18,5,3,4,7,12,17,8,23, -1,-2,-9,-20,0,3,4,9,20])\n",
    "print(len(x))\n",
    "print(np.size(x), x.size)\n",
    "print(np.mean(x), np.average(x))\n",
    "print(np.std(x))\n",
    "print(np.var(x))\n",
    "print(np.min(x))\n",
    "print(np.max(x))\n",
    "print(np.median(x))\n",
    "# print(np.bincount(x)) # == scipy mode()\n",
    "arr = np.array([1, 2, 1, 4, 3, 3, 5, 3, 5, 9, 10, 11])\n",
    "print(arr)\n",
    "print(x)\n",
    "arr2 = np.bincount(arr)\n",
    "print(arr2)"
   ]
  },
  {
   "cell_type": "markdown",
   "id": "9d29ae4b-80a7-4e9e-8a8d-0f626d0f1fc6",
   "metadata": {},
   "source": [
    "### 6-1. ndarray 전체 요소 갯수"
   ]
  },
  {
   "cell_type": "code",
   "execution_count": 4,
   "id": "82bfee4e-8c1c-4433-be98-2444e0d8daa6",
   "metadata": {
    "tags": []
   },
   "outputs": [
    {
     "name": "stdout",
     "output_type": "stream",
     "text": [
      "18\n"
     ]
    }
   ],
   "source": [
    "x = np.array([18,5,4,8,7,12,17,8,23,-1,-2,-9,-20,0,3,4,9,20])\n",
    "print(len(x))"
   ]
  },
  {
   "cell_type": "markdown",
   "id": "a4f8dc32-716c-4447-a83e-69ca006fda43",
   "metadata": {},
   "source": [
    "### 6-2. ndarray 내 요소별 갯수 카운트 하는 방법\n",
    "값 배열 = np.unique(x)<br>\n",
    "값 배열, 갯수 배열 = np.unique(x, return_counts=true)"
   ]
  },
  {
   "cell_type": "code",
   "execution_count": 170,
   "id": "22e64b34-fc7d-43e8-b3d3-259a8889771f",
   "metadata": {
    "tags": []
   },
   "outputs": [
    {
     "name": "stdout",
     "output_type": "stream",
     "text": [
      "[-20  -9  -2  -1   0   3   4   5   7   8   9  12  17  18  20  23]\n",
      "[1 1 1 1 1 1 2 1 1 2 1 1 1 1 1 1]\n"
     ]
    }
   ],
   "source": [
    "unique, counts = np.unique(x, return_counts=True)\n",
    "print(unique)\n",
    "print(counts)"
   ]
  },
  {
   "cell_type": "code",
   "execution_count": 171,
   "id": "935e0ab9-4d5c-42a5-9757-69713d05c3e7",
   "metadata": {
    "tags": []
   },
   "outputs": [
    {
     "name": "stdout",
     "output_type": "stream",
     "text": [
      "{-20: 1, -9: 1, -2: 1, -1: 1, 0: 1, 3: 1, 4: 2, 5: 1, 7: 1, 8: 2, 9: 1, 12: 1, 17: 1, 18: 1, 20: 1, 23: 1}\n"
     ]
    }
   ],
   "source": [
    "nums_cnt = dict(zip(unique,counts))\n",
    "print(nums_cnt)"
   ]
  },
  {
   "cell_type": "markdown",
   "id": "4b66d4a7-9586-44f8-8434-85ad0249b1c6",
   "metadata": {},
   "source": [
    "### 6-3. scipy 패키지의 mode 함수 사용 최빈값"
   ]
  },
  {
   "cell_type": "code",
   "execution_count": 5,
   "id": "8190c6dd-76e3-42f0-a1d0-4d045af9984c",
   "metadata": {
    "tags": []
   },
   "outputs": [
    {
     "name": "stdout",
     "output_type": "stream",
     "text": [
      "ModeResult(mode=array([4]), count=array([2]))\n",
      "ModeResult(mode=array([4]), count=array([2]))\n",
      "ModeResult(mode=4, count=2)\n"
     ]
    },
    {
     "name": "stderr",
     "output_type": "stream",
     "text": [
      "C:\\Users\\hi\\AppData\\Local\\Temp\\ipykernel_11576\\2466418649.py:3: FutureWarning: Unlike other reduction functions (e.g. `skew`, `kurtosis`), the default behavior of `mode` typically preserves the axis it acts along. In SciPy 1.11.0, this behavior will change: the default value of `keepdims` will become False, the `axis` over which the statistic is taken will be eliminated, and the value None will no longer be accepted. Set `keepdims` to True or False to avoid this warning.\n",
      "  print(mode(x)) # SciPy 1.11.0 부터 keepdims 설정 안 할 시 경고\n"
     ]
    }
   ],
   "source": [
    "# !pip install scipy\n",
    "from scipy.stats import mode\n",
    "print(mode(x)) # SciPy 1.11.0 부터 keepdims 설정 안 할 시 경고\n",
    "print(mode(x, keepdims=True))\n",
    "print(mode(x, keepdims=False))"
   ]
  },
  {
   "cell_type": "markdown",
   "id": "0a5aa55e-edf1-4f39-9dc6-75aa34d44a35",
   "metadata": {},
   "source": [
    "### 사분위수(quartile)\n",
    "- 0 : 1분위\n",
    "- 25 : 2분위\n",
    "- 50 : 3분위\n",
    "- 75 : 4분위\n",
    "- 백분위수 q 값은 0~100값 사용\n",
    "    - 0.0~1.0 X : 주의"
   ]
  },
  {
   "cell_type": "code",
   "execution_count": 199,
   "id": "dfc61d9a-e76b-4203-bb2d-f69a06451b51",
   "metadata": {
    "tags": []
   },
   "outputs": [
    {
     "name": "stdout",
     "output_type": "stream",
     "text": [
      "[-20  -9  -2  -1   0   3   4   4   5   7   8   8   9  12  17  18  20  23]\n"
     ]
    }
   ],
   "source": [
    "x = np.array([18,5,4,8,7,12,17,8,23,-1,-2,-9,-20,0,3,4,9,20])\n",
    "print(np.sort(x))"
   ]
  },
  {
   "cell_type": "code",
   "execution_count": 200,
   "id": "f4448d62-f1ee-4d82-a420-6bac6716886a",
   "metadata": {
    "tags": []
   },
   "outputs": [
    {
     "name": "stdout",
     "output_type": "stream",
     "text": [
      "-20.0\n"
     ]
    }
   ],
   "source": [
    "#최소값\n",
    "print(np.percentile(x,0))"
   ]
  },
  {
   "cell_type": "code",
   "execution_count": 184,
   "id": "988c2865-3263-4f8d-a7f1-be3c96d3d75b",
   "metadata": {
    "tags": []
   },
   "outputs": [
    {
     "name": "stdout",
     "output_type": "stream",
     "text": [
      "0.75\n",
      "6.0\n",
      "11.25\n",
      "23.0\n"
     ]
    }
   ],
   "source": [
    "print(np.percentile(x,25))\n",
    "print(np.percentile(x,50))\n",
    "print(np.percentile(x,75))\n",
    "print(np.percentile(x,100))"
   ]
  },
  {
   "cell_type": "code",
   "execution_count": 194,
   "id": "0f282e40-d5c5-4cb5-9186-a419808488af",
   "metadata": {
    "tags": []
   },
   "outputs": [
    {
     "name": "stdout",
     "output_type": "stream",
     "text": [
      "[-20.     0.75   6.    11.25  23.  ]\n",
      "[-20   0   5  12  23]\n",
      "[-20   0   5   9  23]\n",
      "[-20   3   7  12  23]\n",
      "[-20.     0.75   6.    11.25  23.  ]\n",
      "[-20.    1.5   6.   10.5  23. ]\n"
     ]
    }
   ],
   "source": [
    "print(np.percentile(x, [0, 25, 50, 75, 100])) # default method : linear \n",
    "print(np.percentile(x, [0, 25, 50, 75, 100], method='nearest'))\n",
    "print(np.percentile(x, [0, 25, 50, 75, 100], method='lower'))\n",
    "print(np.percentile(x, [0, 25, 50, 75, 100], method='higher'))\n",
    "print(np.percentile(x, [0, 25, 50, 75, 100], method='linear'))\n",
    "print(np.percentile(x, [0, 25, 50, 75, 100], method='midpoint'))"
   ]
  },
  {
   "cell_type": "code",
   "execution_count": 219,
   "id": "18565aaf-8fb9-47c1-b066-9cc7c2053bf8",
   "metadata": {
    "tags": []
   },
   "outputs": [],
   "source": [
    "x = [ 8, 3, 6, 6, 9, 4, 3, 9, 3, 4]"
   ]
  },
  {
   "cell_type": "code",
   "execution_count": 220,
   "id": "dfd0121d-2127-4dd5-b144-25b3b9bda9a2",
   "metadata": {
    "tags": []
   },
   "outputs": [
    {
     "name": "stdout",
     "output_type": "stream",
     "text": [
      "[ 8 11 17 23 32 36 39 48 51 55]\n"
     ]
    }
   ],
   "source": [
    "# 누적으로 더하기\n",
    "print(np.cumsum(x))"
   ]
  },
  {
   "cell_type": "code",
   "execution_count": 221,
   "id": "3c207ec5-b9fb-43ba-8aa5-a17152a1b4ef",
   "metadata": {
    "tags": []
   },
   "outputs": [
    {
     "name": "stdout",
     "output_type": "stream",
     "text": [
      "55\n"
     ]
    }
   ],
   "source": [
    "# 누적합 최종 결과\n",
    "print(np.sum(x))"
   ]
  },
  {
   "cell_type": "code",
   "execution_count": 222,
   "id": "d9024e32-e134-4dc5-8d46-755eb64d9b25",
   "metadata": {
    "tags": []
   },
   "outputs": [
    {
     "name": "stdout",
     "output_type": "stream",
     "text": [
      "[       8       24      144      864     7776    31104    93312   839808\n",
      "  2519424 10077696]\n"
     ]
    }
   ],
   "source": [
    "# 누적으로 곱하기(product)\n",
    "print(np.cumprod(x))"
   ]
  },
  {
   "cell_type": "code",
   "execution_count": 223,
   "id": "fe6a3ae0-56f4-48e4-bb94-eafa187e94b0",
   "metadata": {
    "tags": []
   },
   "outputs": [
    {
     "name": "stdout",
     "output_type": "stream",
     "text": [
      "10077696\n"
     ]
    }
   ],
   "source": [
    "# product: 누적곱 최종 결과\n",
    "print(np.prod(x))"
   ]
  },
  {
   "cell_type": "markdown",
   "id": "9ead8602-d924-4823-9721-6ec88a7bd127",
   "metadata": {},
   "source": [
    "### 7. 공분산\n",
    "[공분산 참고 자료](https://hsm-edu.tistory.com/1266)\n",
    "- 공분산 : 공 + 분산\n",
    "- 공 : 함께, 여럿을 뜻함.\n",
    "- 여럿으로 구한 분산을 말함, 변수 여럿으로 구한 분산\n",
    "- 공분산이 값\n",
    "    - 양수 : 우상향 그래프\n",
    "    - 음수 : 우하향 그래프\n",
    "    - 0 : 한 지점에 분포가 모여 있는 형태"
   ]
  },
  {
   "cell_type": "code",
   "execution_count": 224,
   "id": "79df5b13-5ccb-417d-8401-c06f9dd7d432",
   "metadata": {
    "tags": []
   },
   "outputs": [],
   "source": [
    "x = np.array([8, 3, 6, 6, 9, 4, 3, 9, 3, 4])\n",
    "y = np.array([6, 2, 4, 6, 10, 5, 1, 8, 4, 5])"
   ]
  },
  {
   "cell_type": "code",
   "execution_count": 225,
   "id": "93362842-cde9-4757-acc8-c81b2ab82af9",
   "metadata": {
    "tags": []
   },
   "outputs": [],
   "source": [
    "x2 = np.array([1, 3, 4, 6, 8, 9, 10, 8, 9, 10])\n",
    "y2 = np.array([4, 5, 6, 7, 8, 10, 10, 13, 12, 13])"
   ]
  },
  {
   "cell_type": "code",
   "execution_count": 226,
   "id": "49022ee6-028c-48ed-adb3-0ef62d4341f7",
   "metadata": {
    "tags": []
   },
   "outputs": [
    {
     "data": {
      "image/png": "[encoded data removed]",
      "text/plain": [
       "<Figure size 640x480 with 1 Axes>"
      ]
     },
     "metadata": {},
     "output_type": "display_data"
    }
   ],
   "source": [
    "#x,y의 값의 변화 \n",
    "import matplotlib.pyplot as plt\n",
    "\n",
    "plt.xlabel('x-label')\n",
    "plt.ylabel('y-label')\n",
    "plt.plot(x2, y2, 'o')\n",
    "plt.show()"
   ]
  },
  {
   "cell_type": "code",
   "execution_count": 6,
   "id": "6f56af35-0535-4a97-a9e2-7330750479da",
   "metadata": {
    "tags": []
   },
   "outputs": [
    {
     "ename": "NameError",
     "evalue": "name 'y' is not defined",
     "output_type": "error",
     "traceback": [
      "\u001b[1;31m---------------------------------------------------------------------------\u001b[0m",
      "\u001b[1;31mNameError\u001b[0m                                 Traceback (most recent call last)",
      "Cell \u001b[1;32mIn[6], line 2\u001b[0m\n\u001b[0;32m      1\u001b[0m \u001b[38;5;66;03m# x의 값이 높을수록 양의 관계가 높은 것 y 값이 높을수록 음의 관계가 높은 것\u001b[39;00m\n\u001b[1;32m----> 2\u001b[0m \u001b[38;5;28mprint\u001b[39m(np\u001b[38;5;241m.\u001b[39mcov(x, \u001b[43my\u001b[49m))\n\u001b[0;32m      3\u001b[0m \u001b[38;5;28mprint\u001b[39m(np\u001b[38;5;241m.\u001b[39mcov(x2,y2)) \u001b[38;5;66;03m# cov : x의 분산, y의 분산과 함께 x와 y의 공분산을 계산\u001b[39;00m\n\u001b[0;32m      4\u001b[0m \u001b[38;5;28mprint\u001b[39m(np\u001b[38;5;241m.\u001b[39mcov(x, y)[\u001b[38;5;241m0\u001b[39m])\n",
      "\u001b[1;31mNameError\u001b[0m: name 'y' is not defined"
     ]
    }
   ],
   "source": [
    "# x의 값이 높을수록 양의 관계가 높은 것 y 값이 높을수록 음의 관계가 높은 것\n",
    "print(np.cov(x, y))\n",
    "print(np.cov(x2,y2)) # cov : x의 분산, y의 분산과 함께 x와 y의 공분산을 계산\n",
    "print(np.cov(x, y)[0])\n",
    "print(np.cov(x, y)[1])\n",
    "print(np.cov(x, y)[0, 0]) # x 내에 공분산\n",
    "print(np.cov(x, y)[0, 1]) # x에 대한 y의 공분산\n",
    "print(np.cov(x, y)[1, 0]) # y에 대해 x의 공분산\n",
    "print(np.cov(x, y)[1, 1]) # y내에서의 공분산\n",
    "print(np.cov(x2,y2))\n",
    "print(np.cov(x2,y2)[0])\n",
    "print(np.cov(x2,y2)[1])\n",
    "print(np.cov(x2,y2)[0, 0]) # x 내에 공분산\n",
    "print(np.cov(x2,y2)[0, 1]) # x에 대한 y의 공분산\n",
    "print(np.cov(x2,y2)[1, 0]) # y에 대해 x의 공분산\n",
    "print(np.cov(x2,y2)[1, 1]) # y내에서의 공분산"
   ]
  },
  {
   "cell_type": "markdown",
   "id": "68d46557-7d5d-4177-a24e-2b64c0bbd156",
   "metadata": {},
   "source": [
    "# 용어 정리"
   ]
  },
  {
   "cell_type": "markdown",
   "id": "f57b779b-92fd-4deb-99f5-2fbff7f102fc",
   "metadata": {},
   "source": [
    "- 분산(variance) : 관측 값에서 평균을 뺀 값을 제곱한 것\n",
    "- 표준 편차(standard deviation) : 분산을 제곱근 한 것"
   ]
  }
 ],
 "metadata": {
  "kernelspec": {
   "display_name": "dl_ml",
   "language": "python",
   "name": "da_venv"
  },
  "language_info": {
   "codemirror_mode": {
    "name": "ipython",
    "version": 3
   },
   "file_extension": ".py",
   "mimetype": "text/x-python",
   "name": "python",
   "nbconvert_exporter": "python",
   "pygments_lexer": "ipython3",
   "version": "3.9.13"
  }
 },
 "nbformat": 4,
 "nbformat_minor": 5
}
