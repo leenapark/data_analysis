{
 "cells": [
  {
   "cell_type": "markdown",
   "id": "361614e2-4d7c-4a24-8ca1-af9425dbcbcb",
   "metadata": {},
   "source": [
    "# numpy 객체 연산자 살펴보기\n",
    "- (+, -, *)\n",
    "- ndarray shape == 서로 동일해야 함\n",
    "- broadcast : 각 위치를 찾아서 연산이 일어남"
   ]
  },
  {
   "cell_type": "markdown",
   "id": "b8ca6365-e7c4-4a7f-a7ef-f3fdbf19dcb8",
   "metadata": {},
   "source": [
    "## 1. Element-wise operations\n",
    "\n",
    "numpy는 기본적으로 array 간의 사칙연산을 지원<br>\n",
    "행과 열이 같은 배열을 계산하면 같은 위치에 있는 값들이 서로 계산됨<br>\n",
    "이런 현상을 Element-wise operations이라 하며 Shape이 같을 때 발생함."
   ]
  },
  {
   "cell_type": "code",
   "execution_count": 1,
   "id": "2e51131a-404d-4e81-80b9-49220947d9c7",
   "metadata": {
    "tags": []
   },
   "outputs": [],
   "source": [
    "import numpy as np"
   ]
  },
  {
   "cell_type": "markdown",
   "id": "2fea4f6f-ddf3-4af2-b2b0-64cf72792f65",
   "metadata": {},
   "source": [
    "### 1-1. 덧셈(+)"
   ]
  },
  {
   "cell_type": "code",
   "execution_count": 2,
   "id": "67a1de0c-0cc1-48e3-a4ab-66181b939175",
   "metadata": {
    "tags": []
   },
   "outputs": [],
   "source": [
    "a = np.array([[1, 2, 3], \n",
    "              [2, 3, 4]])"
   ]
  },
  {
   "cell_type": "code",
   "execution_count": 3,
   "id": "aad69c6a-35d3-47b0-9899-2a3de303543e",
   "metadata": {
    "tags": []
   },
   "outputs": [],
   "source": [
    "b = np.array([[3, 4, 5], \n",
    "              [1, 2, 3]])"
   ]
  },
  {
   "cell_type": "code",
   "execution_count": 4,
   "id": "463330bb-e5f4-44d5-bdf1-3b2fe8b44d3b",
   "metadata": {
    "tags": []
   },
   "outputs": [
    {
     "name": "stdout",
     "output_type": "stream",
     "text": [
      "[[4 6 8]\n",
      " [3 5 7]]\n"
     ]
    }
   ],
   "source": [
    "print(a+b)"
   ]
  },
  {
   "cell_type": "code",
   "execution_count": 5,
   "id": "8b6f68c7-4f6c-47f0-9b38-69e52904780d",
   "metadata": {
    "tags": []
   },
   "outputs": [],
   "source": [
    "a = np.array([[1, 2, 3], \n",
    "              [2, 3, 4]])"
   ]
  },
  {
   "cell_type": "code",
   "execution_count": 6,
   "id": "32fbc591-cbbe-4e60-a49c-6895fad482d2",
   "metadata": {
    "tags": []
   },
   "outputs": [],
   "source": [
    "b = np.array([[1, 2],\n",
    "              [3, 4],  \n",
    "              [5, 6]])"
   ]
  },
  {
   "cell_type": "code",
   "execution_count": 7,
   "id": "52f4bdde-21f1-43b0-bff6-ba7bff40c6c9",
   "metadata": {
    "tags": []
   },
   "outputs": [
    {
     "ename": "ValueError",
     "evalue": "operands could not be broadcast together with shapes (2,3) (3,2) ",
     "output_type": "error",
     "traceback": [
      "\u001b[1;31m---------------------------------------------------------------------------\u001b[0m",
      "\u001b[1;31mValueError\u001b[0m                                Traceback (most recent call last)",
      "Cell \u001b[1;32mIn[7], line 1\u001b[0m\n\u001b[1;32m----> 1\u001b[0m \u001b[38;5;28mprint\u001b[39m(\u001b[43ma\u001b[49m\u001b[38;5;241;43m+\u001b[39;49m\u001b[43mb\u001b[49m)\n",
      "\u001b[1;31mValueError\u001b[0m: operands could not be broadcast together with shapes (2,3) (3,2) "
     ]
    }
   ],
   "source": [
    "print(a+b)"
   ]
  },
  {
   "cell_type": "code",
   "execution_count": 8,
   "id": "9fec88e9-c1f6-41e9-b57f-823cd70348b5",
   "metadata": {
    "tags": []
   },
   "outputs": [
    {
     "name": "stdout",
     "output_type": "stream",
     "text": [
      "[1 2 3 4 5 6]\n"
     ]
    }
   ],
   "source": [
    "nums = np.arange(1, 7)\n",
    "print(nums)\n",
    "a = nums.reshape(-1, 3)"
   ]
  },
  {
   "cell_type": "code",
   "execution_count": 12,
   "id": "bf04e2c5-c51d-4125-82c2-c2061848d692",
   "metadata": {
    "tags": []
   },
   "outputs": [],
   "source": [
    "nums = np.arange(3, 9)\n",
    "b = nums.reshape(-1, 3)"
   ]
  },
  {
   "cell_type": "code",
   "execution_count": 13,
   "id": "2a7fae14-4132-4640-9203-853a4266a195",
   "metadata": {
    "tags": []
   },
   "outputs": [
    {
     "name": "stdout",
     "output_type": "stream",
     "text": [
      "(2, 3)\n",
      "(2, 3)\n",
      "[[ 4  6  8]\n",
      " [10 12 14]]\n"
     ]
    }
   ],
   "source": [
    "print(a.shape)\n",
    "print(b.shape)\n",
    "print(a+b)"
   ]
  },
  {
   "cell_type": "code",
   "execution_count": 41,
   "id": "9a15576d-02ba-4d4d-9af7-ce2078ce130b",
   "metadata": {
    "tags": []
   },
   "outputs": [
    {
     "name": "stdout",
     "output_type": "stream",
     "text": [
      "[[3 4]\n",
      " [5 6]\n",
      " [7 8]]\n"
     ]
    }
   ],
   "source": [
    "c = nums.reshape(-1, 2)\n",
    "print(c)"
   ]
  },
  {
   "cell_type": "code",
   "execution_count": 16,
   "id": "9b47c140-fc16-45b9-8fb9-a6decddb3781",
   "metadata": {
    "tags": []
   },
   "outputs": [
    {
     "ename": "ValueError",
     "evalue": "operands could not be broadcast together with shapes (2,3) (3,2) ",
     "output_type": "error",
     "traceback": [
      "\u001b[1;31m---------------------------------------------------------------------------\u001b[0m",
      "\u001b[1;31mValueError\u001b[0m                                Traceback (most recent call last)",
      "Cell \u001b[1;32mIn[16], line 1\u001b[0m\n\u001b[1;32m----> 1\u001b[0m \u001b[38;5;28mprint\u001b[39m(\u001b[43ma\u001b[49m\u001b[38;5;241;43m+\u001b[39;49m\u001b[43mc\u001b[49m)\n",
      "\u001b[1;31mValueError\u001b[0m: operands could not be broadcast together with shapes (2,3) (3,2) "
     ]
    }
   ],
   "source": [
    "print(a+c)"
   ]
  },
  {
   "cell_type": "markdown",
   "id": "c903be65-499b-480a-9503-b4086bf1248f",
   "metadata": {},
   "source": [
    "### 1-2. Sum - matrix 안에서 sum"
   ]
  },
  {
   "cell_type": "code",
   "execution_count": 17,
   "id": "33077360-847d-47ae-813a-0d78b7af7187",
   "metadata": {
    "tags": []
   },
   "outputs": [
    {
     "name": "stdout",
     "output_type": "stream",
     "text": [
      "[5 7 9]\n",
      "[ 6 15]\n"
     ]
    }
   ],
   "source": [
    "print(np.sum(a, axis=0))\n",
    "print(np.sum(a, axis=1))"
   ]
  },
  {
   "cell_type": "code",
   "execution_count": 18,
   "id": "3fd7d9da-47b3-43a2-b78f-ec82778b06a3",
   "metadata": {
    "tags": []
   },
   "outputs": [
    {
     "name": "stdout",
     "output_type": "stream",
     "text": [
      "[[-2 -2 -2]\n",
      " [-2 -2 -2]]\n"
     ]
    }
   ],
   "source": [
    "print(a-b)"
   ]
  },
  {
   "cell_type": "code",
   "execution_count": 19,
   "id": "094505f9-2554-46dd-b064-84a0a43b262d",
   "metadata": {
    "tags": []
   },
   "outputs": [
    {
     "ename": "ValueError",
     "evalue": "operands could not be broadcast together with shapes (2,3) (3,2) ",
     "output_type": "error",
     "traceback": [
      "\u001b[1;31m---------------------------------------------------------------------------\u001b[0m",
      "\u001b[1;31mValueError\u001b[0m                                Traceback (most recent call last)",
      "Cell \u001b[1;32mIn[19], line 1\u001b[0m\n\u001b[1;32m----> 1\u001b[0m \u001b[38;5;28mprint\u001b[39m(\u001b[43ma\u001b[49m\u001b[38;5;241;43m-\u001b[39;49m\u001b[43mc\u001b[49m)\n",
      "\u001b[1;31mValueError\u001b[0m: operands could not be broadcast together with shapes (2,3) (3,2) "
     ]
    }
   ],
   "source": [
    "print(a-c)"
   ]
  },
  {
   "cell_type": "code",
   "execution_count": 20,
   "id": "3d0d76c2-ae0b-402d-889d-57205531ccef",
   "metadata": {
    "tags": []
   },
   "outputs": [
    {
     "name": "stdout",
     "output_type": "stream",
     "text": [
      "[[ 3  8 15]\n",
      " [24 35 48]]\n"
     ]
    }
   ],
   "source": [
    "print(a * b)"
   ]
  },
  {
   "cell_type": "code",
   "execution_count": 21,
   "id": "5b3af507-1546-4699-80a2-6be06a75c583",
   "metadata": {
    "tags": []
   },
   "outputs": [
    {
     "name": "stdout",
     "output_type": "stream",
     "text": [
      "[[0.33333333 0.5        0.6       ]\n",
      " [0.66666667 0.71428571 0.75      ]]\n"
     ]
    }
   ],
   "source": [
    "print(a/b)"
   ]
  },
  {
   "cell_type": "markdown",
   "id": "890604f1-1a2c-4e8c-b814-51ce5ba7d778",
   "metadata": {},
   "source": [
    "## 2. dot product 사용\n",
    "- 행렬의 곱셈 연산"
   ]
  },
  {
   "cell_type": "markdown",
   "id": "2d92891e-7c55-4abb-9d17-531554679e8f",
   "metadata": {},
   "source": [
    "### 2-1. dot product\n",
    "- 내적 : 내적은 두 서열의 상응하는 값들의 곱을 더한 것"
   ]
  },
  {
   "cell_type": "code",
   "execution_count": 32,
   "id": "09d3e4fb-7e40-493d-a04b-81755e3900e2",
   "metadata": {
    "tags": []
   },
   "outputs": [],
   "source": [
    "a = np.array([[1, 2, 3],\n",
    "              [1, 2, 3], \n",
    "              [2, 3, 4]])"
   ]
  },
  {
   "cell_type": "code",
   "execution_count": 23,
   "id": "f4acfb3b-b766-4a99-aee7-fbb12457dab0",
   "metadata": {
    "tags": []
   },
   "outputs": [],
   "source": [
    "b = np.array([[1, 2],\n",
    "              [3, 4],  \n",
    "              [5, 6]])"
   ]
  },
  {
   "cell_type": "code",
   "execution_count": 24,
   "id": "53f1ea24-0e0e-4142-b4ec-a5aa0dfb9a3e",
   "metadata": {
    "tags": []
   },
   "outputs": [
    {
     "name": "stdout",
     "output_type": "stream",
     "text": [
      "(3, 3) (3, 2)\n"
     ]
    }
   ],
   "source": [
    "print(a.shape, b.shape)"
   ]
  },
  {
   "cell_type": "code",
   "execution_count": 25,
   "id": "b3666c4a-a86c-43b1-b12d-a1f7e5877be1",
   "metadata": {
    "tags": []
   },
   "outputs": [
    {
     "name": "stdout",
     "output_type": "stream",
     "text": [
      "[[22 28]\n",
      " [22 28]\n",
      " [31 40]]\n"
     ]
    }
   ],
   "source": [
    "print(np.dot(a, b))"
   ]
  },
  {
   "cell_type": "code",
   "execution_count": 26,
   "id": "e9a31c37-e7df-4f5e-a523-d85aad200216",
   "metadata": {
    "tags": []
   },
   "outputs": [
    {
     "name": "stdout",
     "output_type": "stream",
     "text": [
      "[[22 28]\n",
      " [22 28]\n",
      " [31 40]]\n"
     ]
    }
   ],
   "source": [
    "print(a.dot(b))"
   ]
  },
  {
   "cell_type": "code",
   "execution_count": 27,
   "id": "aef88cee-3087-45c9-8faf-51eefd5c289c",
   "metadata": {
    "tags": []
   },
   "outputs": [
    {
     "data": {
      "text/plain": [
       "22"
      ]
     },
     "execution_count": 27,
     "metadata": {},
     "output_type": "execute_result"
    }
   ],
   "source": [
    "1*1 + 2*3 + 3*5"
   ]
  },
  {
   "cell_type": "code",
   "execution_count": 28,
   "id": "c84541d1-eb81-4516-b0dc-2903c03bc648",
   "metadata": {
    "tags": []
   },
   "outputs": [
    {
     "data": {
      "text/plain": [
       "28"
      ]
     },
     "execution_count": 28,
     "metadata": {},
     "output_type": "execute_result"
    }
   ],
   "source": [
    "1*2 + 2*4 + 3*6"
   ]
  },
  {
   "cell_type": "code",
   "execution_count": 29,
   "id": "8efe08ea-1ddf-4835-a3a5-595c86843fff",
   "metadata": {
    "tags": []
   },
   "outputs": [
    {
     "data": {
      "text/plain": [
       "31"
      ]
     },
     "execution_count": 29,
     "metadata": {},
     "output_type": "execute_result"
    }
   ],
   "source": [
    "2*1 + 3*3 + 4*5"
   ]
  },
  {
   "cell_type": "markdown",
   "id": "b7bacba1-ebf8-4ab5-bb35-d256d5def63d",
   "metadata": {},
   "source": [
    "## 3. transpose(전치 행렬)\n",
    "- 열 -> 행\n",
    "- 행 -> 열"
   ]
  },
  {
   "cell_type": "code",
   "execution_count": 35,
   "id": "d9e172d9-92c6-473d-85a1-dd21712f6a37",
   "metadata": {
    "tags": []
   },
   "outputs": [],
   "source": [
    "b = np.array([[1, 2],\n",
    "              [3, 4],  \n",
    "              [5, 6]])"
   ]
  },
  {
   "cell_type": "code",
   "execution_count": 37,
   "id": "f142c2c9-d86e-41c7-adee-4e1fc2b7ce0b",
   "metadata": {
    "tags": []
   },
   "outputs": [
    {
     "name": "stdout",
     "output_type": "stream",
     "text": [
      "[[1 3 5]\n",
      " [2 4 6]]\n"
     ]
    }
   ],
   "source": [
    "a = np.transpose(b)\n",
    "print(a)"
   ]
  },
  {
   "cell_type": "markdown",
   "id": "8f0091d3-09ca-48e6-9cf2-944e948abfd0",
   "metadata": {},
   "source": [
    "## 4. Broadcasting"
   ]
  },
  {
   "cell_type": "markdown",
   "id": "552b0b84-9d09-46b9-806e-69b40c0287ac",
   "metadata": {},
   "source": [
    "### 4-1. 숫자의 연산(단일)"
   ]
  },
  {
   "cell_type": "code",
   "execution_count": 38,
   "id": "08d36b2b-9814-4e78-ab24-dd4734ccc40f",
   "metadata": {
    "tags": []
   },
   "outputs": [],
   "source": [
    "a = np.array([[1, 2, 3], \n",
    "              [2, 3, 4]])\n",
    "b = np.array([[3, 3, 3], \n",
    "              [3, 3, 3]])"
   ]
  },
  {
   "cell_type": "code",
   "execution_count": 39,
   "id": "f6e15bc9-837c-46d9-aaa6-c18d7f44fcd7",
   "metadata": {
    "tags": []
   },
   "outputs": [
    {
     "name": "stdout",
     "output_type": "stream",
     "text": [
      "[[4 5 6]\n",
      " [5 6 7]]\n",
      "[[4 5 6]\n",
      " [5 6 7]]\n",
      "[[-2 -1  0]\n",
      " [-1  0  1]]\n",
      "[[ 3  6  9]\n",
      " [ 6  9 12]]\n",
      "[[0.33333333 0.66666667 1.        ]\n",
      " [0.66666667 1.         1.33333333]]\n"
     ]
    }
   ],
   "source": [
    "print(a+b)\n",
    "print(a+3)\n",
    "print(a-3)\n",
    "print(a*3)\n",
    "print(a/3)"
   ]
  },
  {
   "cell_type": "markdown",
   "id": "6b6cdcf7-2613-4c23-8651-8b97ac827732",
   "metadata": {},
   "source": [
    "### 4-2. array(배열)의 브로드캐스팅\n",
    "일정 조건을 부합하는 다른 형태의 배열끼리 연산을 수행하는 것을 의미\n",
    "\n",
    "1. 맴버가 하나인 배열은 어떤 배열에나 브로드캐스팅(Broadcasting)이 가능(단, 맴버가 하나도 없는 빈 배열을 제외) <br>\n",
    "ex) 3x4 + 1\n",
    "\n",
    "2. 하나의 배열의 차원이 1인 경우 브로드캐스팅(Broadcasting)이 가능<br>\n",
    "ex) 4x4 + 1x4\n",
    "\n",
    "3. 차원의 짝이 맞을 때 브로드캐스팅(Broadcasting)가능<br>\n",
    "ex) 3x1 + 1x3"
   ]
  },
  {
   "cell_type": "code",
   "execution_count": 49,
   "id": "a15b45f3-143c-42a9-a0de-d986fac06a6b",
   "metadata": {
    "tags": []
   },
   "outputs": [
    {
     "name": "stdout",
     "output_type": "stream",
     "text": [
      "a [[1 2 3]\n",
      " [2 3 4]]\n",
      "d [[1 2 3]]\n",
      "a+d [[2 4 6]\n",
      " [3 5 7]]\n",
      "a-d [[0 0 0]\n",
      " [1 1 1]]\n",
      "a*d [[ 1  4  9]\n",
      " [ 2  6 12]]\n",
      "a/d [[1.         1.         1.        ]\n",
      " [2.         1.5        1.33333333]]\n"
     ]
    }
   ],
   "source": [
    "print(\"a\", a)\n",
    "d = np.array([[1, 2, 3]])\n",
    "print(\"d\", d)\n",
    "print(\"a+d\", a+d)\n",
    "print(\"a-d\", a-d)\n",
    "print(\"a*d\", a*d)\n",
    "print(\"a/d\", a/d)"
   ]
  },
  {
   "cell_type": "code",
   "execution_count": 63,
   "id": "9fa6e90f-e5e8-455f-af87-50a4233c137e",
   "metadata": {
    "tags": []
   },
   "outputs": [
    {
     "name": "stdout",
     "output_type": "stream",
     "text": [
      "[[1 2 3]\n",
      " [4 5 6]]\n",
      "[[9 8]\n",
      " [7 6]\n",
      " [5 4]]\n",
      "(2, 3) (3, 2)\n"
     ]
    },
    {
     "ename": "ValueError",
     "evalue": "operands could not be broadcast together with shapes (2,3) (3,2) ",
     "output_type": "error",
     "traceback": [
      "\u001b[1;31m---------------------------------------------------------------------------\u001b[0m",
      "\u001b[1;31mValueError\u001b[0m                                Traceback (most recent call last)",
      "Cell \u001b[1;32mIn[63], line 9\u001b[0m\n\u001b[0;32m      7\u001b[0m \u001b[38;5;28mprint\u001b[39m(f)\n\u001b[0;32m      8\u001b[0m \u001b[38;5;28mprint\u001b[39m(e\u001b[38;5;241m.\u001b[39mshape, f\u001b[38;5;241m.\u001b[39mshape)\n\u001b[1;32m----> 9\u001b[0m \u001b[38;5;28mprint\u001b[39m(\u001b[38;5;124m\"\u001b[39m\u001b[38;5;124me+f\u001b[39m\u001b[38;5;124m\"\u001b[39m, \u001b[43me\u001b[49m\u001b[38;5;241;43m+\u001b[39;49m\u001b[43mf\u001b[49m)\n\u001b[0;32m     10\u001b[0m \u001b[38;5;28mprint\u001b[39m(\u001b[38;5;124m\"\u001b[39m\u001b[38;5;124me-f\u001b[39m\u001b[38;5;124m\"\u001b[39m, e\u001b[38;5;241m-\u001b[39mf)\n\u001b[0;32m     11\u001b[0m \u001b[38;5;28mprint\u001b[39m(\u001b[38;5;124m\"\u001b[39m\u001b[38;5;124me*f\u001b[39m\u001b[38;5;124m\"\u001b[39m, e\u001b[38;5;241m*\u001b[39mf)\n",
      "\u001b[1;31mValueError\u001b[0m: operands could not be broadcast together with shapes (2,3) (3,2) "
     ]
    }
   ],
   "source": [
    "e = np.array([[1, 2, 3],\n",
    "              [4, 5, 6]])\n",
    "f = np.array([[9, 8],\n",
    "              [7, 6],\n",
    "              [5, 4]])\n",
    "print(e)\n",
    "print(f)\n",
    "print(e.shape, f.shape)\n",
    "print(\"e+f\", e+f)\n",
    "print(\"e-f\", e-f)\n",
    "print(\"e*f\", e*f)\n",
    "print(\"e/f\", e/f)"
   ]
  },
  {
   "cell_type": "code",
   "execution_count": 65,
   "id": "bc2acb6a-cc09-4ed0-8290-5dce39cdd2ca",
   "metadata": {
    "tags": []
   },
   "outputs": [
    {
     "name": "stdout",
     "output_type": "stream",
     "text": [
      "[[1 2 3]]\n",
      "[[9]\n",
      " [7]\n",
      " [5]]\n",
      "(1, 3) (3, 1)\n",
      "e+f [[10 11 12]\n",
      " [ 8  9 10]\n",
      " [ 6  7  8]]\n",
      "e-f [[-8 -7 -6]\n",
      " [-6 -5 -4]\n",
      " [-4 -3 -2]]\n",
      "e*f [[ 9 18 27]\n",
      " [ 7 14 21]\n",
      " [ 5 10 15]]\n",
      "e/f [[0.11111111 0.22222222 0.33333333]\n",
      " [0.14285714 0.28571429 0.42857143]\n",
      " [0.2        0.4        0.6       ]]\n"
     ]
    }
   ],
   "source": [
    "e = np.array([[1, 2, 3]])\n",
    "f = np.array([[9],\n",
    "              [7],\n",
    "              [5]])\n",
    "print(e)\n",
    "print(f)\n",
    "print(e.shape, f.shape)\n",
    "print(\"e+f\", e+f)\n",
    "print(\"e-f\", e-f)\n",
    "print(\"e*f\", e*f)\n",
    "print(\"e/f\", e/f)"
   ]
  },
  {
   "cell_type": "markdown",
   "id": "56248300-b674-4030-aa3f-ca786bfbe3dd",
   "metadata": {},
   "source": [
    "#### 브로드 캐스팅 연산 행열 예시\n",
    "[1x4 + 4x1 행렬 연산 이미지 참고](https://img1.daumcdn.net/thumb/R1280x0/?scode=mtistory2&fname=https%3A%2F%2Fblog.kakaocdn.net%2Fdn%2Fc239jk%2FbtqCM8NKsXw%2FRhz8cdGI7PbE5KM5KX4ag0%2Fimg.png)"
   ]
  },
  {
   "cell_type": "code",
   "execution_count": 71,
   "id": "149b787e-d8c7-4a87-8254-aa97b815546d",
   "metadata": {
    "tags": []
   },
   "outputs": [],
   "source": [
    "value1 = np.array([[1,2,3,4],[2,5,6,7],[8,9,10,11],[12,13,14,15]])\n",
    "value2 = np.array([1])\n",
    "value3 = np.array([3,3,3,3])\n",
    "value4 = np.array([4,5,6,7]).reshape(4,1)"
   ]
  },
  {
   "cell_type": "code",
   "execution_count": 72,
   "id": "bc640a2c-0338-4e1a-ae48-035fe7caeb15",
   "metadata": {
    "tags": []
   },
   "outputs": [
    {
     "name": "stdout",
     "output_type": "stream",
     "text": [
      "[[ 1  2  3  4]\n",
      " [ 2  5  6  7]\n",
      " [ 8  9 10 11]\n",
      " [12 13 14 15]]\n",
      "[1]\n",
      "[3 3 3 3]\n",
      "[[4]\n",
      " [5]\n",
      " [6]\n",
      " [7]]\n"
     ]
    }
   ],
   "source": [
    "print(value1)\n",
    "print(value2)\n",
    "print(value3)\n",
    "print(value4)"
   ]
  },
  {
   "cell_type": "code",
   "execution_count": 67,
   "id": "32b69816-20f4-41b3-8af9-d69d32e3d847",
   "metadata": {
    "tags": []
   },
   "outputs": [
    {
     "name": "stdout",
     "output_type": "stream",
     "text": [
      "[[ 2  3  4  5]\n",
      " [ 3  6  7  8]\n",
      " [ 9 10 11 12]\n",
      " [13 14 15 16]]\n"
     ]
    }
   ],
   "source": [
    "print(Value + Value1) #4x4 + 1"
   ]
  },
  {
   "cell_type": "code",
   "execution_count": 68,
   "id": "d0fef28c-a9cf-440f-b603-05c106aefa2f",
   "metadata": {
    "tags": []
   },
   "outputs": [
    {
     "name": "stdout",
     "output_type": "stream",
     "text": [
      "[[ 4  5  6  7]\n",
      " [ 5  8  9 10]\n",
      " [11 12 13 14]\n",
      " [15 16 17 18]]\n"
     ]
    }
   ],
   "source": [
    "print(Value + Value2) #4x4 + 1x4"
   ]
  },
  {
   "cell_type": "code",
   "execution_count": 69,
   "id": "a9107d68-f4c9-44c6-8524-a6fe6848730b",
   "metadata": {
    "tags": []
   },
   "outputs": [
    {
     "name": "stdout",
     "output_type": "stream",
     "text": [
      "[[ 7  7  7  7]\n",
      " [ 8  8  8  8]\n",
      " [ 9  9  9  9]\n",
      " [10 10 10 10]]\n"
     ]
    }
   ],
   "source": [
    "print(Value2 + Value3) #1x4 + 4x1"
   ]
  },
  {
   "cell_type": "code",
   "execution_count": 70,
   "id": "da22a26c-0bdc-47f5-b520-bcec137fadc0",
   "metadata": {
    "tags": []
   },
   "outputs": [
    {
     "data": {
      "text/plain": [
       "array([[ 7,  7,  7,  7],\n",
       "       [ 8,  8,  8,  8],\n",
       "       [ 9,  9,  9,  9],\n",
       "       [10, 10, 10, 10]])"
      ]
     },
     "execution_count": 70,
     "metadata": {},
     "output_type": "execute_result"
    }
   ],
   "source": [
    "# 4x1 + 1x4\n",
    "Value3 + Value2"
   ]
  },
  {
   "cell_type": "markdown",
   "id": "e877674a-f5be-409b-8ab6-b7cd32165962",
   "metadata": {},
   "source": [
    "## 특정 값으로 채워넣는 행렬 함수"
   ]
  },
  {
   "cell_type": "markdown",
   "id": "750988f8-917c-4f71-a617-ab3ba08109f1",
   "metadata": {},
   "source": [
    "### 5-1 대각 행렬 함수\n",
    "**squere matrix (정방 행렬) : 행, 열의 크기 똑같음**\n",
    "<pre>\n",
    "np.eye(N, M=None, k=0, dtype=np.int32\n",
    "np.eye(N, M=None, k=0, dtype=np.float32)\n",
    "\n",
    "(N x M) 크기의 2차원 행렬을 만들어 주는 함수. k 에 따라 시작위치가 달라짐\n",
    "</pre>\n",
    "- N : Row 수 (필수적 요소) \n",
    "- M : Column 수(따로 설정하지 않으면 NxN의 정사각행렬이 만들어짐)\n",
    "- K : 대각행렬이 값을 가지기 시작하는 위치\n",
    "    - default : 0"
   ]
  },
  {
   "cell_type": "code",
   "execution_count": 75,
   "id": "457d82c3-0bc6-470e-bafc-5dba263625fc",
   "metadata": {
    "tags": []
   },
   "outputs": [
    {
     "name": "stdout",
     "output_type": "stream",
     "text": [
      "[[1. 0.]\n",
      " [0. 1.]]\n"
     ]
    }
   ],
   "source": [
    "# 2 x 2 행렬, 시작위치 0\n",
    "print(np.eye(N=2))"
   ]
  },
  {
   "cell_type": "code",
   "execution_count": 76,
   "id": "08bb1b9c-dfbe-414a-ac46-fe63c7d7d74a",
   "metadata": {
    "tags": []
   },
   "outputs": [
    {
     "name": "stdout",
     "output_type": "stream",
     "text": [
      "[[1. 0. 0.]\n",
      " [0. 1. 0.]]\n"
     ]
    }
   ],
   "source": [
    "# 2 x 3 행렬, 시작위치 0\n",
    "print(np.eye(N=2, M=3))"
   ]
  },
  {
   "cell_type": "code",
   "execution_count": 77,
   "id": "c79bbfcf-ace4-4aba-93b6-994808d30b3e",
   "metadata": {
    "tags": []
   },
   "outputs": [
    {
     "name": "stdout",
     "output_type": "stream",
     "text": [
      "[[0. 0. 1. 0. 0. 0. 0.]\n",
      " [0. 0. 0. 1. 0. 0. 0.]\n",
      " [0. 0. 0. 0. 1. 0. 0.]\n",
      " [0. 0. 0. 0. 0. 1. 0.]\n",
      " [0. 0. 0. 0. 0. 0. 1.]\n",
      " [0. 0. 0. 0. 0. 0. 0.]\n",
      " [0. 0. 0. 0. 0. 0. 0.]]\n"
     ]
    }
   ],
   "source": [
    "# 7 x 7 행렬, 시작위치 +2\n",
    "print(np.eye(7, k=2))"
   ]
  },
  {
   "cell_type": "code",
   "execution_count": 78,
   "id": "5002c06e-340a-49d2-9272-ef846cf01740",
   "metadata": {
    "tags": []
   },
   "outputs": [
    {
     "name": "stdout",
     "output_type": "stream",
     "text": [
      "[[0. 0. 0. 0. 0. 0. 0.]\n",
      " [0. 0. 0. 0. 0. 0. 0.]\n",
      " [1. 0. 0. 0. 0. 0. 0.]\n",
      " [0. 1. 0. 0. 0. 0. 0.]\n",
      " [0. 0. 1. 0. 0. 0. 0.]\n",
      " [0. 0. 0. 1. 0. 0. 0.]\n",
      " [0. 0. 0. 0. 1. 0. 0.]]\n"
     ]
    }
   ],
   "source": [
    "# 7 x 7 행렬, 시작위치 -2\n",
    "print(np.eye(7,k=-2))"
   ]
  },
  {
   "cell_type": "code",
   "execution_count": 83,
   "id": "688f7e6b-a27e-404b-adfa-79afadf66a1d",
   "metadata": {
    "tags": []
   },
   "outputs": [
    {
     "name": "stdout",
     "output_type": "stream",
     "text": [
      "[[1. 0. 0. 0. 0.]\n",
      " [0. 1. 0. 0. 0.]\n",
      " [0. 0. 1. 0. 0.]\n",
      " [0. 0. 0. 1. 0.]\n",
      " [0. 0. 0. 0. 1.]\n",
      " [0. 0. 0. 0. 0.]\n",
      " [0. 0. 0. 0. 0.]]\n",
      "[[0. 0. 0. 0. 0.]\n",
      " [0. 0. 0. 0. 0.]\n",
      " [1. 0. 0. 0. 0.]\n",
      " [0. 1. 0. 0. 0.]\n",
      " [0. 0. 1. 0. 0.]\n",
      " [0. 0. 0. 1. 0.]\n",
      " [0. 0. 0. 0. 1.]]\n"
     ]
    }
   ],
   "source": [
    "# 7 x 5 행렬, 시작위치 -2\n",
    "print(np.eye(7, 5,k=0))\n",
    "print(np.eye(7, 5,k=-2))"
   ]
  },
  {
   "cell_type": "code",
   "execution_count": 79,
   "id": "62a8da61-d9c0-4e83-a96d-2c0e022f0edb",
   "metadata": {
    "tags": []
   },
   "outputs": [
    {
     "name": "stdout",
     "output_type": "stream",
     "text": [
      "[[1. 0. 0.]\n",
      " [0. 1. 0.]\n",
      " [0. 0. 1.]]\n"
     ]
    }
   ],
   "source": [
    "print(np.eye(3, 3, dtype=np.float32))"
   ]
  },
  {
   "cell_type": "code",
   "execution_count": 80,
   "id": "2f8522fa-b83c-4d5a-ac9b-8496c9cb1355",
   "metadata": {
    "tags": []
   },
   "outputs": [
    {
     "name": "stdout",
     "output_type": "stream",
     "text": [
      "[[1 0 0]\n",
      " [0 1 0]\n",
      " [0 0 1]]\n"
     ]
    }
   ],
   "source": [
    "print(np.eye(3, 3, dtype=np.int32))"
   ]
  },
  {
   "cell_type": "markdown",
   "id": "e861bd37-7a54-4564-9182-c8e6e9070b91",
   "metadata": {},
   "source": [
    "### 5-2. zero 함수\n",
    "- np.zeros()\n",
    "- 행렬을 0으로 초기화 해줌"
   ]
  },
  {
   "cell_type": "code",
   "execution_count": 81,
   "id": "48207fc6-d6b0-49b3-a79f-16cd73f2b9df",
   "metadata": {
    "tags": []
   },
   "outputs": [
    {
     "data": {
      "text/plain": [
       "array([0., 0., 0., 0.])"
      ]
     },
     "execution_count": 81,
     "metadata": {},
     "output_type": "execute_result"
    }
   ],
   "source": [
    "np.zeros(4)"
   ]
  },
  {
   "cell_type": "code",
   "execution_count": 84,
   "id": "a76d77a4-e2f6-44b8-9a60-1d7de3e2e7b5",
   "metadata": {
    "tags": []
   },
   "outputs": [
    {
     "data": {
      "text/plain": [
       "array([[0., 0., 0.],\n",
       "       [0., 0., 0.]])"
      ]
     },
     "execution_count": 84,
     "metadata": {},
     "output_type": "execute_result"
    }
   ],
   "source": [
    "np.zeros((2,3))"
   ]
  },
  {
   "cell_type": "code",
   "execution_count": 85,
   "id": "532c6217-8f42-4b53-b03f-6a22fe500f26",
   "metadata": {
    "tags": []
   },
   "outputs": [
    {
     "data": {
      "text/plain": [
       "array([[0., 0., 0., 0., 0.],\n",
       "       [0., 0., 0., 0., 0.],\n",
       "       [0., 0., 0., 0., 0.],\n",
       "       [0., 0., 0., 0., 0.]])"
      ]
     },
     "execution_count": 85,
     "metadata": {},
     "output_type": "execute_result"
    }
   ],
   "source": [
    "np.zeros((4,5))\n"
   ]
  },
  {
   "cell_type": "code",
   "execution_count": 86,
   "id": "815d6ceb-31b1-45c8-9f6f-030a4548fa20",
   "metadata": {
    "tags": []
   },
   "outputs": [
    {
     "data": {
      "text/plain": [
       "array([[0., 0., 0., 0., 0.],\n",
       "       [0., 0., 0., 0., 0.],\n",
       "       [0., 0., 0., 0., 0.],\n",
       "       [0., 0., 0., 0., 0.]])"
      ]
     },
     "execution_count": 86,
     "metadata": {},
     "output_type": "execute_result"
    }
   ],
   "source": [
    "np.zeros([4,5])"
   ]
  },
  {
   "cell_type": "markdown",
   "id": "f1c92b50-0d1a-43d7-9cc1-7e1602c4415a",
   "metadata": {},
   "source": [
    "### 5-3 ones 함수\n",
    "- np.ones()\n",
    "- 행렬을 1로 초기화 함"
   ]
  },
  {
   "cell_type": "code",
   "execution_count": 87,
   "id": "ce87c8e3-0446-470c-ac76-0725ac1a7d85",
   "metadata": {
    "tags": []
   },
   "outputs": [
    {
     "data": {
      "text/plain": [
       "array([1., 1., 1., 1., 1.])"
      ]
     },
     "execution_count": 87,
     "metadata": {},
     "output_type": "execute_result"
    }
   ],
   "source": [
    "np.ones(5)"
   ]
  },
  {
   "cell_type": "code",
   "execution_count": 88,
   "id": "6f7b6432-c9a1-488f-9365-db647e7cfc89",
   "metadata": {
    "tags": []
   },
   "outputs": [
    {
     "data": {
      "text/plain": [
       "array([[1., 1., 1., 1., 1.],\n",
       "       [1., 1., 1., 1., 1.],\n",
       "       [1., 1., 1., 1., 1.]])"
      ]
     },
     "execution_count": 88,
     "metadata": {},
     "output_type": "execute_result"
    }
   ],
   "source": [
    "one = np.ones((3,5))\n",
    "one"
   ]
  },
  {
   "cell_type": "code",
   "execution_count": 89,
   "id": "9552209b-ce41-40af-84d3-ccc8a92fd37e",
   "metadata": {
    "tags": []
   },
   "outputs": [
    {
     "data": {
      "text/plain": [
       "dtype('float64')"
      ]
     },
     "execution_count": 89,
     "metadata": {},
     "output_type": "execute_result"
    }
   ],
   "source": [
    "one.dtype"
   ]
  },
  {
   "cell_type": "code",
   "execution_count": 90,
   "id": "5683825f-91ee-4ac1-aa8a-bfc93a1109d4",
   "metadata": {
    "tags": []
   },
   "outputs": [
    {
     "data": {
      "text/plain": [
       "numpy.dtype[float64]"
      ]
     },
     "execution_count": 90,
     "metadata": {},
     "output_type": "execute_result"
    }
   ],
   "source": [
    "type(one.dtype)"
   ]
  },
  {
   "cell_type": "code",
   "execution_count": 91,
   "id": "bc635b96-83a1-4cca-aca3-ef2aecac4908",
   "metadata": {
    "tags": []
   },
   "outputs": [
    {
     "data": {
      "text/plain": [
       "array([[1, 1, 1, 1],\n",
       "       [1, 1, 1, 1],\n",
       "       [1, 1, 1, 1],\n",
       "       [1, 1, 1, 1]], dtype=int64)"
      ]
     },
     "execution_count": 91,
     "metadata": {},
     "output_type": "execute_result"
    }
   ],
   "source": [
    "np.ones([4,4], dtype=np.int64)"
   ]
  },
  {
   "cell_type": "markdown",
   "id": "da12a453-28c8-417a-956a-30243b66baa0",
   "metadata": {},
   "source": [
    "## [문제] 범주형 데이터 숫자로 encoding"
   ]
  },
  {
   "cell_type": "markdown",
   "id": "62db11c3-5401-47f3-8d32-5936971737bc",
   "metadata": {},
   "source": [
    "[단계1]\n",
    "#### 1. 다음의 범주형 문자 객체를 만들고 소팅하기\n",
    "- 주방, 폰, 욕실, 거실\n",
    "#### 2. 문자열 andarry 값을 파라미터로 받아서 숫자로 인코딩하는 함수 정의하고, 실행 결과 출력하기\n",
    "- 문자를 0~n-1까지 숫자로 변경<br>\n",
    "<span style=\"background-color:#F5F5F5\"> 거실 : 0, 욕실 : 1, 주방 : 2, 폰 : 3</span><br>\n",
    "\n",
    "[단계2]\n",
    "#### 3. 숫자로 변경한 값을 다시 one-hot 인코딩 형태로 바꾸기\n",
    "<pre>\n",
    "[[0, 0, 1, 0],\n",
    " [0, 0, 0, 1],\n",
    " [0, 1, 0, 0],\n",
    " [1, 0, 0, 0]]\n",
    "</pre>"
   ]
  },
  {
   "cell_type": "code",
   "execution_count": 92,
   "id": "60591882-8312-4198-b980-93b9cd66d8e4",
   "metadata": {
    "tags": []
   },
   "outputs": [],
   "source": [
    "e_lists=np.array(['주방','폰','욕실','거실'])"
   ]
  },
  {
   "cell_type": "code",
   "execution_count": 93,
   "id": "c45353a0-9fcb-427f-a78d-957f16ede454",
   "metadata": {
    "tags": []
   },
   "outputs": [
    {
     "data": {
      "text/plain": [
       "array(['거실', '욕실', '주방', '폰'], dtype='<U2')"
      ]
     },
     "execution_count": 93,
     "metadata": {},
     "output_type": "execute_result"
    }
   ],
   "source": [
    "# e_lists 정렬하기\n",
    "np.sort(e_lists)"
   ]
  },
  {
   "cell_type": "markdown",
   "id": "ac8edc58-d640-4cbf-9aaa-bf257186a728",
   "metadata": {},
   "source": [
    "#### 2. 문자열을 숫자로 인코딩 하는 함수 만들기"
   ]
  },
  {
   "cell_type": "code",
   "execution_count": 104,
   "id": "32b0d75c-cbf1-4c41-986f-fc52ea715459",
   "metadata": {
    "tags": []
   },
   "outputs": [],
   "source": [
    "# e_lists의 요소를 0~3까지 숫자로 변환하는 함수 \n",
    "def label_encoding(e_lists):\n",
    "    print(e_lists)\n",
    "    change_lists=[]\n",
    "    if \"거실\" in e_lists and \"욕실\" in e_lists and \"주방\" in e_lists and \"폰\" in e_lists:\n",
    "        change_lists.append([0, 1, 2, 3])\n",
    "    #     change_lists.append(0)\n",
    "    # elif :\n",
    "    #     change_lists.append(1)\n",
    "    # elif :\n",
    "    #     change_lists.append(2)\n",
    "    # elif :\n",
    "    #     change_lists.append(3)\n",
    "    return change_lists"
   ]
  },
  {
   "cell_type": "code",
   "execution_count": 105,
   "id": "4892f47b-e6fd-4ce0-bd01-5025e9ed3e12",
   "metadata": {
    "tags": []
   },
   "outputs": [
    {
     "name": "stdout",
     "output_type": "stream",
     "text": [
      "['주방' '폰' '욕실' '거실']\n"
     ]
    },
    {
     "data": {
      "text/plain": [
       "array([[0, 1, 2, 3]])"
      ]
     },
     "execution_count": 105,
     "metadata": {},
     "output_type": "execute_result"
    }
   ],
   "source": [
    "# 범주형 문자열을 정수형 숫자로 바꾸기\n",
    "np.array(label_encoding(e_lists))"
   ]
  },
  {
   "cell_type": "code",
   "execution_count": 106,
   "id": "ea545489-5468-4a53-85d9-82dcc8468b8c",
   "metadata": {
    "tags": []
   },
   "outputs": [],
   "source": [
    "# e_lists의 요소를 0~3까지 숫자로 변환하는 함수 \n",
    "def label_encoding(e_lists):\n",
    "    change_lists=[]\n",
    "    for test in e_lists:\n",
    "        print(test)\n",
    "        if \"거실\" in e_lists:\n",
    "            change_lists.append"
   ]
  },
  {
   "cell_type": "code",
   "execution_count": 107,
   "id": "d19878fb-62e6-40d9-bda0-2f06edb58607",
   "metadata": {},
   "outputs": [
    {
     "name": "stdout",
     "output_type": "stream",
     "text": [
      "주방\n",
      "폰\n",
      "욕실\n",
      "거실\n"
     ]
    },
    {
     "data": {
      "text/plain": [
       "array(None, dtype=object)"
      ]
     },
     "execution_count": 107,
     "metadata": {},
     "output_type": "execute_result"
    }
   ],
   "source": [
    "# 범주형 문자열을 정수형 숫자로 바꾸기\n",
    "np.array(label_encoding(e_lists))"
   ]
  },
  {
   "cell_type": "code",
   "execution_count": 114,
   "id": "b121b720-8f2d-4e19-94d3-2215c9383080",
   "metadata": {
    "tags": []
   },
   "outputs": [],
   "source": [
    "# e_lists의 요소를 0~3까지 숫자로 변환하는 함수 \n",
    "def label_encoding(e_lists):\n",
    "    change_lists=[]\n",
    "    for test in e_lists:\n",
    "        # print(test)\n",
    "        if \"거실\" == test:\n",
    "            change_lists.append(0)\n",
    "        elif \"욕실\" == test:\n",
    "            change_lists.append(1)\n",
    "        elif \"주방\" == test:\n",
    "            change_lists.append(2)\n",
    "        elif \"폰\" == test:\n",
    "            change_lists.append(3)\n",
    "    return change_lists"
   ]
  },
  {
   "cell_type": "code",
   "execution_count": 116,
   "id": "50b09dfb-6fe2-4e2c-9492-21df349129b0",
   "metadata": {
    "tags": []
   },
   "outputs": [
    {
     "name": "stdout",
     "output_type": "stream",
     "text": [
      "[2 3 1 0]\n"
     ]
    }
   ],
   "source": [
    "# 범주형 문자열을 정수형 숫자로 바꾸기\n",
    "enc_val = np.array(label_encoding(e_lists))\n",
    "print(enc_val)"
   ]
  },
  {
   "cell_type": "code",
   "execution_count": 124,
   "id": "4242191e-7cb5-46b3-9819-945e68bdb92f",
   "metadata": {
    "tags": []
   },
   "outputs": [
    {
     "name": "stdout",
     "output_type": "stream",
     "text": [
      "4\n",
      "4\n"
     ]
    }
   ],
   "source": [
    "# 만들 갯수\n",
    "print(np.max(enc_val)+1) # 0부터 세기 때문에 +1 필요\n",
    "print(np.size(enc_val))"
   ]
  },
  {
   "cell_type": "code",
   "execution_count": 122,
   "id": "50001d9a-cd6b-4356-afc4-291c4835cbec",
   "metadata": {
    "tags": []
   },
   "outputs": [
    {
     "name": "stdout",
     "output_type": "stream",
     "text": [
      "[[1. 0. 0. 0.]\n",
      " [0. 1. 0. 0.]\n",
      " [0. 0. 1. 0.]\n",
      " [0. 0. 0. 1.]]\n"
     ]
    }
   ],
   "source": [
    "print(np.eye(4))"
   ]
  },
  {
   "cell_type": "code",
   "execution_count": 127,
   "id": "dae6df60-f4a3-48ff-a970-03d1637e3c02",
   "metadata": {
    "tags": []
   },
   "outputs": [
    {
     "data": {
      "text/plain": [
       "array([[0, 0, 1, 0],\n",
       "       [0, 0, 0, 1],\n",
       "       [0, 1, 0, 0],\n",
       "       [1, 0, 0, 0]])"
      ]
     },
     "execution_count": 127,
     "metadata": {},
     "output_type": "execute_result"
    }
   ],
   "source": [
    "# 리스트 넣어서 확인\n",
    "np.eye(4)[[2, 3, 1, 0]].astype(int)"
   ]
  },
  {
   "cell_type": "code",
   "execution_count": 131,
   "id": "20bd46bc-6593-4424-bdcb-2d246262157c",
   "metadata": {
    "tags": []
   },
   "outputs": [
    {
     "name": "stdout",
     "output_type": "stream",
     "text": [
      "[[0 0 1 0]\n",
      " [0 0 0 1]\n",
      " [0 1 0 0]\n",
      " [1 0 0 0]]\n"
     ]
    }
   ],
   "source": [
    "e_list = np.eye(4)[enc_val].astype(int)\n",
    "print(e_list)"
   ]
  },
  {
   "cell_type": "code",
   "execution_count": 132,
   "id": "ee7dac23-ffbd-4c1d-84fa-43351be0447f",
   "metadata": {
    "tags": []
   },
   "outputs": [
    {
     "data": {
      "text/plain": [
       "array([[0, 0, 1, 0],\n",
       "       [0, 0, 0, 1],\n",
       "       [0, 1, 0, 0],\n",
       "       [1, 0, 0, 0]])"
      ]
     },
     "execution_count": 132,
     "metadata": {},
     "output_type": "execute_result"
    }
   ],
   "source": [
    "np.eye(np.size(enc_val))[enc_val].astype(int)"
   ]
  },
  {
   "cell_type": "markdown",
   "id": "76c8c476-81ea-4e57-bb50-6f5a6097f94f",
   "metadata": {},
   "source": [
    "#### 1. np.zeros()로 2차원 배열을 만들고 적용"
   ]
  },
  {
   "cell_type": "code",
   "execution_count": 141,
   "id": "7a77c761-fdef-4efb-a7b4-4a8f2b1dae01",
   "metadata": {
    "tags": []
   },
   "outputs": [
    {
     "data": {
      "text/plain": [
       "array([2, 3, 1, 0])"
      ]
     },
     "execution_count": 141,
     "metadata": {},
     "output_type": "execute_result"
    }
   ],
   "source": [
    "enc_val = np.array(label_encoding(e_lists))\n",
    "enc_val"
   ]
  },
  {
   "cell_type": "code",
   "execution_count": 136,
   "id": "40cc5798-bfcd-4a85-b989-045b4f0454a7",
   "metadata": {
    "tags": []
   },
   "outputs": [
    {
     "name": "stdout",
     "output_type": "stream",
     "text": [
      "[[0. 0. 0. 0.]\n",
      " [0. 0. 0. 0.]\n",
      " [0. 0. 0. 0.]\n",
      " [0. 0. 0. 0.]]\n"
     ]
    }
   ],
   "source": [
    "one_hot = np.zeros((4, 4))\n",
    "print(one_hot)"
   ]
  },
  {
   "cell_type": "code",
   "execution_count": 137,
   "id": "124c0e50-5d46-4f73-ae78-7730f685cf16",
   "metadata": {
    "tags": []
   },
   "outputs": [
    {
     "data": {
      "text/plain": [
       "array([0, 1, 2, 3])"
      ]
     },
     "execution_count": 137,
     "metadata": {},
     "output_type": "execute_result"
    }
   ],
   "source": [
    "np.arange(enc_val.size)"
   ]
  },
  {
   "cell_type": "code",
   "execution_count": 138,
   "id": "a1f40ba1-2489-4e88-ac54-64a8603c157b",
   "metadata": {
    "tags": []
   },
   "outputs": [
    {
     "name": "stdout",
     "output_type": "stream",
     "text": [
      "[[0. 0. 0. 0.]\n",
      " [0. 0. 0. 0.]\n",
      " [0. 0. 0. 0.]\n",
      " [0. 0. 0. 0.]]\n"
     ]
    }
   ],
   "source": [
    "one_hot = np.zeros((enc_val.size, enc_val.size))\n",
    "print(one_hot)"
   ]
  },
  {
   "cell_type": "code",
   "execution_count": 139,
   "id": "e9247b43-3ae7-4f1f-ba48-59509d14569d",
   "metadata": {
    "tags": []
   },
   "outputs": [],
   "source": [
    "one_hot[[np.arange(enc_val.size)], [enc_val]] = 1"
   ]
  },
  {
   "cell_type": "code",
   "execution_count": 140,
   "id": "f7880f8c-1dd5-4ea8-969c-b83b294f76ab",
   "metadata": {
    "tags": []
   },
   "outputs": [
    {
     "data": {
      "text/plain": [
       "array([[0, 0, 1, 0],\n",
       "       [0, 0, 0, 1],\n",
       "       [0, 1, 0, 0],\n",
       "       [1, 0, 0, 0]], dtype=int8)"
      ]
     },
     "execution_count": 140,
     "metadata": {},
     "output_type": "execute_result"
    }
   ],
   "source": [
    "one_hot.astype(\"int8\")"
   ]
  },
  {
   "cell_type": "code",
   "execution_count": null,
   "id": "6e0f199c-b9ce-4ff2-9ab8-1e4bcb8e7647",
   "metadata": {},
   "outputs": [],
   "source": []
  }
 ],
 "metadata": {
  "kernelspec": {
   "display_name": "dl_ml",
   "language": "python",
   "name": "da_venv"
  },
  "language_info": {
   "codemirror_mode": {
    "name": "ipython",
    "version": 3
   },
   "file_extension": ".py",
   "mimetype": "text/x-python",
   "name": "python",
   "nbconvert_exporter": "python",
   "pygments_lexer": "ipython3",
   "version": "3.9.13"
  }
 },
 "nbformat": 4,
 "nbformat_minor": 5
}
