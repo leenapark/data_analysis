{
 "cells": [
  {
   "cell_type": "code",
   "execution_count": 2,
   "id": "160f65a1-8454-4b39-ab30-230a905a07ef",
   "metadata": {
    "tags": []
   },
   "outputs": [],
   "source": [
    "import numpy as np"
   ]
  },
  {
   "cell_type": "markdown",
   "id": "5f13a171-c486-42f6-8745-30cd434df73d",
   "metadata": {},
   "source": [
    "## ndarray 생성 및 데이터 타입 확인"
   ]
  },
  {
   "cell_type": "code",
   "execution_count": 3,
   "id": "da0d78d7-20a6-4d60-abb8-b1f8c905c12b",
   "metadata": {
    "tags": []
   },
   "outputs": [
    {
     "data": {
      "text/plain": [
       "list"
      ]
     },
     "execution_count": 3,
     "metadata": {},
     "output_type": "execute_result"
    }
   ],
   "source": [
    "a = [1,2,3,4,5]\n",
    "type(a)"
   ]
  },
  {
   "cell_type": "code",
   "execution_count": 6,
   "id": "f09dc56c-3a76-4603-8dfe-27ab41c534ad",
   "metadata": {
    "tags": []
   },
   "outputs": [
    {
     "data": {
      "text/plain": [
       "array([1, 2, 3, 4, 5])"
      ]
     },
     "execution_count": 6,
     "metadata": {},
     "output_type": "execute_result"
    }
   ],
   "source": [
    "arr1 = np.array(a, dtype=int)\n",
    "arr1"
   ]
  },
  {
   "cell_type": "code",
   "execution_count": 4,
   "id": "a0b2cff6-1db6-4370-8b79-b187497e04e0",
   "metadata": {
    "tags": []
   },
   "outputs": [
    {
     "data": {
      "text/plain": [
       "array([1., 2., 3., 4., 5.])"
      ]
     },
     "execution_count": 4,
     "metadata": {},
     "output_type": "execute_result"
    }
   ],
   "source": [
    "arr2 = np.array(a, dtype=float)\n",
    "arr2"
   ]
  },
  {
   "cell_type": "code",
   "execution_count": 5,
   "id": "89553b28-6657-4601-9c21-e9d7970553a7",
   "metadata": {
    "tags": []
   },
   "outputs": [
    {
     "data": {
      "text/plain": [
       "dtype('float64')"
      ]
     },
     "execution_count": 5,
     "metadata": {},
     "output_type": "execute_result"
    }
   ],
   "source": [
    "arr2.dtype"
   ]
  },
  {
   "cell_type": "code",
   "execution_count": 7,
   "id": "5d526605-7544-48b9-90f9-b89df1abfc7c",
   "metadata": {
    "tags": []
   },
   "outputs": [],
   "source": [
    "mylist1 = [1, 2, 3, 4]"
   ]
  },
  {
   "cell_type": "code",
   "execution_count": 9,
   "id": "0aee4655-9076-4bac-9cf2-927cbce693be",
   "metadata": {
    "tags": []
   },
   "outputs": [
    {
     "data": {
      "text/plain": [
       "array([1, 2, 3, 4])"
      ]
     },
     "execution_count": 9,
     "metadata": {},
     "output_type": "execute_result"
    }
   ],
   "source": [
    "arr1 = np.array(mylist1)\n",
    "arr1"
   ]
  },
  {
   "cell_type": "code",
   "execution_count": 10,
   "id": "93942e16-1c76-4aa1-981e-e0628827fd21",
   "metadata": {
    "tags": []
   },
   "outputs": [
    {
     "data": {
      "text/plain": [
       "([1, 2, 3, 4], [5, 6, 7, 8])"
      ]
     },
     "execution_count": 10,
     "metadata": {},
     "output_type": "execute_result"
    }
   ],
   "source": [
    "mylist2 = ([1, 2, 3, 4], [5, 6, 7,8])\n",
    "mylist2"
   ]
  },
  {
   "cell_type": "code",
   "execution_count": 13,
   "id": "3b9b7af9-fa32-4df9-b609-130c2defb071",
   "metadata": {
    "tags": []
   },
   "outputs": [
    {
     "data": {
      "text/plain": [
       "array([[1, 2, 3, 4],\n",
       "       [5, 6, 7, 8]])"
      ]
     },
     "execution_count": 13,
     "metadata": {},
     "output_type": "execute_result"
    }
   ],
   "source": [
    "arr3=np.array(mylist2)\n",
    "arr3"
   ]
  },
  {
   "cell_type": "markdown",
   "id": "15cc51ad-2e0d-45cf-a094-2f7b7ee47f6e",
   "metadata": {},
   "source": [
    "## ndarray shape 확인"
   ]
  },
  {
   "cell_type": "code",
   "execution_count": 14,
   "id": "6c78558f-ffb8-477d-8b8a-12e44b4a8ce9",
   "metadata": {
    "tags": []
   },
   "outputs": [
    {
     "data": {
      "text/plain": [
       "(2, 4)"
      ]
     },
     "execution_count": 14,
     "metadata": {},
     "output_type": "execute_result"
    }
   ],
   "source": [
    "arr3.shape"
   ]
  },
  {
   "cell_type": "markdown",
   "id": "38320397-da18-4671-b3cf-d26ff42af317",
   "metadata": {},
   "source": [
    "# 3. array에서의 data 타입"
   ]
  },
  {
   "cell_type": "markdown",
   "id": "cef9aa37-0b4e-4688-95e4-40213c8c316d",
   "metadata": {},
   "source": [
    "[numpy data type 살펴 보기](https://engineer-mole.tistory.com/85)\n",
    "\n",
    "\n",
    "array에서는 list와는 다르게 1개의 **단일 데이터 타입**만 허용 됨.<br>\n",
    "타입이 다른 형태 데이터를 넣어서 ndarray 객체를 만들면 어떻게 될까?"
   ]
  },
  {
   "cell_type": "code",
   "execution_count": 16,
   "id": "612e2305-77f5-4fd3-a3e5-f52ab6f6b1e6",
   "metadata": {
    "tags": []
   },
   "outputs": [],
   "source": [
    "mylist = [1, 1.3, 3.14, 12, \"joy\"]"
   ]
  },
  {
   "cell_type": "code",
   "execution_count": 17,
   "id": "03e76f64-559e-4f94-abcc-b416a8e2e6dd",
   "metadata": {
    "tags": []
   },
   "outputs": [
    {
     "data": {
      "text/plain": [
       "1.3"
      ]
     },
     "execution_count": 17,
     "metadata": {},
     "output_type": "execute_result"
    }
   ],
   "source": [
    "mylist[1]"
   ]
  },
  {
   "cell_type": "code",
   "execution_count": 18,
   "id": "14f5b915-dd85-49d1-a044-ad8a605f7635",
   "metadata": {
    "tags": []
   },
   "outputs": [
    {
     "data": {
      "text/plain": [
       "array(['1', '1.3', '3.14', '12', 'joy'], dtype='<U32')"
      ]
     },
     "execution_count": 18,
     "metadata": {},
     "output_type": "execute_result"
    }
   ],
   "source": [
    "arr = np.array(mylist)\n",
    "arr"
   ]
  },
  {
   "cell_type": "code",
   "execution_count": 20,
   "id": "50e6e2e6-757b-4617-83a1-f855c4feda2b",
   "metadata": {
    "tags": []
   },
   "outputs": [],
   "source": [
    "mylist1=[1, 1.2, 2, 2.3]\n",
    "arr1 = np.array(mylist1)"
   ]
  },
  {
   "cell_type": "code",
   "execution_count": 21,
   "id": "ce2c8a62-1ed2-4c9c-b96a-2ff814a121d8",
   "metadata": {
    "tags": []
   },
   "outputs": [
    {
     "data": {
      "text/plain": [
       "dtype('float64')"
      ]
     },
     "execution_count": 21,
     "metadata": {},
     "output_type": "execute_result"
    }
   ],
   "source": [
    "arr1.dtype"
   ]
  },
  {
   "cell_type": "code",
   "execution_count": 22,
   "id": "b56ac7e5-b432-4951-9667-c41f30729fce",
   "metadata": {
    "tags": []
   },
   "outputs": [
    {
     "data": {
      "text/plain": [
       "dtype('float32')"
      ]
     },
     "execution_count": 22,
     "metadata": {},
     "output_type": "execute_result"
    }
   ],
   "source": [
    "arr2 = np.array(mylist1, dtype=\"float32\")\n",
    "arr2.dtype"
   ]
  },
  {
   "cell_type": "code",
   "execution_count": 23,
   "id": "463021e3-9346-40da-ab1c-edce8508ae41",
   "metadata": {
    "tags": []
   },
   "outputs": [
    {
     "data": {
      "text/plain": [
       "array([1. , 1.2, 2. , 2.3], dtype=float32)"
      ]
     },
     "execution_count": 23,
     "metadata": {},
     "output_type": "execute_result"
    }
   ],
   "source": [
    "arr2"
   ]
  },
  {
   "cell_type": "code",
   "execution_count": 25,
   "id": "2585127a-b728-42a7-90e5-e22ec6c2f6a7",
   "metadata": {
    "tags": []
   },
   "outputs": [
    {
     "ename": "ValueError",
     "evalue": "invalid literal for int() with base 10: 'joy'",
     "output_type": "error",
     "traceback": [
      "\u001b[1;31m---------------------------------------------------------------------------\u001b[0m",
      "\u001b[1;31mValueError\u001b[0m                                Traceback (most recent call last)",
      "Cell \u001b[1;32mIn[25], line 2\u001b[0m\n\u001b[0;32m      1\u001b[0m \u001b[38;5;66;03m# list 속성 값이 일치하지 않으면 error 발생\u001b[39;00m\n\u001b[1;32m----> 2\u001b[0m arr \u001b[38;5;241m=\u001b[39m \u001b[43mnp\u001b[49m\u001b[38;5;241;43m.\u001b[39;49m\u001b[43marray\u001b[49m\u001b[43m(\u001b[49m\u001b[43mmylist\u001b[49m\u001b[43m,\u001b[49m\u001b[43m \u001b[49m\u001b[43mdtype\u001b[49m\u001b[38;5;241;43m=\u001b[39;49m\u001b[38;5;124;43m\"\u001b[39;49m\u001b[38;5;124;43mint\u001b[39;49m\u001b[38;5;124;43m\"\u001b[39;49m\u001b[43m)\u001b[49m\n\u001b[0;32m      3\u001b[0m arr\n",
      "\u001b[1;31mValueError\u001b[0m: invalid literal for int() with base 10: 'joy'"
     ]
    }
   ],
   "source": [
    "# list 속성 값이 일치하지 않으면 error 발생\n",
    "arr = np.array(mylist, dtype=\"int\")\n",
    "arr"
   ]
  },
  {
   "cell_type": "markdown",
   "id": "82ceece3-13d6-4c8c-a5d3-7df92f43c180",
   "metadata": {},
   "source": [
    "# 슬라이싱(Slicing)"
   ]
  },
  {
   "cell_type": "code",
   "execution_count": 26,
   "id": "22d138a4-47b3-4c04-9158-f9a4eac2c072",
   "metadata": {
    "tags": []
   },
   "outputs": [
    {
     "name": "stdout",
     "output_type": "stream",
     "text": [
      "[10 11 12 13 14 15 16 17 18 19]\n"
     ]
    }
   ],
   "source": [
    "arr = np.array([10, 11, 12, 13, 14, 15, 16, 17, 18, 19])\n",
    "print(arr)"
   ]
  },
  {
   "cell_type": "code",
   "execution_count": 28,
   "id": "2c83f54d-00a8-42a4-9efb-ad36b3fae6db",
   "metadata": {
    "tags": []
   },
   "outputs": [
    {
     "data": {
      "text/plain": [
       "(10,)"
      ]
     },
     "execution_count": 28,
     "metadata": {},
     "output_type": "execute_result"
    }
   ],
   "source": [
    "arr.shape"
   ]
  },
  {
   "cell_type": "markdown",
   "id": "74f741b8-ff7a-4f7d-a20d-5c5a1f089ed5",
   "metadata": {},
   "source": [
    "## 3-1. index 지정하여 indexing(색인)하기\n",
    "### 1차원 array"
   ]
  },
  {
   "cell_type": "code",
   "execution_count": 29,
   "id": "cdde0149-c26e-433a-929b-6bc80920cb21",
   "metadata": {
    "tags": []
   },
   "outputs": [
    {
     "data": {
      "text/plain": [
       "10"
      ]
     },
     "execution_count": 29,
     "metadata": {},
     "output_type": "execute_result"
    }
   ],
   "source": [
    "arr[0]"
   ]
  },
  {
   "cell_type": "code",
   "execution_count": 30,
   "id": "d6611ec8-48a5-4be5-94d1-e9a8cd85b7ac",
   "metadata": {
    "tags": []
   },
   "outputs": [
    {
     "data": {
      "text/plain": [
       "14"
      ]
     },
     "execution_count": 30,
     "metadata": {},
     "output_type": "execute_result"
    }
   ],
   "source": [
    "arr[4]"
   ]
  },
  {
   "cell_type": "code",
   "execution_count": 32,
   "id": "bfbd3d84-8232-48a5-8a72-5fa3bd0837e8",
   "metadata": {
    "tags": []
   },
   "outputs": [
    {
     "ename": "IndexError",
     "evalue": "index 10 is out of bounds for axis 0 with size 10",
     "output_type": "error",
     "traceback": [
      "\u001b[1;31m---------------------------------------------------------------------------\u001b[0m",
      "\u001b[1;31mIndexError\u001b[0m                                Traceback (most recent call last)",
      "Cell \u001b[1;32mIn[32], line 2\u001b[0m\n\u001b[0;32m      1\u001b[0m \u001b[38;5;66;03m# 인덱스 10의 결과 출력 : 0부터 카운터 되기 때문에 요소 값은 요소값-1\u001b[39;00m\n\u001b[1;32m----> 2\u001b[0m \u001b[43marr\u001b[49m\u001b[43m[\u001b[49m\u001b[38;5;241;43m10\u001b[39;49m\u001b[43m]\u001b[49m\n",
      "\u001b[1;31mIndexError\u001b[0m: index 10 is out of bounds for axis 0 with size 10"
     ]
    }
   ],
   "source": [
    "# 인덱스 10의 결과 출력 : 0부터 카운터 되기 때문에 요소 값은 요소값-1\n",
    "arr[10]"
   ]
  },
  {
   "cell_type": "code",
   "execution_count": 33,
   "id": "61611fe1-db4f-467b-84c6-146188868ba8",
   "metadata": {
    "tags": []
   },
   "outputs": [
    {
     "data": {
      "text/plain": [
       "(10, 15)"
      ]
     },
     "execution_count": 33,
     "metadata": {},
     "output_type": "execute_result"
    }
   ],
   "source": [
    "# arr의  0, 5 인덱스 확인\n",
    "arr[0],arr[5]"
   ]
  },
  {
   "cell_type": "code",
   "execution_count": 34,
   "id": "805dc53f-eff2-45e8-9e2f-0f5cb8d16816",
   "metadata": {
    "tags": []
   },
   "outputs": [
    {
     "data": {
      "text/plain": [
       "(19, 16)"
      ]
     },
     "execution_count": 34,
     "metadata": {},
     "output_type": "execute_result"
    }
   ],
   "source": [
    "# arr의  -1과 6의 인덱스 확인\n",
    "arr[-1], arr[6]"
   ]
  },
  {
   "cell_type": "code",
   "execution_count": 35,
   "id": "dbca33b6-7fff-44a6-9596-60d529a326ef",
   "metadata": {
    "tags": []
   },
   "outputs": [
    {
     "data": {
      "text/plain": [
       "(10, 14)"
      ]
     },
     "execution_count": 35,
     "metadata": {},
     "output_type": "execute_result"
    }
   ],
   "source": [
    "# arr의  -10과 -6의 인덱스 확인\n",
    "arr[-10], arr[-6]"
   ]
  },
  {
   "cell_type": "code",
   "execution_count": 36,
   "id": "d98cdb8b-7e99-4c07-8e57-23619f146bad",
   "metadata": {
    "tags": []
   },
   "outputs": [
    {
     "ename": "IndexError",
     "evalue": "index -11 is out of bounds for axis 0 with size 10",
     "output_type": "error",
     "traceback": [
      "\u001b[1;31m---------------------------------------------------------------------------\u001b[0m",
      "\u001b[1;31mIndexError\u001b[0m                                Traceback (most recent call last)",
      "Cell \u001b[1;32mIn[36], line 1\u001b[0m\n\u001b[1;32m----> 1\u001b[0m \u001b[43marr\u001b[49m\u001b[43m[\u001b[49m\u001b[38;5;241;43m-\u001b[39;49m\u001b[38;5;241;43m11\u001b[39;49m\u001b[43m]\u001b[49m \u001b[38;5;66;03m# error\u001b[39;00m\n",
      "\u001b[1;31mIndexError\u001b[0m: index -11 is out of bounds for axis 0 with size 10"
     ]
    }
   ],
   "source": [
    "arr[-11] # error"
   ]
  },
  {
   "cell_type": "code",
   "execution_count": 38,
   "id": "dda892d4-2b62-4d0d-9a42-ecc009132af3",
   "metadata": {
    "tags": []
   },
   "outputs": [
    {
     "name": "stdout",
     "output_type": "stream",
     "text": [
      "10\n",
      "11\n",
      "12\n",
      "13\n",
      "14\n"
     ]
    }
   ],
   "source": [
    "print(arr[-10]) # 가능\n",
    "print(arr[-9]) # 가능\n",
    "print(arr[-8]) # 가능\n",
    "print(arr[-7]) # 가능\n",
    "print(arr[-6]) # 가능"
   ]
  },
  {
   "cell_type": "markdown",
   "id": "b1fd2b0e-bbe5-42cf-ae67-ce365d9eb90c",
   "metadata": {},
   "source": [
    "### 2차원 array"
   ]
  },
  {
   "cell_type": "code",
   "execution_count": 56,
   "id": "44779b7b-ed32-4667-a22e-cd0d2e4a6ea5",
   "metadata": {
    "tags": []
   },
   "outputs": [],
   "source": [
    "# arr2d = np.array([[4, 5, 14, 7, 11, 10],\n",
    "#                  [1, 2, 3, 4, 5],\n",
    "#                  [6, 4, 3, 2]]) # error # array 안에 행 값이 다를 경우 error 발생 : The detected shape was (3,) + inhomogeneous part.\n",
    "arr2d = np.array([[4, 5, 14, 7, 11, 10],\n",
    "                 [1, 2, 3, 4, 5, 45],\n",
    "                 [6, 4, 3, 2, 0, 29]])"
   ]
  },
  {
   "cell_type": "code",
   "execution_count": 57,
   "id": "ad46e762-c61b-4ed4-9f4d-086c2145c88a",
   "metadata": {
    "tags": []
   },
   "outputs": [
    {
     "data": {
      "text/plain": [
       "(3, 6)"
      ]
     },
     "execution_count": 57,
     "metadata": {},
     "output_type": "execute_result"
    }
   ],
   "source": [
    "# arr2d 객체의 shape 확인하기\n",
    "arr2d.shape"
   ]
  },
  {
   "cell_type": "markdown",
   "id": "486d3338-0990-45e3-9bfc-77180cfd0e39",
   "metadata": {},
   "source": [
    "#### 2차원 ndarray 요소 확인\n",
    "- 2차원 어레이명[행 인덱스, 열 인덱스]"
   ]
  },
  {
   "cell_type": "code",
   "execution_count": 58,
   "id": "602b95a2-14f1-48e2-80e9-4141a98b980e",
   "metadata": {
    "tags": []
   },
   "outputs": [
    {
     "data": {
      "text/plain": [
       "array([ 6,  4,  3,  2,  0, 29])"
      ]
     },
     "execution_count": 58,
     "metadata": {},
     "output_type": "execute_result"
    }
   ],
   "source": [
    "# 3 행 전체\n",
    "arr2d[2]"
   ]
  },
  {
   "cell_type": "code",
   "execution_count": 59,
   "id": "5c836c26-4a06-4d62-ae89-491178b4ffc2",
   "metadata": {
    "tags": []
   },
   "outputs": [
    {
     "data": {
      "text/plain": [
       "14"
      ]
     },
     "execution_count": 59,
     "metadata": {},
     "output_type": "execute_result"
    }
   ],
   "source": [
    "# 인덱스 (0, 2) 요소\n",
    "arr2d[0, 2]"
   ]
  },
  {
   "cell_type": "code",
   "execution_count": 60,
   "id": "5bf4589c-5f20-4044-b8b8-16520bfee05f",
   "metadata": {
    "tags": []
   },
   "outputs": [
    {
     "data": {
      "text/plain": [
       "4"
      ]
     },
     "execution_count": 60,
     "metadata": {},
     "output_type": "execute_result"
    }
   ],
   "source": [
    "# 인덱스 (2, 1) 요소\n",
    "arr2d[2, 1]"
   ]
  },
  {
   "cell_type": "code",
   "execution_count": 61,
   "id": "1fe91d5c-886a-4af3-8a5c-d8ab74d75af4",
   "metadata": {
    "tags": []
   },
   "outputs": [
    {
     "data": {
      "text/plain": [
       "(2, 14)"
      ]
     },
     "execution_count": 61,
     "metadata": {},
     "output_type": "execute_result"
    }
   ],
   "source": [
    "# arr2d[2, 3], arr2d[0, 2] 확인해 보기\n",
    "arr2d[2, 3], arr2d[0, 2]"
   ]
  },
  {
   "cell_type": "code",
   "execution_count": 62,
   "id": "1b592600-f58d-496b-bd85-f995f8d9b2a1",
   "metadata": {
    "tags": []
   },
   "outputs": [
    {
     "data": {
      "text/plain": [
       "array([[ 4,  5, 14,  7, 11, 10],\n",
       "       [ 1,  2,  3,  4,  5, 45],\n",
       "       [ 6,  4,  3, 13,  0, 29]])"
      ]
     },
     "execution_count": 62,
     "metadata": {},
     "output_type": "execute_result"
    }
   ],
   "source": [
    "# 특정 위치에 값 변경\n",
    "# 인덱스 (2,3)에 값 12->13으로 변경\n",
    "arr2d[2,3] = 13\n",
    "arr2d"
   ]
  },
  {
   "cell_type": "markdown",
   "id": "ab12106a-d6b5-40c9-a5ec-1ea9502783a4",
   "metadata": {},
   "source": [
    "### 3차원 array"
   ]
  },
  {
   "cell_type": "code",
   "execution_count": 46,
   "id": "58975c7d-eb64-4398-8ce1-d20d30c569c6",
   "metadata": {
    "tags": []
   },
   "outputs": [],
   "source": [
    "arr3d = np.array([[[1, 2,],[3, 4]], \n",
    "                  [[5, 6], [7, 8]], \n",
    "                  [[9, 10], [11, 12]]])"
   ]
  },
  {
   "cell_type": "code",
   "execution_count": 47,
   "id": "440c3965-df43-4f74-ab5b-ea64235d25f7",
   "metadata": {
    "tags": []
   },
   "outputs": [
    {
     "data": {
      "text/plain": [
       "array([[[ 1,  2],\n",
       "        [ 3,  4]],\n",
       "\n",
       "       [[ 5,  6],\n",
       "        [ 7,  8]],\n",
       "\n",
       "       [[ 9, 10],\n",
       "        [11, 12]]])"
      ]
     },
     "execution_count": 47,
     "metadata": {},
     "output_type": "execute_result"
    }
   ],
   "source": [
    "arr3d"
   ]
  },
  {
   "cell_type": "code",
   "execution_count": 48,
   "id": "982788ff-c475-4528-903c-688f0731f298",
   "metadata": {
    "tags": []
   },
   "outputs": [
    {
     "data": {
      "text/plain": [
       "(3, 2, 2)"
      ]
     },
     "execution_count": 48,
     "metadata": {},
     "output_type": "execute_result"
    }
   ],
   "source": [
    "arr3d.shape"
   ]
  },
  {
   "cell_type": "code",
   "execution_count": 49,
   "id": "8d4b4cc4-090e-42cd-866f-73f7f97ed05a",
   "metadata": {
    "tags": []
   },
   "outputs": [],
   "source": [
    "arr3d1 = np.array([[[1, 2, 3],[3, 4, 5]], \n",
    "                  [[5, 6, 0], [7, 8, 9]], \n",
    "                  [[9, 10, 10], [11, 12, 20]]])"
   ]
  },
  {
   "cell_type": "code",
   "execution_count": 50,
   "id": "72230587-e27a-4676-8802-78616ba58a1c",
   "metadata": {
    "tags": []
   },
   "outputs": [
    {
     "data": {
      "text/plain": [
       "(3, 2, 3)"
      ]
     },
     "execution_count": 50,
     "metadata": {},
     "output_type": "execute_result"
    }
   ],
   "source": [
    "arr3d1.shape"
   ]
  },
  {
   "cell_type": "code",
   "execution_count": 51,
   "id": "d63fecce-6bb3-4899-bac2-938731a6290e",
   "metadata": {},
   "outputs": [
    {
     "name": "stdout",
     "output_type": "stream",
     "text": [
      "[[[ 1  2  3]\n",
      "  [ 3  4  5]]\n",
      "\n",
      " [[ 5  6  0]\n",
      "  [ 7  8  9]]\n",
      "\n",
      " [[ 9 10 10]\n",
      "  [11 12 20]]]\n"
     ]
    }
   ],
   "source": [
    "print(arr3d1)"
   ]
  },
  {
   "cell_type": "markdown",
   "id": "70acefbe-9213-41ea-afaa-25923d713d52",
   "metadata": {},
   "source": [
    "### 3-3. 범위 색인\n",
    "#### 1차원\n",
    "- arr[start:stop:step]\n",
    "- arr[::-1] # step이 음수인 경우 거꾸로 출력"
   ]
  },
  {
   "cell_type": "code",
   "execution_count": 64,
   "id": "4dbc3300-bc3e-4bdb-86a1-2d120a7f1da8",
   "metadata": {
    "tags": []
   },
   "outputs": [],
   "source": [
    "arr = np.arange(10,20)"
   ]
  },
  {
   "cell_type": "code",
   "execution_count": 65,
   "id": "471fb244-15b0-45ed-9d81-937b20c50252",
   "metadata": {
    "tags": []
   },
   "outputs": [],
   "source": [
    "arr2 = [20,40,65,80,30,10,65,55]"
   ]
  },
  {
   "cell_type": "code",
   "execution_count": 66,
   "id": "9333219e-f598-4aaf-8ee1-6eb86b2a5e37",
   "metadata": {
    "tags": []
   },
   "outputs": [
    {
     "name": "stdout",
     "output_type": "stream",
     "text": [
      "[10 11 12 13 14 15 16 17 18 19]\n",
      "[20, 40, 65, 80, 30, 10, 65, 55]\n"
     ]
    }
   ],
   "source": [
    "print(arr)\n",
    "print(arr2)"
   ]
  },
  {
   "cell_type": "code",
   "execution_count": 68,
   "id": "0dfa7669-ad95-4e2d-916a-37dfe8650c75",
   "metadata": {
    "tags": []
   },
   "outputs": [
    {
     "name": "stdout",
     "output_type": "stream",
     "text": [
      "[10 11 12 13 14 15 16 17 18]\n",
      "[19 18 17 16 15 14 13 12 11 10]\n"
     ]
    }
   ],
   "source": [
    "print(arr[:-1]) # 마지막 값 직전 값까지 정렬\n",
    "print(arr[::-1]) # 정렬이 아닌 순서를 가장 뒤에서부터 정렬"
   ]
  },
  {
   "cell_type": "code",
   "execution_count": 69,
   "id": "175c0678-c8d0-492a-8b92-1d7ab002712c",
   "metadata": {
    "tags": []
   },
   "outputs": [
    {
     "name": "stdout",
     "output_type": "stream",
     "text": [
      "[11 12 13 14 15 16 17 18 19]\n",
      "[12 13 14 15 16 17 18 19]\n"
     ]
    }
   ],
   "source": [
    "# index n부터 끝까지\n",
    "print(arr[1:])\n",
    "print(arr[2:])"
   ]
  },
  {
   "cell_type": "code",
   "execution_count": 71,
   "id": "5ab5c74d-6190-4801-8b58-6ce6961739bf",
   "metadata": {
    "tags": []
   },
   "outputs": [
    {
     "name": "stdout",
     "output_type": "stream",
     "text": [
      "[10 11 12 13 14]\n",
      "[10 16]\n",
      "[10 12 14 16]\n",
      "[11 14 17]\n"
     ]
    }
   ],
   "source": [
    "# 처음 ~ n 까지 n에서 스탑\n",
    "# [start, stop, step]\n",
    "print(arr[:5]) # 0:5\n",
    "print(arr[::6]) # 0:0:6 처음부터 끝까지 6 step\n",
    "print(arr[:7:2]) # 처음부터 7번 index까지 2 step\n",
    "print(arr[1::3])"
   ]
  },
  {
   "cell_type": "code",
   "execution_count": 74,
   "id": "5b39b09c-fbbc-4db0-a2e4-f5adeeb39a58",
   "metadata": {
    "tags": []
   },
   "outputs": [
    {
     "name": "stdout",
     "output_type": "stream",
     "text": [
      "[10 11 12 13 14 15 16 17 18]\n",
      "[10 11 12 13 14 15 16 17]\n",
      "[19 18 17 16 15 14 13 12 11 10]\n",
      "[19 18 17 16 15 14 13]\n",
      "[19 17 15 13]\n"
     ]
    }
   ],
   "source": [
    "print(arr[:-1]) # 처음 ~ -n : 마지막까지 가장 마지막 값 n번 직전까지\n",
    "print(arr[:-2]) \n",
    "print(arr[::-1]) # 처음부터 마지막까지 거꾸로 정렬\n",
    "print(arr[:2:-1]) # 처음부터 step만큼 묶어서 index 값 제외 step : -n개 < -: 거꾸로 정렬하여 n: 뒤에서 부터 step만큼\n",
    "print(arr[:2:-2])"
   ]
  },
  {
   "cell_type": "code",
   "execution_count": 76,
   "id": "836bc7a7-9bde-4d50-b3fb-f67fcb64bc43",
   "metadata": {
    "tags": []
   },
   "outputs": [
    {
     "name": "stdout",
     "output_type": "stream",
     "text": [
      "[10 11 12 13 14 15 16]\n",
      "[10 12 14 16]\n"
     ]
    }
   ],
   "source": [
    "# array name[start:stop:step]\n",
    "print(arr[0:7:1]) # 0 1 2 3 4 5 6 7\n",
    "print(arr[0:7:2]) # 0 2 4 6"
   ]
  },
  {
   "cell_type": "code",
   "execution_count": 78,
   "id": "85617b0c-5404-483f-89f7-c908d3be5118",
   "metadata": {
    "tags": []
   },
   "outputs": [
    {
     "name": "stdout",
     "output_type": "stream",
     "text": [
      "[10 12 14] [10 11]\n",
      "[10 13 16] [12]\n"
     ]
    }
   ],
   "source": [
    "print(arr[:6:2], arr[:2:1])\n",
    "print(arr[:8:3], arr[2:3:2])"
   ]
  },
  {
   "cell_type": "markdown",
   "id": "a58b143e-60fa-4886-ad7a-0fc32af74e82",
   "metadata": {},
   "source": [
    "#### 2차원\n",
    "- 2차원 array name[행start(n-1):행stop(n-1), 열start:열stop]"
   ]
  },
  {
   "cell_type": "code",
   "execution_count": 63,
   "id": "3c771e75-fccb-4323-be3f-eaddca3ce1bc",
   "metadata": {
    "tags": []
   },
   "outputs": [],
   "source": [
    "arr2d = np.array([[1, 2, 3, 4, 13, 17], \n",
    "                  [4, 5, 14, 7, 11, 10], \n",
    "                  [9, 10, 11, 12, 20, 30]])"
   ]
  },
  {
   "cell_type": "code",
   "execution_count": 82,
   "id": "5acae867-d67f-48a4-9f83-3661474b62e1",
   "metadata": {
    "tags": []
   },
   "outputs": [
    {
     "name": "stdout",
     "output_type": "stream",
     "text": [
      "[ 1  2  3  4 13 17]\n"
     ]
    }
   ],
   "source": [
    "# 0 row(행)의 값을 모두 슬라싱하기\n",
    "print(arr2d[0, :]) # 0번째 행, 0:n까지 == :"
   ]
  },
  {
   "cell_type": "code",
   "execution_count": 84,
   "id": "a53f1dc1-6ce0-434d-8f15-feb05b9ec063",
   "metadata": {
    "tags": []
   },
   "outputs": [
    {
     "name": "stdout",
     "output_type": "stream",
     "text": [
      "[ 3 14 11]\n"
     ]
    }
   ],
   "source": [
    "# 3 column(열)을 모두 슬라이싱하기\n",
    "print(arr2d[:, 2]) # 0:n까지 == : , 2번째 열"
   ]
  },
  {
   "cell_type": "code",
   "execution_count": 86,
   "id": "213c4b11-713e-460e-a6b3-f0703a84fb7c",
   "metadata": {
    "tags": []
   },
   "outputs": [
    {
     "name": "stdout",
     "output_type": "stream",
     "text": [
      "[[ 1  2  3  4 13 17]\n",
      " [ 4  5 14  7 11 10]]\n"
     ]
    }
   ],
   "source": [
    "# 부분적으로 슬라이싱하기\n",
    "print(arr2d[:2, :]) # 0:2(1 index)까지, 0:n까지 == :"
   ]
  },
  {
   "cell_type": "code",
   "execution_count": 94,
   "id": "ef398760-fbfb-4270-8fc2-42d3db4115d0",
   "metadata": {
    "tags": []
   },
   "outputs": [
    {
     "name": "stdout",
     "output_type": "stream",
     "text": [
      "[[3 4]\n",
      " [7 8]]\n",
      "[[3 4]\n",
      " [7 8]]\n"
     ]
    }
   ],
   "source": [
    "# 부분적으로 슬라이싱하기\n",
    "print(arr2d[:2, 2:]) # 0:2(1 index)까지, 2:n까지\n",
    "print(arr2d[:2, 2:4])"
   ]
  },
  {
   "cell_type": "markdown",
   "id": "18902371-2af0-48c4-9bdc-1fcfe2aa6814",
   "metadata": {},
   "source": [
    "##### 문제. 다음과 같이 슬라이싱하기\n",
    "- 행 : 1~3행까지, 열 : 1부터 모두"
   ]
  },
  {
   "cell_type": "code",
   "execution_count": 92,
   "id": "7f648abf-4c77-44d7-b0fb-c3fa488bae57",
   "metadata": {
    "tags": []
   },
   "outputs": [
    {
     "name": "stdout",
     "output_type": "stream",
     "text": [
      "[[ 5  6  7  8]\n",
      " [ 9 10 11 12]]\n"
     ]
    }
   ],
   "source": [
    "arr2d = np.array([[1, 2, 3, 4], \n",
    "                  [5, 6, 7, 8], \n",
    "                  [9, 10, 11, 12]])\n",
    "print(arr2d[1:, :])"
   ]
  },
  {
   "cell_type": "code",
   "execution_count": 95,
   "id": "5186ed24-3672-4c99-94e9-d91ddf9062ba",
   "metadata": {
    "tags": []
   },
   "outputs": [
    {
     "name": "stdout",
     "output_type": "stream",
     "text": [
      "[[2 3]\n",
      " [6 7]]\n"
     ]
    }
   ],
   "source": [
    "arr2d = np.array([[1, 2, 3, 4], \n",
    "                  [5, 6, 7, 8], \n",
    "                  [9, 10, 11, 12]])\n",
    "print(arr2d[0:2, 1:3])"
   ]
  },
  {
   "cell_type": "markdown",
   "id": "491e0018-1230-472a-a8c7-dc513498e1db",
   "metadata": {},
   "source": [
    "## 4. Fancy 인덱싱\n",
    "fancy 인덱싱은 범위가 아닌 **특정 index의 값들을 추출**하고 싶을 때 사용<br>\n",
    "index list 업하여 적용하면 값을 추출할 수 있음<br>\n",
    "사용법 : array name[[index list 위치]]"
   ]
  },
  {
   "cell_type": "markdown",
   "id": "1adc2183-b1c4-4ea4-b78b-7bd09b9ee39e",
   "metadata": {},
   "source": [
    "### 4-1. 1차원 fancy 인덱싱"
   ]
  },
  {
   "cell_type": "code",
   "execution_count": 96,
   "id": "eeea95e2-7b01-4d1b-af01-ba80cbb71070",
   "metadata": {
    "tags": []
   },
   "outputs": [],
   "source": [
    "arr = np.array([10, 23, 2, 7, 90, 65, 32, 66, 70])"
   ]
  },
  {
   "cell_type": "code",
   "execution_count": 98,
   "id": "31a8a9e1-60cf-4855-97cc-6b8dd1d7dcef",
   "metadata": {
    "tags": []
   },
   "outputs": [
    {
     "data": {
      "text/plain": [
       "array([23,  2, 65])"
      ]
     },
     "execution_count": 98,
     "metadata": {},
     "output_type": "execute_result"
    }
   ],
   "source": [
    "# index를 list로 정의 해서 값을 추출\n",
    "arr[[1, 2, 5]] # array name[[추출할 index 값]]"
   ]
  },
  {
   "cell_type": "code",
   "execution_count": 99,
   "id": "1fbba4ca-402f-493d-8902-d8e68e6a5bb6",
   "metadata": {
    "tags": []
   },
   "outputs": [
    {
     "data": {
      "text/plain": [
       "array([23,  2, 65])"
      ]
     },
     "execution_count": 99,
     "metadata": {},
     "output_type": "execute_result"
    }
   ],
   "source": [
    "# index list를 변수에 대입하여 추출\n",
    "idx = [1, 2, 5] \n",
    "arr[idx]"
   ]
  },
  {
   "cell_type": "markdown",
   "id": "dfb32580-c26d-4e31-9a77-3ec5f42a48f4",
   "metadata": {},
   "source": [
    "### 4-2. 2차원 fancy\n",
    "arr2d[[요소1의 행, 요소2의 행], [요소1의 열, 요소2의 열]]"
   ]
  },
  {
   "cell_type": "code",
   "execution_count": 100,
   "id": "584574d8-ce7b-4ffb-91a3-0a02a6743f1e",
   "metadata": {
    "tags": []
   },
   "outputs": [
    {
     "data": {
      "text/plain": [
       "array([[1, 2, 3, 4],\n",
       "       [5, 6, 7, 8]])"
      ]
     },
     "execution_count": 100,
     "metadata": {},
     "output_type": "execute_result"
    }
   ],
   "source": [
    "#arr2d[[행index목록],[열index목록]]\n",
    "arr2d[[0, 1], :]"
   ]
  },
  {
   "cell_type": "code",
   "execution_count": 101,
   "id": "1b0e24a7-99d7-4592-97ce-d3863b3d4eb9",
   "metadata": {
    "tags": []
   },
   "outputs": [
    {
     "name": "stdout",
     "output_type": "stream",
     "text": [
      "[[ 2  4]\n",
      " [ 6  8]\n",
      " [10 12]]\n"
     ]
    }
   ],
   "source": [
    "print(arr2d[:, [1, 3]])"
   ]
  },
  {
   "cell_type": "code",
   "execution_count": 102,
   "id": "38a2d7aa-9e5f-4a48-b654-143a27656a88",
   "metadata": {
    "tags": []
   },
   "outputs": [],
   "source": [
    "arr2d = np.array([[1, 2, 3, 4], \n",
    "                  [5, 6, 7, 8], \n",
    "                  [9, 10, 11, 12]])"
   ]
  },
  {
   "cell_type": "code",
   "execution_count": 105,
   "id": "d374878a-ee65-466a-8ffb-625c9e77d0e8",
   "metadata": {
    "tags": []
   },
   "outputs": [
    {
     "name": "stdout",
     "output_type": "stream",
     "text": [
      "[ 6 11  2]\n"
     ]
    }
   ],
   "source": [
    "#arr2d[[요소n의 행,요소n의 행],[요소n의 열, 요소n의 열]]\n",
    "print(arr2d[[1, 2, 0], [1, 2, 1]])"
   ]
  },
  {
   "cell_type": "markdown",
   "id": "ab118840-44d1-45f2-8bb4-a8a20b9f9676",
   "metadata": {},
   "source": [
    "#### 문제\n",
    "<pre>\n",
    " array([[1, 2, 3, 4],\n",
    "        [5, 6, 7, 8],\n",
    "        [9, 10, 11, 12]])\n",
    "</pre>"
   ]
  },
  {
   "cell_type": "code",
   "execution_count": 106,
   "id": "eda51eb6-a086-4987-abee-5ec5015cd336",
   "metadata": {
    "tags": []
   },
   "outputs": [],
   "source": [
    "arr2d1 = np.array([[1, 2, 3, 4],\n",
    "                   [5, 6, 7, 8],\n",
    "                   [9, 10, 11, 12]])"
   ]
  },
  {
   "cell_type": "code",
   "execution_count": 115,
   "id": "0c232bab-0dc9-4ba8-b636-3449379ca398",
   "metadata": {
    "tags": []
   },
   "outputs": [
    {
     "name": "stdout",
     "output_type": "stream",
     "text": [
      "[ 9 12]\n"
     ]
    }
   ],
   "source": [
    "print(arr2d1[[2, 2], [0, 3]])"
   ]
  },
  {
   "cell_type": "code",
   "execution_count": 104,
   "id": "b8acdf24-3078-4507-9af8-cd2190237815",
   "metadata": {
    "tags": []
   },
   "outputs": [],
   "source": [
    "arr3d1 = np.array([[[1, 2, 3],[3, 4, 5]], \n",
    "                  [[5, 6, 0], [7, 8, 9]], \n",
    "                  [[9, 10, 10], [11, 12, 20]]])"
   ]
  },
  {
   "cell_type": "code",
   "execution_count": 131,
   "id": "e1bbc98b-c728-430a-b28b-17f92d67909e",
   "metadata": {
    "tags": []
   },
   "outputs": [
    {
     "name": "stdout",
     "output_type": "stream",
     "text": [
      "[[[[ 1  2  3]\n",
      "   [ 3  4  5]]]\n",
      "\n",
      "\n",
      " [[[ 5  6  0]\n",
      "   [ 7  8  9]]]\n",
      "\n",
      "\n",
      " [[[ 9 10 10]\n",
      "   [11 12 20]]]]\n"
     ]
    }
   ],
   "source": [
    "# print(arr3d1[[[1, 2, 0], [2, 1, 1], [0, 1, 2]]])\n",
    "# print(arr3d1[[[[0]], [[1]], [[2]]]])\n",
    "print(arr3d1[[[0], [1], [2]]])"
   ]
  },
  {
   "cell_type": "markdown",
   "id": "3f58a364-1231-48c5-996c-f7ee7cdf0524",
   "metadata": {},
   "source": [
    "## 5. Boolean index(Masking)\n",
    "조건 필터링을 통하여 Boolean 값으로 색인<br>\n",
    "True 인값만 추출됨"
   ]
  },
  {
   "cell_type": "markdown",
   "id": "6b5bc010-b898-45a6-ae3a-ce1ade66d18d",
   "metadata": {},
   "source": [
    "### 5-1. True와 False 값으로 색인하기"
   ]
  },
  {
   "cell_type": "markdown",
   "id": "40072ed1-e11a-41e2-9ff4-bace14bcb237",
   "metadata": {},
   "source": [
    "#### 1차원"
   ]
  },
  {
   "cell_type": "code",
   "execution_count": 132,
   "id": "224744bf-eb69-4573-acfc-41c696f3bbfe",
   "metadata": {
    "tags": []
   },
   "outputs": [
    {
     "name": "stdout",
     "output_type": "stream",
     "text": [
      "[10 20 30 40 50 60]\n"
     ]
    }
   ],
   "source": [
    "arr = np.arange(10, 61, 10)\n",
    "print(arr)"
   ]
  },
  {
   "cell_type": "code",
   "execution_count": 139,
   "id": "67dfc5ba-edbe-459c-b701-e1fed8b00af9",
   "metadata": {
    "tags": []
   },
   "outputs": [],
   "source": [
    "TFset = [True, False, True]"
   ]
  },
  {
   "cell_type": "code",
   "execution_count": 140,
   "id": "daec801a-a256-4209-953e-b5c7477413b8",
   "metadata": {
    "tags": []
   },
   "outputs": [
    {
     "ename": "IndexError",
     "evalue": "boolean index did not match indexed array along dimension 0; dimension is 6 but corresponding boolean dimension is 3",
     "output_type": "error",
     "traceback": [
      "\u001b[1;31m---------------------------------------------------------------------------\u001b[0m",
      "\u001b[1;31mIndexError\u001b[0m                                Traceback (most recent call last)",
      "Cell \u001b[1;32mIn[140], line 2\u001b[0m\n\u001b[0;32m      1\u001b[0m \u001b[38;5;66;03m# error : 인덱스 갯수 맞춰줘야 함 : 1차원\u001b[39;00m\n\u001b[1;32m----> 2\u001b[0m \u001b[38;5;28mprint\u001b[39m(\u001b[43marr\u001b[49m\u001b[43m[\u001b[49m\u001b[43mTFset\u001b[49m\u001b[43m]\u001b[49m) \u001b[38;5;66;03m# dimension is 6 but corresponding boolean dimension is 3\u001b[39;00m\n",
      "\u001b[1;31mIndexError\u001b[0m: boolean index did not match indexed array along dimension 0; dimension is 6 but corresponding boolean dimension is 3"
     ]
    }
   ],
   "source": [
    "# error : 인덱스 갯수 맞춰줘야 함 : 1차원\n",
    "print(arr[TFset]) # dimension is 6 but corresponding boolean dimension is 3"
   ]
  },
  {
   "cell_type": "code",
   "execution_count": 141,
   "id": "112e2965-4e8f-4f14-a4e1-06b00c0b8faa",
   "metadata": {
    "tags": []
   },
   "outputs": [],
   "source": [
    "TFset2 = [True, False, True, True, False, True]"
   ]
  },
  {
   "cell_type": "code",
   "execution_count": 142,
   "id": "74e22276-ac44-45dc-802e-c9691568d772",
   "metadata": {
    "tags": []
   },
   "outputs": [
    {
     "name": "stdout",
     "output_type": "stream",
     "text": [
      "[10 30 40 60]\n"
     ]
    }
   ],
   "source": [
    "print(arr[TFset2])"
   ]
  },
  {
   "cell_type": "code",
   "execution_count": 145,
   "id": "d17936ff-8023-452d-8d3b-a40305a92ad5",
   "metadata": {
    "tags": []
   },
   "outputs": [
    {
     "name": "stdout",
     "output_type": "stream",
     "text": [
      "[10 30]\n",
      "[20 40 60]\n"
     ]
    }
   ],
   "source": [
    "TFset3 = [True, False, True, False, False, False]\n",
    "print(arr[TFset3])\n",
    "TFset4 = [False, True, False, True, False, True]\n",
    "print(arr[TFset4])"
   ]
  },
  {
   "cell_type": "markdown",
   "id": "8986677a-2469-4fa3-b33a-f2b52dbdc2fa",
   "metadata": {},
   "source": [
    "#### 2차원"
   ]
  },
  {
   "cell_type": "code",
   "execution_count": 146,
   "id": "a26d7de8-7e3c-4965-b5c0-391b96f31215",
   "metadata": {
    "tags": []
   },
   "outputs": [],
   "source": [
    "arr2d = np.array([[1, 2, 3, 4], \n",
    "                  [5, 6, 7, 8], \n",
    "                  [9, 10, 11, 12]])"
   ]
  },
  {
   "cell_type": "code",
   "execution_count": 147,
   "id": "d904aa04-274e-446b-b748-d402d4c3812a",
   "metadata": {
    "tags": []
   },
   "outputs": [
    {
     "name": "stdout",
     "output_type": "stream",
     "text": [
      "[[ 1  2  3  4]\n",
      " [ 5  6  7  8]\n",
      " [ 9 10 11 12]]\n"
     ]
    }
   ],
   "source": [
    "print(arr2d)"
   ]
  },
  {
   "cell_type": "code",
   "execution_count": 151,
   "id": "b4cf1b84-27ff-42e1-9b35-979a06a9e9f8",
   "metadata": {
    "tags": []
   },
   "outputs": [],
   "source": [
    "# boolean list로 정의, 행단위로 정의\n",
    "TFset = [True, True, False]\n",
    "TFset2 = [True, False] # error : 행 갯수가 안 맞으면 오류남"
   ]
  },
  {
   "cell_type": "code",
   "execution_count": 149,
   "id": "578f95f3-74db-4d0c-bf13-e0eadc76cf06",
   "metadata": {
    "tags": []
   },
   "outputs": [
    {
     "name": "stdout",
     "output_type": "stream",
     "text": [
      "[[1 2 3 4]\n",
      " [5 6 7 8]]\n"
     ]
    }
   ],
   "source": [
    "print(arr2d[TFset])"
   ]
  },
  {
   "cell_type": "code",
   "execution_count": 153,
   "id": "c142a22f-8a82-469a-b91a-34b7bf4dec81",
   "metadata": {
    "tags": []
   },
   "outputs": [
    {
     "name": "stdout",
     "output_type": "stream",
     "text": [
      "[[1 2 3 4]\n",
      " [5 6 7 8]] [[False, True, True]]\n"
     ]
    }
   ],
   "source": [
    "TFset1 = [True, True, False]\n",
    "TFset2 = [False, True, True]\n",
    "\n",
    "print(arr2d[TFset1], [TFset2])"
   ]
  },
  {
   "cell_type": "markdown",
   "id": "ff14fdc1-bdc5-458b-b5b3-ef73ba1268b0",
   "metadata": {},
   "source": [
    "### 조건 필터\n",
    "비교 연산자를 활용하여 필터를 생성 함\n",
    "- arr2d[조건필터]"
   ]
  },
  {
   "cell_type": "code",
   "execution_count": 154,
   "id": "cb1966e6-06ea-4b25-9578-aac872597b9a",
   "metadata": {
    "tags": []
   },
   "outputs": [],
   "source": [
    "arr2d = np.array([[1, 2, 3, 4], \n",
    "                  [5, 6, 7, 8], \n",
    "                  [9, 10, 11, 12]])"
   ]
  },
  {
   "cell_type": "code",
   "execution_count": 157,
   "id": "a8faa4c7-6606-496e-8d79-2e4d89f9d8ed",
   "metadata": {
    "tags": []
   },
   "outputs": [
    {
     "name": "stdout",
     "output_type": "stream",
     "text": [
      "[[False False  True  True]\n",
      " [ True  True  True  True]\n",
      " [ True  True  True  True]]\n"
     ]
    },
    {
     "data": {
      "text/plain": [
       "array([[False, False,  True,  True],\n",
       "       [ True,  True,  True,  True],\n",
       "       [ True,  True,  True,  True]])"
      ]
     },
     "execution_count": 157,
     "metadata": {},
     "output_type": "execute_result"
    }
   ],
   "source": [
    "# ndarray 조건식\n",
    "# ndarray에 조건식을 주면 boolean 값 반환\n",
    "print(arr2d > 2)\n",
    "arr2d > 2"
   ]
  },
  {
   "cell_type": "code",
   "execution_count": 158,
   "id": "0737e617-aa4e-4b6c-8dcd-0744373f75e6",
   "metadata": {
    "tags": []
   },
   "outputs": [
    {
     "name": "stdout",
     "output_type": "stream",
     "text": [
      "[ 3  4  5  6  7  8  9 10 11 12]\n"
     ]
    },
    {
     "data": {
      "text/plain": [
       "array([ 3,  4,  5,  6,  7,  8,  9, 10, 11, 12])"
      ]
     },
     "execution_count": 158,
     "metadata": {},
     "output_type": "execute_result"
    }
   ],
   "source": [
    "# arr2d[조건필터]\n",
    "print(arr2d[ arr2d > 2 ])\n",
    "arr2d[ arr2d > 2 ]"
   ]
  },
  {
   "cell_type": "code",
   "execution_count": 159,
   "id": "d334c959-263e-4bb6-822f-1da09f7c75dd",
   "metadata": {
    "tags": []
   },
   "outputs": [
    {
     "name": "stdout",
     "output_type": "stream",
     "text": [
      "[1 2 3 4]\n"
     ]
    }
   ],
   "source": [
    "print(arr2d[ arr2d < 5 ])"
   ]
  },
  {
   "cell_type": "markdown",
   "id": "84c29298-54e8-438b-a441-5fb4d54f204b",
   "metadata": {},
   "source": [
    "##### [문제] shape (3,2,4) ndarray를 만들고, 조건 필터식 적용하기\n",
    "- 조건필터 : 11보다 큰값 출력"
   ]
  },
  {
   "cell_type": "code",
   "execution_count": 163,
   "id": "cf085d6f-6f2d-40b0-9843-ede33209f6e5",
   "metadata": {
    "tags": []
   },
   "outputs": [],
   "source": [
    "arr3d = [[[1,2,3,4],\n",
    "          [5,6,7,8]],\n",
    "         [[9,10,11,12],\n",
    "          [13,14,15,4]],\n",
    "         [[5,6,7,8],\n",
    "          [9,10,11,12]]]\n",
    "arr3d = np.array(arr3d)"
   ]
  },
  {
   "cell_type": "code",
   "execution_count": 161,
   "id": "79ec1607-2a8b-432c-9747-4854e126beab",
   "metadata": {
    "tags": []
   },
   "outputs": [
    {
     "data": {
      "text/plain": [
       "(3, 2, 4)"
      ]
     },
     "execution_count": 161,
     "metadata": {},
     "output_type": "execute_result"
    }
   ],
   "source": [
    "arr3d.shape"
   ]
  },
  {
   "cell_type": "code",
   "execution_count": 162,
   "id": "1f56f622-48f5-4030-abcd-39e8b6bcf928",
   "metadata": {
    "tags": []
   },
   "outputs": [
    {
     "name": "stdout",
     "output_type": "stream",
     "text": [
      "[12 13 14 15 12]\n"
     ]
    }
   ],
   "source": [
    "print(arr3d[arr3d > 11])"
   ]
  },
  {
   "cell_type": "code",
   "execution_count": 164,
   "id": "bffb4ac0-2b0c-486c-9d14-930eac9ce79c",
   "metadata": {
    "tags": []
   },
   "outputs": [
    {
     "name": "stdout",
     "output_type": "stream",
     "text": [
      "[ 1  2  3  4  5  6  7  8  9 10 11 12 13 14 15 16 17 18 19 20 21 22 23 24]\n"
     ]
    }
   ],
   "source": [
    "arr = np.arange(1,25)\n",
    "print(arr)"
   ]
  },
  {
   "cell_type": "code",
   "execution_count": 166,
   "id": "2b3c6185-432f-47f3-9f7d-20b5618d7364",
   "metadata": {
    "tags": []
   },
   "outputs": [
    {
     "name": "stdout",
     "output_type": "stream",
     "text": [
      "[12 13 14 15 16 17 18 19 20 21 22 23 24]\n",
      "[[[ 1  2  3  4]\n",
      "  [ 5  6  7  8]]\n",
      "\n",
      " [[ 9 10 11 12]\n",
      "  [13 14 15 16]]\n",
      "\n",
      " [[17 18 19 20]\n",
      "  [21 22 23 24]]]\n"
     ]
    }
   ],
   "source": [
    "arr3d = arr.reshape(3,2,4)\n",
    "print(arr3d[arr3d>11])\n",
    "print(arr3d)"
   ]
  },
  {
   "cell_type": "markdown",
   "id": "d3ef3276-ef04-4ca0-a875-aef12e20409a",
   "metadata": {},
   "source": [
    "* * *"
   ]
  },
  {
   "cell_type": "markdown",
   "id": "af84dec3-1004-49cf-9a44-ed68ef0a7391",
   "metadata": {},
   "source": [
    "## 2차원 boolindex 부연설명\n",
    "각 names의 성분(7개 열)에 따라 ---> data의 각 행 대응된다고 생각해 보자.<br>\n",
    "예를 들어 aaa라는 사람은 1행, bbb는 2행에 대응 된다고 생각하고 아래처럼 array 조건문을 입력해 보자"
   ]
  },
  {
   "cell_type": "code",
   "execution_count": 167,
   "id": "5c0ad7ef-93e2-42c2-8a18-4455371a562a",
   "metadata": {
    "tags": []
   },
   "outputs": [],
   "source": [
    "names = np.array([\"aaa\", \"bbb\",\"ccc\", \"ddd\", \"eee\", \"fff\", \"ggg\"])\n",
    "data = np.random.rand(7,4)"
   ]
  },
  {
   "cell_type": "code",
   "execution_count": 169,
   "id": "a73e37a7-2932-4161-80e4-798b59315b96",
   "metadata": {
    "tags": []
   },
   "outputs": [
    {
     "name": "stdout",
     "output_type": "stream",
     "text": [
      "['aaa' 'bbb' 'ccc' 'ddd' 'eee' 'fff' 'ggg']\n",
      "[[0.14205457 0.37937013 0.12396545 0.02544811]\n",
      " [0.43511616 0.71061643 0.71134548 0.40969846]\n",
      " [0.51964786 0.06051195 0.90331275 0.00266003]\n",
      " [0.79943378 0.54664461 0.80244173 0.68663084]\n",
      " [0.37326473 0.89640154 0.16326895 0.16175242]\n",
      " [0.70404579 0.71870955 0.22278502 0.15033393]\n",
      " [0.39626715 0.67675219 0.4739893  0.25789743]]\n"
     ]
    }
   ],
   "source": [
    "print(names)\n",
    "print(data)"
   ]
  },
  {
   "cell_type": "code",
   "execution_count": 174,
   "id": "5c1d22f9-a9fa-4d7e-afb1-6919dfac984d",
   "metadata": {
    "tags": []
   },
   "outputs": [
    {
     "name": "stdout",
     "output_type": "stream",
     "text": [
      "[ True False False False False False False]\n"
     ]
    }
   ],
   "source": [
    "print(names==\"aaa\")"
   ]
  },
  {
   "cell_type": "code",
   "execution_count": 176,
   "id": "3721cc0f-1bb8-4a3c-8e29-54aff42a3696",
   "metadata": {
    "tags": []
   },
   "outputs": [
    {
     "name": "stdout",
     "output_type": "stream",
     "text": [
      "[[0.14205457 0.37937013 0.12396545 0.02544811]]\n"
     ]
    }
   ],
   "source": [
    "print(data[names==\"aaa\", :])"
   ]
  },
  {
   "cell_type": "code",
   "execution_count": 178,
   "id": "c6c8d607-437d-4676-ae63-8319c5b12386",
   "metadata": {
    "tags": []
   },
   "outputs": [
    {
     "name": "stdout",
     "output_type": "stream",
     "text": [
      "[False False  True False False False False]\n"
     ]
    }
   ],
   "source": [
    "print(names==\"ccc\")"
   ]
  },
  {
   "cell_type": "code",
   "execution_count": 179,
   "id": "bf89aab1-ff87-4411-99ab-064484988093",
   "metadata": {
    "tags": []
   },
   "outputs": [
    {
     "name": "stdout",
     "output_type": "stream",
     "text": [
      "[[0.51964786 0.06051195 0.90331275 0.00266003]]\n"
     ]
    }
   ],
   "source": [
    "print(data[names==\"ccc\", :])"
   ]
  },
  {
   "cell_type": "markdown",
   "id": "871cb9c7-1fed-4115-91de-2ee2146f5454",
   "metadata": {},
   "source": [
    "#### **문제**\n",
    "- \"ggg\"에 대응되는 값 추출"
   ]
  },
  {
   "cell_type": "code",
   "execution_count": 181,
   "id": "16b2a96d-9e05-42f2-bb8e-e40affa47e54",
   "metadata": {
    "tags": []
   },
   "outputs": [
    {
     "name": "stdout",
     "output_type": "stream",
     "text": [
      "[False False False False False False  True]\n",
      "[[0.39626715 0.67675219 0.4739893  0.25789743]]\n"
     ]
    }
   ],
   "source": [
    "print(names==\"ggg\")\n",
    "print(data[names==\"ggg\", :])"
   ]
  },
  {
   "cell_type": "code",
   "execution_count": 182,
   "id": "e6a1b086-2626-40c3-90cc-9b599179a797",
   "metadata": {
    "tags": []
   },
   "outputs": [],
   "source": [
    "nums = np.array([1, 2, 3, 4, 5])\n",
    "data1 = np.random.rand(5,4)"
   ]
  },
  {
   "cell_type": "code",
   "execution_count": 183,
   "id": "245f470d-d396-4c00-a96a-67be5fb2fe17",
   "metadata": {
    "tags": []
   },
   "outputs": [
    {
     "name": "stdout",
     "output_type": "stream",
     "text": [
      "[1 2 3 4 5]\n",
      "[[0.10324815 0.28204872 0.24156004 0.77377678]\n",
      " [0.54386153 0.43491533 0.33484172 0.86051447]\n",
      " [0.09840419 0.0914667  0.43787922 0.57385256]\n",
      " [0.33141793 0.66516946 0.58680591 0.2650051 ]\n",
      " [0.88994053 0.3340261  0.24792109 0.335258  ]]\n"
     ]
    }
   ],
   "source": [
    "print(nums)\n",
    "print(data1)"
   ]
  },
  {
   "cell_type": "code",
   "execution_count": 184,
   "id": "ba3e82fd-c80c-4211-8028-b4c40407a8b5",
   "metadata": {
    "tags": []
   },
   "outputs": [
    {
     "name": "stdout",
     "output_type": "stream",
     "text": [
      "[ True False False False False]\n",
      "[False  True False False False]\n",
      "[False False  True False False]\n",
      "[False False False  True False]\n",
      "[False False False False  True]\n"
     ]
    }
   ],
   "source": [
    "print(nums == 1)\n",
    "print(nums == 2)\n",
    "print(nums == 3)\n",
    "print(nums == 4)\n",
    "print(nums == 5)"
   ]
  },
  {
   "cell_type": "code",
   "execution_count": 192,
   "id": "2e948d64-dc53-4d3a-b557-860a9fdf5c6d",
   "metadata": {
    "tags": []
   },
   "outputs": [
    {
     "name": "stdout",
     "output_type": "stream",
     "text": [
      "[[0.28204872 0.24156004]]\n",
      "[[0.10324815 0.28204872 0.24156004]]\n",
      "[[0.10324815 0.28204872]]\n",
      "[[0.43491533 0.33484172 0.86051447]]\n",
      "[]\n",
      "[[0.33141793 0.66516946]]\n",
      "[[0.3340261  0.24792109]]\n",
      "[[0.33141793 0.66516946 0.58680591 0.2650051 ]]\n"
     ]
    }
   ],
   "source": [
    "# 대응되는 data nama[행, 열]\n",
    "print(data1[nums==1, 1:3])\n",
    "print(data1[nums==1, :3])\n",
    "print(data1[nums==1, :2])\n",
    "print(data1[nums==2, 1:])\n",
    "print(data1[nums==3, 2:2])\n",
    "print(data1[nums==4, 0:2])\n",
    "print(data1[nums==5, 1:3])\n",
    "print(data1[nums==4, :])"
   ]
  },
  {
   "cell_type": "code",
   "execution_count": 207,
   "id": "795adf9a-5f55-4d88-929d-db079f77fdb2",
   "metadata": {
    "tags": []
   },
   "outputs": [
    {
     "name": "stdout",
     "output_type": "stream",
     "text": [
      "[[0.33141793 0.66516946 0.58680591 0.2650051 ]]\n",
      "0.5868059069366068\n"
     ]
    }
   ],
   "source": [
    "print(data1[nums==4, :10]) # error는 나지 않음\n",
    "print(data1[3, 2]) # 변수명 으로 행 index 값을 대체 함"
   ]
  },
  {
   "cell_type": "code",
   "execution_count": 209,
   "id": "db5298eb-a7ca-4b86-9281-9711b7d5588b",
   "metadata": {
    "tags": []
   },
   "outputs": [],
   "source": [
    "nums2 = np.array([1, 2, 3, 4, 5])\n",
    "data2 = np.random.rand(len(nums2),4)"
   ]
  },
  {
   "cell_type": "code",
   "execution_count": 211,
   "id": "1baf1bfe-574a-4fae-a393-70b013a95bf6",
   "metadata": {
    "tags": []
   },
   "outputs": [
    {
     "name": "stdout",
     "output_type": "stream",
     "text": [
      "[1 2 3 4 5]\n",
      "[[0.59873977 0.54844401 0.99946446 0.09348884]\n",
      " [0.62014052 0.94303565 0.73474068 0.66644153]\n",
      " [0.56741227 0.04790654 0.79605914 0.19499439]\n",
      " [0.31808149 0.50012764 0.60409218 0.40421617]\n",
      " [0.48327619 0.45664761 0.31596561 0.69391665]]\n"
     ]
    }
   ],
   "source": [
    "print(nums2)\n",
    "print(data2)"
   ]
  },
  {
   "cell_type": "code",
   "execution_count": 212,
   "id": "7c734df6-a836-4771-86b8-f0d52ddb11e7",
   "metadata": {
    "tags": []
   },
   "outputs": [
    {
     "name": "stdout",
     "output_type": "stream",
     "text": [
      "[0.62014052 0.94303565 0.73474068 0.66644153]\n"
     ]
    }
   ],
   "source": [
    "print(data2[nums2[0], :])"
   ]
  },
  {
   "cell_type": "code",
   "execution_count": 213,
   "id": "b89a49bf-a6bc-43b0-8eb7-026097871df6",
   "metadata": {
    "tags": []
   },
   "outputs": [],
   "source": [
    "nums3 = np.array([1, 2, 3, 4, 5])\n",
    "data3 = np.random.rand(7, 4)"
   ]
  },
  {
   "cell_type": "code",
   "execution_count": 215,
   "id": "a56d0cfe-2bdb-4b49-8e3a-1e26a3455a74",
   "metadata": {
    "tags": []
   },
   "outputs": [
    {
     "name": "stdout",
     "output_type": "stream",
     "text": [
      "[0.29950895 0.47594463 0.53102285 0.16499243]\n"
     ]
    }
   ],
   "source": [
    "print(data3[nums3[0], :])"
   ]
  },
  {
   "cell_type": "code",
   "execution_count": 217,
   "id": "633a0baf-999f-4510-854e-925f435afa08",
   "metadata": {
    "tags": []
   },
   "outputs": [
    {
     "ename": "IndexError",
     "evalue": "boolean index did not match indexed array along dimension 0; dimension is 7 but corresponding boolean dimension is 5",
     "output_type": "error",
     "traceback": [
      "\u001b[1;31m---------------------------------------------------------------------------\u001b[0m",
      "\u001b[1;31mIndexError\u001b[0m                                Traceback (most recent call last)",
      "Cell \u001b[1;32mIn[217], line 1\u001b[0m\n\u001b[1;32m----> 1\u001b[0m \u001b[38;5;28mprint\u001b[39m(\u001b[43mdata3\u001b[49m\u001b[43m[\u001b[49m\u001b[43mnums3\u001b[49m\u001b[38;5;241;43m==\u001b[39;49m\u001b[38;5;241;43m1\u001b[39;49m\u001b[43m,\u001b[49m\u001b[43m \u001b[49m\u001b[43m:\u001b[49m\u001b[43m]\u001b[49m) \u001b[38;5;66;03m# error : index 길이가 다를 경우 안에 요소 값으로는 사용가능하나 인덱스 자체로는 사용 불가\u001b[39;00m\n",
      "\u001b[1;31mIndexError\u001b[0m: boolean index did not match indexed array along dimension 0; dimension is 7 but corresponding boolean dimension is 5"
     ]
    }
   ],
   "source": [
    "print(data3[nums3==1, :]) # error : index 길이가 다를 경우 안에 요소 값으로는 사용가능하나 인덱스 자체로는 사용 불가"
   ]
  },
  {
   "cell_type": "code",
   "execution_count": null,
   "id": "64c0c223-0edf-4de1-84c3-a17bd3d61003",
   "metadata": {},
   "outputs": [],
   "source": []
  }
 ],
 "metadata": {
  "kernelspec": {
   "display_name": "dl_ml",
   "language": "python",
   "name": "da_venv"
  },
  "language_info": {
   "codemirror_mode": {
    "name": "ipython",
    "version": 3
   },
   "file_extension": ".py",
   "mimetype": "text/x-python",
   "name": "python",
   "nbconvert_exporter": "python",
   "pygments_lexer": "ipython3",
   "version": "3.9.13"
  }
 },
 "nbformat": 4,
 "nbformat_minor": 5
}
