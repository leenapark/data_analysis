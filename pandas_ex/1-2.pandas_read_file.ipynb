{
 "cells": [
  {
   "cell_type": "markdown",
   "id": "b457dc91-4d1a-4fef-8e7c-51e90436567b",
   "metadata": {},
   "source": [
    "# pandas : file read"
   ]
  },
  {
   "cell_type": "markdown",
   "id": "2c502092-6078-49ea-9f2b-9d9f60710ef2",
   "metadata": {},
   "source": [
    "## 1. CSV 파일 읽기\n",
    "**CSV 파일**이란?\n",
    "- Comma Separated Value의 약어로써, 쉼표로 구분된 파일\n",
    "- 쉼표로 구분된 파일로 엑셀 보다 훨씬 가벼움\n",
    "- 공공데이터 포털에서도 CSV 포맷의 파일을 제공한다."
   ]
  },
  {
   "cell_type": "code",
   "execution_count": 1,
   "id": "c5d5524a-c2c0-46c6-91d9-7b635dcc95c6",
   "metadata": {
    "tags": []
   },
   "outputs": [],
   "source": [
    "import pandas as pd"
   ]
  },
  {
   "cell_type": "code",
   "execution_count": 2,
   "id": "ee7b86d5-1605-4280-b749-633b0c11606d",
   "metadata": {
    "tags": []
   },
   "outputs": [],
   "source": [
    "data_file = \"datas/korea-star.csv\""
   ]
  },
  {
   "cell_type": "code",
   "execution_count": 3,
   "id": "38afc442-5ec6-411d-aae9-d5b471ee05a9",
   "metadata": {
    "tags": []
   },
   "outputs": [
    {
     "data": {
      "text/html": [
       "<div>\n",
       "<style scoped>\n",
       "    .dataframe tbody tr th:only-of-type {\n",
       "        vertical-align: middle;\n",
       "    }\n",
       "\n",
       "    .dataframe tbody tr th {\n",
       "        vertical-align: top;\n",
       "    }\n",
       "\n",
       "    .dataframe thead th {\n",
       "        text-align: right;\n",
       "    }\n",
       "</style>\n",
       "<table border=\"1\" class=\"dataframe\">\n",
       "  <thead>\n",
       "    <tr style=\"text-align: right;\">\n",
       "      <th></th>\n",
       "      <th>이름</th>\n",
       "      <th>그룹</th>\n",
       "      <th>소속사</th>\n",
       "      <th>성별</th>\n",
       "      <th>생년월일</th>\n",
       "      <th>키</th>\n",
       "      <th>혈액형</th>\n",
       "      <th>인기지수</th>\n",
       "    </tr>\n",
       "  </thead>\n",
       "  <tbody>\n",
       "    <tr>\n",
       "      <th>0</th>\n",
       "      <td>아이린</td>\n",
       "      <td>레드벨벳</td>\n",
       "      <td>SM</td>\n",
       "      <td>여자</td>\n",
       "      <td>1991-03-29</td>\n",
       "      <td>160.0</td>\n",
       "      <td>A</td>\n",
       "      <td>8256324</td>\n",
       "    </tr>\n",
       "    <tr>\n",
       "      <th>1</th>\n",
       "      <td>차은우</td>\n",
       "      <td>아스트로</td>\n",
       "      <td>판타지오</td>\n",
       "      <td>남자</td>\n",
       "      <td>1997-03-30</td>\n",
       "      <td>183.0</td>\n",
       "      <td>B</td>\n",
       "      <td>3506027</td>\n",
       "    </tr>\n",
       "    <tr>\n",
       "      <th>2</th>\n",
       "      <td>뷔</td>\n",
       "      <td>방탄소년단</td>\n",
       "      <td>빅히트</td>\n",
       "      <td>남자</td>\n",
       "      <td>1995-12-30</td>\n",
       "      <td>178.0</td>\n",
       "      <td>AB</td>\n",
       "      <td>8073501</td>\n",
       "    </tr>\n",
       "    <tr>\n",
       "      <th>3</th>\n",
       "      <td>민현</td>\n",
       "      <td>NaN</td>\n",
       "      <td>플레디스</td>\n",
       "      <td>남자</td>\n",
       "      <td>1995-08-09</td>\n",
       "      <td>182.3</td>\n",
       "      <td>O</td>\n",
       "      <td>4989792</td>\n",
       "    </tr>\n",
       "    <tr>\n",
       "      <th>4</th>\n",
       "      <td>소연</td>\n",
       "      <td>아이들</td>\n",
       "      <td>큐브</td>\n",
       "      <td>여자</td>\n",
       "      <td>1998-08-26</td>\n",
       "      <td>NaN</td>\n",
       "      <td>B</td>\n",
       "      <td>4668615</td>\n",
       "    </tr>\n",
       "    <tr>\n",
       "      <th>5</th>\n",
       "      <td>진</td>\n",
       "      <td>방탄소년단</td>\n",
       "      <td>빅히트</td>\n",
       "      <td>남자</td>\n",
       "      <td>1992-12-04</td>\n",
       "      <td>179.2</td>\n",
       "      <td>O</td>\n",
       "      <td>4570308</td>\n",
       "    </tr>\n",
       "    <tr>\n",
       "      <th>6</th>\n",
       "      <td>윤아</td>\n",
       "      <td>소녀시대</td>\n",
       "      <td>SM</td>\n",
       "      <td>여자</td>\n",
       "      <td>1989-03-09</td>\n",
       "      <td>NaN</td>\n",
       "      <td>A</td>\n",
       "      <td>3918661</td>\n",
       "    </tr>\n",
       "    <tr>\n",
       "      <th>7</th>\n",
       "      <td>백호</td>\n",
       "      <td>뉴이스트</td>\n",
       "      <td>플레디스</td>\n",
       "      <td>남자</td>\n",
       "      <td>1995-07-21</td>\n",
       "      <td>175.0</td>\n",
       "      <td>AB</td>\n",
       "      <td>3301654</td>\n",
       "    </tr>\n",
       "    <tr>\n",
       "      <th>8</th>\n",
       "      <td>JR</td>\n",
       "      <td>뉴이스트</td>\n",
       "      <td>플레디스</td>\n",
       "      <td>남자</td>\n",
       "      <td>1995-06-08</td>\n",
       "      <td>176.0</td>\n",
       "      <td>O</td>\n",
       "      <td>3274137</td>\n",
       "    </tr>\n",
       "    <tr>\n",
       "      <th>9</th>\n",
       "      <td>슈가</td>\n",
       "      <td>방탄소년단</td>\n",
       "      <td>빅히트</td>\n",
       "      <td>남자</td>\n",
       "      <td>1993-03-09</td>\n",
       "      <td>174.0</td>\n",
       "      <td>O</td>\n",
       "      <td>4925442</td>\n",
       "    </tr>\n",
       "    <tr>\n",
       "      <th>10</th>\n",
       "      <td>강다니엘</td>\n",
       "      <td>NaN</td>\n",
       "      <td>커넥트</td>\n",
       "      <td>남자</td>\n",
       "      <td>1996-12-10</td>\n",
       "      <td>180.0</td>\n",
       "      <td>A</td>\n",
       "      <td>8273745</td>\n",
       "    </tr>\n",
       "    <tr>\n",
       "      <th>11</th>\n",
       "      <td>정국</td>\n",
       "      <td>방탄소년단</td>\n",
       "      <td>빅히트</td>\n",
       "      <td>남자</td>\n",
       "      <td>1997-09-01</td>\n",
       "      <td>178.0</td>\n",
       "      <td>A</td>\n",
       "      <td>7208335</td>\n",
       "    </tr>\n",
       "    <tr>\n",
       "      <th>12</th>\n",
       "      <td>화사</td>\n",
       "      <td>마마무</td>\n",
       "      <td>RBW</td>\n",
       "      <td>여자</td>\n",
       "      <td>1995-07-23</td>\n",
       "      <td>162.1</td>\n",
       "      <td>A</td>\n",
       "      <td>7650928</td>\n",
       "    </tr>\n",
       "    <tr>\n",
       "      <th>13</th>\n",
       "      <td>하성운</td>\n",
       "      <td>핫샷</td>\n",
       "      <td>스타크루이엔티</td>\n",
       "      <td>남자</td>\n",
       "      <td>1994-03-22</td>\n",
       "      <td>167.1</td>\n",
       "      <td>A</td>\n",
       "      <td>4036489</td>\n",
       "    </tr>\n",
       "    <tr>\n",
       "      <th>14</th>\n",
       "      <td>슬기</td>\n",
       "      <td>레드벨벳</td>\n",
       "      <td>SM</td>\n",
       "      <td>여자</td>\n",
       "      <td>1994-02-10</td>\n",
       "      <td>161.0</td>\n",
       "      <td>A</td>\n",
       "      <td>5021452</td>\n",
       "    </tr>\n",
       "    <tr>\n",
       "      <th>15</th>\n",
       "      <td>지민</td>\n",
       "      <td>방탄소년단</td>\n",
       "      <td>빅히트</td>\n",
       "      <td>남자</td>\n",
       "      <td>1995-10-13</td>\n",
       "      <td>173.6</td>\n",
       "      <td>A</td>\n",
       "      <td>10523260</td>\n",
       "    </tr>\n",
       "  </tbody>\n",
       "</table>\n",
       "</div>"
      ],
      "text/plain": [
       "      이름     그룹      소속사  성별        생년월일      키 혈액형      인기지수\n",
       "0    아이린   레드벨벳       SM  여자  1991-03-29  160.0   A   8256324\n",
       "1    차은우   아스트로     판타지오  남자  1997-03-30  183.0   B   3506027\n",
       "2      뷔  방탄소년단      빅히트  남자  1995-12-30  178.0  AB   8073501\n",
       "3     민현    NaN     플레디스  남자  1995-08-09  182.3   O   4989792\n",
       "4     소연    아이들       큐브  여자  1998-08-26    NaN   B   4668615\n",
       "5      진  방탄소년단      빅히트  남자  1992-12-04  179.2   O   4570308\n",
       "6     윤아   소녀시대       SM  여자  1989-03-09    NaN   A   3918661\n",
       "7     백호   뉴이스트     플레디스  남자  1995-07-21  175.0  AB   3301654\n",
       "8     JR   뉴이스트     플레디스  남자  1995-06-08  176.0   O   3274137\n",
       "9     슈가  방탄소년단      빅히트  남자  1993-03-09  174.0   O   4925442\n",
       "10  강다니엘    NaN      커넥트  남자  1996-12-10  180.0   A   8273745\n",
       "11    정국  방탄소년단      빅히트  남자  1997-09-01  178.0   A   7208335\n",
       "12    화사    마마무      RBW  여자  1995-07-23  162.1   A   7650928\n",
       "13   하성운     핫샷  스타크루이엔티  남자  1994-03-22  167.1   A   4036489\n",
       "14    슬기   레드벨벳       SM  여자  1994-02-10  161.0   A   5021452\n",
       "15    지민  방탄소년단      빅히트  남자  1995-10-13  173.6   A  10523260"
      ]
     },
     "execution_count": 3,
     "metadata": {},
     "output_type": "execute_result"
    }
   ],
   "source": [
    "pd.read_csv(data_file)"
   ]
  },
  {
   "cell_type": "markdown",
   "id": "dd2366a8-c832-4cc2-8322-2c1e67d64619",
   "metadata": {},
   "source": [
    "## 2. excel 파일 불러오기\n",
    "- openpyxl 라이브러리 설치<br>\n",
    "<span style=\"background-color:#E6E6FA\"> pip install openpyxl </span>\n",
    "- openpyxl 라이브러리 설치 하면 pd.read_excel() 메서드를 사용할수 있음"
   ]
  },
  {
   "cell_type": "code",
   "execution_count": 4,
   "id": "2b52926b-e0a3-4104-9f42-f381c526e44a",
   "metadata": {
    "tags": []
   },
   "outputs": [],
   "source": [
    "data_file = \"datas/korea-star.xlsx\""
   ]
  },
  {
   "cell_type": "code",
   "execution_count": 6,
   "id": "8afc37d5-507b-41c4-b8a8-0cba1b81998b",
   "metadata": {
    "tags": []
   },
   "outputs": [
    {
     "name": "stdout",
     "output_type": "stream",
     "text": [
      "      이름     그룹      소속사  성별       생년월일      키 혈액형      인기지수\n",
      "0    아이린   레드벨벳       SM  여자 1991-03-29  160.0   A   8256324\n",
      "1    차은우   아스트로     판타지오  남자 1997-03-30  183.0   B   3506027\n",
      "2      뷔  방탄소년단      빅히트  남자 1995-12-30  178.0  AB   8073501\n",
      "3     민현    NaN     플레디스  남자 1995-08-09  182.3   O   4989792\n",
      "4     소연    아이들       큐브  여자 1998-08-26    NaN   B   4668615\n",
      "5      진  방탄소년단      빅히트  남자 1992-12-04  179.2   O   4570308\n",
      "6     윤아   소녀시대       SM  여자 1989-03-09    NaN   A   3918661\n",
      "7     백호   뉴이스트     플레디스  남자 1995-07-21  175.0  AB   3301654\n",
      "8     JR   뉴이스트     플레디스  남자 1995-06-08  176.0   O   3274137\n",
      "9     슈가  방탄소년단      빅히트  남자 1993-03-09  174.0   O   4925442\n",
      "10  강다니엘    NaN      커넥트  남자 1996-12-10  180.0   A   8273745\n",
      "11    정국  방탄소년단      빅히트  남자 1997-09-01  178.0   A   7208335\n",
      "12    화사    마마무      RBW  여자 1995-07-23  162.1   A   7650928\n",
      "13   하성운     핫샷  스타크루이엔티  남자 1994-03-22  167.1   A   4036489\n",
      "14    슬기   레드벨벳       SM  여자 1994-02-10  161.0   A   5021452\n",
      "15    지민  방탄소년단      빅히트  남자 1995-10-13  173.6   A  10523260\n"
     ]
    }
   ],
   "source": [
    "df_excel = pd.read_excel(data_file)\n",
    "print(df_excel)"
   ]
  },
  {
   "cell_type": "markdown",
   "id": "0ef63e5c-c437-422c-a91d-83f21e724390",
   "metadata": {},
   "source": [
    "## 3. json 파일 불러오기"
   ]
  },
  {
   "cell_type": "code",
   "execution_count": 8,
   "id": "33de1e70-b45f-48c2-8c09-258b205e5f24",
   "metadata": {
    "tags": []
   },
   "outputs": [
    {
     "name": "stdout",
     "output_type": "stream",
     "text": [
      "Index(['date', 'price'], dtype='object')\n"
     ]
    }
   ],
   "source": [
    "file_path = \"datas/stock_price_years.json\"\n",
    "\n",
    "stock_df = pd.read_json(file_path)\n",
    "print(stock_df.columns)"
   ]
  },
  {
   "cell_type": "code",
   "execution_count": null,
   "id": "63a651fd-e6e8-4946-b987-c3374f40288b",
   "metadata": {},
   "outputs": [],
   "source": []
  }
 ],
 "metadata": {
  "kernelspec": {
   "display_name": "dl_ml",
   "language": "python",
   "name": "da_venv"
  },
  "language_info": {
   "codemirror_mode": {
    "name": "ipython",
    "version": 3
   },
   "file_extension": ".py",
   "mimetype": "text/x-python",
   "name": "python",
   "nbconvert_exporter": "python",
   "pygments_lexer": "ipython3",
   "version": "3.9.13"
  }
 },
 "nbformat": 4,
 "nbformat_minor": 5
}
