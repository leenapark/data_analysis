{
 "cells": [
  {
   "cell_type": "markdown",
   "id": "5ba89862-fb22-403a-8a82-53583048e548",
   "metadata": {},
   "source": [
    "# pandas 기본 - 기술통계(describe), 요약정보, 정렬 "
   ]
  },
  {
   "cell_type": "markdown",
   "id": "3a9cffdb-b914-461a-aaae-5cc4c7556402",
   "metadata": {},
   "source": [
    "## 1. 파일 읽어오기 (csv)"
   ]
  },
  {
   "cell_type": "code",
   "execution_count": 1,
   "id": "b748ffa1-93b1-456a-8fd8-96074fb785cb",
   "metadata": {
    "tags": []
   },
   "outputs": [],
   "source": [
    "import pandas as pd"
   ]
  },
  {
   "cell_type": "code",
   "execution_count": 2,
   "id": "5dfc15b2-3238-46fe-ad5c-5e761fae9e65",
   "metadata": {
    "tags": []
   },
   "outputs": [
    {
     "name": "stdout",
     "output_type": "stream",
     "text": [
      "      이름     그룹      소속사  성별        생년월일      키 혈액형      인기지수\n",
      "0    아이린   레드벨벳       SM  여자  1991-03-29  160.0   A   8256324\n",
      "1    차은우   아스트로     판타지오  남자  1997-03-30  183.0   B   3506027\n",
      "2      뷔  방탄소년단      빅히트  남자  1995-12-30  178.0  AB   8073501\n",
      "3     민현    NaN     플레디스  남자  1995-08-09  182.3   O   4989792\n",
      "4     소연    아이들       큐브  여자  1998-08-26    NaN   B   4668615\n",
      "5      진  방탄소년단      빅히트  남자  1992-12-04  179.2   O   4570308\n",
      "6     윤아   소녀시대       SM  여자  1989-03-09    NaN   A   3918661\n",
      "7     백호   뉴이스트     플레디스  남자  1995-07-21  175.0  AB   3301654\n",
      "8     JR   뉴이스트     플레디스  남자  1995-06-08  176.0   O   3274137\n",
      "9     슈가  방탄소년단      빅히트  남자  1993-03-09  174.0   O   4925442\n",
      "10  강다니엘    NaN      커넥트  남자  1996-12-10  180.0   A   8273745\n",
      "11    정국  방탄소년단      빅히트  남자  1997-09-01  178.0   A   7208335\n",
      "12    화사    마마무      RBW  여자  1995-07-23  162.1   A   7650928\n",
      "13   하성운     핫샷  스타크루이엔티  남자  1994-03-22  167.1   A   4036489\n",
      "14    슬기   레드벨벳       SM  여자  1994-02-10  161.0   A   5021452\n",
      "15    지민  방탄소년단      빅히트  남자  1995-10-13  173.6   A  10523260\n"
     ]
    }
   ],
   "source": [
    "df = pd.read_csv('datas/korea-star.csv')\n",
    "print(df)"
   ]
  },
  {
   "cell_type": "markdown",
   "id": "0190287c-75a4-4392-b672-9fdb168bb1d3",
   "metadata": {},
   "source": [
    "## 2. 기본 정보 알아보기 (index, column, info)"
   ]
  },
  {
   "cell_type": "markdown",
   "id": "80390597-8b89-42b3-9c98-d78ff8f7eec5",
   "metadata": {},
   "source": [
    "### 2-1. column(열) 출력하기"
   ]
  },
  {
   "cell_type": "code",
   "execution_count": 3,
   "id": "bd5189ce-fe9e-4b8a-8c32-43b0700f12d7",
   "metadata": {
    "tags": []
   },
   "outputs": [
    {
     "name": "stdout",
     "output_type": "stream",
     "text": [
      "Index(['이름', '그룹', '소속사', '성별', '생년월일', '키', '혈액형', '인기지수'], dtype='object')\n"
     ]
    }
   ],
   "source": [
    "print(df.columns)"
   ]
  },
  {
   "cell_type": "markdown",
   "id": "7c9421ba-e5b1-4a2a-a5e3-bd808b2f4e04",
   "metadata": {},
   "source": [
    "### 2-2. column(열) 이름 재정의하기"
   ]
  },
  {
   "cell_type": "code",
   "execution_count": 4,
   "id": "d9d12243-e2e3-47cd-a966-247b2f39e38d",
   "metadata": {
    "tags": []
   },
   "outputs": [],
   "source": [
    "new_col = ['name', 'group', '소속사', '성별', '생년월일', '키', '혈액형', '인기지수']"
   ]
  },
  {
   "cell_type": "code",
   "execution_count": 6,
   "id": "7e4a7efd-4365-4c61-9927-3f300915567b",
   "metadata": {
    "tags": []
   },
   "outputs": [
    {
     "name": "stdout",
     "output_type": "stream",
     "text": [
      "Index(['name', 'group', '소속사', '성별', '생년월일', '키', '혈액형', '인기지수'], dtype='object')\n"
     ]
    }
   ],
   "source": [
    "df.columns = new_col\n",
    "print(df.columns)"
   ]
  },
  {
   "cell_type": "code",
   "execution_count": 7,
   "id": "edc06241-f17c-4c90-bd7c-22ee376c6cab",
   "metadata": {
    "tags": []
   },
   "outputs": [
    {
     "name": "stdout",
     "output_type": "stream",
     "text": [
      "  name  group   소속사  성별        생년월일      키 혈액형     인기지수\n",
      "0  아이린   레드벨벳    SM  여자  1991-03-29  160.0   A  8256324\n",
      "1  차은우   아스트로  판타지오  남자  1997-03-30  183.0   B  3506027\n",
      "2    뷔  방탄소년단   빅히트  남자  1995-12-30  178.0  AB  8073501\n",
      "3   민현    NaN  플레디스  남자  1995-08-09  182.3   O  4989792\n",
      "4   소연    아이들    큐브  여자  1998-08-26    NaN   B  4668615\n"
     ]
    }
   ],
   "source": [
    "print(df.head())"
   ]
  },
  {
   "cell_type": "markdown",
   "id": "7af46d22-a106-4b3f-b4be-a9a1782cde9f",
   "metadata": {},
   "source": [
    "### 2-2. index(행) 출력하기"
   ]
  },
  {
   "cell_type": "code",
   "execution_count": 8,
   "id": "a142973a-3905-4217-a33c-829637827071",
   "metadata": {
    "tags": []
   },
   "outputs": [
    {
     "name": "stdout",
     "output_type": "stream",
     "text": [
      "RangeIndex(start=0, stop=16, step=1)\n"
     ]
    }
   ],
   "source": [
    "print(df.index)"
   ]
  },
  {
   "cell_type": "markdown",
   "id": "ec84a505-398a-42e2-bd6d-214fcb0d17b0",
   "metadata": {},
   "source": [
    "### 2-3. info 는 기본적인 row(행)의 정보와 데이터 타입을 알려줌\n",
    "- info 메소드는 주로 빠진 값 (null 값)과 데이터 타입을 볼 때 활용함."
   ]
  },
  {
   "cell_type": "code",
   "execution_count": 17,
   "id": "81c5b3be-d833-4a4f-aff2-59a47a3ee8c5",
   "metadata": {
    "tags": []
   },
   "outputs": [
    {
     "name": "stdout",
     "output_type": "stream",
     "text": [
      "<class 'pandas.core.frame.DataFrame'>\n",
      "RangeIndex: 16 entries, 0 to 15\n",
      "Data columns (total 8 columns):\n",
      " #   Column  Non-Null Count  Dtype  \n",
      "---  ------  --------------  -----  \n",
      " 0   name    16 non-null     object \n",
      " 1   group   14 non-null     object \n",
      " 2   소속사     16 non-null     object \n",
      " 3   성별      16 non-null     object \n",
      " 4   생년월일    16 non-null     object \n",
      " 5   키       14 non-null     float64\n",
      " 6   혈액형     16 non-null     object \n",
      " 7   인기지수    16 non-null     int64  \n",
      "dtypes: float64(1), int64(1), object(6)\n",
      "memory usage: 1.1+ KB\n",
      "None\n"
     ]
    }
   ],
   "source": [
    "print(df.info())\n",
    "# Non-Null Count : null 포함 여부\n",
    "# Dtype : data type"
   ]
  },
  {
   "cell_type": "markdown",
   "id": "88ab0356-d7c7-4b43-b4db-e9a3e8bd1979",
   "metadata": {},
   "source": [
    "## 3. 통계 정보 알아보기 (describe)"
   ]
  },
  {
   "cell_type": "code",
   "execution_count": 10,
   "id": "41136e66-8659-490b-8a10-a4ac7300a147",
   "metadata": {
    "tags": []
   },
   "outputs": [
    {
     "name": "stdout",
     "output_type": "stream",
     "text": [
      "                키          인기지수\n",
      "count   14.000000  1.600000e+01\n",
      "mean   173.521429  5.762417e+06\n",
      "std      7.850054  2.226667e+06\n",
      "min    160.000000  3.274137e+06\n",
      "25%    168.725000  4.007032e+06\n",
      "50%    175.500000  4.957617e+06\n",
      "75%    178.900000  7.756571e+06\n",
      "max    183.000000  1.052326e+07\n"
     ]
    }
   ],
   "source": [
    "print(df.describe())"
   ]
  },
  {
   "cell_type": "code",
   "execution_count": 18,
   "id": "57d33c75-73e8-4ccf-a37a-2fb5c4041fae",
   "metadata": {
    "tags": []
   },
   "outputs": [
    {
     "name": "stdout",
     "output_type": "stream",
     "text": [
      "       name  group  소속사   성별        생년월일           키  혈액형          인기지수\n",
      "count    16     14   16   16          16   14.000000   16  1.600000e+01\n",
      "unique   16      8    8    2          16         NaN    4           NaN\n",
      "top     아이린  방탄소년단  빅히트   남자  1991-03-29         NaN    A           NaN\n",
      "freq      1      5    5   11           1         NaN    8           NaN\n",
      "mean    NaN    NaN  NaN  NaN         NaN  173.521429  NaN  5.762417e+06\n",
      "std     NaN    NaN  NaN  NaN         NaN    7.850054  NaN  2.226667e+06\n",
      "min     NaN    NaN  NaN  NaN         NaN  160.000000  NaN  3.274137e+06\n",
      "25%     NaN    NaN  NaN  NaN         NaN  168.725000  NaN  4.007032e+06\n",
      "50%     NaN    NaN  NaN  NaN         NaN  175.500000  NaN  4.957617e+06\n",
      "75%     NaN    NaN  NaN  NaN         NaN  178.900000  NaN  7.756571e+06\n",
      "max     NaN    NaN  NaN  NaN         NaN  183.000000  NaN  1.052326e+07\n"
     ]
    }
   ],
   "source": [
    "print(df.describe(include=\"all\"))\n",
    "# top : 빈도수가 제일 높은 값(최빈값)\n",
    "# freq : 최빈값 갯수\n"
   ]
  },
  {
   "cell_type": "code",
   "execution_count": 12,
   "id": "aae4ae6c-2400-4571-b275-8a180c1c0ea1",
   "metadata": {
    "tags": []
   },
   "outputs": [],
   "source": [
    "#지수표현식 없애기 \n",
    "pd.options.display.float_format = '{:.5f}'.format"
   ]
  },
  {
   "cell_type": "code",
   "execution_count": 13,
   "id": "bc5b89ee-5a59-4c24-8ce5-0ac6fd457fbf",
   "metadata": {
    "tags": []
   },
   "outputs": [
    {
     "name": "stdout",
     "output_type": "stream",
     "text": [
      "              키           인기지수\n",
      "count  14.00000       16.00000\n",
      "mean  173.52143  5762416.87500\n",
      "std     7.85005  2226667.34787\n",
      "min   160.00000  3274137.00000\n",
      "25%   168.72500  4007032.00000\n",
      "50%   175.50000  4957617.00000\n",
      "75%   178.90000  7756571.25000\n",
      "max   183.00000 10523260.00000\n"
     ]
    }
   ],
   "source": [
    "print(df.describe())"
   ]
  },
  {
   "cell_type": "code",
   "execution_count": 14,
   "id": "f3261b82-850b-4022-a0f0-317ab9699dd8",
   "metadata": {
    "tags": []
   },
   "outputs": [],
   "source": [
    "#되돌리기\n",
    "pd.reset_option('display.float_format')"
   ]
  },
  {
   "cell_type": "code",
   "execution_count": 15,
   "id": "1b7d0b13-b2c7-4acd-874e-faa2ea5daf9b",
   "metadata": {
    "tags": []
   },
   "outputs": [
    {
     "name": "stdout",
     "output_type": "stream",
     "text": [
      "                키          인기지수\n",
      "count   14.000000  1.600000e+01\n",
      "mean   173.521429  5.762417e+06\n",
      "std      7.850054  2.226667e+06\n",
      "min    160.000000  3.274137e+06\n",
      "25%    168.725000  4.007032e+06\n",
      "50%    175.500000  4.957617e+06\n",
      "75%    178.900000  7.756571e+06\n",
      "max    183.000000  1.052326e+07\n"
     ]
    }
   ],
   "source": [
    "print(df.describe())"
   ]
  },
  {
   "cell_type": "markdown",
   "id": "fa7c7caf-0ee8-4858-b7c2-1d45afb684db",
   "metadata": {},
   "source": [
    "## 4. 형태(shape) 알아보기\n",
    "- shape는 tuple 형태로 반환되며, (row, column) 의미함"
   ]
  },
  {
   "cell_type": "code",
   "execution_count": 19,
   "id": "1cfbfc82-b39d-4630-9a5c-d68db356ae31",
   "metadata": {
    "tags": []
   },
   "outputs": [
    {
     "data": {
      "text/plain": [
       "(16, 8)"
      ]
     },
     "execution_count": 19,
     "metadata": {},
     "output_type": "execute_result"
    }
   ],
   "source": [
    "df.shape"
   ]
  },
  {
   "cell_type": "code",
   "execution_count": 20,
   "id": "1e614eee-e68b-49e4-889b-fa39e837ae5d",
   "metadata": {
    "tags": []
   },
   "outputs": [
    {
     "data": {
      "text/html": [
       "<div>\n",
       "<style scoped>\n",
       "    .dataframe tbody tr th:only-of-type {\n",
       "        vertical-align: middle;\n",
       "    }\n",
       "\n",
       "    .dataframe tbody tr th {\n",
       "        vertical-align: top;\n",
       "    }\n",
       "\n",
       "    .dataframe thead th {\n",
       "        text-align: right;\n",
       "    }\n",
       "</style>\n",
       "<table border=\"1\" class=\"dataframe\">\n",
       "  <thead>\n",
       "    <tr style=\"text-align: right;\">\n",
       "      <th></th>\n",
       "      <th>name</th>\n",
       "      <th>group</th>\n",
       "      <th>소속사</th>\n",
       "      <th>성별</th>\n",
       "      <th>생년월일</th>\n",
       "      <th>키</th>\n",
       "      <th>혈액형</th>\n",
       "      <th>인기지수</th>\n",
       "    </tr>\n",
       "  </thead>\n",
       "  <tbody>\n",
       "    <tr>\n",
       "      <th>0</th>\n",
       "      <td>아이린</td>\n",
       "      <td>레드벨벳</td>\n",
       "      <td>SM</td>\n",
       "      <td>여자</td>\n",
       "      <td>1991-03-29</td>\n",
       "      <td>160.0</td>\n",
       "      <td>A</td>\n",
       "      <td>8256324</td>\n",
       "    </tr>\n",
       "    <tr>\n",
       "      <th>1</th>\n",
       "      <td>차은우</td>\n",
       "      <td>아스트로</td>\n",
       "      <td>판타지오</td>\n",
       "      <td>남자</td>\n",
       "      <td>1997-03-30</td>\n",
       "      <td>183.0</td>\n",
       "      <td>B</td>\n",
       "      <td>3506027</td>\n",
       "    </tr>\n",
       "    <tr>\n",
       "      <th>2</th>\n",
       "      <td>뷔</td>\n",
       "      <td>방탄소년단</td>\n",
       "      <td>빅히트</td>\n",
       "      <td>남자</td>\n",
       "      <td>1995-12-30</td>\n",
       "      <td>178.0</td>\n",
       "      <td>AB</td>\n",
       "      <td>8073501</td>\n",
       "    </tr>\n",
       "    <tr>\n",
       "      <th>3</th>\n",
       "      <td>민현</td>\n",
       "      <td>NaN</td>\n",
       "      <td>플레디스</td>\n",
       "      <td>남자</td>\n",
       "      <td>1995-08-09</td>\n",
       "      <td>182.3</td>\n",
       "      <td>O</td>\n",
       "      <td>4989792</td>\n",
       "    </tr>\n",
       "    <tr>\n",
       "      <th>4</th>\n",
       "      <td>소연</td>\n",
       "      <td>아이들</td>\n",
       "      <td>큐브</td>\n",
       "      <td>여자</td>\n",
       "      <td>1998-08-26</td>\n",
       "      <td>NaN</td>\n",
       "      <td>B</td>\n",
       "      <td>4668615</td>\n",
       "    </tr>\n",
       "    <tr>\n",
       "      <th>5</th>\n",
       "      <td>진</td>\n",
       "      <td>방탄소년단</td>\n",
       "      <td>빅히트</td>\n",
       "      <td>남자</td>\n",
       "      <td>1992-12-04</td>\n",
       "      <td>179.2</td>\n",
       "      <td>O</td>\n",
       "      <td>4570308</td>\n",
       "    </tr>\n",
       "    <tr>\n",
       "      <th>6</th>\n",
       "      <td>윤아</td>\n",
       "      <td>소녀시대</td>\n",
       "      <td>SM</td>\n",
       "      <td>여자</td>\n",
       "      <td>1989-03-09</td>\n",
       "      <td>NaN</td>\n",
       "      <td>A</td>\n",
       "      <td>3918661</td>\n",
       "    </tr>\n",
       "    <tr>\n",
       "      <th>7</th>\n",
       "      <td>백호</td>\n",
       "      <td>뉴이스트</td>\n",
       "      <td>플레디스</td>\n",
       "      <td>남자</td>\n",
       "      <td>1995-07-21</td>\n",
       "      <td>175.0</td>\n",
       "      <td>AB</td>\n",
       "      <td>3301654</td>\n",
       "    </tr>\n",
       "    <tr>\n",
       "      <th>8</th>\n",
       "      <td>JR</td>\n",
       "      <td>뉴이스트</td>\n",
       "      <td>플레디스</td>\n",
       "      <td>남자</td>\n",
       "      <td>1995-06-08</td>\n",
       "      <td>176.0</td>\n",
       "      <td>O</td>\n",
       "      <td>3274137</td>\n",
       "    </tr>\n",
       "    <tr>\n",
       "      <th>9</th>\n",
       "      <td>슈가</td>\n",
       "      <td>방탄소년단</td>\n",
       "      <td>빅히트</td>\n",
       "      <td>남자</td>\n",
       "      <td>1993-03-09</td>\n",
       "      <td>174.0</td>\n",
       "      <td>O</td>\n",
       "      <td>4925442</td>\n",
       "    </tr>\n",
       "    <tr>\n",
       "      <th>10</th>\n",
       "      <td>강다니엘</td>\n",
       "      <td>NaN</td>\n",
       "      <td>커넥트</td>\n",
       "      <td>남자</td>\n",
       "      <td>1996-12-10</td>\n",
       "      <td>180.0</td>\n",
       "      <td>A</td>\n",
       "      <td>8273745</td>\n",
       "    </tr>\n",
       "    <tr>\n",
       "      <th>11</th>\n",
       "      <td>정국</td>\n",
       "      <td>방탄소년단</td>\n",
       "      <td>빅히트</td>\n",
       "      <td>남자</td>\n",
       "      <td>1997-09-01</td>\n",
       "      <td>178.0</td>\n",
       "      <td>A</td>\n",
       "      <td>7208335</td>\n",
       "    </tr>\n",
       "    <tr>\n",
       "      <th>12</th>\n",
       "      <td>화사</td>\n",
       "      <td>마마무</td>\n",
       "      <td>RBW</td>\n",
       "      <td>여자</td>\n",
       "      <td>1995-07-23</td>\n",
       "      <td>162.1</td>\n",
       "      <td>A</td>\n",
       "      <td>7650928</td>\n",
       "    </tr>\n",
       "    <tr>\n",
       "      <th>13</th>\n",
       "      <td>하성운</td>\n",
       "      <td>핫샷</td>\n",
       "      <td>스타크루이엔티</td>\n",
       "      <td>남자</td>\n",
       "      <td>1994-03-22</td>\n",
       "      <td>167.1</td>\n",
       "      <td>A</td>\n",
       "      <td>4036489</td>\n",
       "    </tr>\n",
       "    <tr>\n",
       "      <th>14</th>\n",
       "      <td>슬기</td>\n",
       "      <td>레드벨벳</td>\n",
       "      <td>SM</td>\n",
       "      <td>여자</td>\n",
       "      <td>1994-02-10</td>\n",
       "      <td>161.0</td>\n",
       "      <td>A</td>\n",
       "      <td>5021452</td>\n",
       "    </tr>\n",
       "    <tr>\n",
       "      <th>15</th>\n",
       "      <td>지민</td>\n",
       "      <td>방탄소년단</td>\n",
       "      <td>빅히트</td>\n",
       "      <td>남자</td>\n",
       "      <td>1995-10-13</td>\n",
       "      <td>173.6</td>\n",
       "      <td>A</td>\n",
       "      <td>10523260</td>\n",
       "    </tr>\n",
       "  </tbody>\n",
       "</table>\n",
       "</div>"
      ],
      "text/plain": [
       "    name  group      소속사  성별        생년월일      키 혈액형      인기지수\n",
       "0    아이린   레드벨벳       SM  여자  1991-03-29  160.0   A   8256324\n",
       "1    차은우   아스트로     판타지오  남자  1997-03-30  183.0   B   3506027\n",
       "2      뷔  방탄소년단      빅히트  남자  1995-12-30  178.0  AB   8073501\n",
       "3     민현    NaN     플레디스  남자  1995-08-09  182.3   O   4989792\n",
       "4     소연    아이들       큐브  여자  1998-08-26    NaN   B   4668615\n",
       "5      진  방탄소년단      빅히트  남자  1992-12-04  179.2   O   4570308\n",
       "6     윤아   소녀시대       SM  여자  1989-03-09    NaN   A   3918661\n",
       "7     백호   뉴이스트     플레디스  남자  1995-07-21  175.0  AB   3301654\n",
       "8     JR   뉴이스트     플레디스  남자  1995-06-08  176.0   O   3274137\n",
       "9     슈가  방탄소년단      빅히트  남자  1993-03-09  174.0   O   4925442\n",
       "10  강다니엘    NaN      커넥트  남자  1996-12-10  180.0   A   8273745\n",
       "11    정국  방탄소년단      빅히트  남자  1997-09-01  178.0   A   7208335\n",
       "12    화사    마마무      RBW  여자  1995-07-23  162.1   A   7650928\n",
       "13   하성운     핫샷  스타크루이엔티  남자  1994-03-22  167.1   A   4036489\n",
       "14    슬기   레드벨벳       SM  여자  1994-02-10  161.0   A   5021452\n",
       "15    지민  방탄소년단      빅히트  남자  1995-10-13  173.6   A  10523260"
      ]
     },
     "execution_count": 20,
     "metadata": {},
     "output_type": "execute_result"
    }
   ],
   "source": [
    "df"
   ]
  },
  {
   "cell_type": "markdown",
   "id": "ded7ffa4-48c4-4437-959c-25e51463088f",
   "metadata": {},
   "source": [
    "## 5. 상위 5개, 하위 5개의 정보만 보기\n",
    "가장 자주쓰는 메소드 head(), tail()\n",
    "- head() 상위 5개 row 출력\n",
    "- tail() 하위 5개 row 출력\n",
    "- head(3) 상위 3개 row 출력\n",
    "- tail(2) 하위 2개 row 출력"
   ]
  },
  {
   "cell_type": "code",
   "execution_count": 21,
   "id": "789daee0-0665-4ddd-897e-1967757aa69f",
   "metadata": {
    "tags": []
   },
   "outputs": [
    {
     "name": "stdout",
     "output_type": "stream",
     "text": [
      "  name  group   소속사  성별        생년월일      키 혈액형     인기지수\n",
      "0  아이린   레드벨벳    SM  여자  1991-03-29  160.0   A  8256324\n",
      "1  차은우   아스트로  판타지오  남자  1997-03-30  183.0   B  3506027\n",
      "2    뷔  방탄소년단   빅히트  남자  1995-12-30  178.0  AB  8073501\n",
      "3   민현    NaN  플레디스  남자  1995-08-09  182.3   O  4989792\n",
      "4   소연    아이들    큐브  여자  1998-08-26    NaN   B  4668615\n",
      "  name  group   소속사  성별        생년월일      키 혈액형     인기지수\n",
      "0  아이린   레드벨벳    SM  여자  1991-03-29  160.0   A  8256324\n",
      "1  차은우   아스트로  판타지오  남자  1997-03-30  183.0   B  3506027\n",
      "2    뷔  방탄소년단   빅히트  남자  1995-12-30  178.0  AB  8073501\n",
      "   name  group      소속사  성별        생년월일      키 혈액형      인기지수\n",
      "11   정국  방탄소년단      빅히트  남자  1997-09-01  178.0   A   7208335\n",
      "12   화사    마마무      RBW  여자  1995-07-23  162.1   A   7650928\n",
      "13  하성운     핫샷  스타크루이엔티  남자  1994-03-22  167.1   A   4036489\n",
      "14   슬기   레드벨벳       SM  여자  1994-02-10  161.0   A   5021452\n",
      "15   지민  방탄소년단      빅히트  남자  1995-10-13  173.6   A  10523260\n",
      "   name  group  소속사  성별        생년월일      키 혈액형      인기지수\n",
      "14   슬기   레드벨벳   SM  여자  1994-02-10  161.0   A   5021452\n",
      "15   지민  방탄소년단  빅히트  남자  1995-10-13  173.6   A  10523260\n"
     ]
    }
   ],
   "source": [
    "print(df.head())\n",
    "print(df.head(3))\n",
    "print(df.tail())\n",
    "print(df.tail(2))"
   ]
  },
  {
   "cell_type": "markdown",
   "id": "022d2086-4853-4456-9cb9-6e1e4121d02d",
   "metadata": {},
   "source": [
    "## 6. 정렬하기"
   ]
  },
  {
   "cell_type": "markdown",
   "id": "455f20dd-5a2c-468e-951f-ad8ff7bac113",
   "metadata": {},
   "source": [
    "### 6-1. 오름차순 정렬 (default)"
   ]
  },
  {
   "cell_type": "code",
   "execution_count": 22,
   "id": "9fbfbbd0-1466-4045-8dd3-48aea35f3a1f",
   "metadata": {
    "tags": []
   },
   "outputs": [
    {
     "name": "stdout",
     "output_type": "stream",
     "text": [
      "    name  group      소속사  성별        생년월일      키 혈액형      인기지수\n",
      "0    아이린   레드벨벳       SM  여자  1991-03-29  160.0   A   8256324\n",
      "1    차은우   아스트로     판타지오  남자  1997-03-30  183.0   B   3506027\n",
      "2      뷔  방탄소년단      빅히트  남자  1995-12-30  178.0  AB   8073501\n",
      "3     민현    NaN     플레디스  남자  1995-08-09  182.3   O   4989792\n",
      "4     소연    아이들       큐브  여자  1998-08-26    NaN   B   4668615\n",
      "5      진  방탄소년단      빅히트  남자  1992-12-04  179.2   O   4570308\n",
      "6     윤아   소녀시대       SM  여자  1989-03-09    NaN   A   3918661\n",
      "7     백호   뉴이스트     플레디스  남자  1995-07-21  175.0  AB   3301654\n",
      "8     JR   뉴이스트     플레디스  남자  1995-06-08  176.0   O   3274137\n",
      "9     슈가  방탄소년단      빅히트  남자  1993-03-09  174.0   O   4925442\n",
      "10  강다니엘    NaN      커넥트  남자  1996-12-10  180.0   A   8273745\n",
      "11    정국  방탄소년단      빅히트  남자  1997-09-01  178.0   A   7208335\n",
      "12    화사    마마무      RBW  여자  1995-07-23  162.1   A   7650928\n",
      "13   하성운     핫샷  스타크루이엔티  남자  1994-03-22  167.1   A   4036489\n",
      "14    슬기   레드벨벳       SM  여자  1994-02-10  161.0   A   5021452\n",
      "15    지민  방탄소년단      빅히트  남자  1995-10-13  173.6   A  10523260\n"
     ]
    }
   ],
   "source": [
    "print(df.sort_index())"
   ]
  },
  {
   "cell_type": "markdown",
   "id": "1d666ff4-36d6-4055-8708-cd9dff9f4dee",
   "metadata": {
    "jp-MarkdownHeadingCollapsed": true,
    "tags": []
   },
   "source": [
    "### 6-2. 내림차순 index 정렬(ascending=False)"
   ]
  },
  {
   "cell_type": "code",
   "execution_count": 23,
   "id": "8fb607cd-b0de-4a61-9407-157a8188914e",
   "metadata": {
    "tags": []
   },
   "outputs": [
    {
     "name": "stdout",
     "output_type": "stream",
     "text": [
      "    name  group      소속사  성별        생년월일      키 혈액형      인기지수\n",
      "15    지민  방탄소년단      빅히트  남자  1995-10-13  173.6   A  10523260\n",
      "14    슬기   레드벨벳       SM  여자  1994-02-10  161.0   A   5021452\n",
      "13   하성운     핫샷  스타크루이엔티  남자  1994-03-22  167.1   A   4036489\n",
      "12    화사    마마무      RBW  여자  1995-07-23  162.1   A   7650928\n",
      "11    정국  방탄소년단      빅히트  남자  1997-09-01  178.0   A   7208335\n",
      "10  강다니엘    NaN      커넥트  남자  1996-12-10  180.0   A   8273745\n",
      "9     슈가  방탄소년단      빅히트  남자  1993-03-09  174.0   O   4925442\n",
      "8     JR   뉴이스트     플레디스  남자  1995-06-08  176.0   O   3274137\n",
      "7     백호   뉴이스트     플레디스  남자  1995-07-21  175.0  AB   3301654\n",
      "6     윤아   소녀시대       SM  여자  1989-03-09    NaN   A   3918661\n",
      "5      진  방탄소년단      빅히트  남자  1992-12-04  179.2   O   4570308\n",
      "4     소연    아이들       큐브  여자  1998-08-26    NaN   B   4668615\n",
      "3     민현    NaN     플레디스  남자  1995-08-09  182.3   O   4989792\n",
      "2      뷔  방탄소년단      빅히트  남자  1995-12-30  178.0  AB   8073501\n",
      "1    차은우   아스트로     판타지오  남자  1997-03-30  183.0   B   3506027\n",
      "0    아이린   레드벨벳       SM  여자  1991-03-29  160.0   A   8256324\n"
     ]
    }
   ],
   "source": [
    "print(df.sort_index(ascending=False))"
   ]
  },
  {
   "cell_type": "markdown",
   "id": "a5e52924-ca16-4d18-b315-b48719ed4a14",
   "metadata": {},
   "source": [
    "## 7. column 별로 정렬\n",
    "- 컬럼의 키값으로 정렬하기\n",
    "- df.sort_values(by='컬럼명')"
   ]
  },
  {
   "cell_type": "markdown",
   "id": "2258da14-e21e-43db-9be0-c284fa94bcbc",
   "metadata": {},
   "source": [
    "### 7-1. 오름차순 정렬"
   ]
  },
  {
   "cell_type": "code",
   "execution_count": 24,
   "id": "7577a1fb-59c0-4b9b-baf2-dcf86afe6880",
   "metadata": {
    "tags": []
   },
   "outputs": [
    {
     "name": "stdout",
     "output_type": "stream",
     "text": [
      "    name  group      소속사  성별        생년월일      키 혈액형      인기지수\n",
      "0    아이린   레드벨벳       SM  여자  1991-03-29  160.0   A   8256324\n",
      "14    슬기   레드벨벳       SM  여자  1994-02-10  161.0   A   5021452\n",
      "12    화사    마마무      RBW  여자  1995-07-23  162.1   A   7650928\n",
      "13   하성운     핫샷  스타크루이엔티  남자  1994-03-22  167.1   A   4036489\n",
      "15    지민  방탄소년단      빅히트  남자  1995-10-13  173.6   A  10523260\n",
      "9     슈가  방탄소년단      빅히트  남자  1993-03-09  174.0   O   4925442\n",
      "7     백호   뉴이스트     플레디스  남자  1995-07-21  175.0  AB   3301654\n",
      "8     JR   뉴이스트     플레디스  남자  1995-06-08  176.0   O   3274137\n",
      "2      뷔  방탄소년단      빅히트  남자  1995-12-30  178.0  AB   8073501\n",
      "11    정국  방탄소년단      빅히트  남자  1997-09-01  178.0   A   7208335\n",
      "5      진  방탄소년단      빅히트  남자  1992-12-04  179.2   O   4570308\n",
      "10  강다니엘    NaN      커넥트  남자  1996-12-10  180.0   A   8273745\n",
      "3     민현    NaN     플레디스  남자  1995-08-09  182.3   O   4989792\n",
      "1    차은우   아스트로     판타지오  남자  1997-03-30  183.0   B   3506027\n",
      "4     소연    아이들       큐브  여자  1998-08-26    NaN   B   4668615\n",
      "6     윤아   소녀시대       SM  여자  1989-03-09    NaN   A   3918661\n"
     ]
    }
   ],
   "source": [
    "print(df.sort_values(by='키'))"
   ]
  },
  {
   "cell_type": "markdown",
   "id": "e81f34e5-27ab-435e-80fc-0a01090d1724",
   "metadata": {},
   "source": [
    "### 7-2. 내림차순 정렬"
   ]
  },
  {
   "cell_type": "code",
   "execution_count": 25,
   "id": "5a4023c6-8bdb-44d3-ac4f-d846c615d426",
   "metadata": {
    "tags": []
   },
   "outputs": [
    {
     "name": "stdout",
     "output_type": "stream",
     "text": [
      "    name  group      소속사  성별        생년월일      키 혈액형      인기지수\n",
      "1    차은우   아스트로     판타지오  남자  1997-03-30  183.0   B   3506027\n",
      "3     민현    NaN     플레디스  남자  1995-08-09  182.3   O   4989792\n",
      "10  강다니엘    NaN      커넥트  남자  1996-12-10  180.0   A   8273745\n",
      "5      진  방탄소년단      빅히트  남자  1992-12-04  179.2   O   4570308\n",
      "2      뷔  방탄소년단      빅히트  남자  1995-12-30  178.0  AB   8073501\n",
      "11    정국  방탄소년단      빅히트  남자  1997-09-01  178.0   A   7208335\n",
      "8     JR   뉴이스트     플레디스  남자  1995-06-08  176.0   O   3274137\n",
      "7     백호   뉴이스트     플레디스  남자  1995-07-21  175.0  AB   3301654\n",
      "9     슈가  방탄소년단      빅히트  남자  1993-03-09  174.0   O   4925442\n",
      "15    지민  방탄소년단      빅히트  남자  1995-10-13  173.6   A  10523260\n",
      "13   하성운     핫샷  스타크루이엔티  남자  1994-03-22  167.1   A   4036489\n",
      "12    화사    마마무      RBW  여자  1995-07-23  162.1   A   7650928\n",
      "14    슬기   레드벨벳       SM  여자  1994-02-10  161.0   A   5021452\n",
      "0    아이린   레드벨벳       SM  여자  1991-03-29  160.0   A   8256324\n",
      "4     소연    아이들       큐브  여자  1998-08-26    NaN   B   4668615\n",
      "6     윤아   소녀시대       SM  여자  1989-03-09    NaN   A   3918661\n"
     ]
    }
   ],
   "source": [
    "print(df.sort_values(by='키', ascending=False))"
   ]
  },
  {
   "cell_type": "markdown",
   "id": "e9d004c8-a64e-473a-9f5f-d176afd7b8d4",
   "metadata": {},
   "source": [
    "### [BONUS] 복수 정렬\n",
    "df.sort_values(by=['컬럼명1', '컬럼명2'])"
   ]
  },
  {
   "cell_type": "code",
   "execution_count": 28,
   "id": "282b1124-4712-4a4a-b252-845e9bb3b797",
   "metadata": {
    "tags": []
   },
   "outputs": [
    {
     "name": "stdout",
     "output_type": "stream",
     "text": [
      "    name  group      소속사  성별        생년월일      키 혈액형      인기지수\n",
      "0    아이린   레드벨벳       SM  여자  1991-03-29  160.0   A   8256324\n",
      "14    슬기   레드벨벳       SM  여자  1994-02-10  161.0   A   5021452\n",
      "12    화사    마마무      RBW  여자  1995-07-23  162.1   A   7650928\n",
      "13   하성운     핫샷  스타크루이엔티  남자  1994-03-22  167.1   A   4036489\n",
      "15    지민  방탄소년단      빅히트  남자  1995-10-13  173.6   A  10523260\n",
      "9     슈가  방탄소년단      빅히트  남자  1993-03-09  174.0   O   4925442\n",
      "7     백호   뉴이스트     플레디스  남자  1995-07-21  175.0  AB   3301654\n",
      "8     JR   뉴이스트     플레디스  남자  1995-06-08  176.0   O   3274137\n",
      "11    정국  방탄소년단      빅히트  남자  1997-09-01  178.0   A   7208335\n",
      "2      뷔  방탄소년단      빅히트  남자  1995-12-30  178.0  AB   8073501\n",
      "5      진  방탄소년단      빅히트  남자  1992-12-04  179.2   O   4570308\n",
      "10  강다니엘    NaN      커넥트  남자  1996-12-10  180.0   A   8273745\n",
      "3     민현    NaN     플레디스  남자  1995-08-09  182.3   O   4989792\n",
      "1    차은우   아스트로     판타지오  남자  1997-03-30  183.0   B   3506027\n",
      "6     윤아   소녀시대       SM  여자  1989-03-09    NaN   A   3918661\n",
      "4     소연    아이들       큐브  여자  1998-08-26    NaN   B   4668615\n",
      "------------------------------------------------------------\n",
      "    name  group      소속사  성별        생년월일      키 혈액형      인기지수\n",
      "8     JR   뉴이스트     플레디스  남자  1995-06-08  176.0   O   3274137\n",
      "7     백호   뉴이스트     플레디스  남자  1995-07-21  175.0  AB   3301654\n",
      "14    슬기   레드벨벳       SM  여자  1994-02-10  161.0   A   5021452\n",
      "0    아이린   레드벨벳       SM  여자  1991-03-29  160.0   A   8256324\n",
      "12    화사    마마무      RBW  여자  1995-07-23  162.1   A   7650928\n",
      "2      뷔  방탄소년단      빅히트  남자  1995-12-30  178.0  AB   8073501\n",
      "9     슈가  방탄소년단      빅히트  남자  1993-03-09  174.0   O   4925442\n",
      "11    정국  방탄소년단      빅히트  남자  1997-09-01  178.0   A   7208335\n",
      "15    지민  방탄소년단      빅히트  남자  1995-10-13  173.6   A  10523260\n",
      "5      진  방탄소년단      빅히트  남자  1992-12-04  179.2   O   4570308\n",
      "6     윤아   소녀시대       SM  여자  1989-03-09    NaN   A   3918661\n",
      "1    차은우   아스트로     판타지오  남자  1997-03-30  183.0   B   3506027\n",
      "4     소연    아이들       큐브  여자  1998-08-26    NaN   B   4668615\n",
      "13   하성운     핫샷  스타크루이엔티  남자  1994-03-22  167.1   A   4036489\n",
      "10  강다니엘    NaN      커넥트  남자  1996-12-10  180.0   A   8273745\n",
      "3     민현    NaN     플레디스  남자  1995-08-09  182.3   O   4989792\n"
     ]
    }
   ],
   "source": [
    "print(df.sort_values(by=['키', '인기지수']))\n",
    "print(\"-\"*60)\n",
    "print(df.sort_values(by=['group', 'name']))"
   ]
  },
  {
   "cell_type": "code",
   "execution_count": 29,
   "id": "21907f14-aa31-4050-8a78-4b5de35024c1",
   "metadata": {
    "tags": []
   },
   "outputs": [
    {
     "name": "stdout",
     "output_type": "stream",
     "text": [
      "    name  group      소속사  성별        생년월일      키 혈액형      인기지수\n",
      "1    차은우   아스트로     판타지오  남자  1997-03-30  183.0   B   3506027\n",
      "3     민현    NaN     플레디스  남자  1995-08-09  182.3   O   4989792\n",
      "10  강다니엘    NaN      커넥트  남자  1996-12-10  180.0   A   8273745\n",
      "5      진  방탄소년단      빅히트  남자  1992-12-04  179.2   O   4570308\n",
      "2      뷔  방탄소년단      빅히트  남자  1995-12-30  178.0  AB   8073501\n",
      "11    정국  방탄소년단      빅히트  남자  1997-09-01  178.0   A   7208335\n",
      "8     JR   뉴이스트     플레디스  남자  1995-06-08  176.0   O   3274137\n",
      "7     백호   뉴이스트     플레디스  남자  1995-07-21  175.0  AB   3301654\n",
      "9     슈가  방탄소년단      빅히트  남자  1993-03-09  174.0   O   4925442\n",
      "15    지민  방탄소년단      빅히트  남자  1995-10-13  173.6   A  10523260\n",
      "13   하성운     핫샷  스타크루이엔티  남자  1994-03-22  167.1   A   4036489\n",
      "12    화사    마마무      RBW  여자  1995-07-23  162.1   A   7650928\n",
      "14    슬기   레드벨벳       SM  여자  1994-02-10  161.0   A   5021452\n",
      "0    아이린   레드벨벳       SM  여자  1991-03-29  160.0   A   8256324\n",
      "4     소연    아이들       큐브  여자  1998-08-26    NaN   B   4668615\n",
      "6     윤아   소녀시대       SM  여자  1989-03-09    NaN   A   3918661\n"
     ]
    }
   ],
   "source": [
    "print(df.sort_values(by=['키', '인기지수'], ascending=False))"
   ]
  },
  {
   "cell_type": "markdown",
   "id": "93636496-9d38-4257-8b5c-ec6348d6055d",
   "metadata": {},
   "source": [
    "# [문제] 다음을 수행해 보세요.\n",
    "1. 구글드라이브에 있는 \"house_price.csv\" 파일을 pandas DataFrame으로 loading 하기\n",
    "2. 로딩한 DataFrame의 다음 정보 알아보기\n",
    "    - 컬럼명, 데이터갯수, 데이터 타입, 결측치 갯수를 알아보는 명령 수행하기\n",
    "3. 로딩한 DataFrame 의 기술 통계 정보 확인하기\n",
    "4. 컬럼명 바꾸기 : 분양가격(㎡) -> 분양가격\n",
    "5. 두 개의 키(분양가, 연도)로 내림차순 소팅 하기\n",
    "    - 분양가가 가장 높았던 연도 확인"
   ]
  },
  {
   "cell_type": "markdown",
   "id": "b8ffc30f-9e61-49a9-ae76-57cc545cafc3",
   "metadata": {},
   "source": [
    "#### 문1) 구글드라이브에 있는 \"house_price.csv\" 파일을 pandas DataFrame으로 loading 하기"
   ]
  },
  {
   "cell_type": "code",
   "execution_count": 44,
   "id": "f9825748-9277-452f-8bc5-eef0f29b977c",
   "metadata": {
    "tags": []
   },
   "outputs": [
    {
     "name": "stdout",
     "output_type": "stream",
     "text": [
      "     지역명               규모구분    연도   월 분양가격(㎡)\n",
      "0     서울                 전체  2015  10    5841\n",
      "1     서울         전용면적 60㎡이하  2015  10    5652\n",
      "2     서울   전용면적 60㎡초과 85㎡이하  2015  10    5882\n",
      "3     서울  전용면적 85㎡초과 102㎡이하  2015  10    5721\n",
      "4     서울        전용면적 102㎡초과  2015  10    5879\n",
      "...   ..                ...   ...  ..     ...\n",
      "4500  제주                 전체  2020   2    3955\n",
      "4501  제주         전용면적 60㎡이하  2020   2    4039\n",
      "4502  제주   전용면적 60㎡초과 85㎡이하  2020   2    3962\n",
      "4503  제주  전용면적 85㎡초과 102㎡이하  2020   2     NaN\n",
      "4504  제주        전용면적 102㎡초과  2020   2    3601\n",
      "\n",
      "[4505 rows x 5 columns]\n"
     ]
    }
   ],
   "source": [
    "df = pd.read_csv(\"datas/house_price.csv\")\n",
    "print(df)"
   ]
  },
  {
   "cell_type": "markdown",
   "id": "12f216f6-8db4-476b-adfa-b750a367238b",
   "metadata": {},
   "source": [
    "#### 문2) 로딩한 DataFrame의 다음 정보 알아보기"
   ]
  },
  {
   "cell_type": "code",
   "execution_count": 45,
   "id": "f0a9ab23-3a9b-4c00-a8c9-edcb7b195a47",
   "metadata": {
    "tags": []
   },
   "outputs": [
    {
     "name": "stdout",
     "output_type": "stream",
     "text": [
      "<class 'pandas.core.frame.DataFrame'>\n",
      "RangeIndex: 4505 entries, 0 to 4504\n",
      "Data columns (total 5 columns):\n",
      " #   Column   Non-Null Count  Dtype \n",
      "---  ------   --------------  ----- \n",
      " 0   지역명      4505 non-null   object\n",
      " 1   규모구분     4505 non-null   object\n",
      " 2   연도       4505 non-null   int64 \n",
      " 3   월        4505 non-null   int64 \n",
      " 4   분양가격(㎡)  4210 non-null   object\n",
      "dtypes: int64(2), object(3)\n",
      "memory usage: 176.1+ KB\n",
      "None\n"
     ]
    }
   ],
   "source": [
    "print(df.info())"
   ]
  },
  {
   "cell_type": "markdown",
   "id": "82c24859-4242-413c-adf0-f2180a984eda",
   "metadata": {},
   "source": [
    "#### 문3) 로딩한 DataFrame 의 기술 통계 정보 확인하기"
   ]
  },
  {
   "cell_type": "code",
   "execution_count": 46,
   "id": "c85a7591-3175-4f6a-8b22-00dc3541e773",
   "metadata": {
    "tags": []
   },
   "outputs": [
    {
     "name": "stdout",
     "output_type": "stream",
     "text": [
      "                연도            월\n",
      "count  4505.000000  4505.000000\n",
      "mean   2017.452830     6.566038\n",
      "std       1.311432     3.595519\n",
      "min    2015.000000     1.000000\n",
      "25%    2016.000000     3.000000\n",
      "50%    2017.000000     7.000000\n",
      "75%    2019.000000    10.000000\n",
      "max    2020.000000    12.000000\n"
     ]
    }
   ],
   "source": [
    "print(df.describe())"
   ]
  },
  {
   "cell_type": "markdown",
   "id": "99fa83da-eabd-4dfd-8fcf-cb4aac191d63",
   "metadata": {},
   "source": [
    "#### 문4) 컬럼명 바꾸기 : 분양가격(㎡) -> 분양가격\n",
    "방법1 : df.columns : 전체 열 이름을 지정<br>\n",
    "방법2 : df.rename은 변경할 열 이름만 지정할 수 있음."
   ]
  },
  {
   "cell_type": "code",
   "execution_count": 47,
   "id": "7e3cf8de-c407-4c68-87a6-ada2422389be",
   "metadata": {
    "tags": []
   },
   "outputs": [
    {
     "name": "stdout",
     "output_type": "stream",
     "text": [
      "  지역명               규모구분    연도   월  분양가격\n",
      "0  서울                 전체  2015  10  5841\n",
      "1  서울         전용면적 60㎡이하  2015  10  5652\n",
      "2  서울   전용면적 60㎡초과 85㎡이하  2015  10  5882\n",
      "3  서울  전용면적 85㎡초과 102㎡이하  2015  10  5721\n",
      "4  서울        전용면적 102㎡초과  2015  10  5879\n"
     ]
    }
   ],
   "source": [
    "# 방법1 : 전체 열 이름을 지정\n",
    "df.columns=['지역명', '규모구분', '연도', '월', '분양가격']\n",
    "# print(df.columns)\n",
    "print(df.head())"
   ]
  },
  {
   "cell_type": "code",
   "execution_count": 49,
   "id": "4324949b-f953-48dd-98e0-9e035d1d7bd6",
   "metadata": {
    "tags": []
   },
   "outputs": [
    {
     "name": "stdout",
     "output_type": "stream",
     "text": [
      "     지역명               규모구분    연도   월   분양가\n",
      "0     서울                 전체  2015  10  5841\n",
      "1     서울         전용면적 60㎡이하  2015  10  5652\n",
      "2     서울   전용면적 60㎡초과 85㎡이하  2015  10  5882\n",
      "3     서울  전용면적 85㎡초과 102㎡이하  2015  10  5721\n",
      "4     서울        전용면적 102㎡초과  2015  10  5879\n",
      "...   ..                ...   ...  ..   ...\n",
      "4500  제주                 전체  2020   2  3955\n",
      "4501  제주         전용면적 60㎡이하  2020   2  4039\n",
      "4502  제주   전용면적 60㎡초과 85㎡이하  2020   2  3962\n",
      "4503  제주  전용면적 85㎡초과 102㎡이하  2020   2   NaN\n",
      "4504  제주        전용면적 102㎡초과  2020   2  3601\n",
      "\n",
      "[4505 rows x 5 columns]\n"
     ]
    }
   ],
   "source": [
    "# 방법2 : 변경할 열 이름만 지정\n",
    "\n",
    "df.rename(columns={\"분양가격\":\"분양가\"}, inplace= True)\n",
    "print(df)"
   ]
  },
  {
   "cell_type": "markdown",
   "id": "096ae2db-3cdc-4a3b-82ae-b3f5f4c8c04e",
   "metadata": {},
   "source": [
    "#### 문5) 분양가가 가장 높았던 연도 확인하기 위해 두 개의 키(분양가, 연도)로 내림차순 소팅하기"
   ]
  },
  {
   "cell_type": "code",
   "execution_count": 50,
   "id": "475adcad-6433-40ab-94af-25b8f60fcb4a",
   "metadata": {
    "tags": []
   },
   "outputs": [
    {
     "name": "stdout",
     "output_type": "stream",
     "text": [
      "     지역명               규모구분    연도   월   분양가\n",
      "4424  서울        전용면적 102㎡초과  2020   2  9039\n",
      "4254  서울        전용면적 102㎡초과  2019  12  8989\n",
      "3999  서울        전용면적 102㎡초과  2019   9  8972\n",
      "4169  서울        전용면적 102㎡초과  2019  11  8952\n",
      "4084  서울        전용면적 102㎡초과  2019  10  8903\n",
      "...   ..                ...   ...  ..   ...\n",
      "968   대전  전용면적 85㎡초과 102㎡이하  2016   9   NaN\n",
      "969   대전        전용면적 102㎡초과  2016   9   NaN\n",
      "983   강원  전용면적 85㎡초과 102㎡이하  2016   9   NaN\n",
      "1143  울산  전용면적 85㎡초과 102㎡이하  2016  11   NaN\n",
      "1228  울산  전용면적 85㎡초과 102㎡이하  2016  12   NaN\n",
      "\n",
      "[4505 rows x 5 columns]\n"
     ]
    }
   ],
   "source": [
    "print(df.sort_values(by=['분양가', '연도'], ascending=False))"
   ]
  }
 ],
 "metadata": {
  "kernelspec": {
   "display_name": "dl_ml",
   "language": "python",
   "name": "da_venv"
  },
  "language_info": {
   "codemirror_mode": {
    "name": "ipython",
    "version": 3
   },
   "file_extension": ".py",
   "mimetype": "text/x-python",
   "name": "python",
   "nbconvert_exporter": "python",
   "pygments_lexer": "ipython3",
   "version": "3.9.13"
  }
 },
 "nbformat": 4,
 "nbformat_minor": 5
}
