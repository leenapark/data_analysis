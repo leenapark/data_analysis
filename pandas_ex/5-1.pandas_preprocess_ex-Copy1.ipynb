{
 "cells": [
  {
   "cell_type": "markdown",
   "id": "921a1ccf-3664-4865-9cad-4358b45c3542",
   "metadata": {},
   "source": [
    "# 공공 데이터 활용, 데이터 전처리 실습 문제\n",
    "https://www.data.go.kr/ 에서 제공하는 공공데이터를 활용"
   ]
  },
  {
   "cell_type": "markdown",
   "id": "5b496a49-a434-4149-90bd-f97926f26885",
   "metadata": {},
   "source": [
    "## 1. 데이터프레임 로드"
   ]
  },
  {
   "cell_type": "code",
   "execution_count": 1,
   "id": "5017182c-e5ec-409b-bb7a-0de5987d8dfc",
   "metadata": {
    "tags": []
   },
   "outputs": [],
   "source": [
    "import pandas as pd"
   ]
  },
  {
   "cell_type": "code",
   "execution_count": 157,
   "id": "499d073f-fd67-4762-b7e2-cf1b771acd4b",
   "metadata": {
    "tags": []
   },
   "outputs": [],
   "source": [
    "# csv 파일 데이터 프레임 만들기\n",
    "file_path = \"datas/house_price.csv\""
   ]
  },
  {
   "cell_type": "code",
   "execution_count": 158,
   "id": "e27430da-01a2-4a53-a961-19fcb4068019",
   "metadata": {
    "tags": []
   },
   "outputs": [
    {
     "data": {
      "text/html": [
       "<div>\n",
       "<style scoped>\n",
       "    .dataframe tbody tr th:only-of-type {\n",
       "        vertical-align: middle;\n",
       "    }\n",
       "\n",
       "    .dataframe tbody tr th {\n",
       "        vertical-align: top;\n",
       "    }\n",
       "\n",
       "    .dataframe thead th {\n",
       "        text-align: right;\n",
       "    }\n",
       "</style>\n",
       "<table border=\"1\" class=\"dataframe\">\n",
       "  <thead>\n",
       "    <tr style=\"text-align: right;\">\n",
       "      <th></th>\n",
       "      <th>지역명</th>\n",
       "      <th>규모구분</th>\n",
       "      <th>연도</th>\n",
       "      <th>월</th>\n",
       "      <th>분양가격(㎡)</th>\n",
       "    </tr>\n",
       "  </thead>\n",
       "  <tbody>\n",
       "    <tr>\n",
       "      <th>0</th>\n",
       "      <td>서울</td>\n",
       "      <td>전체</td>\n",
       "      <td>2015</td>\n",
       "      <td>10</td>\n",
       "      <td>5841</td>\n",
       "    </tr>\n",
       "    <tr>\n",
       "      <th>1</th>\n",
       "      <td>서울</td>\n",
       "      <td>전용면적 60㎡이하</td>\n",
       "      <td>2015</td>\n",
       "      <td>10</td>\n",
       "      <td>5652</td>\n",
       "    </tr>\n",
       "    <tr>\n",
       "      <th>2</th>\n",
       "      <td>서울</td>\n",
       "      <td>전용면적 60㎡초과 85㎡이하</td>\n",
       "      <td>2015</td>\n",
       "      <td>10</td>\n",
       "      <td>5882</td>\n",
       "    </tr>\n",
       "    <tr>\n",
       "      <th>3</th>\n",
       "      <td>서울</td>\n",
       "      <td>전용면적 85㎡초과 102㎡이하</td>\n",
       "      <td>2015</td>\n",
       "      <td>10</td>\n",
       "      <td>5721</td>\n",
       "    </tr>\n",
       "    <tr>\n",
       "      <th>4</th>\n",
       "      <td>서울</td>\n",
       "      <td>전용면적 102㎡초과</td>\n",
       "      <td>2015</td>\n",
       "      <td>10</td>\n",
       "      <td>5879</td>\n",
       "    </tr>\n",
       "    <tr>\n",
       "      <th>...</th>\n",
       "      <td>...</td>\n",
       "      <td>...</td>\n",
       "      <td>...</td>\n",
       "      <td>...</td>\n",
       "      <td>...</td>\n",
       "    </tr>\n",
       "    <tr>\n",
       "      <th>4500</th>\n",
       "      <td>제주</td>\n",
       "      <td>전체</td>\n",
       "      <td>2020</td>\n",
       "      <td>2</td>\n",
       "      <td>3955</td>\n",
       "    </tr>\n",
       "    <tr>\n",
       "      <th>4501</th>\n",
       "      <td>제주</td>\n",
       "      <td>전용면적 60㎡이하</td>\n",
       "      <td>2020</td>\n",
       "      <td>2</td>\n",
       "      <td>4039</td>\n",
       "    </tr>\n",
       "    <tr>\n",
       "      <th>4502</th>\n",
       "      <td>제주</td>\n",
       "      <td>전용면적 60㎡초과 85㎡이하</td>\n",
       "      <td>2020</td>\n",
       "      <td>2</td>\n",
       "      <td>3962</td>\n",
       "    </tr>\n",
       "    <tr>\n",
       "      <th>4503</th>\n",
       "      <td>제주</td>\n",
       "      <td>전용면적 85㎡초과 102㎡이하</td>\n",
       "      <td>2020</td>\n",
       "      <td>2</td>\n",
       "      <td>NaN</td>\n",
       "    </tr>\n",
       "    <tr>\n",
       "      <th>4504</th>\n",
       "      <td>제주</td>\n",
       "      <td>전용면적 102㎡초과</td>\n",
       "      <td>2020</td>\n",
       "      <td>2</td>\n",
       "      <td>3601</td>\n",
       "    </tr>\n",
       "  </tbody>\n",
       "</table>\n",
       "<p>4505 rows × 5 columns</p>\n",
       "</div>"
      ],
      "text/plain": [
       "     지역명               규모구분    연도   월 분양가격(㎡)\n",
       "0     서울                 전체  2015  10    5841\n",
       "1     서울         전용면적 60㎡이하  2015  10    5652\n",
       "2     서울   전용면적 60㎡초과 85㎡이하  2015  10    5882\n",
       "3     서울  전용면적 85㎡초과 102㎡이하  2015  10    5721\n",
       "4     서울        전용면적 102㎡초과  2015  10    5879\n",
       "...   ..                ...   ...  ..     ...\n",
       "4500  제주                 전체  2020   2    3955\n",
       "4501  제주         전용면적 60㎡이하  2020   2    4039\n",
       "4502  제주   전용면적 60㎡초과 85㎡이하  2020   2    3962\n",
       "4503  제주  전용면적 85㎡초과 102㎡이하  2020   2     NaN\n",
       "4504  제주        전용면적 102㎡초과  2020   2    3601\n",
       "\n",
       "[4505 rows x 5 columns]"
      ]
     },
     "execution_count": 158,
     "metadata": {},
     "output_type": "execute_result"
    }
   ],
   "source": [
    "df = pd.read_csv(file_path)\n",
    "df"
   ]
  },
  {
   "cell_type": "markdown",
   "id": "de1dbe1e-392b-45f4-a916-6dc562bb83ce",
   "metadata": {},
   "source": [
    "## 2. column 재정의 (rename)\n",
    "\n",
    "- 전체 column의 이름 변경 : df.columns 사용\n",
    "- 한 개의 column 이름 변경 : df.rename(columns={'원 컬럼명':'수정할 컬럼명'})  \n",
    "분양가격 column의 이름을 재정의"
   ]
  },
  {
   "cell_type": "code",
   "execution_count": 159,
   "id": "427b6943-b0e3-4454-9728-e5a74829b3f1",
   "metadata": {},
   "outputs": [
    {
     "data": {
      "text/html": [
       "<div>\n",
       "<style scoped>\n",
       "    .dataframe tbody tr th:only-of-type {\n",
       "        vertical-align: middle;\n",
       "    }\n",
       "\n",
       "    .dataframe tbody tr th {\n",
       "        vertical-align: top;\n",
       "    }\n",
       "\n",
       "    .dataframe thead th {\n",
       "        text-align: right;\n",
       "    }\n",
       "</style>\n",
       "<table border=\"1\" class=\"dataframe\">\n",
       "  <thead>\n",
       "    <tr style=\"text-align: right;\">\n",
       "      <th></th>\n",
       "      <th>지역명</th>\n",
       "      <th>규모구분</th>\n",
       "      <th>연도</th>\n",
       "      <th>월</th>\n",
       "      <th>분양가격</th>\n",
       "    </tr>\n",
       "  </thead>\n",
       "  <tbody>\n",
       "    <tr>\n",
       "      <th>0</th>\n",
       "      <td>서울</td>\n",
       "      <td>전체</td>\n",
       "      <td>2015</td>\n",
       "      <td>10</td>\n",
       "      <td>5841</td>\n",
       "    </tr>\n",
       "    <tr>\n",
       "      <th>1</th>\n",
       "      <td>서울</td>\n",
       "      <td>전용면적 60㎡이하</td>\n",
       "      <td>2015</td>\n",
       "      <td>10</td>\n",
       "      <td>5652</td>\n",
       "    </tr>\n",
       "    <tr>\n",
       "      <th>2</th>\n",
       "      <td>서울</td>\n",
       "      <td>전용면적 60㎡초과 85㎡이하</td>\n",
       "      <td>2015</td>\n",
       "      <td>10</td>\n",
       "      <td>5882</td>\n",
       "    </tr>\n",
       "    <tr>\n",
       "      <th>3</th>\n",
       "      <td>서울</td>\n",
       "      <td>전용면적 85㎡초과 102㎡이하</td>\n",
       "      <td>2015</td>\n",
       "      <td>10</td>\n",
       "      <td>5721</td>\n",
       "    </tr>\n",
       "    <tr>\n",
       "      <th>4</th>\n",
       "      <td>서울</td>\n",
       "      <td>전용면적 102㎡초과</td>\n",
       "      <td>2015</td>\n",
       "      <td>10</td>\n",
       "      <td>5879</td>\n",
       "    </tr>\n",
       "    <tr>\n",
       "      <th>...</th>\n",
       "      <td>...</td>\n",
       "      <td>...</td>\n",
       "      <td>...</td>\n",
       "      <td>...</td>\n",
       "      <td>...</td>\n",
       "    </tr>\n",
       "    <tr>\n",
       "      <th>4500</th>\n",
       "      <td>제주</td>\n",
       "      <td>전체</td>\n",
       "      <td>2020</td>\n",
       "      <td>2</td>\n",
       "      <td>3955</td>\n",
       "    </tr>\n",
       "    <tr>\n",
       "      <th>4501</th>\n",
       "      <td>제주</td>\n",
       "      <td>전용면적 60㎡이하</td>\n",
       "      <td>2020</td>\n",
       "      <td>2</td>\n",
       "      <td>4039</td>\n",
       "    </tr>\n",
       "    <tr>\n",
       "      <th>4502</th>\n",
       "      <td>제주</td>\n",
       "      <td>전용면적 60㎡초과 85㎡이하</td>\n",
       "      <td>2020</td>\n",
       "      <td>2</td>\n",
       "      <td>3962</td>\n",
       "    </tr>\n",
       "    <tr>\n",
       "      <th>4503</th>\n",
       "      <td>제주</td>\n",
       "      <td>전용면적 85㎡초과 102㎡이하</td>\n",
       "      <td>2020</td>\n",
       "      <td>2</td>\n",
       "      <td>NaN</td>\n",
       "    </tr>\n",
       "    <tr>\n",
       "      <th>4504</th>\n",
       "      <td>제주</td>\n",
       "      <td>전용면적 102㎡초과</td>\n",
       "      <td>2020</td>\n",
       "      <td>2</td>\n",
       "      <td>3601</td>\n",
       "    </tr>\n",
       "  </tbody>\n",
       "</table>\n",
       "<p>4505 rows × 5 columns</p>\n",
       "</div>"
      ],
      "text/plain": [
       "     지역명               규모구분    연도   월  분양가격\n",
       "0     서울                 전체  2015  10  5841\n",
       "1     서울         전용면적 60㎡이하  2015  10  5652\n",
       "2     서울   전용면적 60㎡초과 85㎡이하  2015  10  5882\n",
       "3     서울  전용면적 85㎡초과 102㎡이하  2015  10  5721\n",
       "4     서울        전용면적 102㎡초과  2015  10  5879\n",
       "...   ..                ...   ...  ..   ...\n",
       "4500  제주                 전체  2020   2  3955\n",
       "4501  제주         전용면적 60㎡이하  2020   2  4039\n",
       "4502  제주   전용면적 60㎡초과 85㎡이하  2020   2  3962\n",
       "4503  제주  전용면적 85㎡초과 102㎡이하  2020   2   NaN\n",
       "4504  제주        전용면적 102㎡초과  2020   2  3601\n",
       "\n",
       "[4505 rows x 5 columns]"
      ]
     },
     "execution_count": 159,
     "metadata": {},
     "output_type": "execute_result"
    }
   ],
   "source": [
    "# df.columns=[\"지역명\", \"규모구분\", \"연도\", \"월\", \"분양가격\"] # 전체 column 변경\n",
    "df = df.rename(columns={'분양가격(㎡)':'분양가격'})\n",
    "df"
   ]
  },
  {
   "cell_type": "markdown",
   "id": "e07c6be7-25ce-48a3-8640-9044cf9e9dcd",
   "metadata": {},
   "source": [
    "## 3. 데이터 살펴보기\n",
    "### 3-1. 결측치 및 Data Type 확인하기"
   ]
  },
  {
   "cell_type": "code",
   "execution_count": 160,
   "id": "c58fa30b-921a-445f-b0b4-ec5bd79114fd",
   "metadata": {
    "tags": []
   },
   "outputs": [
    {
     "name": "stdout",
     "output_type": "stream",
     "text": [
      "<class 'pandas.core.frame.DataFrame'>\n",
      "RangeIndex: 4505 entries, 0 to 4504\n",
      "Data columns (total 5 columns):\n",
      " #   Column  Non-Null Count  Dtype \n",
      "---  ------  --------------  ----- \n",
      " 0   지역명     4505 non-null   object\n",
      " 1   규모구분    4505 non-null   object\n",
      " 2   연도      4505 non-null   int64 \n",
      " 3   월       4505 non-null   int64 \n",
      " 4   분양가격    4210 non-null   object\n",
      "dtypes: int64(2), object(3)\n",
      "memory usage: 176.1+ KB\n",
      "None\n"
     ]
    }
   ],
   "source": [
    "print(df.info())"
   ]
  },
  {
   "cell_type": "markdown",
   "id": "0847e5d1-4f0d-4447-94c7-78432fd4f21e",
   "metadata": {},
   "source": [
    "### 3-2. 기술 통계값 확인"
   ]
  },
  {
   "cell_type": "code",
   "execution_count": 161,
   "id": "08797693-d509-48f0-990c-5d6f0c354016",
   "metadata": {
    "tags": []
   },
   "outputs": [
    {
     "name": "stdout",
     "output_type": "stream",
     "text": [
      "                연도            월\n",
      "count  4505.000000  4505.000000\n",
      "mean   2017.452830     6.566038\n",
      "std       1.311432     3.595519\n",
      "min    2015.000000     1.000000\n",
      "25%    2016.000000     3.000000\n",
      "50%    2017.000000     7.000000\n",
      "75%    2019.000000    10.000000\n",
      "max    2020.000000    12.000000\n"
     ]
    }
   ],
   "source": [
    "print(df[[\"연도\", \"월\"]].describe())"
   ]
  },
  {
   "cell_type": "markdown",
   "id": "86a570cb-4df5-4220-a85b-2cf94e349370",
   "metadata": {},
   "source": [
    "### 4. 분양가격 column을 int 타입으로 변환 (실전 전처리)\n",
    "분양가격 컬럼을 object -> int 타입으로 변경하려고 합니다.  \n",
    "아래 셀을 실행하면 error가 납니다. error가 나지 않도록 전처리를 해봅시다."
   ]
  },
  {
   "cell_type": "markdown",
   "id": "6c4df67b-79f2-4834-a912-f1fbd5d57a5f",
   "metadata": {},
   "source": [
    "### 4-1 '분양가격' 컬럼에 '   ' 공백이 있는 데이터들이 있는지 확인해 보기"
   ]
  },
  {
   "cell_type": "code",
   "execution_count": 163,
   "id": "f93af3b7-0ee7-4489-a0d6-9007101c5837",
   "metadata": {
    "tags": []
   },
   "outputs": [
    {
     "name": "stdout",
     "output_type": "stream",
     "text": [
      "<class 'pandas.core.series.Series'>\n",
      "0       5841\n",
      "1       5652\n",
      "2       5882\n",
      "3       5721\n",
      "4       5879\n",
      "        ... \n",
      "4500    3955\n",
      "4501    4039\n",
      "4502    3962\n",
      "4503       0\n",
      "4504    3601\n",
      "Name: 분양가격, Length: 4505, dtype: object\n"
     ]
    }
   ],
   "source": [
    "# df['분양가격'].astype(int) # error\n",
    "print(type(df[\"분양가격\"]))\n",
    "print(df[\"분양가격\"].fillna(0))\n",
    "# df_fillna = df[\"분양가격\"].fillna(0)\n",
    "df_fillna = df.copy()\n",
    "df_fillna[\"분양가격\"] = df[\"분양가격\"].str.strip().fillna(0)\n",
    "# print(list(df_fillna))"
   ]
  },
  {
   "cell_type": "markdown",
   "id": "0f0820d1-18a8-450d-998e-0adac0a52bff",
   "metadata": {},
   "source": [
    "#### strip()을 활용하여 공백이 있는 데이터 공백없애기\n",
    "**[tip]** \n",
    "column의 문자열에 strip을 실행하고자 할 때는 str.strip()를 실행해줘야 함.\n",
    "\n",
    "[예시] df['분양가격'].str.strip()"
   ]
  },
  {
   "cell_type": "markdown",
   "id": "9a2c29a2-afb5-4927-91bf-7397aac23b5f",
   "metadata": {},
   "source": [
    "### 4-2 '분양가격' column에 공백 제거하고 확인하기"
   ]
  },
  {
   "cell_type": "code",
   "execution_count": 164,
   "id": "64d5b544-a38d-402a-8789-bd0fae23686e",
   "metadata": {
    "tags": []
   },
   "outputs": [
    {
     "name": "stdout",
     "output_type": "stream",
     "text": [
      "     지역명               규모구분    연도   월  분양가격\n",
      "0     서울                 전체  2015  10  5841\n",
      "1     서울         전용면적 60㎡이하  2015  10  5652\n",
      "2     서울   전용면적 60㎡초과 85㎡이하  2015  10  5882\n",
      "3     서울  전용면적 85㎡초과 102㎡이하  2015  10  5721\n",
      "4     서울        전용면적 102㎡초과  2015  10  5879\n",
      "...   ..                ...   ...  ..   ...\n",
      "4500  제주                 전체  2020   2  3955\n",
      "4501  제주         전용면적 60㎡이하  2020   2  4039\n",
      "4502  제주   전용면적 60㎡초과 85㎡이하  2020   2  3962\n",
      "4503  제주  전용면적 85㎡초과 102㎡이하  2020   2     0\n",
      "4504  제주        전용면적 102㎡초과  2020   2  3601\n",
      "\n",
      "[4505 rows x 5 columns]\n"
     ]
    },
    {
     "data": {
      "text/html": [
       "<div>\n",
       "<style scoped>\n",
       "    .dataframe tbody tr th:only-of-type {\n",
       "        vertical-align: middle;\n",
       "    }\n",
       "\n",
       "    .dataframe tbody tr th {\n",
       "        vertical-align: top;\n",
       "    }\n",
       "\n",
       "    .dataframe thead th {\n",
       "        text-align: right;\n",
       "    }\n",
       "</style>\n",
       "<table border=\"1\" class=\"dataframe\">\n",
       "  <thead>\n",
       "    <tr style=\"text-align: right;\">\n",
       "      <th></th>\n",
       "      <th>지역명</th>\n",
       "      <th>규모구분</th>\n",
       "      <th>연도</th>\n",
       "      <th>월</th>\n",
       "      <th>분양가격</th>\n",
       "    </tr>\n",
       "  </thead>\n",
       "  <tbody>\n",
       "    <tr>\n",
       "      <th>28</th>\n",
       "      <td>광주</td>\n",
       "      <td>전용면적 85㎡초과 102㎡이하</td>\n",
       "      <td>2015</td>\n",
       "      <td>10</td>\n",
       "      <td></td>\n",
       "    </tr>\n",
       "    <tr>\n",
       "      <th>29</th>\n",
       "      <td>광주</td>\n",
       "      <td>전용면적 102㎡초과</td>\n",
       "      <td>2015</td>\n",
       "      <td>10</td>\n",
       "      <td></td>\n",
       "    </tr>\n",
       "    <tr>\n",
       "      <th>34</th>\n",
       "      <td>대전</td>\n",
       "      <td>전용면적 102㎡초과</td>\n",
       "      <td>2015</td>\n",
       "      <td>10</td>\n",
       "      <td></td>\n",
       "    </tr>\n",
       "    <tr>\n",
       "      <th>81</th>\n",
       "      <td>제주</td>\n",
       "      <td>전용면적 60㎡이하</td>\n",
       "      <td>2015</td>\n",
       "      <td>10</td>\n",
       "      <td></td>\n",
       "    </tr>\n",
       "    <tr>\n",
       "      <th>113</th>\n",
       "      <td>광주</td>\n",
       "      <td>전용면적 85㎡초과 102㎡이하</td>\n",
       "      <td>2015</td>\n",
       "      <td>11</td>\n",
       "      <td></td>\n",
       "    </tr>\n",
       "    <tr>\n",
       "      <th>114</th>\n",
       "      <td>광주</td>\n",
       "      <td>전용면적 102㎡초과</td>\n",
       "      <td>2015</td>\n",
       "      <td>11</td>\n",
       "      <td></td>\n",
       "    </tr>\n",
       "    <tr>\n",
       "      <th>119</th>\n",
       "      <td>대전</td>\n",
       "      <td>전용면적 102㎡초과</td>\n",
       "      <td>2015</td>\n",
       "      <td>11</td>\n",
       "      <td></td>\n",
       "    </tr>\n",
       "    <tr>\n",
       "      <th>166</th>\n",
       "      <td>제주</td>\n",
       "      <td>전용면적 60㎡이하</td>\n",
       "      <td>2015</td>\n",
       "      <td>11</td>\n",
       "      <td></td>\n",
       "    </tr>\n",
       "    <tr>\n",
       "      <th>198</th>\n",
       "      <td>광주</td>\n",
       "      <td>전용면적 85㎡초과 102㎡이하</td>\n",
       "      <td>2015</td>\n",
       "      <td>12</td>\n",
       "      <td></td>\n",
       "    </tr>\n",
       "    <tr>\n",
       "      <th>199</th>\n",
       "      <td>광주</td>\n",
       "      <td>전용면적 102㎡초과</td>\n",
       "      <td>2015</td>\n",
       "      <td>12</td>\n",
       "      <td></td>\n",
       "    </tr>\n",
       "    <tr>\n",
       "      <th>204</th>\n",
       "      <td>대전</td>\n",
       "      <td>전용면적 102㎡초과</td>\n",
       "      <td>2015</td>\n",
       "      <td>12</td>\n",
       "      <td></td>\n",
       "    </tr>\n",
       "    <tr>\n",
       "      <th>251</th>\n",
       "      <td>제주</td>\n",
       "      <td>전용면적 60㎡이하</td>\n",
       "      <td>2015</td>\n",
       "      <td>12</td>\n",
       "      <td></td>\n",
       "    </tr>\n",
       "    <tr>\n",
       "      <th>283</th>\n",
       "      <td>광주</td>\n",
       "      <td>전용면적 85㎡초과 102㎡이하</td>\n",
       "      <td>2016</td>\n",
       "      <td>1</td>\n",
       "      <td></td>\n",
       "    </tr>\n",
       "    <tr>\n",
       "      <th>284</th>\n",
       "      <td>광주</td>\n",
       "      <td>전용면적 102㎡초과</td>\n",
       "      <td>2016</td>\n",
       "      <td>1</td>\n",
       "      <td></td>\n",
       "    </tr>\n",
       "    <tr>\n",
       "      <th>289</th>\n",
       "      <td>대전</td>\n",
       "      <td>전용면적 102㎡초과</td>\n",
       "      <td>2016</td>\n",
       "      <td>1</td>\n",
       "      <td></td>\n",
       "    </tr>\n",
       "    <tr>\n",
       "      <th>336</th>\n",
       "      <td>제주</td>\n",
       "      <td>전용면적 60㎡이하</td>\n",
       "      <td>2016</td>\n",
       "      <td>1</td>\n",
       "      <td></td>\n",
       "    </tr>\n",
       "  </tbody>\n",
       "</table>\n",
       "</div>"
      ],
      "text/plain": [
       "    지역명               규모구분    연도   월 분양가격\n",
       "28   광주  전용면적 85㎡초과 102㎡이하  2015  10     \n",
       "29   광주        전용면적 102㎡초과  2015  10     \n",
       "34   대전        전용면적 102㎡초과  2015  10     \n",
       "81   제주         전용면적 60㎡이하  2015  10     \n",
       "113  광주  전용면적 85㎡초과 102㎡이하  2015  11     \n",
       "114  광주        전용면적 102㎡초과  2015  11     \n",
       "119  대전        전용면적 102㎡초과  2015  11     \n",
       "166  제주         전용면적 60㎡이하  2015  11     \n",
       "198  광주  전용면적 85㎡초과 102㎡이하  2015  12     \n",
       "199  광주        전용면적 102㎡초과  2015  12     \n",
       "204  대전        전용면적 102㎡초과  2015  12     \n",
       "251  제주         전용면적 60㎡이하  2015  12     \n",
       "283  광주  전용면적 85㎡초과 102㎡이하  2016   1     \n",
       "284  광주        전용면적 102㎡초과  2016   1     \n",
       "289  대전        전용면적 102㎡초과  2016   1     \n",
       "336  제주         전용면적 60㎡이하  2016   1     "
      ]
     },
     "execution_count": 164,
     "metadata": {},
     "output_type": "execute_result"
    }
   ],
   "source": [
    "print(df_fillna)\n",
    "df_fillna.loc[df_fillna[\"분양가격\"] == \"\"]"
   ]
  },
  {
   "cell_type": "markdown",
   "id": "ee898674-a456-4ee0-adbd-f2063193ee07",
   "metadata": {},
   "source": [
    "### 4-3 '분양가격' 컬럼에 공백이 있는경우, 0으로 대입하고, int형으로 변경해보기\n",
    "[tip] df.loc"
   ]
  },
  {
   "cell_type": "code",
   "execution_count": 166,
   "id": "f6fcc3e5-ef48-44df-bac9-8f910bc65af4",
   "metadata": {
    "tags": []
   },
   "outputs": [],
   "source": [
    "# 분양가격 컬럼에 공백인 곳에 0으로 채우기\n",
    "# df_fillna.astype(int)\n",
    "df_fillna.loc[df_fillna[\"분양가격\"] == \"\", \"분양가격\"]=0"
   ]
  },
  {
   "cell_type": "markdown",
   "id": "d7746948-14e2-4ff0-ad2f-34e35bae2027",
   "metadata": {},
   "source": [
    "### 4-5 위에 나타난 에러에 표시된 데이터 행 확인하고, 제거하기"
   ]
  },
  {
   "cell_type": "code",
   "execution_count": 167,
   "id": "73f5a3f9-8391-4e69-8547-fcb82d667beb",
   "metadata": {
    "tags": []
   },
   "outputs": [
    {
     "data": {
      "text/html": [
       "<div>\n",
       "<style scoped>\n",
       "    .dataframe tbody tr th:only-of-type {\n",
       "        vertical-align: middle;\n",
       "    }\n",
       "\n",
       "    .dataframe tbody tr th {\n",
       "        vertical-align: top;\n",
       "    }\n",
       "\n",
       "    .dataframe thead th {\n",
       "        text-align: right;\n",
       "    }\n",
       "</style>\n",
       "<table border=\"1\" class=\"dataframe\">\n",
       "  <thead>\n",
       "    <tr style=\"text-align: right;\">\n",
       "      <th></th>\n",
       "      <th>지역명</th>\n",
       "      <th>규모구분</th>\n",
       "      <th>연도</th>\n",
       "      <th>월</th>\n",
       "      <th>분양가격</th>\n",
       "    </tr>\n",
       "  </thead>\n",
       "  <tbody>\n",
       "    <tr>\n",
       "      <th>2125</th>\n",
       "      <td>서울</td>\n",
       "      <td>전체</td>\n",
       "      <td>2017</td>\n",
       "      <td>11</td>\n",
       "      <td>6,657</td>\n",
       "    </tr>\n",
       "  </tbody>\n",
       "</table>\n",
       "</div>"
      ],
      "text/plain": [
       "     지역명 규모구분    연도   월   분양가격\n",
       "2125  서울   전체  2017  11  6,657"
      ]
     },
     "execution_count": 167,
     "metadata": {},
     "output_type": "execute_result"
    }
   ],
   "source": [
    "df_fillna.loc[df_fillna[\"분양가격\"] ==\"6,657\"]\n",
    "# df[ df['키'] > 175 ]['이름']\n",
    "# df_fillna[\"분양가격\"] = df_fillna[\"분양가격\"].astype(int)"
   ]
  },
  {
   "cell_type": "markdown",
   "id": "dd78b9c1-dee4-447d-b382-2a1af1301af6",
   "metadata": {},
   "source": [
    "#### 콤마를 제거 하기"
   ]
  },
  {
   "cell_type": "code",
   "execution_count": 168,
   "id": "b7a24eed-57ec-4ba2-8d17-a11243a2ba3e",
   "metadata": {
    "tags": []
   },
   "outputs": [],
   "source": [
    "df_fillna.loc[df_fillna[\"분양가격\"] ==\"6,657\", \"분양가격\"]=6657"
   ]
  },
  {
   "cell_type": "code",
   "execution_count": 169,
   "id": "29794721-81d2-4820-b5df-8e98365b300b",
   "metadata": {
    "tags": []
   },
   "outputs": [
    {
     "data": {
      "text/plain": [
       "지역명       서울\n",
       "규모구분      전체\n",
       "연도      2017\n",
       "월         11\n",
       "분양가격    6657\n",
       "Name: 2125, dtype: object"
      ]
     },
     "execution_count": 169,
     "metadata": {},
     "output_type": "execute_result"
    }
   ],
   "source": [
    "df_fillna.loc[2125]"
   ]
  },
  {
   "cell_type": "markdown",
   "id": "09f3b61b-16bc-4820-a57d-9402b171b95e",
   "metadata": {},
   "source": [
    "#### 다시 한번 분양가격 컬럼을 int형으로 형변환하기"
   ]
  },
  {
   "cell_type": "code",
   "execution_count": 170,
   "id": "91e8cb36-3ecc-4a38-a5ba-8647b049a8c8",
   "metadata": {
    "tags": []
   },
   "outputs": [],
   "source": [
    "df_fillna.loc[df_fillna[\"분양가격\"] =='6,931', \"분양가격\"]=6931"
   ]
  },
  {
   "cell_type": "code",
   "execution_count": 81,
   "id": "e01d1677-0261-4259-a46c-b0d3b052b6fb",
   "metadata": {
    "tags": []
   },
   "outputs": [
    {
     "ename": "ValueError",
     "evalue": "invalid literal for int() with base 10: '5,899'",
     "output_type": "error",
     "traceback": [
      "\u001b[1;31m---------------------------------------------------------------------------\u001b[0m",
      "\u001b[1;31mValueError\u001b[0m                                Traceback (most recent call last)",
      "Cell \u001b[1;32mIn[171], line 1\u001b[0m\n\u001b[1;32m----> 1\u001b[0m df_fillna[\u001b[38;5;124m\"\u001b[39m\u001b[38;5;124m분양가격\u001b[39m\u001b[38;5;124m\"\u001b[39m] \u001b[38;5;241m=\u001b[39m \u001b[43mdf_fillna\u001b[49m\u001b[43m[\u001b[49m\u001b[38;5;124;43m\"\u001b[39;49m\u001b[38;5;124;43m분양가격\u001b[39;49m\u001b[38;5;124;43m\"\u001b[39;49m\u001b[43m]\u001b[49m\u001b[38;5;241;43m.\u001b[39;49m\u001b[43mastype\u001b[49m\u001b[43m(\u001b[49m\u001b[38;5;28;43mint\u001b[39;49m\u001b[43m)\u001b[49m\n",
      "File \u001b[1;32mC:\\playdata_lab\\data_analysis\\da_venv\\lib\\site-packages\\pandas\\core\\generic.py:6324\u001b[0m, in \u001b[0;36mNDFrame.astype\u001b[1;34m(self, dtype, copy, errors)\u001b[0m\n\u001b[0;32m   6317\u001b[0m     results \u001b[38;5;241m=\u001b[39m [\n\u001b[0;32m   6318\u001b[0m         \u001b[38;5;28mself\u001b[39m\u001b[38;5;241m.\u001b[39miloc[:, i]\u001b[38;5;241m.\u001b[39mastype(dtype, copy\u001b[38;5;241m=\u001b[39mcopy)\n\u001b[0;32m   6319\u001b[0m         \u001b[38;5;28;01mfor\u001b[39;00m i \u001b[38;5;129;01min\u001b[39;00m \u001b[38;5;28mrange\u001b[39m(\u001b[38;5;28mlen\u001b[39m(\u001b[38;5;28mself\u001b[39m\u001b[38;5;241m.\u001b[39mcolumns))\n\u001b[0;32m   6320\u001b[0m     ]\n\u001b[0;32m   6322\u001b[0m \u001b[38;5;28;01melse\u001b[39;00m:\n\u001b[0;32m   6323\u001b[0m     \u001b[38;5;66;03m# else, only a single dtype is given\u001b[39;00m\n\u001b[1;32m-> 6324\u001b[0m     new_data \u001b[38;5;241m=\u001b[39m \u001b[38;5;28;43mself\u001b[39;49m\u001b[38;5;241;43m.\u001b[39;49m\u001b[43m_mgr\u001b[49m\u001b[38;5;241;43m.\u001b[39;49m\u001b[43mastype\u001b[49m\u001b[43m(\u001b[49m\u001b[43mdtype\u001b[49m\u001b[38;5;241;43m=\u001b[39;49m\u001b[43mdtype\u001b[49m\u001b[43m,\u001b[49m\u001b[43m \u001b[49m\u001b[43mcopy\u001b[49m\u001b[38;5;241;43m=\u001b[39;49m\u001b[43mcopy\u001b[49m\u001b[43m,\u001b[49m\u001b[43m \u001b[49m\u001b[43merrors\u001b[49m\u001b[38;5;241;43m=\u001b[39;49m\u001b[43merrors\u001b[49m\u001b[43m)\u001b[49m\n\u001b[0;32m   6325\u001b[0m     \u001b[38;5;28;01mreturn\u001b[39;00m \u001b[38;5;28mself\u001b[39m\u001b[38;5;241m.\u001b[39m_constructor(new_data)\u001b[38;5;241m.\u001b[39m__finalize__(\u001b[38;5;28mself\u001b[39m, method\u001b[38;5;241m=\u001b[39m\u001b[38;5;124m\"\u001b[39m\u001b[38;5;124mastype\u001b[39m\u001b[38;5;124m\"\u001b[39m)\n\u001b[0;32m   6327\u001b[0m \u001b[38;5;66;03m# GH 33113: handle empty frame or series\u001b[39;00m\n",
      "File \u001b[1;32mC:\\playdata_lab\\data_analysis\\da_venv\\lib\\site-packages\\pandas\\core\\internals\\managers.py:451\u001b[0m, in \u001b[0;36mBaseBlockManager.astype\u001b[1;34m(self, dtype, copy, errors)\u001b[0m\n\u001b[0;32m    448\u001b[0m \u001b[38;5;28;01melif\u001b[39;00m using_copy_on_write():\n\u001b[0;32m    449\u001b[0m     copy \u001b[38;5;241m=\u001b[39m \u001b[38;5;28;01mFalse\u001b[39;00m\n\u001b[1;32m--> 451\u001b[0m \u001b[38;5;28;01mreturn\u001b[39;00m \u001b[38;5;28;43mself\u001b[39;49m\u001b[38;5;241;43m.\u001b[39;49m\u001b[43mapply\u001b[49m\u001b[43m(\u001b[49m\n\u001b[0;32m    452\u001b[0m \u001b[43m    \u001b[49m\u001b[38;5;124;43m\"\u001b[39;49m\u001b[38;5;124;43mastype\u001b[39;49m\u001b[38;5;124;43m\"\u001b[39;49m\u001b[43m,\u001b[49m\n\u001b[0;32m    453\u001b[0m \u001b[43m    \u001b[49m\u001b[43mdtype\u001b[49m\u001b[38;5;241;43m=\u001b[39;49m\u001b[43mdtype\u001b[49m\u001b[43m,\u001b[49m\n\u001b[0;32m    454\u001b[0m \u001b[43m    \u001b[49m\u001b[43mcopy\u001b[49m\u001b[38;5;241;43m=\u001b[39;49m\u001b[43mcopy\u001b[49m\u001b[43m,\u001b[49m\n\u001b[0;32m    455\u001b[0m \u001b[43m    \u001b[49m\u001b[43merrors\u001b[49m\u001b[38;5;241;43m=\u001b[39;49m\u001b[43merrors\u001b[49m\u001b[43m,\u001b[49m\n\u001b[0;32m    456\u001b[0m \u001b[43m    \u001b[49m\u001b[43musing_cow\u001b[49m\u001b[38;5;241;43m=\u001b[39;49m\u001b[43musing_copy_on_write\u001b[49m\u001b[43m(\u001b[49m\u001b[43m)\u001b[49m\u001b[43m,\u001b[49m\n\u001b[0;32m    457\u001b[0m \u001b[43m\u001b[49m\u001b[43m)\u001b[49m\n",
      "File \u001b[1;32mC:\\playdata_lab\\data_analysis\\da_venv\\lib\\site-packages\\pandas\\core\\internals\\managers.py:352\u001b[0m, in \u001b[0;36mBaseBlockManager.apply\u001b[1;34m(self, f, align_keys, **kwargs)\u001b[0m\n\u001b[0;32m    350\u001b[0m         applied \u001b[38;5;241m=\u001b[39m b\u001b[38;5;241m.\u001b[39mapply(f, \u001b[38;5;241m*\u001b[39m\u001b[38;5;241m*\u001b[39mkwargs)\n\u001b[0;32m    351\u001b[0m     \u001b[38;5;28;01melse\u001b[39;00m:\n\u001b[1;32m--> 352\u001b[0m         applied \u001b[38;5;241m=\u001b[39m \u001b[38;5;28mgetattr\u001b[39m(b, f)(\u001b[38;5;241m*\u001b[39m\u001b[38;5;241m*\u001b[39mkwargs)\n\u001b[0;32m    353\u001b[0m     result_blocks \u001b[38;5;241m=\u001b[39m extend_blocks(applied, result_blocks)\n\u001b[0;32m    355\u001b[0m out \u001b[38;5;241m=\u001b[39m \u001b[38;5;28mtype\u001b[39m(\u001b[38;5;28mself\u001b[39m)\u001b[38;5;241m.\u001b[39mfrom_blocks(result_blocks, \u001b[38;5;28mself\u001b[39m\u001b[38;5;241m.\u001b[39maxes)\n",
      "File \u001b[1;32mC:\\playdata_lab\\data_analysis\\da_venv\\lib\\site-packages\\pandas\\core\\internals\\blocks.py:511\u001b[0m, in \u001b[0;36mBlock.astype\u001b[1;34m(self, dtype, copy, errors, using_cow)\u001b[0m\n\u001b[0;32m    491\u001b[0m \u001b[38;5;250m\u001b[39m\u001b[38;5;124;03m\"\"\"\u001b[39;00m\n\u001b[0;32m    492\u001b[0m \u001b[38;5;124;03mCoerce to the new dtype.\u001b[39;00m\n\u001b[0;32m    493\u001b[0m \n\u001b[1;32m   (...)\u001b[0m\n\u001b[0;32m    507\u001b[0m \u001b[38;5;124;03mBlock\u001b[39;00m\n\u001b[0;32m    508\u001b[0m \u001b[38;5;124;03m\"\"\"\u001b[39;00m\n\u001b[0;32m    509\u001b[0m values \u001b[38;5;241m=\u001b[39m \u001b[38;5;28mself\u001b[39m\u001b[38;5;241m.\u001b[39mvalues\n\u001b[1;32m--> 511\u001b[0m new_values \u001b[38;5;241m=\u001b[39m \u001b[43mastype_array_safe\u001b[49m\u001b[43m(\u001b[49m\u001b[43mvalues\u001b[49m\u001b[43m,\u001b[49m\u001b[43m \u001b[49m\u001b[43mdtype\u001b[49m\u001b[43m,\u001b[49m\u001b[43m \u001b[49m\u001b[43mcopy\u001b[49m\u001b[38;5;241;43m=\u001b[39;49m\u001b[43mcopy\u001b[49m\u001b[43m,\u001b[49m\u001b[43m \u001b[49m\u001b[43merrors\u001b[49m\u001b[38;5;241;43m=\u001b[39;49m\u001b[43merrors\u001b[49m\u001b[43m)\u001b[49m\n\u001b[0;32m    513\u001b[0m new_values \u001b[38;5;241m=\u001b[39m maybe_coerce_values(new_values)\n\u001b[0;32m    515\u001b[0m refs \u001b[38;5;241m=\u001b[39m \u001b[38;5;28;01mNone\u001b[39;00m\n",
      "File \u001b[1;32mC:\\playdata_lab\\data_analysis\\da_venv\\lib\\site-packages\\pandas\\core\\dtypes\\astype.py:242\u001b[0m, in \u001b[0;36mastype_array_safe\u001b[1;34m(values, dtype, copy, errors)\u001b[0m\n\u001b[0;32m    239\u001b[0m     dtype \u001b[38;5;241m=\u001b[39m dtype\u001b[38;5;241m.\u001b[39mnumpy_dtype\n\u001b[0;32m    241\u001b[0m \u001b[38;5;28;01mtry\u001b[39;00m:\n\u001b[1;32m--> 242\u001b[0m     new_values \u001b[38;5;241m=\u001b[39m \u001b[43mastype_array\u001b[49m\u001b[43m(\u001b[49m\u001b[43mvalues\u001b[49m\u001b[43m,\u001b[49m\u001b[43m \u001b[49m\u001b[43mdtype\u001b[49m\u001b[43m,\u001b[49m\u001b[43m \u001b[49m\u001b[43mcopy\u001b[49m\u001b[38;5;241;43m=\u001b[39;49m\u001b[43mcopy\u001b[49m\u001b[43m)\u001b[49m\n\u001b[0;32m    243\u001b[0m \u001b[38;5;28;01mexcept\u001b[39;00m (\u001b[38;5;167;01mValueError\u001b[39;00m, \u001b[38;5;167;01mTypeError\u001b[39;00m):\n\u001b[0;32m    244\u001b[0m     \u001b[38;5;66;03m# e.g. _astype_nansafe can fail on object-dtype of strings\u001b[39;00m\n\u001b[0;32m    245\u001b[0m     \u001b[38;5;66;03m#  trying to convert to float\u001b[39;00m\n\u001b[0;32m    246\u001b[0m     \u001b[38;5;28;01mif\u001b[39;00m errors \u001b[38;5;241m==\u001b[39m \u001b[38;5;124m\"\u001b[39m\u001b[38;5;124mignore\u001b[39m\u001b[38;5;124m\"\u001b[39m:\n",
      "File \u001b[1;32mC:\\playdata_lab\\data_analysis\\da_venv\\lib\\site-packages\\pandas\\core\\dtypes\\astype.py:187\u001b[0m, in \u001b[0;36mastype_array\u001b[1;34m(values, dtype, copy)\u001b[0m\n\u001b[0;32m    184\u001b[0m     values \u001b[38;5;241m=\u001b[39m values\u001b[38;5;241m.\u001b[39mastype(dtype, copy\u001b[38;5;241m=\u001b[39mcopy)\n\u001b[0;32m    186\u001b[0m \u001b[38;5;28;01melse\u001b[39;00m:\n\u001b[1;32m--> 187\u001b[0m     values \u001b[38;5;241m=\u001b[39m \u001b[43m_astype_nansafe\u001b[49m\u001b[43m(\u001b[49m\u001b[43mvalues\u001b[49m\u001b[43m,\u001b[49m\u001b[43m \u001b[49m\u001b[43mdtype\u001b[49m\u001b[43m,\u001b[49m\u001b[43m \u001b[49m\u001b[43mcopy\u001b[49m\u001b[38;5;241;43m=\u001b[39;49m\u001b[43mcopy\u001b[49m\u001b[43m)\u001b[49m\n\u001b[0;32m    189\u001b[0m \u001b[38;5;66;03m# in pandas we don't store numpy str dtypes, so convert to object\u001b[39;00m\n\u001b[0;32m    190\u001b[0m \u001b[38;5;28;01mif\u001b[39;00m \u001b[38;5;28misinstance\u001b[39m(dtype, np\u001b[38;5;241m.\u001b[39mdtype) \u001b[38;5;129;01mand\u001b[39;00m \u001b[38;5;28missubclass\u001b[39m(values\u001b[38;5;241m.\u001b[39mdtype\u001b[38;5;241m.\u001b[39mtype, \u001b[38;5;28mstr\u001b[39m):\n",
      "File \u001b[1;32mC:\\playdata_lab\\data_analysis\\da_venv\\lib\\site-packages\\pandas\\core\\dtypes\\astype.py:138\u001b[0m, in \u001b[0;36m_astype_nansafe\u001b[1;34m(arr, dtype, copy, skipna)\u001b[0m\n\u001b[0;32m    134\u001b[0m     \u001b[38;5;28;01mraise\u001b[39;00m \u001b[38;5;167;01mValueError\u001b[39;00m(msg)\n\u001b[0;32m    136\u001b[0m \u001b[38;5;28;01mif\u001b[39;00m copy \u001b[38;5;129;01mor\u001b[39;00m is_object_dtype(arr\u001b[38;5;241m.\u001b[39mdtype) \u001b[38;5;129;01mor\u001b[39;00m is_object_dtype(dtype):\n\u001b[0;32m    137\u001b[0m     \u001b[38;5;66;03m# Explicit copy, or required since NumPy can't view from / to object.\u001b[39;00m\n\u001b[1;32m--> 138\u001b[0m     \u001b[38;5;28;01mreturn\u001b[39;00m \u001b[43marr\u001b[49m\u001b[38;5;241;43m.\u001b[39;49m\u001b[43mastype\u001b[49m\u001b[43m(\u001b[49m\u001b[43mdtype\u001b[49m\u001b[43m,\u001b[49m\u001b[43m \u001b[49m\u001b[43mcopy\u001b[49m\u001b[38;5;241;43m=\u001b[39;49m\u001b[38;5;28;43;01mTrue\u001b[39;49;00m\u001b[43m)\u001b[49m\n\u001b[0;32m    140\u001b[0m \u001b[38;5;28;01mreturn\u001b[39;00m arr\u001b[38;5;241m.\u001b[39mastype(dtype, copy\u001b[38;5;241m=\u001b[39mcopy)\n",
      "\u001b[1;31mValueError\u001b[0m: invalid literal for int() with base 10: '5,899'"
     ]
    }
   ],
   "source": [
    "df_fillna[\"분양가격\"] = df_fillna[\"분양가격\"].astype(int)"
   ]
  },
  {
   "cell_type": "markdown",
   "id": "ffd160a9-c9b5-4ab1-bb76-378165b4ebf6",
   "metadata": {},
   "source": [
    "#### '분양가격' 컬럼에 '-'가 있는지 확인하기"
   ]
  },
  {
   "cell_type": "code",
   "execution_count": 82,
   "id": "fff28198-96d7-4d84-8579-d77aca627f4f",
   "metadata": {
    "tags": []
   },
   "outputs": [
    {
     "data": {
      "text/html": [
       "<div>\n",
       "<style scoped>\n",
       "    .dataframe tbody tr th:only-of-type {\n",
       "        vertical-align: middle;\n",
       "    }\n",
       "\n",
       "    .dataframe tbody tr th {\n",
       "        vertical-align: top;\n",
       "    }\n",
       "\n",
       "    .dataframe thead th {\n",
       "        text-align: right;\n",
       "    }\n",
       "</style>\n",
       "<table border=\"1\" class=\"dataframe\">\n",
       "  <thead>\n",
       "    <tr style=\"text-align: right;\">\n",
       "      <th></th>\n",
       "      <th>지역명</th>\n",
       "      <th>규모구분</th>\n",
       "      <th>연도</th>\n",
       "      <th>월</th>\n",
       "      <th>분양가격</th>\n",
       "    </tr>\n",
       "  </thead>\n",
       "  <tbody>\n",
       "    <tr>\n",
       "      <th>3683</th>\n",
       "      <td>광주</td>\n",
       "      <td>전용면적 85㎡초과 102㎡이하</td>\n",
       "      <td>2019</td>\n",
       "      <td>5</td>\n",
       "      <td>-</td>\n",
       "    </tr>\n",
       "    <tr>\n",
       "      <th>3686</th>\n",
       "      <td>대전</td>\n",
       "      <td>전용면적 60㎡이하</td>\n",
       "      <td>2019</td>\n",
       "      <td>5</td>\n",
       "      <td>-</td>\n",
       "    </tr>\n",
       "    <tr>\n",
       "      <th>3688</th>\n",
       "      <td>대전</td>\n",
       "      <td>전용면적 85㎡초과 102㎡이하</td>\n",
       "      <td>2019</td>\n",
       "      <td>5</td>\n",
       "      <td>-</td>\n",
       "    </tr>\n",
       "    <tr>\n",
       "      <th>3690</th>\n",
       "      <td>울산</td>\n",
       "      <td>전체</td>\n",
       "      <td>2019</td>\n",
       "      <td>5</td>\n",
       "      <td>-</td>\n",
       "    </tr>\n",
       "    <tr>\n",
       "      <th>3691</th>\n",
       "      <td>울산</td>\n",
       "      <td>전용면적 60㎡이하</td>\n",
       "      <td>2019</td>\n",
       "      <td>5</td>\n",
       "      <td>-</td>\n",
       "    </tr>\n",
       "    <tr>\n",
       "      <th>3692</th>\n",
       "      <td>울산</td>\n",
       "      <td>전용면적 60㎡초과 85㎡이하</td>\n",
       "      <td>2019</td>\n",
       "      <td>5</td>\n",
       "      <td>-</td>\n",
       "    </tr>\n",
       "    <tr>\n",
       "      <th>3693</th>\n",
       "      <td>울산</td>\n",
       "      <td>전용면적 85㎡초과 102㎡이하</td>\n",
       "      <td>2019</td>\n",
       "      <td>5</td>\n",
       "      <td>-</td>\n",
       "    </tr>\n",
       "    <tr>\n",
       "      <th>3694</th>\n",
       "      <td>울산</td>\n",
       "      <td>전용면적 102㎡초과</td>\n",
       "      <td>2019</td>\n",
       "      <td>5</td>\n",
       "      <td>-</td>\n",
       "    </tr>\n",
       "    <tr>\n",
       "      <th>3696</th>\n",
       "      <td>세종</td>\n",
       "      <td>전용면적 60㎡이하</td>\n",
       "      <td>2019</td>\n",
       "      <td>5</td>\n",
       "      <td>-</td>\n",
       "    </tr>\n",
       "  </tbody>\n",
       "</table>\n",
       "</div>"
      ],
      "text/plain": [
       "     지역명               규모구분    연도  월 분양가격\n",
       "3683  광주  전용면적 85㎡초과 102㎡이하  2019  5    -\n",
       "3686  대전         전용면적 60㎡이하  2019  5    -\n",
       "3688  대전  전용면적 85㎡초과 102㎡이하  2019  5    -\n",
       "3690  울산                 전체  2019  5    -\n",
       "3691  울산         전용면적 60㎡이하  2019  5    -\n",
       "3692  울산   전용면적 60㎡초과 85㎡이하  2019  5    -\n",
       "3693  울산  전용면적 85㎡초과 102㎡이하  2019  5    -\n",
       "3694  울산        전용면적 102㎡초과  2019  5    -\n",
       "3696  세종         전용면적 60㎡이하  2019  5    -"
      ]
     },
     "execution_count": 172,
     "metadata": {},
     "output_type": "execute_result"
    }
   ],
   "source": [
    "# df_fillna.loc[df_fillna[\"분양가격\"] ==\"6,657\", \"분양가격\"]=6657\n",
    "df_fillna.loc[df_fillna[\"분양가격\"] ==\"-\"]"
   ]
  },
  {
   "cell_type": "markdown",
   "id": "d715393a-fb33-44f0-b162-90fdaa77afd0",
   "metadata": {},
   "source": [
    "#### '-' 제거하기"
   ]
  },
  {
   "cell_type": "code",
   "execution_count": 174,
   "id": "703af392-55e9-4b79-939a-dd989c3de463",
   "metadata": {
    "tags": []
   },
   "outputs": [],
   "source": [
    "df_fillna.loc[df_fillna[\"분양가격\"] ==\"-\", \"분양가격\"]=0"
   ]
  },
  {
   "cell_type": "code",
   "execution_count": 177,
   "id": "a787ebf5-e914-4825-beda-1765fecf4e69",
   "metadata": {
    "tags": []
   },
   "outputs": [
    {
     "ename": "ValueError",
     "evalue": "invalid literal for int() with base 10: '7,311'",
     "output_type": "error",
     "traceback": [
      "\u001b[1;31m---------------------------------------------------------------------------\u001b[0m",
      "\u001b[1;31mValueError\u001b[0m                                Traceback (most recent call last)",
      "Cell \u001b[1;32mIn[177], line 1\u001b[0m\n\u001b[1;32m----> 1\u001b[0m df_fillna[\u001b[38;5;124m\"\u001b[39m\u001b[38;5;124m분양가격\u001b[39m\u001b[38;5;124m\"\u001b[39m] \u001b[38;5;241m=\u001b[39m \u001b[43mdf_fillna\u001b[49m\u001b[43m[\u001b[49m\u001b[38;5;124;43m\"\u001b[39;49m\u001b[38;5;124;43m분양가격\u001b[39;49m\u001b[38;5;124;43m\"\u001b[39;49m\u001b[43m]\u001b[49m\u001b[38;5;241;43m.\u001b[39;49m\u001b[43mastype\u001b[49m\u001b[43m(\u001b[49m\u001b[38;5;28;43mint\u001b[39;49m\u001b[43m)\u001b[49m\n",
      "File \u001b[1;32mC:\\playdata_lab\\data_analysis\\da_venv\\lib\\site-packages\\pandas\\core\\generic.py:6324\u001b[0m, in \u001b[0;36mNDFrame.astype\u001b[1;34m(self, dtype, copy, errors)\u001b[0m\n\u001b[0;32m   6317\u001b[0m     results \u001b[38;5;241m=\u001b[39m [\n\u001b[0;32m   6318\u001b[0m         \u001b[38;5;28mself\u001b[39m\u001b[38;5;241m.\u001b[39miloc[:, i]\u001b[38;5;241m.\u001b[39mastype(dtype, copy\u001b[38;5;241m=\u001b[39mcopy)\n\u001b[0;32m   6319\u001b[0m         \u001b[38;5;28;01mfor\u001b[39;00m i \u001b[38;5;129;01min\u001b[39;00m \u001b[38;5;28mrange\u001b[39m(\u001b[38;5;28mlen\u001b[39m(\u001b[38;5;28mself\u001b[39m\u001b[38;5;241m.\u001b[39mcolumns))\n\u001b[0;32m   6320\u001b[0m     ]\n\u001b[0;32m   6322\u001b[0m \u001b[38;5;28;01melse\u001b[39;00m:\n\u001b[0;32m   6323\u001b[0m     \u001b[38;5;66;03m# else, only a single dtype is given\u001b[39;00m\n\u001b[1;32m-> 6324\u001b[0m     new_data \u001b[38;5;241m=\u001b[39m \u001b[38;5;28;43mself\u001b[39;49m\u001b[38;5;241;43m.\u001b[39;49m\u001b[43m_mgr\u001b[49m\u001b[38;5;241;43m.\u001b[39;49m\u001b[43mastype\u001b[49m\u001b[43m(\u001b[49m\u001b[43mdtype\u001b[49m\u001b[38;5;241;43m=\u001b[39;49m\u001b[43mdtype\u001b[49m\u001b[43m,\u001b[49m\u001b[43m \u001b[49m\u001b[43mcopy\u001b[49m\u001b[38;5;241;43m=\u001b[39;49m\u001b[43mcopy\u001b[49m\u001b[43m,\u001b[49m\u001b[43m \u001b[49m\u001b[43merrors\u001b[49m\u001b[38;5;241;43m=\u001b[39;49m\u001b[43merrors\u001b[49m\u001b[43m)\u001b[49m\n\u001b[0;32m   6325\u001b[0m     \u001b[38;5;28;01mreturn\u001b[39;00m \u001b[38;5;28mself\u001b[39m\u001b[38;5;241m.\u001b[39m_constructor(new_data)\u001b[38;5;241m.\u001b[39m__finalize__(\u001b[38;5;28mself\u001b[39m, method\u001b[38;5;241m=\u001b[39m\u001b[38;5;124m\"\u001b[39m\u001b[38;5;124mastype\u001b[39m\u001b[38;5;124m\"\u001b[39m)\n\u001b[0;32m   6327\u001b[0m \u001b[38;5;66;03m# GH 33113: handle empty frame or series\u001b[39;00m\n",
      "File \u001b[1;32mC:\\playdata_lab\\data_analysis\\da_venv\\lib\\site-packages\\pandas\\core\\internals\\managers.py:451\u001b[0m, in \u001b[0;36mBaseBlockManager.astype\u001b[1;34m(self, dtype, copy, errors)\u001b[0m\n\u001b[0;32m    448\u001b[0m \u001b[38;5;28;01melif\u001b[39;00m using_copy_on_write():\n\u001b[0;32m    449\u001b[0m     copy \u001b[38;5;241m=\u001b[39m \u001b[38;5;28;01mFalse\u001b[39;00m\n\u001b[1;32m--> 451\u001b[0m \u001b[38;5;28;01mreturn\u001b[39;00m \u001b[38;5;28;43mself\u001b[39;49m\u001b[38;5;241;43m.\u001b[39;49m\u001b[43mapply\u001b[49m\u001b[43m(\u001b[49m\n\u001b[0;32m    452\u001b[0m \u001b[43m    \u001b[49m\u001b[38;5;124;43m\"\u001b[39;49m\u001b[38;5;124;43mastype\u001b[39;49m\u001b[38;5;124;43m\"\u001b[39;49m\u001b[43m,\u001b[49m\n\u001b[0;32m    453\u001b[0m \u001b[43m    \u001b[49m\u001b[43mdtype\u001b[49m\u001b[38;5;241;43m=\u001b[39;49m\u001b[43mdtype\u001b[49m\u001b[43m,\u001b[49m\n\u001b[0;32m    454\u001b[0m \u001b[43m    \u001b[49m\u001b[43mcopy\u001b[49m\u001b[38;5;241;43m=\u001b[39;49m\u001b[43mcopy\u001b[49m\u001b[43m,\u001b[49m\n\u001b[0;32m    455\u001b[0m \u001b[43m    \u001b[49m\u001b[43merrors\u001b[49m\u001b[38;5;241;43m=\u001b[39;49m\u001b[43merrors\u001b[49m\u001b[43m,\u001b[49m\n\u001b[0;32m    456\u001b[0m \u001b[43m    \u001b[49m\u001b[43musing_cow\u001b[49m\u001b[38;5;241;43m=\u001b[39;49m\u001b[43musing_copy_on_write\u001b[49m\u001b[43m(\u001b[49m\u001b[43m)\u001b[49m\u001b[43m,\u001b[49m\n\u001b[0;32m    457\u001b[0m \u001b[43m\u001b[49m\u001b[43m)\u001b[49m\n",
      "File \u001b[1;32mC:\\playdata_lab\\data_analysis\\da_venv\\lib\\site-packages\\pandas\\core\\internals\\managers.py:352\u001b[0m, in \u001b[0;36mBaseBlockManager.apply\u001b[1;34m(self, f, align_keys, **kwargs)\u001b[0m\n\u001b[0;32m    350\u001b[0m         applied \u001b[38;5;241m=\u001b[39m b\u001b[38;5;241m.\u001b[39mapply(f, \u001b[38;5;241m*\u001b[39m\u001b[38;5;241m*\u001b[39mkwargs)\n\u001b[0;32m    351\u001b[0m     \u001b[38;5;28;01melse\u001b[39;00m:\n\u001b[1;32m--> 352\u001b[0m         applied \u001b[38;5;241m=\u001b[39m \u001b[38;5;28mgetattr\u001b[39m(b, f)(\u001b[38;5;241m*\u001b[39m\u001b[38;5;241m*\u001b[39mkwargs)\n\u001b[0;32m    353\u001b[0m     result_blocks \u001b[38;5;241m=\u001b[39m extend_blocks(applied, result_blocks)\n\u001b[0;32m    355\u001b[0m out \u001b[38;5;241m=\u001b[39m \u001b[38;5;28mtype\u001b[39m(\u001b[38;5;28mself\u001b[39m)\u001b[38;5;241m.\u001b[39mfrom_blocks(result_blocks, \u001b[38;5;28mself\u001b[39m\u001b[38;5;241m.\u001b[39maxes)\n",
      "File \u001b[1;32mC:\\playdata_lab\\data_analysis\\da_venv\\lib\\site-packages\\pandas\\core\\internals\\blocks.py:511\u001b[0m, in \u001b[0;36mBlock.astype\u001b[1;34m(self, dtype, copy, errors, using_cow)\u001b[0m\n\u001b[0;32m    491\u001b[0m \u001b[38;5;250m\u001b[39m\u001b[38;5;124;03m\"\"\"\u001b[39;00m\n\u001b[0;32m    492\u001b[0m \u001b[38;5;124;03mCoerce to the new dtype.\u001b[39;00m\n\u001b[0;32m    493\u001b[0m \n\u001b[1;32m   (...)\u001b[0m\n\u001b[0;32m    507\u001b[0m \u001b[38;5;124;03mBlock\u001b[39;00m\n\u001b[0;32m    508\u001b[0m \u001b[38;5;124;03m\"\"\"\u001b[39;00m\n\u001b[0;32m    509\u001b[0m values \u001b[38;5;241m=\u001b[39m \u001b[38;5;28mself\u001b[39m\u001b[38;5;241m.\u001b[39mvalues\n\u001b[1;32m--> 511\u001b[0m new_values \u001b[38;5;241m=\u001b[39m \u001b[43mastype_array_safe\u001b[49m\u001b[43m(\u001b[49m\u001b[43mvalues\u001b[49m\u001b[43m,\u001b[49m\u001b[43m \u001b[49m\u001b[43mdtype\u001b[49m\u001b[43m,\u001b[49m\u001b[43m \u001b[49m\u001b[43mcopy\u001b[49m\u001b[38;5;241;43m=\u001b[39;49m\u001b[43mcopy\u001b[49m\u001b[43m,\u001b[49m\u001b[43m \u001b[49m\u001b[43merrors\u001b[49m\u001b[38;5;241;43m=\u001b[39;49m\u001b[43merrors\u001b[49m\u001b[43m)\u001b[49m\n\u001b[0;32m    513\u001b[0m new_values \u001b[38;5;241m=\u001b[39m maybe_coerce_values(new_values)\n\u001b[0;32m    515\u001b[0m refs \u001b[38;5;241m=\u001b[39m \u001b[38;5;28;01mNone\u001b[39;00m\n",
      "File \u001b[1;32mC:\\playdata_lab\\data_analysis\\da_venv\\lib\\site-packages\\pandas\\core\\dtypes\\astype.py:242\u001b[0m, in \u001b[0;36mastype_array_safe\u001b[1;34m(values, dtype, copy, errors)\u001b[0m\n\u001b[0;32m    239\u001b[0m     dtype \u001b[38;5;241m=\u001b[39m dtype\u001b[38;5;241m.\u001b[39mnumpy_dtype\n\u001b[0;32m    241\u001b[0m \u001b[38;5;28;01mtry\u001b[39;00m:\n\u001b[1;32m--> 242\u001b[0m     new_values \u001b[38;5;241m=\u001b[39m \u001b[43mastype_array\u001b[49m\u001b[43m(\u001b[49m\u001b[43mvalues\u001b[49m\u001b[43m,\u001b[49m\u001b[43m \u001b[49m\u001b[43mdtype\u001b[49m\u001b[43m,\u001b[49m\u001b[43m \u001b[49m\u001b[43mcopy\u001b[49m\u001b[38;5;241;43m=\u001b[39;49m\u001b[43mcopy\u001b[49m\u001b[43m)\u001b[49m\n\u001b[0;32m    243\u001b[0m \u001b[38;5;28;01mexcept\u001b[39;00m (\u001b[38;5;167;01mValueError\u001b[39;00m, \u001b[38;5;167;01mTypeError\u001b[39;00m):\n\u001b[0;32m    244\u001b[0m     \u001b[38;5;66;03m# e.g. _astype_nansafe can fail on object-dtype of strings\u001b[39;00m\n\u001b[0;32m    245\u001b[0m     \u001b[38;5;66;03m#  trying to convert to float\u001b[39;00m\n\u001b[0;32m    246\u001b[0m     \u001b[38;5;28;01mif\u001b[39;00m errors \u001b[38;5;241m==\u001b[39m \u001b[38;5;124m\"\u001b[39m\u001b[38;5;124mignore\u001b[39m\u001b[38;5;124m\"\u001b[39m:\n",
      "File \u001b[1;32mC:\\playdata_lab\\data_analysis\\da_venv\\lib\\site-packages\\pandas\\core\\dtypes\\astype.py:187\u001b[0m, in \u001b[0;36mastype_array\u001b[1;34m(values, dtype, copy)\u001b[0m\n\u001b[0;32m    184\u001b[0m     values \u001b[38;5;241m=\u001b[39m values\u001b[38;5;241m.\u001b[39mastype(dtype, copy\u001b[38;5;241m=\u001b[39mcopy)\n\u001b[0;32m    186\u001b[0m \u001b[38;5;28;01melse\u001b[39;00m:\n\u001b[1;32m--> 187\u001b[0m     values \u001b[38;5;241m=\u001b[39m \u001b[43m_astype_nansafe\u001b[49m\u001b[43m(\u001b[49m\u001b[43mvalues\u001b[49m\u001b[43m,\u001b[49m\u001b[43m \u001b[49m\u001b[43mdtype\u001b[49m\u001b[43m,\u001b[49m\u001b[43m \u001b[49m\u001b[43mcopy\u001b[49m\u001b[38;5;241;43m=\u001b[39;49m\u001b[43mcopy\u001b[49m\u001b[43m)\u001b[49m\n\u001b[0;32m    189\u001b[0m \u001b[38;5;66;03m# in pandas we don't store numpy str dtypes, so convert to object\u001b[39;00m\n\u001b[0;32m    190\u001b[0m \u001b[38;5;28;01mif\u001b[39;00m \u001b[38;5;28misinstance\u001b[39m(dtype, np\u001b[38;5;241m.\u001b[39mdtype) \u001b[38;5;129;01mand\u001b[39;00m \u001b[38;5;28missubclass\u001b[39m(values\u001b[38;5;241m.\u001b[39mdtype\u001b[38;5;241m.\u001b[39mtype, \u001b[38;5;28mstr\u001b[39m):\n",
      "File \u001b[1;32mC:\\playdata_lab\\data_analysis\\da_venv\\lib\\site-packages\\pandas\\core\\dtypes\\astype.py:138\u001b[0m, in \u001b[0;36m_astype_nansafe\u001b[1;34m(arr, dtype, copy, skipna)\u001b[0m\n\u001b[0;32m    134\u001b[0m     \u001b[38;5;28;01mraise\u001b[39;00m \u001b[38;5;167;01mValueError\u001b[39;00m(msg)\n\u001b[0;32m    136\u001b[0m \u001b[38;5;28;01mif\u001b[39;00m copy \u001b[38;5;129;01mor\u001b[39;00m is_object_dtype(arr\u001b[38;5;241m.\u001b[39mdtype) \u001b[38;5;129;01mor\u001b[39;00m is_object_dtype(dtype):\n\u001b[0;32m    137\u001b[0m     \u001b[38;5;66;03m# Explicit copy, or required since NumPy can't view from / to object.\u001b[39;00m\n\u001b[1;32m--> 138\u001b[0m     \u001b[38;5;28;01mreturn\u001b[39;00m \u001b[43marr\u001b[49m\u001b[38;5;241;43m.\u001b[39;49m\u001b[43mastype\u001b[49m\u001b[43m(\u001b[49m\u001b[43mdtype\u001b[49m\u001b[43m,\u001b[49m\u001b[43m \u001b[49m\u001b[43mcopy\u001b[49m\u001b[38;5;241;43m=\u001b[39;49m\u001b[38;5;28;43;01mTrue\u001b[39;49;00m\u001b[43m)\u001b[49m\n\u001b[0;32m    140\u001b[0m \u001b[38;5;28;01mreturn\u001b[39;00m arr\u001b[38;5;241m.\u001b[39mastype(dtype, copy\u001b[38;5;241m=\u001b[39mcopy)\n",
      "\u001b[1;31mValueError\u001b[0m: invalid literal for int() with base 10: '7,311'"
     ]
    }
   ],
   "source": [
    "df_fillna[\"분양가격\"] = df_fillna[\"분양가격\"].astype(int)"
   ]
  },
  {
   "cell_type": "code",
   "execution_count": 176,
   "id": "af4f78ee-bf50-4df9-aeb3-2075bed61637",
   "metadata": {
    "tags": []
   },
   "outputs": [],
   "source": [
    "df_fillna.loc[df_fillna[\"분양가격\"] =='5,899', \"분양가격\"]=5899"
   ]
  },
  {
   "cell_type": "code",
   "execution_count": 252,
   "id": "4fcac3ad-bf97-42a7-b6d8-d487d162d4d3",
   "metadata": {
    "tags": []
   },
   "outputs": [],
   "source": [
    "\n",
    "# if type(df[\"분양가격\"]) == str:\n",
    "    # test= '\"분양가격\".contains(\",\")'\n",
    "# else:\n",
    "#     test = '\"분양가격\".str.contains(\",\")'\n",
    "df_fillna.loc[df_fillna[\"분양가격\"].str.contains(\",\", na=False), \"분양가격\"]=df_fillna[\"분양가격\"].str.replace(\",\",\"\")\n",
    "# test = df_fillna[\"분양가격\"].apply(lambda x: \",\" if \",\" in x else pass)\n",
    "# =df[\"분양가격\"].str.replace(\",\", \"\")\n",
    "# = df[\"규모구분\"].str.replace(search, \"\")\n",
    "# df.query(test)\n",
    "# print(df_fillna[\"분양가격\"].str.contains(\",\"))"
   ]
  },
  {
   "cell_type": "code",
   "execution_count": 253,
   "id": "13884a6c-5d12-482e-a1ed-caf4805254e3",
   "metadata": {
    "tags": []
   },
   "outputs": [],
   "source": [
    "df_fillna[\"분양가격\"] = df_fillna[\"분양가격\"].astype(int)"
   ]
  },
  {
   "cell_type": "markdown",
   "id": "3758eea3-cf54-4156-97d2-75f1f56ad854",
   "metadata": {},
   "source": [
    "### 4-6 데이터 프레임에 null 값이 있는지 확인해보기"
   ]
  },
  {
   "cell_type": "code",
   "execution_count": 254,
   "id": "b72080d5-8d31-47b9-b682-39345f9ece1d",
   "metadata": {
    "tags": []
   },
   "outputs": [
    {
     "name": "stdout",
     "output_type": "stream",
     "text": [
      "<class 'pandas.core.frame.DataFrame'>\n",
      "RangeIndex: 4505 entries, 0 to 4504\n",
      "Data columns (total 5 columns):\n",
      " #   Column  Non-Null Count  Dtype \n",
      "---  ------  --------------  ----- \n",
      " 0   지역명     4505 non-null   object\n",
      " 1   규모구분    4505 non-null   object\n",
      " 2   연도      4505 non-null   int64 \n",
      " 3   월       4505 non-null   int64 \n",
      " 4   분양가격    4505 non-null   int32 \n",
      "dtypes: int32(1), int64(2), object(2)\n",
      "memory usage: 158.5+ KB\n"
     ]
    }
   ],
   "source": [
    "df_fillna.info()"
   ]
  },
  {
   "cell_type": "code",
   "execution_count": 255,
   "id": "8a0f44cc-0bff-4321-8fe0-d97053a56dc9",
   "metadata": {
    "tags": []
   },
   "outputs": [],
   "source": [
    "df = df_fillna.copy()"
   ]
  },
  {
   "cell_type": "markdown",
   "id": "f7f9a376-1ed6-4fbc-9ca8-00fe4675fbe9",
   "metadata": {},
   "source": [
    "#### 4-7 '규모구분' column에 '전용면적'이 불필요하다고 생각되어 제거 함."
   ]
  },
  {
   "cell_type": "code",
   "execution_count": 256,
   "id": "485027f3-f079-4f60-af4b-d2534f15c8e5",
   "metadata": {
    "tags": []
   },
   "outputs": [
    {
     "data": {
      "text/html": [
       "<div>\n",
       "<style scoped>\n",
       "    .dataframe tbody tr th:only-of-type {\n",
       "        vertical-align: middle;\n",
       "    }\n",
       "\n",
       "    .dataframe tbody tr th {\n",
       "        vertical-align: top;\n",
       "    }\n",
       "\n",
       "    .dataframe thead th {\n",
       "        text-align: right;\n",
       "    }\n",
       "</style>\n",
       "<table border=\"1\" class=\"dataframe\">\n",
       "  <thead>\n",
       "    <tr style=\"text-align: right;\">\n",
       "      <th></th>\n",
       "      <th>지역명</th>\n",
       "      <th>규모구분</th>\n",
       "      <th>연도</th>\n",
       "      <th>월</th>\n",
       "      <th>분양가격</th>\n",
       "    </tr>\n",
       "  </thead>\n",
       "  <tbody>\n",
       "    <tr>\n",
       "      <th>0</th>\n",
       "      <td>서울</td>\n",
       "      <td>전체</td>\n",
       "      <td>2015</td>\n",
       "      <td>10</td>\n",
       "      <td>5841</td>\n",
       "    </tr>\n",
       "    <tr>\n",
       "      <th>1</th>\n",
       "      <td>서울</td>\n",
       "      <td>전용면적 60㎡이하</td>\n",
       "      <td>2015</td>\n",
       "      <td>10</td>\n",
       "      <td>5652</td>\n",
       "    </tr>\n",
       "    <tr>\n",
       "      <th>2</th>\n",
       "      <td>서울</td>\n",
       "      <td>전용면적 60㎡초과 85㎡이하</td>\n",
       "      <td>2015</td>\n",
       "      <td>10</td>\n",
       "      <td>5882</td>\n",
       "    </tr>\n",
       "    <tr>\n",
       "      <th>3</th>\n",
       "      <td>서울</td>\n",
       "      <td>전용면적 85㎡초과 102㎡이하</td>\n",
       "      <td>2015</td>\n",
       "      <td>10</td>\n",
       "      <td>5721</td>\n",
       "    </tr>\n",
       "    <tr>\n",
       "      <th>4</th>\n",
       "      <td>서울</td>\n",
       "      <td>전용면적 102㎡초과</td>\n",
       "      <td>2015</td>\n",
       "      <td>10</td>\n",
       "      <td>5879</td>\n",
       "    </tr>\n",
       "  </tbody>\n",
       "</table>\n",
       "</div>"
      ],
      "text/plain": [
       "  지역명               규모구분    연도   월  분양가격\n",
       "0  서울                 전체  2015  10  5841\n",
       "1  서울         전용면적 60㎡이하  2015  10  5652\n",
       "2  서울   전용면적 60㎡초과 85㎡이하  2015  10  5882\n",
       "3  서울  전용면적 85㎡초과 102㎡이하  2015  10  5721\n",
       "4  서울        전용면적 102㎡초과  2015  10  5879"
      ]
     },
     "execution_count": 256,
     "metadata": {},
     "output_type": "execute_result"
    }
   ],
   "source": [
    "df.head()"
   ]
  },
  {
   "cell_type": "markdown",
   "id": "4d524074-fc50-44e9-b4ae-e8e88ae8d241",
   "metadata": {},
   "source": [
    "#### '규모구분' 컬럼의 데이터에 \"전용면적\" 문자열 제거하기"
   ]
  },
  {
   "cell_type": "code",
   "execution_count": 257,
   "id": "fd76b407-7825-4dfa-adb4-dcd6549e95cc",
   "metadata": {
    "tags": []
   },
   "outputs": [
    {
     "data": {
      "text/html": [
       "<div>\n",
       "<style scoped>\n",
       "    .dataframe tbody tr th:only-of-type {\n",
       "        vertical-align: middle;\n",
       "    }\n",
       "\n",
       "    .dataframe tbody tr th {\n",
       "        vertical-align: top;\n",
       "    }\n",
       "\n",
       "    .dataframe thead th {\n",
       "        text-align: right;\n",
       "    }\n",
       "</style>\n",
       "<table border=\"1\" class=\"dataframe\">\n",
       "  <thead>\n",
       "    <tr style=\"text-align: right;\">\n",
       "      <th></th>\n",
       "      <th>지역명</th>\n",
       "      <th>규모구분</th>\n",
       "      <th>연도</th>\n",
       "      <th>월</th>\n",
       "      <th>분양가격</th>\n",
       "    </tr>\n",
       "  </thead>\n",
       "  <tbody>\n",
       "    <tr>\n",
       "      <th>0</th>\n",
       "      <td>서울</td>\n",
       "      <td>전체</td>\n",
       "      <td>2015</td>\n",
       "      <td>10</td>\n",
       "      <td>5841</td>\n",
       "    </tr>\n",
       "    <tr>\n",
       "      <th>1</th>\n",
       "      <td>서울</td>\n",
       "      <td>60㎡이하</td>\n",
       "      <td>2015</td>\n",
       "      <td>10</td>\n",
       "      <td>5652</td>\n",
       "    </tr>\n",
       "    <tr>\n",
       "      <th>2</th>\n",
       "      <td>서울</td>\n",
       "      <td>60㎡초과 85㎡이하</td>\n",
       "      <td>2015</td>\n",
       "      <td>10</td>\n",
       "      <td>5882</td>\n",
       "    </tr>\n",
       "    <tr>\n",
       "      <th>3</th>\n",
       "      <td>서울</td>\n",
       "      <td>85㎡초과 102㎡이하</td>\n",
       "      <td>2015</td>\n",
       "      <td>10</td>\n",
       "      <td>5721</td>\n",
       "    </tr>\n",
       "    <tr>\n",
       "      <th>4</th>\n",
       "      <td>서울</td>\n",
       "      <td>102㎡초과</td>\n",
       "      <td>2015</td>\n",
       "      <td>10</td>\n",
       "      <td>5879</td>\n",
       "    </tr>\n",
       "    <tr>\n",
       "      <th>...</th>\n",
       "      <td>...</td>\n",
       "      <td>...</td>\n",
       "      <td>...</td>\n",
       "      <td>...</td>\n",
       "      <td>...</td>\n",
       "    </tr>\n",
       "    <tr>\n",
       "      <th>4500</th>\n",
       "      <td>제주</td>\n",
       "      <td>전체</td>\n",
       "      <td>2020</td>\n",
       "      <td>2</td>\n",
       "      <td>3955</td>\n",
       "    </tr>\n",
       "    <tr>\n",
       "      <th>4501</th>\n",
       "      <td>제주</td>\n",
       "      <td>60㎡이하</td>\n",
       "      <td>2020</td>\n",
       "      <td>2</td>\n",
       "      <td>4039</td>\n",
       "    </tr>\n",
       "    <tr>\n",
       "      <th>4502</th>\n",
       "      <td>제주</td>\n",
       "      <td>60㎡초과 85㎡이하</td>\n",
       "      <td>2020</td>\n",
       "      <td>2</td>\n",
       "      <td>3962</td>\n",
       "    </tr>\n",
       "    <tr>\n",
       "      <th>4503</th>\n",
       "      <td>제주</td>\n",
       "      <td>85㎡초과 102㎡이하</td>\n",
       "      <td>2020</td>\n",
       "      <td>2</td>\n",
       "      <td>0</td>\n",
       "    </tr>\n",
       "    <tr>\n",
       "      <th>4504</th>\n",
       "      <td>제주</td>\n",
       "      <td>102㎡초과</td>\n",
       "      <td>2020</td>\n",
       "      <td>2</td>\n",
       "      <td>3601</td>\n",
       "    </tr>\n",
       "  </tbody>\n",
       "</table>\n",
       "<p>4505 rows × 5 columns</p>\n",
       "</div>"
      ],
      "text/plain": [
       "     지역명          규모구분    연도   월  분양가격\n",
       "0     서울            전체  2015  10  5841\n",
       "1     서울         60㎡이하  2015  10  5652\n",
       "2     서울   60㎡초과 85㎡이하  2015  10  5882\n",
       "3     서울  85㎡초과 102㎡이하  2015  10  5721\n",
       "4     서울        102㎡초과  2015  10  5879\n",
       "...   ..           ...   ...  ..   ...\n",
       "4500  제주            전체  2020   2  3955\n",
       "4501  제주         60㎡이하  2020   2  4039\n",
       "4502  제주   60㎡초과 85㎡이하  2020   2  3962\n",
       "4503  제주  85㎡초과 102㎡이하  2020   2     0\n",
       "4504  제주        102㎡초과  2020   2  3601\n",
       "\n",
       "[4505 rows x 5 columns]"
      ]
     },
     "execution_count": 257,
     "metadata": {},
     "output_type": "execute_result"
    }
   ],
   "source": [
    "search = \"전용면적 \"\n",
    "df.loc[lambda row: df[\"규모구분\"].str.startswith(search), \"규모구분\"]= df[\"규모구분\"].str.replace(search, \"\")\n",
    "# print(df[\"규모구분\"].str.replace(search, \"\"))\n",
    "# for test in df_test:\n",
    "#     print(test.replace(\"전용면적\", \"\"))\n",
    "df"
   ]
  },
  {
   "cell_type": "markdown",
   "id": "09af532f-a554-4fa2-bd52-4837ca58df56",
   "metadata": {},
   "source": [
    "#### '규모구분' 컬럼의 값과 갯수(value count) 확인하기"
   ]
  },
  {
   "cell_type": "code",
   "execution_count": 258,
   "id": "7b552f76-c6ac-4f0a-8975-a81dfa5ce589",
   "metadata": {
    "tags": []
   },
   "outputs": [
    {
     "data": {
      "text/plain": [
       "규모구분\n",
       "전체              901\n",
       "60㎡이하           901\n",
       "60㎡초과 85㎡이하     901\n",
       "85㎡초과 102㎡이하    901\n",
       "102㎡초과          901\n",
       "Name: count, dtype: int64"
      ]
     },
     "execution_count": 258,
     "metadata": {},
     "output_type": "execute_result"
    }
   ],
   "source": [
    "df[\"규모구분\"].value_counts()"
   ]
  },
  {
   "cell_type": "code",
   "execution_count": 259,
   "id": "767a8649-af0e-42a3-8986-32b5a7531ca4",
   "metadata": {
    "tags": []
   },
   "outputs": [
    {
     "name": "stdout",
     "output_type": "stream",
     "text": [
      "<class 'pandas.core.frame.DataFrame'>\n",
      "RangeIndex: 4505 entries, 0 to 4504\n",
      "Data columns (total 5 columns):\n",
      " #   Column  Non-Null Count  Dtype \n",
      "---  ------  --------------  ----- \n",
      " 0   지역명     4505 non-null   object\n",
      " 1   규모구분    4505 non-null   object\n",
      " 2   연도      4505 non-null   int64 \n",
      " 3   월       4505 non-null   int64 \n",
      " 4   분양가격    4505 non-null   int32 \n",
      "dtypes: int32(1), int64(2), object(2)\n",
      "memory usage: 158.5+ KB\n"
     ]
    }
   ],
   "source": [
    "df.info()"
   ]
  },
  {
   "cell_type": "markdown",
   "id": "2785b4b1-8caf-414c-ba72-f6b20ad2c970",
   "metadata": {},
   "source": [
    "## 5. 전처리가 완료된 데이터 셋 저장하기\n",
    "- datas/house_price_ok.csv 파일명으로 저장하기\n",
    "- index는 저장하지 않기"
   ]
  },
  {
   "cell_type": "code",
   "execution_count": 260,
   "id": "2cc6264e-04bd-4800-b208-67038d76e1cc",
   "metadata": {
    "tags": []
   },
   "outputs": [],
   "source": [
    "file_path = \"datas/house_price_ok.csv\""
   ]
  },
  {
   "cell_type": "markdown",
   "id": "d351e59f-2d43-4701-a0aa-45a92c81d569",
   "metadata": {},
   "source": [
    "### file_path로 데이터 프레임 저장하기"
   ]
  },
  {
   "cell_type": "code",
   "execution_count": 261,
   "id": "1ab63426-a13e-432b-b4b2-817cb3a27cc4",
   "metadata": {
    "tags": []
   },
   "outputs": [],
   "source": [
    "df.to_csv(file_path, index=False, mode=\"w\")"
   ]
  },
  {
   "cell_type": "markdown",
   "id": "c6c63c88-fde3-4fb0-bc23-fd05c6966cc5",
   "metadata": {},
   "source": [
    "## 6. file_path에 저장한 파일 불러서 데이터 프레임으로 만들기"
   ]
  },
  {
   "cell_type": "code",
   "execution_count": 262,
   "id": "64d3052e-82df-4091-8d25-25defa8f26ac",
   "metadata": {
    "tags": []
   },
   "outputs": [
    {
     "data": {
      "text/html": [
       "<div>\n",
       "<style scoped>\n",
       "    .dataframe tbody tr th:only-of-type {\n",
       "        vertical-align: middle;\n",
       "    }\n",
       "\n",
       "    .dataframe tbody tr th {\n",
       "        vertical-align: top;\n",
       "    }\n",
       "\n",
       "    .dataframe thead th {\n",
       "        text-align: right;\n",
       "    }\n",
       "</style>\n",
       "<table border=\"1\" class=\"dataframe\">\n",
       "  <thead>\n",
       "    <tr style=\"text-align: right;\">\n",
       "      <th></th>\n",
       "      <th>지역명</th>\n",
       "      <th>규모구분</th>\n",
       "      <th>연도</th>\n",
       "      <th>월</th>\n",
       "      <th>분양가격</th>\n",
       "    </tr>\n",
       "  </thead>\n",
       "  <tbody>\n",
       "    <tr>\n",
       "      <th>0</th>\n",
       "      <td>서울</td>\n",
       "      <td>전체</td>\n",
       "      <td>2015</td>\n",
       "      <td>10</td>\n",
       "      <td>5841</td>\n",
       "    </tr>\n",
       "    <tr>\n",
       "      <th>1</th>\n",
       "      <td>서울</td>\n",
       "      <td>60㎡이하</td>\n",
       "      <td>2015</td>\n",
       "      <td>10</td>\n",
       "      <td>5652</td>\n",
       "    </tr>\n",
       "    <tr>\n",
       "      <th>2</th>\n",
       "      <td>서울</td>\n",
       "      <td>60㎡초과 85㎡이하</td>\n",
       "      <td>2015</td>\n",
       "      <td>10</td>\n",
       "      <td>5882</td>\n",
       "    </tr>\n",
       "    <tr>\n",
       "      <th>3</th>\n",
       "      <td>서울</td>\n",
       "      <td>85㎡초과 102㎡이하</td>\n",
       "      <td>2015</td>\n",
       "      <td>10</td>\n",
       "      <td>5721</td>\n",
       "    </tr>\n",
       "    <tr>\n",
       "      <th>4</th>\n",
       "      <td>서울</td>\n",
       "      <td>102㎡초과</td>\n",
       "      <td>2015</td>\n",
       "      <td>10</td>\n",
       "      <td>5879</td>\n",
       "    </tr>\n",
       "    <tr>\n",
       "      <th>...</th>\n",
       "      <td>...</td>\n",
       "      <td>...</td>\n",
       "      <td>...</td>\n",
       "      <td>...</td>\n",
       "      <td>...</td>\n",
       "    </tr>\n",
       "    <tr>\n",
       "      <th>4500</th>\n",
       "      <td>제주</td>\n",
       "      <td>전체</td>\n",
       "      <td>2020</td>\n",
       "      <td>2</td>\n",
       "      <td>3955</td>\n",
       "    </tr>\n",
       "    <tr>\n",
       "      <th>4501</th>\n",
       "      <td>제주</td>\n",
       "      <td>60㎡이하</td>\n",
       "      <td>2020</td>\n",
       "      <td>2</td>\n",
       "      <td>4039</td>\n",
       "    </tr>\n",
       "    <tr>\n",
       "      <th>4502</th>\n",
       "      <td>제주</td>\n",
       "      <td>60㎡초과 85㎡이하</td>\n",
       "      <td>2020</td>\n",
       "      <td>2</td>\n",
       "      <td>3962</td>\n",
       "    </tr>\n",
       "    <tr>\n",
       "      <th>4503</th>\n",
       "      <td>제주</td>\n",
       "      <td>85㎡초과 102㎡이하</td>\n",
       "      <td>2020</td>\n",
       "      <td>2</td>\n",
       "      <td>0</td>\n",
       "    </tr>\n",
       "    <tr>\n",
       "      <th>4504</th>\n",
       "      <td>제주</td>\n",
       "      <td>102㎡초과</td>\n",
       "      <td>2020</td>\n",
       "      <td>2</td>\n",
       "      <td>3601</td>\n",
       "    </tr>\n",
       "  </tbody>\n",
       "</table>\n",
       "<p>4505 rows × 5 columns</p>\n",
       "</div>"
      ],
      "text/plain": [
       "     지역명          규모구분    연도   월  분양가격\n",
       "0     서울            전체  2015  10  5841\n",
       "1     서울         60㎡이하  2015  10  5652\n",
       "2     서울   60㎡초과 85㎡이하  2015  10  5882\n",
       "3     서울  85㎡초과 102㎡이하  2015  10  5721\n",
       "4     서울        102㎡초과  2015  10  5879\n",
       "...   ..           ...   ...  ..   ...\n",
       "4500  제주            전체  2020   2  3955\n",
       "4501  제주         60㎡이하  2020   2  4039\n",
       "4502  제주   60㎡초과 85㎡이하  2020   2  3962\n",
       "4503  제주  85㎡초과 102㎡이하  2020   2     0\n",
       "4504  제주        102㎡초과  2020   2  3601\n",
       "\n",
       "[4505 rows x 5 columns]"
      ]
     },
     "execution_count": 262,
     "metadata": {},
     "output_type": "execute_result"
    }
   ],
   "source": [
    "df_ok = pd.read_csv(file_path)\n",
    "df_ok"
   ]
  },
  {
   "cell_type": "markdown",
   "id": "afbe5e6e-ec85-4978-a97b-4e0584bc44df",
   "metadata": {},
   "source": [
    "## 7. 지역명을 그룹으로 평균 분양가격 확인하기"
   ]
  },
  {
   "cell_type": "code",
   "execution_count": 265,
   "id": "503b644b-dd3b-4cce-9d22-657c53dd2e51",
   "metadata": {
    "tags": []
   },
   "outputs": [
    {
     "data": {
      "text/plain": [
       "지역명\n",
       "강원    2339.807547\n",
       "경기    4072.667925\n",
       "경남    2761.275472\n",
       "경북    2432.128302\n",
       "광주    2450.728302\n",
       "대구    3538.920755\n",
       "대전    2479.135849\n",
       "부산    3679.920755\n",
       "서울    7225.762264\n",
       "세종    2815.098113\n",
       "울산    1826.101887\n",
       "인천    3578.433962\n",
       "전남    2270.177358\n",
       "전북    2322.060377\n",
       "제주    2979.407547\n",
       "충남    2388.324528\n",
       "충북    2316.871698\n",
       "Name: 분양가격, dtype: float64"
      ]
     },
     "execution_count": 265,
     "metadata": {},
     "output_type": "execute_result"
    }
   ],
   "source": [
    "df.groupby(\"지역명\")[\"분양가격\"].mean()"
   ]
  },
  {
   "cell_type": "markdown",
   "id": "98bd4eb5-9e2f-4b5d-bb32-f48b425a4ae3",
   "metadata": {},
   "source": [
    "## 8. 분양가격이 100보다 작은 행은 제거해 보기"
   ]
  },
  {
   "cell_type": "markdown",
   "id": "7a73237f-08d8-43c2-85ef-1752c6c19feb",
   "metadata": {},
   "source": [
    "### '분양가격'이 100보다 작은 값 확인하기"
   ]
  },
  {
   "cell_type": "code",
   "execution_count": 270,
   "id": "4e2800c3-3aca-49ee-85b3-dce1b671342e",
   "metadata": {
    "tags": []
   },
   "outputs": [
    {
     "data": {
      "text/html": [
       "<div>\n",
       "<style scoped>\n",
       "    .dataframe tbody tr th:only-of-type {\n",
       "        vertical-align: middle;\n",
       "    }\n",
       "\n",
       "    .dataframe tbody tr th {\n",
       "        vertical-align: top;\n",
       "    }\n",
       "\n",
       "    .dataframe thead th {\n",
       "        text-align: right;\n",
       "    }\n",
       "</style>\n",
       "<table border=\"1\" class=\"dataframe\">\n",
       "  <thead>\n",
       "    <tr style=\"text-align: right;\">\n",
       "      <th></th>\n",
       "      <th>지역명</th>\n",
       "      <th>규모구분</th>\n",
       "      <th>연도</th>\n",
       "      <th>월</th>\n",
       "      <th>분양가격</th>\n",
       "    </tr>\n",
       "  </thead>\n",
       "  <tbody>\n",
       "    <tr>\n",
       "      <th>28</th>\n",
       "      <td>광주</td>\n",
       "      <td>85㎡초과 102㎡이하</td>\n",
       "      <td>2015</td>\n",
       "      <td>10</td>\n",
       "      <td>0</td>\n",
       "    </tr>\n",
       "    <tr>\n",
       "      <th>29</th>\n",
       "      <td>광주</td>\n",
       "      <td>102㎡초과</td>\n",
       "      <td>2015</td>\n",
       "      <td>10</td>\n",
       "      <td>0</td>\n",
       "    </tr>\n",
       "    <tr>\n",
       "      <th>34</th>\n",
       "      <td>대전</td>\n",
       "      <td>102㎡초과</td>\n",
       "      <td>2015</td>\n",
       "      <td>10</td>\n",
       "      <td>0</td>\n",
       "    </tr>\n",
       "    <tr>\n",
       "      <th>81</th>\n",
       "      <td>제주</td>\n",
       "      <td>60㎡이하</td>\n",
       "      <td>2015</td>\n",
       "      <td>10</td>\n",
       "      <td>0</td>\n",
       "    </tr>\n",
       "    <tr>\n",
       "      <th>113</th>\n",
       "      <td>광주</td>\n",
       "      <td>85㎡초과 102㎡이하</td>\n",
       "      <td>2015</td>\n",
       "      <td>11</td>\n",
       "      <td>0</td>\n",
       "    </tr>\n",
       "    <tr>\n",
       "      <th>...</th>\n",
       "      <td>...</td>\n",
       "      <td>...</td>\n",
       "      <td>...</td>\n",
       "      <td>...</td>\n",
       "      <td>...</td>\n",
       "    </tr>\n",
       "    <tr>\n",
       "      <th>4461</th>\n",
       "      <td>세종</td>\n",
       "      <td>60㎡이하</td>\n",
       "      <td>2020</td>\n",
       "      <td>2</td>\n",
       "      <td>0</td>\n",
       "    </tr>\n",
       "    <tr>\n",
       "      <th>4488</th>\n",
       "      <td>전남</td>\n",
       "      <td>85㎡초과 102㎡이하</td>\n",
       "      <td>2020</td>\n",
       "      <td>2</td>\n",
       "      <td>0</td>\n",
       "    </tr>\n",
       "    <tr>\n",
       "      <th>4493</th>\n",
       "      <td>경북</td>\n",
       "      <td>85㎡초과 102㎡이하</td>\n",
       "      <td>2020</td>\n",
       "      <td>2</td>\n",
       "      <td>0</td>\n",
       "    </tr>\n",
       "    <tr>\n",
       "      <th>4499</th>\n",
       "      <td>경남</td>\n",
       "      <td>102㎡초과</td>\n",
       "      <td>2020</td>\n",
       "      <td>2</td>\n",
       "      <td>0</td>\n",
       "    </tr>\n",
       "    <tr>\n",
       "      <th>4503</th>\n",
       "      <td>제주</td>\n",
       "      <td>85㎡초과 102㎡이하</td>\n",
       "      <td>2020</td>\n",
       "      <td>2</td>\n",
       "      <td>0</td>\n",
       "    </tr>\n",
       "  </tbody>\n",
       "</table>\n",
       "<p>320 rows × 5 columns</p>\n",
       "</div>"
      ],
      "text/plain": [
       "     지역명          규모구분    연도   월  분양가격\n",
       "28    광주  85㎡초과 102㎡이하  2015  10     0\n",
       "29    광주        102㎡초과  2015  10     0\n",
       "34    대전        102㎡초과  2015  10     0\n",
       "81    제주         60㎡이하  2015  10     0\n",
       "113   광주  85㎡초과 102㎡이하  2015  11     0\n",
       "...   ..           ...   ...  ..   ...\n",
       "4461  세종         60㎡이하  2020   2     0\n",
       "4488  전남  85㎡초과 102㎡이하  2020   2     0\n",
       "4493  경북  85㎡초과 102㎡이하  2020   2     0\n",
       "4499  경남        102㎡초과  2020   2     0\n",
       "4503  제주  85㎡초과 102㎡이하  2020   2     0\n",
       "\n",
       "[320 rows x 5 columns]"
      ]
     },
     "execution_count": 270,
     "metadata": {},
     "output_type": "execute_result"
    }
   ],
   "source": [
    "df.loc[df[\"분양가격\"] < 100]"
   ]
  },
  {
   "cell_type": "markdown",
   "id": "8e040192-68ee-45c4-8855-9b9bb1367ae6",
   "metadata": {},
   "source": [
    "##### [tip] 특정 조건에 만족하는 행을 제거하고자 할 때는\n",
    "\n",
    "- index를 list로 가져온다\n",
    "- drop을 활용하여 행을 제거한다"
   ]
  },
  {
   "cell_type": "code",
   "execution_count": 271,
   "id": "f5f8e6f8-ea50-43dd-8cb4-653974ec9625",
   "metadata": {
    "tags": []
   },
   "outputs": [],
   "source": [
    "# 분양가격 컬럼의 값이 100보다 작은 행 index 목록 추출하기\n",
    "idx = df[df[\"분양가격\"] < 100].index"
   ]
  },
  {
   "cell_type": "code",
   "execution_count": 272,
   "id": "6b0cbf5d-3619-4ee0-a070-9272b663f699",
   "metadata": {
    "tags": []
   },
   "outputs": [
    {
     "data": {
      "text/plain": [
       "Index([  28,   29,   34,   81,  113,  114,  119,  166,  198,  199,\n",
       "       ...\n",
       "       4418, 4448, 4453, 4458, 4459, 4461, 4488, 4493, 4499, 4503],\n",
       "      dtype='int64', length=320)"
      ]
     },
     "execution_count": 272,
     "metadata": {},
     "output_type": "execute_result"
    }
   ],
   "source": [
    "idx"
   ]
  },
  {
   "cell_type": "markdown",
   "id": "135012bc-f9f4-434c-8874-2f9be7f30373",
   "metadata": {},
   "source": [
    "### index를 행 기준으로 drop하기\n"
   ]
  },
  {
   "cell_type": "code",
   "execution_count": 273,
   "id": "af329df6-6ca5-45aa-ae01-6127edf27e25",
   "metadata": {
    "tags": []
   },
   "outputs": [],
   "source": [
    "df_copy = df.copy()"
   ]
  },
  {
   "cell_type": "code",
   "execution_count": null,
   "id": "c3b6bf7a-62c4-476b-bc5d-ba212ac2a903",
   "metadata": {
    "tags": []
   },
   "outputs": [],
   "source": [
    "df_copy = df_copy.drop(idx, axis=0)"
   ]
  },
  {
   "cell_type": "code",
   "execution_count": 278,
   "id": "e801fd18-c77c-40c4-97ca-f1af94876e55",
   "metadata": {
    "tags": []
   },
   "outputs": [
    {
     "data": {
      "text/plain": [
       "지역명     4185\n",
       "규모구분    4185\n",
       "연도      4185\n",
       "월       4185\n",
       "분양가격    4185\n",
       "dtype: int64"
      ]
     },
     "execution_count": 278,
     "metadata": {},
     "output_type": "execute_result"
    }
   ],
   "source": [
    "df_copy.count()"
   ]
  },
  {
   "cell_type": "code",
   "execution_count": 280,
   "id": "231acf61-0a12-4922-b120-80b48fde4a9b",
   "metadata": {
    "tags": []
   },
   "outputs": [],
   "source": [
    "df = df_copy"
   ]
  },
  {
   "cell_type": "markdown",
   "id": "66d675ae-7bd1-4a29-b4e4-a0ecf50f8ee5",
   "metadata": {},
   "source": [
    "## 9. 다시 한 번 지역명을 group으로 묶어 확인하기"
   ]
  },
  {
   "cell_type": "markdown",
   "id": "43426fc4-b0b2-4e10-a331-cb5d8be96c68",
   "metadata": {},
   "source": [
    "### 지역명을 group으로 묶어 분양가격의 평균 확인하기"
   ]
  },
  {
   "cell_type": "code",
   "execution_count": 281,
   "id": "805a3d90-5681-4d84-8da8-fe6d72bc6a74",
   "metadata": {
    "tags": []
   },
   "outputs": [
    {
     "data": {
      "text/plain": [
       "지역명\n",
       "강원    2412.642023\n",
       "경기    4072.667925\n",
       "경남    2814.376923\n",
       "경북    2547.486166\n",
       "광주    3049.028169\n",
       "대구    3663.335938\n",
       "대전    3128.433333\n",
       "부산    3679.920755\n",
       "서울    7225.762264\n",
       "세종    2984.004000\n",
       "울산    3043.503145\n",
       "인천    3633.275862\n",
       "전남    2304.969349\n",
       "전북    2348.648855\n",
       "제주    3432.795652\n",
       "충남    2501.604743\n",
       "충북    2316.871698\n",
       "Name: 분양가격, dtype: float64"
      ]
     },
     "execution_count": 281,
     "metadata": {},
     "output_type": "execute_result"
    }
   ],
   "source": [
    "df.groupby(\"지역명\")[\"분양가격\"].mean()"
   ]
  },
  {
   "cell_type": "markdown",
   "id": "e947f29e-40cc-4fd3-b67f-7ed34a47fccb",
   "metadata": {},
   "source": [
    "### 지역명으로 group으로 묶어서 분양가격의 평균을 내림차수로 확인하기\n",
    "- sort_values(, ascending=False)"
   ]
  },
  {
   "cell_type": "code",
   "execution_count": 286,
   "id": "70f73866-3068-496c-9da4-b96adeb2084a",
   "metadata": {
    "tags": []
   },
   "outputs": [
    {
     "data": {
      "text/plain": [
       "지역명\n",
       "서울    7225.762264\n",
       "경기    4072.667925\n",
       "부산    3679.920755\n",
       "대구    3663.335938\n",
       "인천    3633.275862\n",
       "제주    3432.795652\n",
       "대전    3128.433333\n",
       "광주    3049.028169\n",
       "울산    3043.503145\n",
       "세종    2984.004000\n",
       "경남    2814.376923\n",
       "경북    2547.486166\n",
       "충남    2501.604743\n",
       "강원    2412.642023\n",
       "전북    2348.648855\n",
       "충북    2316.871698\n",
       "전남    2304.969349\n",
       "Name: 분양가격, dtype: float64"
      ]
     },
     "execution_count": 286,
     "metadata": {},
     "output_type": "execute_result"
    }
   ],
   "source": [
    "df.groupby(\"지역명\")[\"분양가격\"].mean().sort_values(ascending=False)"
   ]
  },
  {
   "cell_type": "markdown",
   "id": "4192faef-999c-4bca-b473-a5cf8d623ebb",
   "metadata": {},
   "source": [
    "### 지역명을 group으로 묶어 분양가격의 갯수 확인하기"
   ]
  },
  {
   "cell_type": "code",
   "execution_count": 287,
   "id": "b6ecb48d-3622-4255-9c0e-32b5d837fdf4",
   "metadata": {
    "tags": []
   },
   "outputs": [
    {
     "data": {
      "text/plain": [
       "지역명\n",
       "강원    257\n",
       "경기    265\n",
       "경남    260\n",
       "경북    253\n",
       "광주    213\n",
       "대구    256\n",
       "대전    210\n",
       "부산    265\n",
       "서울    265\n",
       "세종    250\n",
       "울산    159\n",
       "인천    261\n",
       "전남    261\n",
       "전북    262\n",
       "제주    230\n",
       "충남    253\n",
       "충북    265\n",
       "Name: 분양가격, dtype: int64"
      ]
     },
     "execution_count": 287,
     "metadata": {},
     "output_type": "execute_result"
    }
   ],
   "source": [
    "df.groupby(\"지역명\")[\"분양가격\"].count()"
   ]
  },
  {
   "cell_type": "markdown",
   "id": "8f51cf48-acba-4b0a-bf40-b8021ab418b8",
   "metadata": {},
   "source": [
    "### 지역명을 group으로 묶어서 분양가격의 갯수를 내림차수로 확인하기"
   ]
  },
  {
   "cell_type": "code",
   "execution_count": 288,
   "id": "76eca6a9-c5f0-463f-9721-384962f85cdc",
   "metadata": {
    "tags": []
   },
   "outputs": [
    {
     "data": {
      "text/plain": [
       "지역명\n",
       "서울    265\n",
       "부산    265\n",
       "경기    265\n",
       "충북    265\n",
       "전북    262\n",
       "인천    261\n",
       "전남    261\n",
       "경남    260\n",
       "강원    257\n",
       "대구    256\n",
       "경북    253\n",
       "충남    253\n",
       "세종    250\n",
       "제주    230\n",
       "광주    213\n",
       "대전    210\n",
       "울산    159\n",
       "Name: 분양가격, dtype: int64"
      ]
     },
     "execution_count": 288,
     "metadata": {},
     "output_type": "execute_result"
    }
   ],
   "source": [
    "df.groupby(\"지역명\")[\"분양가격\"].count().sort_values(ascending=False)"
   ]
  },
  {
   "cell_type": "markdown",
   "id": "49437f10-edbc-42a1-b6fd-b910d02e1cf8",
   "metadata": {},
   "source": [
    "### 지역 별로 가장 비싼 분양가 확인해보기"
   ]
  },
  {
   "cell_type": "code",
   "execution_count": 322,
   "id": "343f3c59-f105-409e-8ba6-b1f766b82934",
   "metadata": {
    "tags": []
   },
   "outputs": [
    {
     "data": {
      "text/plain": [
       "지역명\n",
       "충북     2855\n",
       "전북     3052\n",
       "전남     3053\n",
       "충남     3201\n",
       "경북     3457\n",
       "울산     3594\n",
       "강원     3906\n",
       "세종     3931\n",
       "경남     4303\n",
       "부산     4623\n",
       "대전     4877\n",
       "광주     4881\n",
       "대구     5158\n",
       "인천     5188\n",
       "제주     5462\n",
       "경기     5670\n",
       "서울    13835\n",
       "Name: 분양가격, dtype: int32"
      ]
     },
     "execution_count": 322,
     "metadata": {},
     "output_type": "execute_result"
    }
   ],
   "source": [
    "df.groupby(\"지역명\")[\"분양가격\"].max().sort_values(ascending=True)"
   ]
  },
  {
   "cell_type": "markdown",
   "id": "42b82e66-effa-4374-8b6e-66e39c3657c7",
   "metadata": {},
   "source": [
    "## 10. 연도별로 분양가격 확인하기"
   ]
  },
  {
   "cell_type": "code",
   "execution_count": 325,
   "id": "65fd3846-6d4c-4e1c-b96c-72a3b8b9152e",
   "metadata": {
    "tags": []
   },
   "outputs": [
    {
     "data": {
      "text/plain": [
       "연도\n",
       "2015    2788.707819\n",
       "2016    2934.250000\n",
       "2017    3143.311795\n",
       "2018    3326.951034\n",
       "2019    3693.422149\n",
       "2020    3853.960526\n",
       "Name: 분양가격, dtype: float64"
      ]
     },
     "execution_count": 325,
     "metadata": {},
     "output_type": "execute_result"
    }
   ],
   "source": [
    "df.groupby(\"연도\")[\"분양가격\"].mean()"
   ]
  },
  {
   "cell_type": "markdown",
   "id": "fb25572b-2c2c-45bd-a26c-2f6a0b830f2a",
   "metadata": {},
   "source": [
    "## 11. 피벗 테이블 활용해보기\n",
    "- 행인덱스: 연도\n",
    "- 열인덱스: 규모구분\n",
    "- 값: 분양가격"
   ]
  },
  {
   "cell_type": "markdown",
   "id": "4573abb9-2035-4da8-875d-b6507b11f4f8",
   "metadata": {},
   "source": [
    "##### **참고**\n",
    "df2 = df.groupby(['혈액형', '성별'])[[\"키\", \"인기지수\"]]  \n",
    "혈액형 컬럼을 기준으로 피벗테이블 변형  \n",
    "print(df2.unstack('혈액형'))  \n",
    "print(df2.stack())  "
   ]
  },
  {
   "cell_type": "code",
   "execution_count": 329,
   "id": "75ea2506-e281-4a8d-aaed-0fa4ff68ac99",
   "metadata": {
    "tags": []
   },
   "outputs": [],
   "source": [
    "df_fivot = df.groupby([\"연도\", \"규모구분\"])[\"분양가격\"].mean()"
   ]
  },
  {
   "cell_type": "code",
   "execution_count": 332,
   "id": "935ae60b-9728-4063-ac33-b6184a2324bb",
   "metadata": {
    "tags": []
   },
   "outputs": [
    {
     "data": {
      "text/html": [
       "<div>\n",
       "<style scoped>\n",
       "    .dataframe tbody tr th:only-of-type {\n",
       "        vertical-align: middle;\n",
       "    }\n",
       "\n",
       "    .dataframe tbody tr th {\n",
       "        vertical-align: top;\n",
       "    }\n",
       "\n",
       "    .dataframe thead th {\n",
       "        text-align: right;\n",
       "    }\n",
       "</style>\n",
       "<table border=\"1\" class=\"dataframe\">\n",
       "  <thead>\n",
       "    <tr style=\"text-align: right;\">\n",
       "      <th>규모구분</th>\n",
       "      <th>102㎡초과</th>\n",
       "      <th>60㎡이하</th>\n",
       "      <th>60㎡초과 85㎡이하</th>\n",
       "      <th>85㎡초과 102㎡이하</th>\n",
       "      <th>전체</th>\n",
       "    </tr>\n",
       "    <tr>\n",
       "      <th>연도</th>\n",
       "      <th></th>\n",
       "      <th></th>\n",
       "      <th></th>\n",
       "      <th></th>\n",
       "      <th></th>\n",
       "    </tr>\n",
       "  </thead>\n",
       "  <tbody>\n",
       "    <tr>\n",
       "      <th>2015</th>\n",
       "      <td>2980.977778</td>\n",
       "      <td>2712.583333</td>\n",
       "      <td>2694.490196</td>\n",
       "      <td>2884.395833</td>\n",
       "      <td>2694.862745</td>\n",
       "    </tr>\n",
       "    <tr>\n",
       "      <th>2016</th>\n",
       "      <td>3148.099476</td>\n",
       "      <td>2848.144279</td>\n",
       "      <td>2816.965686</td>\n",
       "      <td>3067.380435</td>\n",
       "      <td>2816.073529</td>\n",
       "    </tr>\n",
       "    <tr>\n",
       "      <th>2017</th>\n",
       "      <td>3427.649746</td>\n",
       "      <td>3112.538071</td>\n",
       "      <td>2981.950980</td>\n",
       "      <td>3204.075145</td>\n",
       "      <td>3008.279412</td>\n",
       "    </tr>\n",
       "    <tr>\n",
       "      <th>2018</th>\n",
       "      <td>3468.355932</td>\n",
       "      <td>3286.184783</td>\n",
       "      <td>3227.458128</td>\n",
       "      <td>3467.184211</td>\n",
       "      <td>3235.098522</td>\n",
       "    </tr>\n",
       "    <tr>\n",
       "      <th>2019</th>\n",
       "      <td>4039.854839</td>\n",
       "      <td>3486.910112</td>\n",
       "      <td>3538.545918</td>\n",
       "      <td>3933.538462</td>\n",
       "      <td>3515.974490</td>\n",
       "    </tr>\n",
       "    <tr>\n",
       "      <th>2020</th>\n",
       "      <td>4187.566667</td>\n",
       "      <td>3615.968750</td>\n",
       "      <td>3594.852941</td>\n",
       "      <td>4532.090909</td>\n",
       "      <td>3603.911765</td>\n",
       "    </tr>\n",
       "  </tbody>\n",
       "</table>\n",
       "</div>"
      ],
      "text/plain": [
       "규모구분       102㎡초과        60㎡이하  60㎡초과 85㎡이하  85㎡초과 102㎡이하           전체\n",
       "연도                                                                    \n",
       "2015  2980.977778  2712.583333  2694.490196   2884.395833  2694.862745\n",
       "2016  3148.099476  2848.144279  2816.965686   3067.380435  2816.073529\n",
       "2017  3427.649746  3112.538071  2981.950980   3204.075145  3008.279412\n",
       "2018  3468.355932  3286.184783  3227.458128   3467.184211  3235.098522\n",
       "2019  4039.854839  3486.910112  3538.545918   3933.538462  3515.974490\n",
       "2020  4187.566667  3615.968750  3594.852941   4532.090909  3603.911765"
      ]
     },
     "execution_count": 332,
     "metadata": {},
     "output_type": "execute_result"
    }
   ],
   "source": [
    "df_fivot.unstack(\"규모구분\")"
   ]
  },
  {
   "cell_type": "markdown",
   "id": "a6ff1159-48db-4529-9725-d931c60206b0",
   "metadata": {},
   "source": [
    "### 데이터 프레임의 데이터를 소숫점 2자리까지만 출력하기"
   ]
  },
  {
   "cell_type": "code",
   "execution_count": 333,
   "id": "2f2ebe95-909b-43e8-9bf9-cf35a751e76b",
   "metadata": {
    "tags": []
   },
   "outputs": [],
   "source": [
    "df_fivot = round(df.groupby([\"연도\", \"규모구분\"])[\"분양가격\"].mean(), 2)"
   ]
  },
  {
   "cell_type": "code",
   "execution_count": 334,
   "id": "4b6dd9ae-1a36-4005-90f9-c8f91eb48f9a",
   "metadata": {
    "tags": []
   },
   "outputs": [
    {
     "data": {
      "text/html": [
       "<div>\n",
       "<style scoped>\n",
       "    .dataframe tbody tr th:only-of-type {\n",
       "        vertical-align: middle;\n",
       "    }\n",
       "\n",
       "    .dataframe tbody tr th {\n",
       "        vertical-align: top;\n",
       "    }\n",
       "\n",
       "    .dataframe thead th {\n",
       "        text-align: right;\n",
       "    }\n",
       "</style>\n",
       "<table border=\"1\" class=\"dataframe\">\n",
       "  <thead>\n",
       "    <tr style=\"text-align: right;\">\n",
       "      <th>규모구분</th>\n",
       "      <th>102㎡초과</th>\n",
       "      <th>60㎡이하</th>\n",
       "      <th>60㎡초과 85㎡이하</th>\n",
       "      <th>85㎡초과 102㎡이하</th>\n",
       "      <th>전체</th>\n",
       "    </tr>\n",
       "    <tr>\n",
       "      <th>연도</th>\n",
       "      <th></th>\n",
       "      <th></th>\n",
       "      <th></th>\n",
       "      <th></th>\n",
       "      <th></th>\n",
       "    </tr>\n",
       "  </thead>\n",
       "  <tbody>\n",
       "    <tr>\n",
       "      <th>2015</th>\n",
       "      <td>2980.98</td>\n",
       "      <td>2712.58</td>\n",
       "      <td>2694.49</td>\n",
       "      <td>2884.40</td>\n",
       "      <td>2694.86</td>\n",
       "    </tr>\n",
       "    <tr>\n",
       "      <th>2016</th>\n",
       "      <td>3148.10</td>\n",
       "      <td>2848.14</td>\n",
       "      <td>2816.97</td>\n",
       "      <td>3067.38</td>\n",
       "      <td>2816.07</td>\n",
       "    </tr>\n",
       "    <tr>\n",
       "      <th>2017</th>\n",
       "      <td>3427.65</td>\n",
       "      <td>3112.54</td>\n",
       "      <td>2981.95</td>\n",
       "      <td>3204.08</td>\n",
       "      <td>3008.28</td>\n",
       "    </tr>\n",
       "    <tr>\n",
       "      <th>2018</th>\n",
       "      <td>3468.36</td>\n",
       "      <td>3286.18</td>\n",
       "      <td>3227.46</td>\n",
       "      <td>3467.18</td>\n",
       "      <td>3235.10</td>\n",
       "    </tr>\n",
       "    <tr>\n",
       "      <th>2019</th>\n",
       "      <td>4039.85</td>\n",
       "      <td>3486.91</td>\n",
       "      <td>3538.55</td>\n",
       "      <td>3933.54</td>\n",
       "      <td>3515.97</td>\n",
       "    </tr>\n",
       "    <tr>\n",
       "      <th>2020</th>\n",
       "      <td>4187.57</td>\n",
       "      <td>3615.97</td>\n",
       "      <td>3594.85</td>\n",
       "      <td>4532.09</td>\n",
       "      <td>3603.91</td>\n",
       "    </tr>\n",
       "  </tbody>\n",
       "</table>\n",
       "</div>"
      ],
      "text/plain": [
       "규모구분   102㎡초과    60㎡이하  60㎡초과 85㎡이하  85㎡초과 102㎡이하       전체\n",
       "연도                                                        \n",
       "2015  2980.98  2712.58      2694.49       2884.40  2694.86\n",
       "2016  3148.10  2848.14      2816.97       3067.38  2816.07\n",
       "2017  3427.65  3112.54      2981.95       3204.08  3008.28\n",
       "2018  3468.36  3286.18      3227.46       3467.18  3235.10\n",
       "2019  4039.85  3486.91      3538.55       3933.54  3515.97\n",
       "2020  4187.57  3615.97      3594.85       4532.09  3603.91"
      ]
     },
     "execution_count": 334,
     "metadata": {},
     "output_type": "execute_result"
    }
   ],
   "source": [
    "df_fivot.unstack(\"규모구분\")"
   ]
  },
  {
   "cell_type": "markdown",
   "id": "4a071f6b-ebac-45fa-b868-aed4f043ccb3",
   "metadata": {},
   "source": [
    "## 12. 년도에 따른 평형대의 변화 추이를 보기위해 시각화 하기"
   ]
  },
  {
   "cell_type": "code",
   "execution_count": 336,
   "id": "0111dc4f-637f-4a47-a701-318a3a22abed",
   "metadata": {
    "tags": []
   },
   "outputs": [
    {
     "name": "stdout",
     "output_type": "stream",
     "text": [
      "['Malgun Gothic']\n"
     ]
    }
   ],
   "source": [
    "import matplotlib.pylab as plt\n",
    "# - 깨짐 해결 모듈\n",
    "import matplotlib as mpl\n",
    "\n",
    "plt.rcParams[\"font.family\"] = \"Malgun Gothic\"  # For Windows\n",
    "plt.rcParams[\"font.size\"] = 12 # 폰트 사이트\n",
    "plt.rcParams[\"figure.figsize\"] = (10, 6) # 전체 그래프의 사이즈 가로세로 default : inch\n",
    "print(plt.rcParams[\"font.family\"])\n",
    "\n",
    "# 마이너스 깨짐 해결\n",
    "mpl.rcParams[\"axes.unicode_minus\"] = False"
   ]
  },
  {
   "cell_type": "code",
   "execution_count": 337,
   "id": "f713b838-aeee-4daf-b1ad-2f79a27ed7c5",
   "metadata": {
    "tags": []
   },
   "outputs": [
    {
     "data": {
      "text/plain": [
       "<Axes: xlabel='연도'>"
      ]
     },
     "execution_count": 337,
     "metadata": {},
     "output_type": "execute_result"
    },
    {
     "data": {
      "image/png": "[encoded data removed]",
      "text/plain": [
       "<Figure size 1000x600 with 1 Axes>"
      ]
     },
     "metadata": {},
     "output_type": "display_data"
    }
   ],
   "source": [
    "df_fivot.unstack(\"규모구분\").plot()"
   ]
  },
  {
   "cell_type": "markdown",
   "id": "4c65b06d-9d22-47e6-be60-eb94a42de045",
   "metadata": {},
   "source": [
    "### 13. 연도별, 규모별 가격을 알아볼까요? (multi-index)\n",
    "- 평균의 출력 형태는 소숫점 2자리까지"
   ]
  },
  {
   "cell_type": "code",
   "execution_count": 341,
   "id": "2696a936-4cf4-41fa-bc85-b65d8e131539",
   "metadata": {
    "tags": []
   },
   "outputs": [
    {
     "data": {
      "text/plain": [
       "연도    규모구분        \n",
       "2015  102㎡초과          2980.98\n",
       "      60㎡이하           2712.58\n",
       "      60㎡초과 85㎡이하     2694.49\n",
       "      85㎡초과 102㎡이하    2884.40\n",
       "      전체              2694.86\n",
       "2016  102㎡초과          3148.10\n",
       "      60㎡이하           2848.14\n",
       "      60㎡초과 85㎡이하     2816.97\n",
       "      85㎡초과 102㎡이하    3067.38\n",
       "      전체              2816.07\n",
       "2017  102㎡초과          3427.65\n",
       "      60㎡이하           3112.54\n",
       "      60㎡초과 85㎡이하     2981.95\n",
       "      85㎡초과 102㎡이하    3204.08\n",
       "      전체              3008.28\n",
       "2018  102㎡초과          3468.36\n",
       "      60㎡이하           3286.18\n",
       "      60㎡초과 85㎡이하     3227.46\n",
       "      85㎡초과 102㎡이하    3467.18\n",
       "      전체              3235.10\n",
       "2019  102㎡초과          4039.85\n",
       "      60㎡이하           3486.91\n",
       "      60㎡초과 85㎡이하     3538.55\n",
       "      85㎡초과 102㎡이하    3933.54\n",
       "      전체              3515.97\n",
       "2020  102㎡초과          4187.57\n",
       "      60㎡이하           3615.97\n",
       "      60㎡초과 85㎡이하     3594.85\n",
       "      85㎡초과 102㎡이하    4532.09\n",
       "      전체              3603.91\n",
       "Name: 분양가격, dtype: float64"
      ]
     },
     "execution_count": 341,
     "metadata": {},
     "output_type": "execute_result"
    }
   ],
   "source": [
    "df_fivot"
   ]
  },
  {
   "cell_type": "markdown",
   "id": "4d638ce2-8da9-478d-b2d2-e82caedecbe9",
   "metadata": {},
   "source": [
    "## 14. 위의 결과를 보기좋게 하기위해 데이터프레임으로 표현하기\n",
    "- 분양가격은 소숫점 2자리까지 표시하기"
   ]
  },
  {
   "cell_type": "code",
   "execution_count": 342,
   "id": "501372f5-ddf8-4eb8-b948-4344eda9cccf",
   "metadata": {
    "tags": []
   },
   "outputs": [
    {
     "data": {
      "text/html": [
       "<div>\n",
       "<style scoped>\n",
       "    .dataframe tbody tr th:only-of-type {\n",
       "        vertical-align: middle;\n",
       "    }\n",
       "\n",
       "    .dataframe tbody tr th {\n",
       "        vertical-align: top;\n",
       "    }\n",
       "\n",
       "    .dataframe thead th {\n",
       "        text-align: right;\n",
       "    }\n",
       "</style>\n",
       "<table border=\"1\" class=\"dataframe\">\n",
       "  <thead>\n",
       "    <tr style=\"text-align: right;\">\n",
       "      <th></th>\n",
       "      <th></th>\n",
       "      <th>분양가격</th>\n",
       "    </tr>\n",
       "    <tr>\n",
       "      <th>연도</th>\n",
       "      <th>규모구분</th>\n",
       "      <th></th>\n",
       "    </tr>\n",
       "  </thead>\n",
       "  <tbody>\n",
       "    <tr>\n",
       "      <th rowspan=\"5\" valign=\"top\">2015</th>\n",
       "      <th>102㎡초과</th>\n",
       "      <td>2980.98</td>\n",
       "    </tr>\n",
       "    <tr>\n",
       "      <th>60㎡이하</th>\n",
       "      <td>2712.58</td>\n",
       "    </tr>\n",
       "    <tr>\n",
       "      <th>60㎡초과 85㎡이하</th>\n",
       "      <td>2694.49</td>\n",
       "    </tr>\n",
       "    <tr>\n",
       "      <th>85㎡초과 102㎡이하</th>\n",
       "      <td>2884.40</td>\n",
       "    </tr>\n",
       "    <tr>\n",
       "      <th>전체</th>\n",
       "      <td>2694.86</td>\n",
       "    </tr>\n",
       "    <tr>\n",
       "      <th rowspan=\"5\" valign=\"top\">2016</th>\n",
       "      <th>102㎡초과</th>\n",
       "      <td>3148.10</td>\n",
       "    </tr>\n",
       "    <tr>\n",
       "      <th>60㎡이하</th>\n",
       "      <td>2848.14</td>\n",
       "    </tr>\n",
       "    <tr>\n",
       "      <th>60㎡초과 85㎡이하</th>\n",
       "      <td>2816.97</td>\n",
       "    </tr>\n",
       "    <tr>\n",
       "      <th>85㎡초과 102㎡이하</th>\n",
       "      <td>3067.38</td>\n",
       "    </tr>\n",
       "    <tr>\n",
       "      <th>전체</th>\n",
       "      <td>2816.07</td>\n",
       "    </tr>\n",
       "    <tr>\n",
       "      <th rowspan=\"5\" valign=\"top\">2017</th>\n",
       "      <th>102㎡초과</th>\n",
       "      <td>3427.65</td>\n",
       "    </tr>\n",
       "    <tr>\n",
       "      <th>60㎡이하</th>\n",
       "      <td>3112.54</td>\n",
       "    </tr>\n",
       "    <tr>\n",
       "      <th>60㎡초과 85㎡이하</th>\n",
       "      <td>2981.95</td>\n",
       "    </tr>\n",
       "    <tr>\n",
       "      <th>85㎡초과 102㎡이하</th>\n",
       "      <td>3204.08</td>\n",
       "    </tr>\n",
       "    <tr>\n",
       "      <th>전체</th>\n",
       "      <td>3008.28</td>\n",
       "    </tr>\n",
       "    <tr>\n",
       "      <th rowspan=\"5\" valign=\"top\">2018</th>\n",
       "      <th>102㎡초과</th>\n",
       "      <td>3468.36</td>\n",
       "    </tr>\n",
       "    <tr>\n",
       "      <th>60㎡이하</th>\n",
       "      <td>3286.18</td>\n",
       "    </tr>\n",
       "    <tr>\n",
       "      <th>60㎡초과 85㎡이하</th>\n",
       "      <td>3227.46</td>\n",
       "    </tr>\n",
       "    <tr>\n",
       "      <th>85㎡초과 102㎡이하</th>\n",
       "      <td>3467.18</td>\n",
       "    </tr>\n",
       "    <tr>\n",
       "      <th>전체</th>\n",
       "      <td>3235.10</td>\n",
       "    </tr>\n",
       "    <tr>\n",
       "      <th rowspan=\"5\" valign=\"top\">2019</th>\n",
       "      <th>102㎡초과</th>\n",
       "      <td>4039.85</td>\n",
       "    </tr>\n",
       "    <tr>\n",
       "      <th>60㎡이하</th>\n",
       "      <td>3486.91</td>\n",
       "    </tr>\n",
       "    <tr>\n",
       "      <th>60㎡초과 85㎡이하</th>\n",
       "      <td>3538.55</td>\n",
       "    </tr>\n",
       "    <tr>\n",
       "      <th>85㎡초과 102㎡이하</th>\n",
       "      <td>3933.54</td>\n",
       "    </tr>\n",
       "    <tr>\n",
       "      <th>전체</th>\n",
       "      <td>3515.97</td>\n",
       "    </tr>\n",
       "    <tr>\n",
       "      <th rowspan=\"5\" valign=\"top\">2020</th>\n",
       "      <th>102㎡초과</th>\n",
       "      <td>4187.57</td>\n",
       "    </tr>\n",
       "    <tr>\n",
       "      <th>60㎡이하</th>\n",
       "      <td>3615.97</td>\n",
       "    </tr>\n",
       "    <tr>\n",
       "      <th>60㎡초과 85㎡이하</th>\n",
       "      <td>3594.85</td>\n",
       "    </tr>\n",
       "    <tr>\n",
       "      <th>85㎡초과 102㎡이하</th>\n",
       "      <td>4532.09</td>\n",
       "    </tr>\n",
       "    <tr>\n",
       "      <th>전체</th>\n",
       "      <td>3603.91</td>\n",
       "    </tr>\n",
       "  </tbody>\n",
       "</table>\n",
       "</div>"
      ],
      "text/plain": [
       "                      분양가격\n",
       "연도   규모구분                 \n",
       "2015 102㎡초과        2980.98\n",
       "     60㎡이하         2712.58\n",
       "     60㎡초과 85㎡이하   2694.49\n",
       "     85㎡초과 102㎡이하  2884.40\n",
       "     전체            2694.86\n",
       "2016 102㎡초과        3148.10\n",
       "     60㎡이하         2848.14\n",
       "     60㎡초과 85㎡이하   2816.97\n",
       "     85㎡초과 102㎡이하  3067.38\n",
       "     전체            2816.07\n",
       "2017 102㎡초과        3427.65\n",
       "     60㎡이하         3112.54\n",
       "     60㎡초과 85㎡이하   2981.95\n",
       "     85㎡초과 102㎡이하  3204.08\n",
       "     전체            3008.28\n",
       "2018 102㎡초과        3468.36\n",
       "     60㎡이하         3286.18\n",
       "     60㎡초과 85㎡이하   3227.46\n",
       "     85㎡초과 102㎡이하  3467.18\n",
       "     전체            3235.10\n",
       "2019 102㎡초과        4039.85\n",
       "     60㎡이하         3486.91\n",
       "     60㎡초과 85㎡이하   3538.55\n",
       "     85㎡초과 102㎡이하  3933.54\n",
       "     전체            3515.97\n",
       "2020 102㎡초과        4187.57\n",
       "     60㎡이하         3615.97\n",
       "     60㎡초과 85㎡이하   3594.85\n",
       "     85㎡초과 102㎡이하  4532.09\n",
       "     전체            3603.91"
      ]
     },
     "execution_count": 342,
     "metadata": {},
     "output_type": "execute_result"
    }
   ],
   "source": [
    "pd.DataFrame(df_fivot)"
   ]
  },
  {
   "cell_type": "code",
   "execution_count": 352,
   "id": "cd97ef4f-5709-4565-8956-9c67d7edf53b",
   "metadata": {
    "tags": []
   },
   "outputs": [],
   "source": [
    "def test(n, m):\n",
    "    for i in range(m):\n",
    "        print(\"*\"*n)\n",
    "    "
   ]
  },
  {
   "cell_type": "code",
   "execution_count": 353,
   "id": "6d0794d9-31dd-4752-99eb-d6c8e873e4f5",
   "metadata": {
    "tags": []
   },
   "outputs": [
    {
     "name": "stdout",
     "output_type": "stream",
     "text": [
      "*****\n",
      "*****\n",
      "*****\n"
     ]
    }
   ],
   "source": [
    "test(5, 3)"
   ]
  }
 ],
 "metadata": {
  "kernelspec": {
   "display_name": "dl_ml",
   "language": "python",
   "name": "da_venv"
  },
  "language_info": {
   "codemirror_mode": {
    "name": "ipython",
    "version": 3
   },
   "file_extension": ".py",
   "mimetype": "text/x-python",
   "name": "python",
   "nbconvert_exporter": "python",
   "pygments_lexer": "ipython3",
   "version": "3.9.13"
  }
 },
 "nbformat": 4,
 "nbformat_minor": 5
}
