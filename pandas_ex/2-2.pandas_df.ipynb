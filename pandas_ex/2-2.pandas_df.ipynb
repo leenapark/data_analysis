{
 "cells": [
  {
   "cell_type": "markdown",
   "id": "86e96c98-a30b-4426-980c-c7061671161f",
   "metadata": {},
   "source": [
    "# DataFrame 복사, 인덱싱, 정렬, groupby"
   ]
  },
  {
   "cell_type": "code",
   "execution_count": 1,
   "id": "68b071f6-a333-4f1b-8f77-1b2f96af706c",
   "metadata": {
    "tags": []
   },
   "outputs": [],
   "source": [
    "import pandas as pd"
   ]
  },
  {
   "cell_type": "markdown",
   "id": "2af13aba-a8ee-4402-b7fa-d573ecfb5c4c",
   "metadata": {},
   "source": [
    "## DataFrame 로딩"
   ]
  },
  {
   "cell_type": "code",
   "execution_count": 8,
   "id": "5a55c292-eca9-4f2f-a9fe-606a9c08c939",
   "metadata": {
    "tags": []
   },
   "outputs": [
    {
     "data": {
      "text/html": [
       "<div>\n",
       "<style scoped>\n",
       "    .dataframe tbody tr th:only-of-type {\n",
       "        vertical-align: middle;\n",
       "    }\n",
       "\n",
       "    .dataframe tbody tr th {\n",
       "        vertical-align: top;\n",
       "    }\n",
       "\n",
       "    .dataframe thead th {\n",
       "        text-align: right;\n",
       "    }\n",
       "</style>\n",
       "<table border=\"1\" class=\"dataframe\">\n",
       "  <thead>\n",
       "    <tr style=\"text-align: right;\">\n",
       "      <th></th>\n",
       "      <th>이름</th>\n",
       "      <th>그룹</th>\n",
       "      <th>소속사</th>\n",
       "      <th>성별</th>\n",
       "      <th>생년월일</th>\n",
       "      <th>키</th>\n",
       "      <th>혈액형</th>\n",
       "      <th>인기지수</th>\n",
       "    </tr>\n",
       "  </thead>\n",
       "  <tbody>\n",
       "    <tr>\n",
       "      <th>0</th>\n",
       "      <td>아이린</td>\n",
       "      <td>레드벨벳</td>\n",
       "      <td>SM</td>\n",
       "      <td>여자</td>\n",
       "      <td>1991-03-29</td>\n",
       "      <td>160.0</td>\n",
       "      <td>A</td>\n",
       "      <td>8256324</td>\n",
       "    </tr>\n",
       "    <tr>\n",
       "      <th>1</th>\n",
       "      <td>차은우</td>\n",
       "      <td>아스트로</td>\n",
       "      <td>판타지오</td>\n",
       "      <td>남자</td>\n",
       "      <td>1997-03-30</td>\n",
       "      <td>183.0</td>\n",
       "      <td>B</td>\n",
       "      <td>3506027</td>\n",
       "    </tr>\n",
       "    <tr>\n",
       "      <th>2</th>\n",
       "      <td>뷔</td>\n",
       "      <td>방탄소년단</td>\n",
       "      <td>빅히트</td>\n",
       "      <td>남자</td>\n",
       "      <td>1995-12-30</td>\n",
       "      <td>178.0</td>\n",
       "      <td>AB</td>\n",
       "      <td>8073501</td>\n",
       "    </tr>\n",
       "  </tbody>\n",
       "</table>\n",
       "</div>"
      ],
      "text/plain": [
       "    이름     그룹   소속사  성별        생년월일      키 혈액형     인기지수\n",
       "0  아이린   레드벨벳    SM  여자  1991-03-29  160.0   A  8256324\n",
       "1  차은우   아스트로  판타지오  남자  1997-03-30  183.0   B  3506027\n",
       "2    뷔  방탄소년단   빅히트  남자  1995-12-30  178.0  AB  8073501"
      ]
     },
     "execution_count": 8,
     "metadata": {},
     "output_type": "execute_result"
    }
   ],
   "source": [
    "df = pd.read_csv(\"datas/korea-star.csv\")\n",
    "df.head(3)"
   ]
  },
  {
   "cell_type": "markdown",
   "id": "be35299b-e20f-4188-8942-da0ead0d3123",
   "metadata": {},
   "source": [
    "### 1. 대입과 복사\n",
    "\n",
    "복사\n",
    "\n",
    "df를 **새로운 변수(new_df)에 대입** 후<br>\n",
    "새로운 변수에서 값을 바꾼다면,<br>\n",
    "원래의 DataFrame의 값은 어떻게 될까요?"
   ]
  },
  {
   "cell_type": "code",
   "execution_count": 9,
   "id": "6942ff2f-d225-4597-b009-f98de6a5b529",
   "metadata": {
    "tags": []
   },
   "outputs": [],
   "source": [
    "new_df = df"
   ]
  },
  {
   "cell_type": "code",
   "execution_count": 10,
   "id": "7c7235ed-dbdd-4dc4-a49b-28abf96610ff",
   "metadata": {
    "tags": []
   },
   "outputs": [
    {
     "data": {
      "text/html": [
       "<div>\n",
       "<style scoped>\n",
       "    .dataframe tbody tr th:only-of-type {\n",
       "        vertical-align: middle;\n",
       "    }\n",
       "\n",
       "    .dataframe tbody tr th {\n",
       "        vertical-align: top;\n",
       "    }\n",
       "\n",
       "    .dataframe thead th {\n",
       "        text-align: right;\n",
       "    }\n",
       "</style>\n",
       "<table border=\"1\" class=\"dataframe\">\n",
       "  <thead>\n",
       "    <tr style=\"text-align: right;\">\n",
       "      <th></th>\n",
       "      <th>이름</th>\n",
       "      <th>그룹</th>\n",
       "      <th>소속사</th>\n",
       "      <th>성별</th>\n",
       "      <th>생년월일</th>\n",
       "      <th>키</th>\n",
       "      <th>혈액형</th>\n",
       "      <th>인기지수</th>\n",
       "    </tr>\n",
       "  </thead>\n",
       "  <tbody>\n",
       "    <tr>\n",
       "      <th>0</th>\n",
       "      <td>아이린</td>\n",
       "      <td>레드벨벳</td>\n",
       "      <td>SM</td>\n",
       "      <td>여자</td>\n",
       "      <td>1991-03-29</td>\n",
       "      <td>160.0</td>\n",
       "      <td>A</td>\n",
       "      <td>8256324</td>\n",
       "    </tr>\n",
       "    <tr>\n",
       "      <th>1</th>\n",
       "      <td>차은우</td>\n",
       "      <td>아스트로</td>\n",
       "      <td>판타지오</td>\n",
       "      <td>남자</td>\n",
       "      <td>1997-03-30</td>\n",
       "      <td>183.0</td>\n",
       "      <td>B</td>\n",
       "      <td>3506027</td>\n",
       "    </tr>\n",
       "    <tr>\n",
       "      <th>2</th>\n",
       "      <td>뷔</td>\n",
       "      <td>방탄소년단</td>\n",
       "      <td>빅히트</td>\n",
       "      <td>남자</td>\n",
       "      <td>1995-12-30</td>\n",
       "      <td>178.0</td>\n",
       "      <td>AB</td>\n",
       "      <td>8073501</td>\n",
       "    </tr>\n",
       "    <tr>\n",
       "      <th>3</th>\n",
       "      <td>민현</td>\n",
       "      <td>NaN</td>\n",
       "      <td>플레디스</td>\n",
       "      <td>남자</td>\n",
       "      <td>1995-08-09</td>\n",
       "      <td>182.3</td>\n",
       "      <td>O</td>\n",
       "      <td>4989792</td>\n",
       "    </tr>\n",
       "    <tr>\n",
       "      <th>4</th>\n",
       "      <td>소연</td>\n",
       "      <td>아이들</td>\n",
       "      <td>큐브</td>\n",
       "      <td>여자</td>\n",
       "      <td>1998-08-26</td>\n",
       "      <td>NaN</td>\n",
       "      <td>B</td>\n",
       "      <td>4668615</td>\n",
       "    </tr>\n",
       "  </tbody>\n",
       "</table>\n",
       "</div>"
      ],
      "text/plain": [
       "    이름     그룹   소속사  성별        생년월일      키 혈액형     인기지수\n",
       "0  아이린   레드벨벳    SM  여자  1991-03-29  160.0   A  8256324\n",
       "1  차은우   아스트로  판타지오  남자  1997-03-30  183.0   B  3506027\n",
       "2    뷔  방탄소년단   빅히트  남자  1995-12-30  178.0  AB  8073501\n",
       "3   민현    NaN  플레디스  남자  1995-08-09  182.3   O  4989792\n",
       "4   소연    아이들    큐브  여자  1998-08-26    NaN   B  4668615"
      ]
     },
     "execution_count": 10,
     "metadata": {},
     "output_type": "execute_result"
    }
   ],
   "source": [
    "new_df.head()"
   ]
  },
  {
   "cell_type": "code",
   "execution_count": 5,
   "id": "4da2dd4a-4863-4c95-a447-45ca447c0af1",
   "metadata": {
    "tags": []
   },
   "outputs": [],
   "source": [
    "new_df['이름'] = 0"
   ]
  },
  {
   "cell_type": "code",
   "execution_count": 6,
   "id": "db013e06-4458-4d79-ad5b-6923053c1506",
   "metadata": {
    "tags": []
   },
   "outputs": [
    {
     "data": {
      "text/html": [
       "<div>\n",
       "<style scoped>\n",
       "    .dataframe tbody tr th:only-of-type {\n",
       "        vertical-align: middle;\n",
       "    }\n",
       "\n",
       "    .dataframe tbody tr th {\n",
       "        vertical-align: top;\n",
       "    }\n",
       "\n",
       "    .dataframe thead th {\n",
       "        text-align: right;\n",
       "    }\n",
       "</style>\n",
       "<table border=\"1\" class=\"dataframe\">\n",
       "  <thead>\n",
       "    <tr style=\"text-align: right;\">\n",
       "      <th></th>\n",
       "      <th>이름</th>\n",
       "      <th>그룹</th>\n",
       "      <th>소속사</th>\n",
       "      <th>성별</th>\n",
       "      <th>생년월일</th>\n",
       "      <th>키</th>\n",
       "      <th>혈액형</th>\n",
       "      <th>인기지수</th>\n",
       "    </tr>\n",
       "  </thead>\n",
       "  <tbody>\n",
       "    <tr>\n",
       "      <th>0</th>\n",
       "      <td>0</td>\n",
       "      <td>레드벨벳</td>\n",
       "      <td>SM</td>\n",
       "      <td>여자</td>\n",
       "      <td>1991-03-29</td>\n",
       "      <td>160.0</td>\n",
       "      <td>A</td>\n",
       "      <td>8256324</td>\n",
       "    </tr>\n",
       "    <tr>\n",
       "      <th>1</th>\n",
       "      <td>0</td>\n",
       "      <td>아스트로</td>\n",
       "      <td>판타지오</td>\n",
       "      <td>남자</td>\n",
       "      <td>1997-03-30</td>\n",
       "      <td>183.0</td>\n",
       "      <td>B</td>\n",
       "      <td>3506027</td>\n",
       "    </tr>\n",
       "    <tr>\n",
       "      <th>2</th>\n",
       "      <td>0</td>\n",
       "      <td>방탄소년단</td>\n",
       "      <td>빅히트</td>\n",
       "      <td>남자</td>\n",
       "      <td>1995-12-30</td>\n",
       "      <td>178.0</td>\n",
       "      <td>AB</td>\n",
       "      <td>8073501</td>\n",
       "    </tr>\n",
       "    <tr>\n",
       "      <th>3</th>\n",
       "      <td>0</td>\n",
       "      <td>NaN</td>\n",
       "      <td>플레디스</td>\n",
       "      <td>남자</td>\n",
       "      <td>1995-08-09</td>\n",
       "      <td>182.3</td>\n",
       "      <td>O</td>\n",
       "      <td>4989792</td>\n",
       "    </tr>\n",
       "    <tr>\n",
       "      <th>4</th>\n",
       "      <td>0</td>\n",
       "      <td>아이들</td>\n",
       "      <td>큐브</td>\n",
       "      <td>여자</td>\n",
       "      <td>1998-08-26</td>\n",
       "      <td>NaN</td>\n",
       "      <td>B</td>\n",
       "      <td>4668615</td>\n",
       "    </tr>\n",
       "  </tbody>\n",
       "</table>\n",
       "</div>"
      ],
      "text/plain": [
       "   이름     그룹   소속사  성별        생년월일      키 혈액형     인기지수\n",
       "0   0   레드벨벳    SM  여자  1991-03-29  160.0   A  8256324\n",
       "1   0   아스트로  판타지오  남자  1997-03-30  183.0   B  3506027\n",
       "2   0  방탄소년단   빅히트  남자  1995-12-30  178.0  AB  8073501\n",
       "3   0    NaN  플레디스  남자  1995-08-09  182.3   O  4989792\n",
       "4   0    아이들    큐브  여자  1998-08-26    NaN   B  4668615"
      ]
     },
     "execution_count": 6,
     "metadata": {},
     "output_type": "execute_result"
    }
   ],
   "source": [
    "new_df.head()"
   ]
  },
  {
   "cell_type": "code",
   "execution_count": 7,
   "id": "0146d5c6-4d16-4281-94b6-929ffd3fffc3",
   "metadata": {
    "tags": []
   },
   "outputs": [
    {
     "data": {
      "text/html": [
       "<div>\n",
       "<style scoped>\n",
       "    .dataframe tbody tr th:only-of-type {\n",
       "        vertical-align: middle;\n",
       "    }\n",
       "\n",
       "    .dataframe tbody tr th {\n",
       "        vertical-align: top;\n",
       "    }\n",
       "\n",
       "    .dataframe thead th {\n",
       "        text-align: right;\n",
       "    }\n",
       "</style>\n",
       "<table border=\"1\" class=\"dataframe\">\n",
       "  <thead>\n",
       "    <tr style=\"text-align: right;\">\n",
       "      <th></th>\n",
       "      <th>이름</th>\n",
       "      <th>그룹</th>\n",
       "      <th>소속사</th>\n",
       "      <th>성별</th>\n",
       "      <th>생년월일</th>\n",
       "      <th>키</th>\n",
       "      <th>혈액형</th>\n",
       "      <th>인기지수</th>\n",
       "    </tr>\n",
       "  </thead>\n",
       "  <tbody>\n",
       "    <tr>\n",
       "      <th>0</th>\n",
       "      <td>0</td>\n",
       "      <td>레드벨벳</td>\n",
       "      <td>SM</td>\n",
       "      <td>여자</td>\n",
       "      <td>1991-03-29</td>\n",
       "      <td>160.0</td>\n",
       "      <td>A</td>\n",
       "      <td>8256324</td>\n",
       "    </tr>\n",
       "    <tr>\n",
       "      <th>1</th>\n",
       "      <td>0</td>\n",
       "      <td>아스트로</td>\n",
       "      <td>판타지오</td>\n",
       "      <td>남자</td>\n",
       "      <td>1997-03-30</td>\n",
       "      <td>183.0</td>\n",
       "      <td>B</td>\n",
       "      <td>3506027</td>\n",
       "    </tr>\n",
       "    <tr>\n",
       "      <th>2</th>\n",
       "      <td>0</td>\n",
       "      <td>방탄소년단</td>\n",
       "      <td>빅히트</td>\n",
       "      <td>남자</td>\n",
       "      <td>1995-12-30</td>\n",
       "      <td>178.0</td>\n",
       "      <td>AB</td>\n",
       "      <td>8073501</td>\n",
       "    </tr>\n",
       "    <tr>\n",
       "      <th>3</th>\n",
       "      <td>0</td>\n",
       "      <td>NaN</td>\n",
       "      <td>플레디스</td>\n",
       "      <td>남자</td>\n",
       "      <td>1995-08-09</td>\n",
       "      <td>182.3</td>\n",
       "      <td>O</td>\n",
       "      <td>4989792</td>\n",
       "    </tr>\n",
       "    <tr>\n",
       "      <th>4</th>\n",
       "      <td>0</td>\n",
       "      <td>아이들</td>\n",
       "      <td>큐브</td>\n",
       "      <td>여자</td>\n",
       "      <td>1998-08-26</td>\n",
       "      <td>NaN</td>\n",
       "      <td>B</td>\n",
       "      <td>4668615</td>\n",
       "    </tr>\n",
       "  </tbody>\n",
       "</table>\n",
       "</div>"
      ],
      "text/plain": [
       "   이름     그룹   소속사  성별        생년월일      키 혈액형     인기지수\n",
       "0   0   레드벨벳    SM  여자  1991-03-29  160.0   A  8256324\n",
       "1   0   아스트로  판타지오  남자  1997-03-30  183.0   B  3506027\n",
       "2   0  방탄소년단   빅히트  남자  1995-12-30  178.0  AB  8073501\n",
       "3   0    NaN  플레디스  남자  1995-08-09  182.3   O  4989792\n",
       "4   0    아이들    큐브  여자  1998-08-26    NaN   B  4668615"
      ]
     },
     "execution_count": 7,
     "metadata": {},
     "output_type": "execute_result"
    }
   ],
   "source": [
    "df.head()"
   ]
  },
  {
   "cell_type": "code",
   "execution_count": 11,
   "id": "874eee4c-3755-446c-abcb-b1daefed5ff4",
   "metadata": {
    "tags": []
   },
   "outputs": [
    {
     "data": {
      "text/plain": [
       "'0x1c7d0fbaa00'"
      ]
     },
     "execution_count": 11,
     "metadata": {},
     "output_type": "execute_result"
    }
   ],
   "source": [
    "hex(id(new_df))"
   ]
  },
  {
   "cell_type": "code",
   "execution_count": 12,
   "id": "b183007f-fd26-45f5-9add-c903f27a2ea9",
   "metadata": {
    "tags": []
   },
   "outputs": [
    {
     "data": {
      "text/plain": [
       "'0x1c7d0fbaa00'"
      ]
     },
     "execution_count": 12,
     "metadata": {},
     "output_type": "execute_result"
    }
   ],
   "source": [
    "hex(id(df))"
   ]
  },
  {
   "cell_type": "code",
   "execution_count": null,
   "id": "c6a48560-b499-400d-be07-b0d41973548c",
   "metadata": {},
   "outputs": [],
   "source": []
  },
  {
   "cell_type": "markdown",
   "id": "1275b3b3-d96e-47e4-93a9-d8243e7fd454",
   "metadata": {},
   "source": [
    "왜 df 도 같이 바뀌는 걸까?<br>\n",
    "<span style=\"background-color:#FFE6E6\"> 이유는 같은 메모리 주소를 참조하기 때문이다. </span>\n"
   ]
  },
  {
   "cell_type": "markdown",
   "id": "d107b3b1-8ea3-482b-b0a8-36303eb13908",
   "metadata": {},
   "source": [
    "## DataFrame 복사\n",
    "### 새로운 데이터 생성 방법"
   ]
  },
  {
   "cell_type": "code",
   "execution_count": 13,
   "id": "7d2ac09a-1cbf-4f77-9bfa-e11744cd7e24",
   "metadata": {
    "tags": []
   },
   "outputs": [
    {
     "data": {
      "text/html": [
       "<div>\n",
       "<style scoped>\n",
       "    .dataframe tbody tr th:only-of-type {\n",
       "        vertical-align: middle;\n",
       "    }\n",
       "\n",
       "    .dataframe tbody tr th {\n",
       "        vertical-align: top;\n",
       "    }\n",
       "\n",
       "    .dataframe thead th {\n",
       "        text-align: right;\n",
       "    }\n",
       "</style>\n",
       "<table border=\"1\" class=\"dataframe\">\n",
       "  <thead>\n",
       "    <tr style=\"text-align: right;\">\n",
       "      <th></th>\n",
       "      <th>이름</th>\n",
       "      <th>그룹</th>\n",
       "      <th>소속사</th>\n",
       "      <th>성별</th>\n",
       "      <th>생년월일</th>\n",
       "      <th>키</th>\n",
       "      <th>혈액형</th>\n",
       "      <th>인기지수</th>\n",
       "    </tr>\n",
       "  </thead>\n",
       "  <tbody>\n",
       "    <tr>\n",
       "      <th>0</th>\n",
       "      <td>아이린</td>\n",
       "      <td>레드벨벳</td>\n",
       "      <td>SM</td>\n",
       "      <td>여자</td>\n",
       "      <td>1991-03-29</td>\n",
       "      <td>160.0</td>\n",
       "      <td>A</td>\n",
       "      <td>8256324</td>\n",
       "    </tr>\n",
       "    <tr>\n",
       "      <th>1</th>\n",
       "      <td>차은우</td>\n",
       "      <td>아스트로</td>\n",
       "      <td>판타지오</td>\n",
       "      <td>남자</td>\n",
       "      <td>1997-03-30</td>\n",
       "      <td>183.0</td>\n",
       "      <td>B</td>\n",
       "      <td>3506027</td>\n",
       "    </tr>\n",
       "    <tr>\n",
       "      <th>2</th>\n",
       "      <td>뷔</td>\n",
       "      <td>방탄소년단</td>\n",
       "      <td>빅히트</td>\n",
       "      <td>남자</td>\n",
       "      <td>1995-12-30</td>\n",
       "      <td>178.0</td>\n",
       "      <td>AB</td>\n",
       "      <td>8073501</td>\n",
       "    </tr>\n",
       "    <tr>\n",
       "      <th>3</th>\n",
       "      <td>민현</td>\n",
       "      <td>NaN</td>\n",
       "      <td>플레디스</td>\n",
       "      <td>남자</td>\n",
       "      <td>1995-08-09</td>\n",
       "      <td>182.3</td>\n",
       "      <td>O</td>\n",
       "      <td>4989792</td>\n",
       "    </tr>\n",
       "    <tr>\n",
       "      <th>4</th>\n",
       "      <td>소연</td>\n",
       "      <td>아이들</td>\n",
       "      <td>큐브</td>\n",
       "      <td>여자</td>\n",
       "      <td>1998-08-26</td>\n",
       "      <td>NaN</td>\n",
       "      <td>B</td>\n",
       "      <td>4668615</td>\n",
       "    </tr>\n",
       "    <tr>\n",
       "      <th>5</th>\n",
       "      <td>진</td>\n",
       "      <td>방탄소년단</td>\n",
       "      <td>빅히트</td>\n",
       "      <td>남자</td>\n",
       "      <td>1992-12-04</td>\n",
       "      <td>179.2</td>\n",
       "      <td>O</td>\n",
       "      <td>4570308</td>\n",
       "    </tr>\n",
       "    <tr>\n",
       "      <th>6</th>\n",
       "      <td>윤아</td>\n",
       "      <td>소녀시대</td>\n",
       "      <td>SM</td>\n",
       "      <td>여자</td>\n",
       "      <td>1989-03-09</td>\n",
       "      <td>NaN</td>\n",
       "      <td>A</td>\n",
       "      <td>3918661</td>\n",
       "    </tr>\n",
       "    <tr>\n",
       "      <th>7</th>\n",
       "      <td>백호</td>\n",
       "      <td>뉴이스트</td>\n",
       "      <td>플레디스</td>\n",
       "      <td>남자</td>\n",
       "      <td>1995-07-21</td>\n",
       "      <td>175.0</td>\n",
       "      <td>AB</td>\n",
       "      <td>3301654</td>\n",
       "    </tr>\n",
       "    <tr>\n",
       "      <th>8</th>\n",
       "      <td>JR</td>\n",
       "      <td>뉴이스트</td>\n",
       "      <td>플레디스</td>\n",
       "      <td>남자</td>\n",
       "      <td>1995-06-08</td>\n",
       "      <td>176.0</td>\n",
       "      <td>O</td>\n",
       "      <td>3274137</td>\n",
       "    </tr>\n",
       "    <tr>\n",
       "      <th>9</th>\n",
       "      <td>슈가</td>\n",
       "      <td>방탄소년단</td>\n",
       "      <td>빅히트</td>\n",
       "      <td>남자</td>\n",
       "      <td>1993-03-09</td>\n",
       "      <td>174.0</td>\n",
       "      <td>O</td>\n",
       "      <td>4925442</td>\n",
       "    </tr>\n",
       "    <tr>\n",
       "      <th>10</th>\n",
       "      <td>강다니엘</td>\n",
       "      <td>NaN</td>\n",
       "      <td>커넥트</td>\n",
       "      <td>남자</td>\n",
       "      <td>1996-12-10</td>\n",
       "      <td>180.0</td>\n",
       "      <td>A</td>\n",
       "      <td>8273745</td>\n",
       "    </tr>\n",
       "    <tr>\n",
       "      <th>11</th>\n",
       "      <td>정국</td>\n",
       "      <td>방탄소년단</td>\n",
       "      <td>빅히트</td>\n",
       "      <td>남자</td>\n",
       "      <td>1997-09-01</td>\n",
       "      <td>178.0</td>\n",
       "      <td>A</td>\n",
       "      <td>7208335</td>\n",
       "    </tr>\n",
       "    <tr>\n",
       "      <th>12</th>\n",
       "      <td>화사</td>\n",
       "      <td>마마무</td>\n",
       "      <td>RBW</td>\n",
       "      <td>여자</td>\n",
       "      <td>1995-07-23</td>\n",
       "      <td>162.1</td>\n",
       "      <td>A</td>\n",
       "      <td>7650928</td>\n",
       "    </tr>\n",
       "    <tr>\n",
       "      <th>13</th>\n",
       "      <td>하성운</td>\n",
       "      <td>핫샷</td>\n",
       "      <td>스타크루이엔티</td>\n",
       "      <td>남자</td>\n",
       "      <td>1994-03-22</td>\n",
       "      <td>167.1</td>\n",
       "      <td>A</td>\n",
       "      <td>4036489</td>\n",
       "    </tr>\n",
       "    <tr>\n",
       "      <th>14</th>\n",
       "      <td>슬기</td>\n",
       "      <td>레드벨벳</td>\n",
       "      <td>SM</td>\n",
       "      <td>여자</td>\n",
       "      <td>1994-02-10</td>\n",
       "      <td>161.0</td>\n",
       "      <td>A</td>\n",
       "      <td>5021452</td>\n",
       "    </tr>\n",
       "    <tr>\n",
       "      <th>15</th>\n",
       "      <td>지민</td>\n",
       "      <td>방탄소년단</td>\n",
       "      <td>빅히트</td>\n",
       "      <td>남자</td>\n",
       "      <td>1995-10-13</td>\n",
       "      <td>173.6</td>\n",
       "      <td>A</td>\n",
       "      <td>10523260</td>\n",
       "    </tr>\n",
       "  </tbody>\n",
       "</table>\n",
       "</div>"
      ],
      "text/plain": [
       "      이름     그룹      소속사  성별        생년월일      키 혈액형      인기지수\n",
       "0    아이린   레드벨벳       SM  여자  1991-03-29  160.0   A   8256324\n",
       "1    차은우   아스트로     판타지오  남자  1997-03-30  183.0   B   3506027\n",
       "2      뷔  방탄소년단      빅히트  남자  1995-12-30  178.0  AB   8073501\n",
       "3     민현    NaN     플레디스  남자  1995-08-09  182.3   O   4989792\n",
       "4     소연    아이들       큐브  여자  1998-08-26    NaN   B   4668615\n",
       "5      진  방탄소년단      빅히트  남자  1992-12-04  179.2   O   4570308\n",
       "6     윤아   소녀시대       SM  여자  1989-03-09    NaN   A   3918661\n",
       "7     백호   뉴이스트     플레디스  남자  1995-07-21  175.0  AB   3301654\n",
       "8     JR   뉴이스트     플레디스  남자  1995-06-08  176.0   O   3274137\n",
       "9     슈가  방탄소년단      빅히트  남자  1993-03-09  174.0   O   4925442\n",
       "10  강다니엘    NaN      커넥트  남자  1996-12-10  180.0   A   8273745\n",
       "11    정국  방탄소년단      빅히트  남자  1997-09-01  178.0   A   7208335\n",
       "12    화사    마마무      RBW  여자  1995-07-23  162.1   A   7650928\n",
       "13   하성운     핫샷  스타크루이엔티  남자  1994-03-22  167.1   A   4036489\n",
       "14    슬기   레드벨벳       SM  여자  1994-02-10  161.0   A   5021452\n",
       "15    지민  방탄소년단      빅히트  남자  1995-10-13  173.6   A  10523260"
      ]
     },
     "execution_count": 13,
     "metadata": {},
     "output_type": "execute_result"
    }
   ],
   "source": [
    "df_copy = df.copy()\n",
    "df_copy"
   ]
  },
  {
   "cell_type": "code",
   "execution_count": 14,
   "id": "0f21f760-6368-45d6-8bc9-eef197b0d34e",
   "metadata": {
    "tags": []
   },
   "outputs": [
    {
     "data": {
      "text/plain": [
       "'0x1c7d0fbaa00'"
      ]
     },
     "execution_count": 14,
     "metadata": {},
     "output_type": "execute_result"
    }
   ],
   "source": [
    "hex(id(df))"
   ]
  },
  {
   "cell_type": "code",
   "execution_count": 15,
   "id": "c46082ed-209c-45fe-a726-e4cbd375e6d3",
   "metadata": {
    "tags": []
   },
   "outputs": [
    {
     "data": {
      "text/plain": [
       "'0x1c7c8973820'"
      ]
     },
     "execution_count": 15,
     "metadata": {},
     "output_type": "execute_result"
    }
   ],
   "source": [
    "hex(id(df_copy))"
   ]
  },
  {
   "cell_type": "code",
   "execution_count": 16,
   "id": "0cec2006-9c62-48da-89d0-f6afcbbd0e50",
   "metadata": {
    "tags": []
   },
   "outputs": [
    {
     "data": {
      "text/html": [
       "<div>\n",
       "<style scoped>\n",
       "    .dataframe tbody tr th:only-of-type {\n",
       "        vertical-align: middle;\n",
       "    }\n",
       "\n",
       "    .dataframe tbody tr th {\n",
       "        vertical-align: top;\n",
       "    }\n",
       "\n",
       "    .dataframe thead th {\n",
       "        text-align: right;\n",
       "    }\n",
       "</style>\n",
       "<table border=\"1\" class=\"dataframe\">\n",
       "  <thead>\n",
       "    <tr style=\"text-align: right;\">\n",
       "      <th></th>\n",
       "      <th>이름</th>\n",
       "      <th>그룹</th>\n",
       "      <th>소속사</th>\n",
       "      <th>성별</th>\n",
       "      <th>생년월일</th>\n",
       "      <th>키</th>\n",
       "      <th>혈액형</th>\n",
       "      <th>인기지수</th>\n",
       "    </tr>\n",
       "  </thead>\n",
       "  <tbody>\n",
       "    <tr>\n",
       "      <th>0</th>\n",
       "      <td>아이린</td>\n",
       "      <td>레드벨벳</td>\n",
       "      <td>SM</td>\n",
       "      <td>여자</td>\n",
       "      <td>1991-03-29</td>\n",
       "      <td>160.0</td>\n",
       "      <td>A</td>\n",
       "      <td>8256324</td>\n",
       "    </tr>\n",
       "    <tr>\n",
       "      <th>1</th>\n",
       "      <td>차은우</td>\n",
       "      <td>아스트로</td>\n",
       "      <td>판타지오</td>\n",
       "      <td>남자</td>\n",
       "      <td>1997-03-30</td>\n",
       "      <td>183.0</td>\n",
       "      <td>B</td>\n",
       "      <td>3506027</td>\n",
       "    </tr>\n",
       "    <tr>\n",
       "      <th>2</th>\n",
       "      <td>뷔</td>\n",
       "      <td>방탄소년단</td>\n",
       "      <td>빅히트</td>\n",
       "      <td>남자</td>\n",
       "      <td>1995-12-30</td>\n",
       "      <td>178.0</td>\n",
       "      <td>AB</td>\n",
       "      <td>8073501</td>\n",
       "    </tr>\n",
       "    <tr>\n",
       "      <th>3</th>\n",
       "      <td>민현</td>\n",
       "      <td>NaN</td>\n",
       "      <td>플레디스</td>\n",
       "      <td>남자</td>\n",
       "      <td>1995-08-09</td>\n",
       "      <td>182.3</td>\n",
       "      <td>O</td>\n",
       "      <td>4989792</td>\n",
       "    </tr>\n",
       "    <tr>\n",
       "      <th>4</th>\n",
       "      <td>소연</td>\n",
       "      <td>아이들</td>\n",
       "      <td>큐브</td>\n",
       "      <td>여자</td>\n",
       "      <td>1998-08-26</td>\n",
       "      <td>NaN</td>\n",
       "      <td>B</td>\n",
       "      <td>4668615</td>\n",
       "    </tr>\n",
       "  </tbody>\n",
       "</table>\n",
       "</div>"
      ],
      "text/plain": [
       "    이름     그룹   소속사  성별        생년월일      키 혈액형     인기지수\n",
       "0  아이린   레드벨벳    SM  여자  1991-03-29  160.0   A  8256324\n",
       "1  차은우   아스트로  판타지오  남자  1997-03-30  183.0   B  3506027\n",
       "2    뷔  방탄소년단   빅히트  남자  1995-12-30  178.0  AB  8073501\n",
       "3   민현    NaN  플레디스  남자  1995-08-09  182.3   O  4989792\n",
       "4   소연    아이들    큐브  여자  1998-08-26    NaN   B  4668615"
      ]
     },
     "execution_count": 16,
     "metadata": {},
     "output_type": "execute_result"
    }
   ],
   "source": [
    "df.head()"
   ]
  },
  {
   "cell_type": "code",
   "execution_count": 17,
   "id": "f0267b5f-f91c-4ae1-bcf0-3426c2fe398a",
   "metadata": {
    "tags": []
   },
   "outputs": [
    {
     "data": {
      "text/html": [
       "<div>\n",
       "<style scoped>\n",
       "    .dataframe tbody tr th:only-of-type {\n",
       "        vertical-align: middle;\n",
       "    }\n",
       "\n",
       "    .dataframe tbody tr th {\n",
       "        vertical-align: top;\n",
       "    }\n",
       "\n",
       "    .dataframe thead th {\n",
       "        text-align: right;\n",
       "    }\n",
       "</style>\n",
       "<table border=\"1\" class=\"dataframe\">\n",
       "  <thead>\n",
       "    <tr style=\"text-align: right;\">\n",
       "      <th></th>\n",
       "      <th>이름</th>\n",
       "      <th>그룹</th>\n",
       "      <th>소속사</th>\n",
       "      <th>성별</th>\n",
       "      <th>생년월일</th>\n",
       "      <th>키</th>\n",
       "      <th>혈액형</th>\n",
       "      <th>인기지수</th>\n",
       "    </tr>\n",
       "  </thead>\n",
       "  <tbody>\n",
       "    <tr>\n",
       "      <th>0</th>\n",
       "      <td>아이린</td>\n",
       "      <td>레드벨벳</td>\n",
       "      <td>SM</td>\n",
       "      <td>여자</td>\n",
       "      <td>1991-03-29</td>\n",
       "      <td>160.0</td>\n",
       "      <td>A</td>\n",
       "      <td>8256324</td>\n",
       "    </tr>\n",
       "    <tr>\n",
       "      <th>1</th>\n",
       "      <td>차은우</td>\n",
       "      <td>아스트로</td>\n",
       "      <td>판타지오</td>\n",
       "      <td>남자</td>\n",
       "      <td>1997-03-30</td>\n",
       "      <td>183.0</td>\n",
       "      <td>B</td>\n",
       "      <td>3506027</td>\n",
       "    </tr>\n",
       "    <tr>\n",
       "      <th>2</th>\n",
       "      <td>뷔</td>\n",
       "      <td>방탄소년단</td>\n",
       "      <td>빅히트</td>\n",
       "      <td>남자</td>\n",
       "      <td>1995-12-30</td>\n",
       "      <td>178.0</td>\n",
       "      <td>AB</td>\n",
       "      <td>8073501</td>\n",
       "    </tr>\n",
       "    <tr>\n",
       "      <th>3</th>\n",
       "      <td>민현</td>\n",
       "      <td>NaN</td>\n",
       "      <td>플레디스</td>\n",
       "      <td>남자</td>\n",
       "      <td>1995-08-09</td>\n",
       "      <td>182.3</td>\n",
       "      <td>O</td>\n",
       "      <td>4989792</td>\n",
       "    </tr>\n",
       "    <tr>\n",
       "      <th>4</th>\n",
       "      <td>소연</td>\n",
       "      <td>아이들</td>\n",
       "      <td>큐브</td>\n",
       "      <td>여자</td>\n",
       "      <td>1998-08-26</td>\n",
       "      <td>NaN</td>\n",
       "      <td>B</td>\n",
       "      <td>4668615</td>\n",
       "    </tr>\n",
       "  </tbody>\n",
       "</table>\n",
       "</div>"
      ],
      "text/plain": [
       "    이름     그룹   소속사  성별        생년월일      키 혈액형     인기지수\n",
       "0  아이린   레드벨벳    SM  여자  1991-03-29  160.0   A  8256324\n",
       "1  차은우   아스트로  판타지오  남자  1997-03-30  183.0   B  3506027\n",
       "2    뷔  방탄소년단   빅히트  남자  1995-12-30  178.0  AB  8073501\n",
       "3   민현    NaN  플레디스  남자  1995-08-09  182.3   O  4989792\n",
       "4   소연    아이들    큐브  여자  1998-08-26    NaN   B  4668615"
      ]
     },
     "execution_count": 17,
     "metadata": {},
     "output_type": "execute_result"
    }
   ],
   "source": [
    "df_copy.head()"
   ]
  },
  {
   "cell_type": "code",
   "execution_count": 18,
   "id": "d93c3957-50c4-4919-a34d-5468f9ebafd4",
   "metadata": {
    "tags": []
   },
   "outputs": [],
   "source": [
    "df_copy['인기지수'] = 0"
   ]
  },
  {
   "cell_type": "code",
   "execution_count": 19,
   "id": "37252fcf-e17b-4d3f-8a05-a235559c2a1f",
   "metadata": {
    "tags": []
   },
   "outputs": [
    {
     "data": {
      "text/html": [
       "<div>\n",
       "<style scoped>\n",
       "    .dataframe tbody tr th:only-of-type {\n",
       "        vertical-align: middle;\n",
       "    }\n",
       "\n",
       "    .dataframe tbody tr th {\n",
       "        vertical-align: top;\n",
       "    }\n",
       "\n",
       "    .dataframe thead th {\n",
       "        text-align: right;\n",
       "    }\n",
       "</style>\n",
       "<table border=\"1\" class=\"dataframe\">\n",
       "  <thead>\n",
       "    <tr style=\"text-align: right;\">\n",
       "      <th></th>\n",
       "      <th>이름</th>\n",
       "      <th>그룹</th>\n",
       "      <th>소속사</th>\n",
       "      <th>성별</th>\n",
       "      <th>생년월일</th>\n",
       "      <th>키</th>\n",
       "      <th>혈액형</th>\n",
       "      <th>인기지수</th>\n",
       "    </tr>\n",
       "  </thead>\n",
       "  <tbody>\n",
       "    <tr>\n",
       "      <th>0</th>\n",
       "      <td>아이린</td>\n",
       "      <td>레드벨벳</td>\n",
       "      <td>SM</td>\n",
       "      <td>여자</td>\n",
       "      <td>1991-03-29</td>\n",
       "      <td>160.0</td>\n",
       "      <td>A</td>\n",
       "      <td>0</td>\n",
       "    </tr>\n",
       "    <tr>\n",
       "      <th>1</th>\n",
       "      <td>차은우</td>\n",
       "      <td>아스트로</td>\n",
       "      <td>판타지오</td>\n",
       "      <td>남자</td>\n",
       "      <td>1997-03-30</td>\n",
       "      <td>183.0</td>\n",
       "      <td>B</td>\n",
       "      <td>0</td>\n",
       "    </tr>\n",
       "    <tr>\n",
       "      <th>2</th>\n",
       "      <td>뷔</td>\n",
       "      <td>방탄소년단</td>\n",
       "      <td>빅히트</td>\n",
       "      <td>남자</td>\n",
       "      <td>1995-12-30</td>\n",
       "      <td>178.0</td>\n",
       "      <td>AB</td>\n",
       "      <td>0</td>\n",
       "    </tr>\n",
       "    <tr>\n",
       "      <th>3</th>\n",
       "      <td>민현</td>\n",
       "      <td>NaN</td>\n",
       "      <td>플레디스</td>\n",
       "      <td>남자</td>\n",
       "      <td>1995-08-09</td>\n",
       "      <td>182.3</td>\n",
       "      <td>O</td>\n",
       "      <td>0</td>\n",
       "    </tr>\n",
       "    <tr>\n",
       "      <th>4</th>\n",
       "      <td>소연</td>\n",
       "      <td>아이들</td>\n",
       "      <td>큐브</td>\n",
       "      <td>여자</td>\n",
       "      <td>1998-08-26</td>\n",
       "      <td>NaN</td>\n",
       "      <td>B</td>\n",
       "      <td>0</td>\n",
       "    </tr>\n",
       "  </tbody>\n",
       "</table>\n",
       "</div>"
      ],
      "text/plain": [
       "    이름     그룹   소속사  성별        생년월일      키 혈액형  인기지수\n",
       "0  아이린   레드벨벳    SM  여자  1991-03-29  160.0   A     0\n",
       "1  차은우   아스트로  판타지오  남자  1997-03-30  183.0   B     0\n",
       "2    뷔  방탄소년단   빅히트  남자  1995-12-30  178.0  AB     0\n",
       "3   민현    NaN  플레디스  남자  1995-08-09  182.3   O     0\n",
       "4   소연    아이들    큐브  여자  1998-08-26    NaN   B     0"
      ]
     },
     "execution_count": 19,
     "metadata": {},
     "output_type": "execute_result"
    }
   ],
   "source": [
    "df_copy.head()"
   ]
  },
  {
   "cell_type": "code",
   "execution_count": 20,
   "id": "e2caf09b-b7d1-4f99-a0f7-cd26dfd2cad8",
   "metadata": {
    "tags": []
   },
   "outputs": [
    {
     "data": {
      "text/html": [
       "<div>\n",
       "<style scoped>\n",
       "    .dataframe tbody tr th:only-of-type {\n",
       "        vertical-align: middle;\n",
       "    }\n",
       "\n",
       "    .dataframe tbody tr th {\n",
       "        vertical-align: top;\n",
       "    }\n",
       "\n",
       "    .dataframe thead th {\n",
       "        text-align: right;\n",
       "    }\n",
       "</style>\n",
       "<table border=\"1\" class=\"dataframe\">\n",
       "  <thead>\n",
       "    <tr style=\"text-align: right;\">\n",
       "      <th></th>\n",
       "      <th>이름</th>\n",
       "      <th>그룹</th>\n",
       "      <th>소속사</th>\n",
       "      <th>성별</th>\n",
       "      <th>생년월일</th>\n",
       "      <th>키</th>\n",
       "      <th>혈액형</th>\n",
       "      <th>인기지수</th>\n",
       "    </tr>\n",
       "  </thead>\n",
       "  <tbody>\n",
       "    <tr>\n",
       "      <th>0</th>\n",
       "      <td>아이린</td>\n",
       "      <td>레드벨벳</td>\n",
       "      <td>SM</td>\n",
       "      <td>여자</td>\n",
       "      <td>1991-03-29</td>\n",
       "      <td>160.0</td>\n",
       "      <td>A</td>\n",
       "      <td>8256324</td>\n",
       "    </tr>\n",
       "    <tr>\n",
       "      <th>1</th>\n",
       "      <td>차은우</td>\n",
       "      <td>아스트로</td>\n",
       "      <td>판타지오</td>\n",
       "      <td>남자</td>\n",
       "      <td>1997-03-30</td>\n",
       "      <td>183.0</td>\n",
       "      <td>B</td>\n",
       "      <td>3506027</td>\n",
       "    </tr>\n",
       "    <tr>\n",
       "      <th>2</th>\n",
       "      <td>뷔</td>\n",
       "      <td>방탄소년단</td>\n",
       "      <td>빅히트</td>\n",
       "      <td>남자</td>\n",
       "      <td>1995-12-30</td>\n",
       "      <td>178.0</td>\n",
       "      <td>AB</td>\n",
       "      <td>8073501</td>\n",
       "    </tr>\n",
       "    <tr>\n",
       "      <th>3</th>\n",
       "      <td>민현</td>\n",
       "      <td>NaN</td>\n",
       "      <td>플레디스</td>\n",
       "      <td>남자</td>\n",
       "      <td>1995-08-09</td>\n",
       "      <td>182.3</td>\n",
       "      <td>O</td>\n",
       "      <td>4989792</td>\n",
       "    </tr>\n",
       "    <tr>\n",
       "      <th>4</th>\n",
       "      <td>소연</td>\n",
       "      <td>아이들</td>\n",
       "      <td>큐브</td>\n",
       "      <td>여자</td>\n",
       "      <td>1998-08-26</td>\n",
       "      <td>NaN</td>\n",
       "      <td>B</td>\n",
       "      <td>4668615</td>\n",
       "    </tr>\n",
       "  </tbody>\n",
       "</table>\n",
       "</div>"
      ],
      "text/plain": [
       "    이름     그룹   소속사  성별        생년월일      키 혈액형     인기지수\n",
       "0  아이린   레드벨벳    SM  여자  1991-03-29  160.0   A  8256324\n",
       "1  차은우   아스트로  판타지오  남자  1997-03-30  183.0   B  3506027\n",
       "2    뷔  방탄소년단   빅히트  남자  1995-12-30  178.0  AB  8073501\n",
       "3   민현    NaN  플레디스  남자  1995-08-09  182.3   O  4989792\n",
       "4   소연    아이들    큐브  여자  1998-08-26    NaN   B  4668615"
      ]
     },
     "execution_count": 20,
     "metadata": {},
     "output_type": "execute_result"
    }
   ],
   "source": [
    "df.head()"
   ]
  },
  {
   "cell_type": "code",
   "execution_count": 21,
   "id": "3a3ad3d3-c66b-465f-824a-e3ae380063b1",
   "metadata": {
    "tags": []
   },
   "outputs": [],
   "source": [
    "# df_copy 삭제 하려면\n",
    "del df_copy"
   ]
  },
  {
   "cell_type": "code",
   "execution_count": 23,
   "id": "525e4f32-2443-4a1d-b193-a62b957f4f11",
   "metadata": {
    "tags": []
   },
   "outputs": [
    {
     "ename": "NameError",
     "evalue": "name 'df_copy' is not defined",
     "output_type": "error",
     "traceback": [
      "\u001b[1;31m---------------------------------------------------------------------------\u001b[0m",
      "\u001b[1;31mNameError\u001b[0m                                 Traceback (most recent call last)",
      "Cell \u001b[1;32mIn[23], line 1\u001b[0m\n\u001b[1;32m----> 1\u001b[0m \u001b[43mdf_copy\u001b[49m \u001b[38;5;66;03m# del로 메모리에서 삭제 됨\u001b[39;00m\n",
      "\u001b[1;31mNameError\u001b[0m: name 'df_copy' is not defined"
     ]
    }
   ],
   "source": [
    "df_copy # del로 메모리에서 삭제 됨"
   ]
  },
  {
   "cell_type": "markdown",
   "id": "1bfe7564-d86e-44fc-aa3a-90591592d4e9",
   "metadata": {},
   "source": [
    "## 2. row, column 추가 및 삭제"
   ]
  },
  {
   "cell_type": "markdown",
   "id": "601498e9-f5de-4f05-a267-7aca31583d94",
   "metadata": {},
   "source": [
    "### 2-1. row의 추가\n",
    "\n",
    "dict type 데이터를 **append()** 함수를 사용하여 추가할 수 있음.\n",
    "dict 타입으로 컬럼의 데이터를 추가할 때는 반드시,\n",
    "**ignore_index=True** 옵션을 같이 추가해야 에러가 안남."
   ]
  },
  {
   "cell_type": "code",
   "execution_count": 25,
   "id": "68da92c9-9a4c-4903-aa43-47ee58aef49f",
   "metadata": {
    "tags": []
   },
   "outputs": [
    {
     "name": "stdout",
     "output_type": "stream",
     "text": [
      "    이름     그룹   소속사  성별        생년월일      키 혈액형     인기지수\n",
      "0  아이린   레드벨벳    SM  여자  1991-03-29  160.0   A  8256324\n",
      "1  차은우   아스트로  판타지오  남자  1997-03-30  183.0   B  3506027\n",
      "2    뷔  방탄소년단   빅히트  남자  1995-12-30  178.0  AB  8073501\n"
     ]
    }
   ],
   "source": [
    "print(df.head(3))"
   ]
  },
  {
   "cell_type": "code",
   "execution_count": 26,
   "id": "937cc1d8-2927-4e29-8501-17d90a33b80e",
   "metadata": {
    "tags": []
   },
   "outputs": [],
   "source": [
    "# 추가할 데이터\n",
    "add_data = {'이름':'바니', '그룹':'바니그룹', '소속사':'안테나', \n",
    "           '성별':'여자', '생년월일':'1990-01-01', '키':195.0, \n",
    "           '혈액형':'O', '인기지수':7235678}"
   ]
  },
  {
   "cell_type": "code",
   "execution_count": 27,
   "id": "565b209c-ab9f-461b-95c9-292369c46f17",
   "metadata": {
    "tags": []
   },
   "outputs": [
    {
     "data": {
      "text/plain": [
       "16"
      ]
     },
     "execution_count": 27,
     "metadata": {},
     "output_type": "execute_result"
    }
   ],
   "source": [
    "len(df)"
   ]
  },
  {
   "cell_type": "code",
   "execution_count": 35,
   "id": "8866e184-deee-490c-9487-fe2362cfd435",
   "metadata": {
    "tags": []
   },
   "outputs": [],
   "source": [
    "df.loc[len(df)] = add_data"
   ]
  },
  {
   "cell_type": "code",
   "execution_count": 31,
   "id": "570ed6d1-ac9b-41b5-b5cb-072800cb730e",
   "metadata": {
    "tags": []
   },
   "outputs": [
    {
     "data": {
      "text/html": [
       "<div>\n",
       "<style scoped>\n",
       "    .dataframe tbody tr th:only-of-type {\n",
       "        vertical-align: middle;\n",
       "    }\n",
       "\n",
       "    .dataframe tbody tr th {\n",
       "        vertical-align: top;\n",
       "    }\n",
       "\n",
       "    .dataframe thead th {\n",
       "        text-align: right;\n",
       "    }\n",
       "</style>\n",
       "<table border=\"1\" class=\"dataframe\">\n",
       "  <thead>\n",
       "    <tr style=\"text-align: right;\">\n",
       "      <th></th>\n",
       "      <th>이름</th>\n",
       "      <th>그룹</th>\n",
       "      <th>소속사</th>\n",
       "      <th>성별</th>\n",
       "      <th>생년월일</th>\n",
       "      <th>키</th>\n",
       "      <th>혈액형</th>\n",
       "      <th>인기지수</th>\n",
       "    </tr>\n",
       "  </thead>\n",
       "  <tbody>\n",
       "    <tr>\n",
       "      <th>13</th>\n",
       "      <td>하성운</td>\n",
       "      <td>핫샷</td>\n",
       "      <td>스타크루이엔티</td>\n",
       "      <td>남자</td>\n",
       "      <td>1994-03-22</td>\n",
       "      <td>167.1</td>\n",
       "      <td>A</td>\n",
       "      <td>4036489</td>\n",
       "    </tr>\n",
       "    <tr>\n",
       "      <th>14</th>\n",
       "      <td>슬기</td>\n",
       "      <td>레드벨벳</td>\n",
       "      <td>SM</td>\n",
       "      <td>여자</td>\n",
       "      <td>1994-02-10</td>\n",
       "      <td>161.0</td>\n",
       "      <td>A</td>\n",
       "      <td>5021452</td>\n",
       "    </tr>\n",
       "    <tr>\n",
       "      <th>15</th>\n",
       "      <td>지민</td>\n",
       "      <td>방탄소년단</td>\n",
       "      <td>빅히트</td>\n",
       "      <td>남자</td>\n",
       "      <td>1995-10-13</td>\n",
       "      <td>173.6</td>\n",
       "      <td>A</td>\n",
       "      <td>10523260</td>\n",
       "    </tr>\n",
       "    <tr>\n",
       "      <th>16</th>\n",
       "      <td>바니</td>\n",
       "      <td>바니그룹</td>\n",
       "      <td>안테나</td>\n",
       "      <td>여자</td>\n",
       "      <td>1990-01-01</td>\n",
       "      <td>195.0</td>\n",
       "      <td>O</td>\n",
       "      <td>7235678</td>\n",
       "    </tr>\n",
       "    <tr>\n",
       "      <th>17</th>\n",
       "      <td>바니</td>\n",
       "      <td>바니그룹</td>\n",
       "      <td>안테나</td>\n",
       "      <td>여자</td>\n",
       "      <td>1990-01-01</td>\n",
       "      <td>195.0</td>\n",
       "      <td>O</td>\n",
       "      <td>7235678</td>\n",
       "    </tr>\n",
       "  </tbody>\n",
       "</table>\n",
       "</div>"
      ],
      "text/plain": [
       "     이름     그룹      소속사  성별        생년월일      키 혈액형      인기지수\n",
       "13  하성운     핫샷  스타크루이엔티  남자  1994-03-22  167.1   A   4036489\n",
       "14   슬기   레드벨벳       SM  여자  1994-02-10  161.0   A   5021452\n",
       "15   지민  방탄소년단      빅히트  남자  1995-10-13  173.6   A  10523260\n",
       "16   바니   바니그룹      안테나  여자  1990-01-01  195.0   O   7235678\n",
       "17   바니   바니그룹      안테나  여자  1990-01-01  195.0   O   7235678"
      ]
     },
     "execution_count": 31,
     "metadata": {},
     "output_type": "execute_result"
    }
   ],
   "source": [
    "df.tail()"
   ]
  },
  {
   "cell_type": "code",
   "execution_count": 32,
   "id": "7ae5a1bc-8e6d-4271-be2a-a863ba45f6c0",
   "metadata": {
    "tags": []
   },
   "outputs": [],
   "source": [
    "# 추가할 데이터\n",
    "add_data2 = {'이름':'아이유', '소속사':'이담엔터테인먼트', \n",
    "           '성별':'여자', '생년월일':'1990-01-01', '키':160.0, \n",
    "           '혈액형':'A', '인기지수':10235678}"
   ]
  },
  {
   "cell_type": "code",
   "execution_count": 33,
   "id": "a9e23655-fbbf-4da4-abbc-88467a343474",
   "metadata": {
    "tags": []
   },
   "outputs": [],
   "source": [
    "df.loc[len(df)] = add_data2"
   ]
  },
  {
   "cell_type": "code",
   "execution_count": 36,
   "id": "5383e31b-9153-440d-8edf-c014834fc94c",
   "metadata": {
    "tags": []
   },
   "outputs": [
    {
     "data": {
      "text/html": [
       "<div>\n",
       "<style scoped>\n",
       "    .dataframe tbody tr th:only-of-type {\n",
       "        vertical-align: middle;\n",
       "    }\n",
       "\n",
       "    .dataframe tbody tr th {\n",
       "        vertical-align: top;\n",
       "    }\n",
       "\n",
       "    .dataframe thead th {\n",
       "        text-align: right;\n",
       "    }\n",
       "</style>\n",
       "<table border=\"1\" class=\"dataframe\">\n",
       "  <thead>\n",
       "    <tr style=\"text-align: right;\">\n",
       "      <th></th>\n",
       "      <th>이름</th>\n",
       "      <th>그룹</th>\n",
       "      <th>소속사</th>\n",
       "      <th>성별</th>\n",
       "      <th>생년월일</th>\n",
       "      <th>키</th>\n",
       "      <th>혈액형</th>\n",
       "      <th>인기지수</th>\n",
       "    </tr>\n",
       "  </thead>\n",
       "  <tbody>\n",
       "    <tr>\n",
       "      <th>15</th>\n",
       "      <td>지민</td>\n",
       "      <td>방탄소년단</td>\n",
       "      <td>빅히트</td>\n",
       "      <td>남자</td>\n",
       "      <td>1995-10-13</td>\n",
       "      <td>173.6</td>\n",
       "      <td>A</td>\n",
       "      <td>10523260</td>\n",
       "    </tr>\n",
       "    <tr>\n",
       "      <th>16</th>\n",
       "      <td>바니</td>\n",
       "      <td>바니그룹</td>\n",
       "      <td>안테나</td>\n",
       "      <td>여자</td>\n",
       "      <td>1990-01-01</td>\n",
       "      <td>195.0</td>\n",
       "      <td>O</td>\n",
       "      <td>7235678</td>\n",
       "    </tr>\n",
       "    <tr>\n",
       "      <th>17</th>\n",
       "      <td>바니</td>\n",
       "      <td>바니그룹</td>\n",
       "      <td>안테나</td>\n",
       "      <td>여자</td>\n",
       "      <td>1990-01-01</td>\n",
       "      <td>195.0</td>\n",
       "      <td>O</td>\n",
       "      <td>7235678</td>\n",
       "    </tr>\n",
       "    <tr>\n",
       "      <th>18</th>\n",
       "      <td>아이유</td>\n",
       "      <td>NaN</td>\n",
       "      <td>이담엔터테인먼트</td>\n",
       "      <td>여자</td>\n",
       "      <td>1990-01-01</td>\n",
       "      <td>160.0</td>\n",
       "      <td>A</td>\n",
       "      <td>10235678</td>\n",
       "    </tr>\n",
       "    <tr>\n",
       "      <th>19</th>\n",
       "      <td>바니</td>\n",
       "      <td>바니그룹</td>\n",
       "      <td>안테나</td>\n",
       "      <td>여자</td>\n",
       "      <td>1990-01-01</td>\n",
       "      <td>195.0</td>\n",
       "      <td>O</td>\n",
       "      <td>7235678</td>\n",
       "    </tr>\n",
       "  </tbody>\n",
       "</table>\n",
       "</div>"
      ],
      "text/plain": [
       "     이름     그룹       소속사  성별        생년월일      키 혈액형      인기지수\n",
       "15   지민  방탄소년단       빅히트  남자  1995-10-13  173.6   A  10523260\n",
       "16   바니   바니그룹       안테나  여자  1990-01-01  195.0   O   7235678\n",
       "17   바니   바니그룹       안테나  여자  1990-01-01  195.0   O   7235678\n",
       "18  아이유    NaN  이담엔터테인먼트  여자  1990-01-01  160.0   A  10235678\n",
       "19   바니   바니그룹       안테나  여자  1990-01-01  195.0   O   7235678"
      ]
     },
     "execution_count": 36,
     "metadata": {},
     "output_type": "execute_result"
    }
   ],
   "source": [
    "df.tail()"
   ]
  },
  {
   "cell_type": "code",
   "execution_count": 42,
   "id": "11a75eda-49c3-493d-b5ad-d36aeb9851c1",
   "metadata": {
    "tags": []
   },
   "outputs": [
    {
     "data": {
      "text/html": [
       "<div>\n",
       "<style scoped>\n",
       "    .dataframe tbody tr th:only-of-type {\n",
       "        vertical-align: middle;\n",
       "    }\n",
       "\n",
       "    .dataframe tbody tr th {\n",
       "        vertical-align: top;\n",
       "    }\n",
       "\n",
       "    .dataframe thead th {\n",
       "        text-align: right;\n",
       "    }\n",
       "</style>\n",
       "<table border=\"1\" class=\"dataframe\">\n",
       "  <thead>\n",
       "    <tr style=\"text-align: right;\">\n",
       "      <th></th>\n",
       "      <th>이름</th>\n",
       "      <th>그룹</th>\n",
       "      <th>소속사</th>\n",
       "      <th>성별</th>\n",
       "      <th>생년월일</th>\n",
       "      <th>키</th>\n",
       "      <th>혈액형</th>\n",
       "      <th>인기지수</th>\n",
       "    </tr>\n",
       "  </thead>\n",
       "  <tbody>\n",
       "    <tr>\n",
       "      <th>0</th>\n",
       "      <td>아이린</td>\n",
       "      <td>레드벨벳</td>\n",
       "      <td>SM</td>\n",
       "      <td>여자</td>\n",
       "      <td>1991-03-29</td>\n",
       "      <td>160.0</td>\n",
       "      <td>A</td>\n",
       "      <td>8256324</td>\n",
       "    </tr>\n",
       "    <tr>\n",
       "      <th>1</th>\n",
       "      <td>차은우</td>\n",
       "      <td>아스트로</td>\n",
       "      <td>판타지오</td>\n",
       "      <td>남자</td>\n",
       "      <td>1997-03-30</td>\n",
       "      <td>183.0</td>\n",
       "      <td>B</td>\n",
       "      <td>3506027</td>\n",
       "    </tr>\n",
       "    <tr>\n",
       "      <th>2</th>\n",
       "      <td>뷔</td>\n",
       "      <td>방탄소년단</td>\n",
       "      <td>빅히트</td>\n",
       "      <td>남자</td>\n",
       "      <td>1995-12-30</td>\n",
       "      <td>178.0</td>\n",
       "      <td>AB</td>\n",
       "      <td>8073501</td>\n",
       "    </tr>\n",
       "    <tr>\n",
       "      <th>3</th>\n",
       "      <td>민현</td>\n",
       "      <td>NaN</td>\n",
       "      <td>플레디스</td>\n",
       "      <td>남자</td>\n",
       "      <td>1995-08-09</td>\n",
       "      <td>182.3</td>\n",
       "      <td>O</td>\n",
       "      <td>4989792</td>\n",
       "    </tr>\n",
       "    <tr>\n",
       "      <th>4</th>\n",
       "      <td>소연</td>\n",
       "      <td>아이들</td>\n",
       "      <td>큐브</td>\n",
       "      <td>여자</td>\n",
       "      <td>1998-08-26</td>\n",
       "      <td>NaN</td>\n",
       "      <td>B</td>\n",
       "      <td>4668615</td>\n",
       "    </tr>\n",
       "    <tr>\n",
       "      <th>5</th>\n",
       "      <td>진</td>\n",
       "      <td>방탄소년단</td>\n",
       "      <td>빅히트</td>\n",
       "      <td>남자</td>\n",
       "      <td>1992-12-04</td>\n",
       "      <td>179.2</td>\n",
       "      <td>O</td>\n",
       "      <td>4570308</td>\n",
       "    </tr>\n",
       "    <tr>\n",
       "      <th>6</th>\n",
       "      <td>윤아</td>\n",
       "      <td>소녀시대</td>\n",
       "      <td>SM</td>\n",
       "      <td>여자</td>\n",
       "      <td>1989-03-09</td>\n",
       "      <td>NaN</td>\n",
       "      <td>A</td>\n",
       "      <td>3918661</td>\n",
       "    </tr>\n",
       "    <tr>\n",
       "      <th>7</th>\n",
       "      <td>백호</td>\n",
       "      <td>뉴이스트</td>\n",
       "      <td>플레디스</td>\n",
       "      <td>남자</td>\n",
       "      <td>1995-07-21</td>\n",
       "      <td>175.0</td>\n",
       "      <td>AB</td>\n",
       "      <td>3301654</td>\n",
       "    </tr>\n",
       "    <tr>\n",
       "      <th>8</th>\n",
       "      <td>JR</td>\n",
       "      <td>뉴이스트</td>\n",
       "      <td>플레디스</td>\n",
       "      <td>남자</td>\n",
       "      <td>1995-06-08</td>\n",
       "      <td>176.0</td>\n",
       "      <td>O</td>\n",
       "      <td>3274137</td>\n",
       "    </tr>\n",
       "    <tr>\n",
       "      <th>9</th>\n",
       "      <td>슈가</td>\n",
       "      <td>방탄소년단</td>\n",
       "      <td>빅히트</td>\n",
       "      <td>남자</td>\n",
       "      <td>1993-03-09</td>\n",
       "      <td>174.0</td>\n",
       "      <td>O</td>\n",
       "      <td>4925442</td>\n",
       "    </tr>\n",
       "    <tr>\n",
       "      <th>10</th>\n",
       "      <td>강다니엘</td>\n",
       "      <td>NaN</td>\n",
       "      <td>커넥트</td>\n",
       "      <td>남자</td>\n",
       "      <td>1996-12-10</td>\n",
       "      <td>180.0</td>\n",
       "      <td>A</td>\n",
       "      <td>8273745</td>\n",
       "    </tr>\n",
       "    <tr>\n",
       "      <th>11</th>\n",
       "      <td>정국</td>\n",
       "      <td>방탄소년단</td>\n",
       "      <td>빅히트</td>\n",
       "      <td>남자</td>\n",
       "      <td>1997-09-01</td>\n",
       "      <td>178.0</td>\n",
       "      <td>A</td>\n",
       "      <td>7208335</td>\n",
       "    </tr>\n",
       "    <tr>\n",
       "      <th>12</th>\n",
       "      <td>화사</td>\n",
       "      <td>마마무</td>\n",
       "      <td>RBW</td>\n",
       "      <td>여자</td>\n",
       "      <td>1995-07-23</td>\n",
       "      <td>162.1</td>\n",
       "      <td>A</td>\n",
       "      <td>7650928</td>\n",
       "    </tr>\n",
       "    <tr>\n",
       "      <th>13</th>\n",
       "      <td>하성운</td>\n",
       "      <td>핫샷</td>\n",
       "      <td>스타크루이엔티</td>\n",
       "      <td>남자</td>\n",
       "      <td>1994-03-22</td>\n",
       "      <td>167.1</td>\n",
       "      <td>A</td>\n",
       "      <td>4036489</td>\n",
       "    </tr>\n",
       "    <tr>\n",
       "      <th>14</th>\n",
       "      <td>슬기</td>\n",
       "      <td>레드벨벳</td>\n",
       "      <td>SM</td>\n",
       "      <td>여자</td>\n",
       "      <td>1994-02-10</td>\n",
       "      <td>161.0</td>\n",
       "      <td>A</td>\n",
       "      <td>5021452</td>\n",
       "    </tr>\n",
       "    <tr>\n",
       "      <th>15</th>\n",
       "      <td>지민</td>\n",
       "      <td>방탄소년단</td>\n",
       "      <td>빅히트</td>\n",
       "      <td>남자</td>\n",
       "      <td>1995-10-13</td>\n",
       "      <td>173.6</td>\n",
       "      <td>A</td>\n",
       "      <td>10523260</td>\n",
       "    </tr>\n",
       "    <tr>\n",
       "      <th>16</th>\n",
       "      <td>바니</td>\n",
       "      <td>바니그룹</td>\n",
       "      <td>안테나</td>\n",
       "      <td>여자</td>\n",
       "      <td>1990-01-01</td>\n",
       "      <td>195.0</td>\n",
       "      <td>O</td>\n",
       "      <td>7235678</td>\n",
       "    </tr>\n",
       "    <tr>\n",
       "      <th>18</th>\n",
       "      <td>아이유</td>\n",
       "      <td>NaN</td>\n",
       "      <td>이담엔터테인먼트</td>\n",
       "      <td>여자</td>\n",
       "      <td>1990-01-01</td>\n",
       "      <td>160.0</td>\n",
       "      <td>A</td>\n",
       "      <td>10235678</td>\n",
       "    </tr>\n",
       "  </tbody>\n",
       "</table>\n",
       "</div>"
      ],
      "text/plain": [
       "      이름     그룹       소속사  성별        생년월일      키 혈액형      인기지수\n",
       "0    아이린   레드벨벳        SM  여자  1991-03-29  160.0   A   8256324\n",
       "1    차은우   아스트로      판타지오  남자  1997-03-30  183.0   B   3506027\n",
       "2      뷔  방탄소년단       빅히트  남자  1995-12-30  178.0  AB   8073501\n",
       "3     민현    NaN      플레디스  남자  1995-08-09  182.3   O   4989792\n",
       "4     소연    아이들        큐브  여자  1998-08-26    NaN   B   4668615\n",
       "5      진  방탄소년단       빅히트  남자  1992-12-04  179.2   O   4570308\n",
       "6     윤아   소녀시대        SM  여자  1989-03-09    NaN   A   3918661\n",
       "7     백호   뉴이스트      플레디스  남자  1995-07-21  175.0  AB   3301654\n",
       "8     JR   뉴이스트      플레디스  남자  1995-06-08  176.0   O   3274137\n",
       "9     슈가  방탄소년단       빅히트  남자  1993-03-09  174.0   O   4925442\n",
       "10  강다니엘    NaN       커넥트  남자  1996-12-10  180.0   A   8273745\n",
       "11    정국  방탄소년단       빅히트  남자  1997-09-01  178.0   A   7208335\n",
       "12    화사    마마무       RBW  여자  1995-07-23  162.1   A   7650928\n",
       "13   하성운     핫샷   스타크루이엔티  남자  1994-03-22  167.1   A   4036489\n",
       "14    슬기   레드벨벳        SM  여자  1994-02-10  161.0   A   5021452\n",
       "15    지민  방탄소년단       빅히트  남자  1995-10-13  173.6   A  10523260\n",
       "16    바니   바니그룹       안테나  여자  1990-01-01  195.0   O   7235678\n",
       "18   아이유    NaN  이담엔터테인먼트  여자  1990-01-01  160.0   A  10235678"
      ]
     },
     "execution_count": 42,
     "metadata": {},
     "output_type": "execute_result"
    }
   ],
   "source": [
    "# 17번, 19번\n",
    "df.drop([17, 19])\n"
   ]
  },
  {
   "cell_type": "code",
   "execution_count": 43,
   "id": "2ca76659-a4b8-4a7a-9b92-3fd9d004a14b",
   "metadata": {
    "tags": []
   },
   "outputs": [
    {
     "data": {
      "text/html": [
       "<div>\n",
       "<style scoped>\n",
       "    .dataframe tbody tr th:only-of-type {\n",
       "        vertical-align: middle;\n",
       "    }\n",
       "\n",
       "    .dataframe tbody tr th {\n",
       "        vertical-align: top;\n",
       "    }\n",
       "\n",
       "    .dataframe thead th {\n",
       "        text-align: right;\n",
       "    }\n",
       "</style>\n",
       "<table border=\"1\" class=\"dataframe\">\n",
       "  <thead>\n",
       "    <tr style=\"text-align: right;\">\n",
       "      <th></th>\n",
       "      <th>이름</th>\n",
       "      <th>그룹</th>\n",
       "      <th>소속사</th>\n",
       "      <th>성별</th>\n",
       "      <th>생년월일</th>\n",
       "      <th>키</th>\n",
       "      <th>혈액형</th>\n",
       "      <th>인기지수</th>\n",
       "    </tr>\n",
       "  </thead>\n",
       "  <tbody>\n",
       "    <tr>\n",
       "      <th>15</th>\n",
       "      <td>지민</td>\n",
       "      <td>방탄소년단</td>\n",
       "      <td>빅히트</td>\n",
       "      <td>남자</td>\n",
       "      <td>1995-10-13</td>\n",
       "      <td>173.6</td>\n",
       "      <td>A</td>\n",
       "      <td>10523260</td>\n",
       "    </tr>\n",
       "    <tr>\n",
       "      <th>16</th>\n",
       "      <td>바니</td>\n",
       "      <td>바니그룹</td>\n",
       "      <td>안테나</td>\n",
       "      <td>여자</td>\n",
       "      <td>1990-01-01</td>\n",
       "      <td>195.0</td>\n",
       "      <td>O</td>\n",
       "      <td>7235678</td>\n",
       "    </tr>\n",
       "    <tr>\n",
       "      <th>17</th>\n",
       "      <td>바니</td>\n",
       "      <td>바니그룹</td>\n",
       "      <td>안테나</td>\n",
       "      <td>여자</td>\n",
       "      <td>1990-01-01</td>\n",
       "      <td>195.0</td>\n",
       "      <td>O</td>\n",
       "      <td>7235678</td>\n",
       "    </tr>\n",
       "    <tr>\n",
       "      <th>18</th>\n",
       "      <td>아이유</td>\n",
       "      <td>NaN</td>\n",
       "      <td>이담엔터테인먼트</td>\n",
       "      <td>여자</td>\n",
       "      <td>1990-01-01</td>\n",
       "      <td>160.0</td>\n",
       "      <td>A</td>\n",
       "      <td>10235678</td>\n",
       "    </tr>\n",
       "    <tr>\n",
       "      <th>19</th>\n",
       "      <td>바니</td>\n",
       "      <td>바니그룹</td>\n",
       "      <td>안테나</td>\n",
       "      <td>여자</td>\n",
       "      <td>1990-01-01</td>\n",
       "      <td>195.0</td>\n",
       "      <td>O</td>\n",
       "      <td>7235678</td>\n",
       "    </tr>\n",
       "  </tbody>\n",
       "</table>\n",
       "</div>"
      ],
      "text/plain": [
       "     이름     그룹       소속사  성별        생년월일      키 혈액형      인기지수\n",
       "15   지민  방탄소년단       빅히트  남자  1995-10-13  173.6   A  10523260\n",
       "16   바니   바니그룹       안테나  여자  1990-01-01  195.0   O   7235678\n",
       "17   바니   바니그룹       안테나  여자  1990-01-01  195.0   O   7235678\n",
       "18  아이유    NaN  이담엔터테인먼트  여자  1990-01-01  160.0   A  10235678\n",
       "19   바니   바니그룹       안테나  여자  1990-01-01  195.0   O   7235678"
      ]
     },
     "execution_count": 43,
     "metadata": {},
     "output_type": "execute_result"
    }
   ],
   "source": [
    "df.tail(5)"
   ]
  },
  {
   "cell_type": "code",
   "execution_count": null,
   "id": "cc084b85-b46e-46d3-ad29-8b650870c715",
   "metadata": {
    "tags": []
   },
   "outputs": [],
   "source": [
    "# 삭제하고 df 다시 대입해야 적용됨\n",
    "df = df.drop([17, 19]) #  inplace = True 사용 가능\n",
    "df.tail(5)"
   ]
  },
  {
   "cell_type": "markdown",
   "id": "10751056-3547-4d7f-bd48-458632f55055",
   "metadata": {},
   "source": [
    "## 2-2. column 추가\n",
    "**주의**<br>\n",
    "<span style=\"background-color:#fff5b1\"> 만약 데이터가 있을 경우 값이 update 되니 주의할 것 </span>\n",
    "\n",
    "새로운 column을 만들고 값을 대입해주면, 자동으로 생성됨"
   ]
  },
  {
   "cell_type": "code",
   "execution_count": 46,
   "id": "15b42ce7-ce85-4a7c-b338-a17829ec4447",
   "metadata": {
    "tags": []
   },
   "outputs": [
    {
     "data": {
      "text/html": [
       "<div>\n",
       "<style scoped>\n",
       "    .dataframe tbody tr th:only-of-type {\n",
       "        vertical-align: middle;\n",
       "    }\n",
       "\n",
       "    .dataframe tbody tr th {\n",
       "        vertical-align: top;\n",
       "    }\n",
       "\n",
       "    .dataframe thead th {\n",
       "        text-align: right;\n",
       "    }\n",
       "</style>\n",
       "<table border=\"1\" class=\"dataframe\">\n",
       "  <thead>\n",
       "    <tr style=\"text-align: right;\">\n",
       "      <th></th>\n",
       "      <th>이름</th>\n",
       "      <th>그룹</th>\n",
       "      <th>소속사</th>\n",
       "      <th>성별</th>\n",
       "      <th>생년월일</th>\n",
       "      <th>키</th>\n",
       "      <th>혈액형</th>\n",
       "      <th>인기지수</th>\n",
       "    </tr>\n",
       "  </thead>\n",
       "  <tbody>\n",
       "    <tr>\n",
       "      <th>0</th>\n",
       "      <td>아이린</td>\n",
       "      <td>레드벨벳</td>\n",
       "      <td>SM</td>\n",
       "      <td>여자</td>\n",
       "      <td>1991-03-29</td>\n",
       "      <td>160.0</td>\n",
       "      <td>A</td>\n",
       "      <td>8256324</td>\n",
       "    </tr>\n",
       "    <tr>\n",
       "      <th>1</th>\n",
       "      <td>차은우</td>\n",
       "      <td>아스트로</td>\n",
       "      <td>판타지오</td>\n",
       "      <td>남자</td>\n",
       "      <td>1997-03-30</td>\n",
       "      <td>183.0</td>\n",
       "      <td>B</td>\n",
       "      <td>3506027</td>\n",
       "    </tr>\n",
       "    <tr>\n",
       "      <th>2</th>\n",
       "      <td>뷔</td>\n",
       "      <td>방탄소년단</td>\n",
       "      <td>빅히트</td>\n",
       "      <td>남자</td>\n",
       "      <td>1995-12-30</td>\n",
       "      <td>178.0</td>\n",
       "      <td>AB</td>\n",
       "      <td>8073501</td>\n",
       "    </tr>\n",
       "    <tr>\n",
       "      <th>3</th>\n",
       "      <td>민현</td>\n",
       "      <td>NaN</td>\n",
       "      <td>플레디스</td>\n",
       "      <td>남자</td>\n",
       "      <td>1995-08-09</td>\n",
       "      <td>182.3</td>\n",
       "      <td>O</td>\n",
       "      <td>4989792</td>\n",
       "    </tr>\n",
       "    <tr>\n",
       "      <th>4</th>\n",
       "      <td>소연</td>\n",
       "      <td>아이들</td>\n",
       "      <td>큐브</td>\n",
       "      <td>여자</td>\n",
       "      <td>1998-08-26</td>\n",
       "      <td>NaN</td>\n",
       "      <td>B</td>\n",
       "      <td>4668615</td>\n",
       "    </tr>\n",
       "  </tbody>\n",
       "</table>\n",
       "</div>"
      ],
      "text/plain": [
       "    이름     그룹   소속사  성별        생년월일      키 혈액형     인기지수\n",
       "0  아이린   레드벨벳    SM  여자  1991-03-29  160.0   A  8256324\n",
       "1  차은우   아스트로  판타지오  남자  1997-03-30  183.0   B  3506027\n",
       "2    뷔  방탄소년단   빅히트  남자  1995-12-30  178.0  AB  8073501\n",
       "3   민현    NaN  플레디스  남자  1995-08-09  182.3   O  4989792\n",
       "4   소연    아이들    큐브  여자  1998-08-26    NaN   B  4668615"
      ]
     },
     "execution_count": 46,
     "metadata": {},
     "output_type": "execute_result"
    }
   ],
   "source": [
    "df.head()"
   ]
  },
  {
   "cell_type": "code",
   "execution_count": 47,
   "id": "b29b430c-72a5-448b-8d7c-b290e6c0fbed",
   "metadata": {
    "tags": []
   },
   "outputs": [],
   "source": [
    "df['국적'] = '대한민국'"
   ]
  },
  {
   "cell_type": "code",
   "execution_count": 48,
   "id": "ba85fdd2-bc89-40ed-94f9-07415ef38e55",
   "metadata": {
    "tags": []
   },
   "outputs": [
    {
     "data": {
      "text/html": [
       "<div>\n",
       "<style scoped>\n",
       "    .dataframe tbody tr th:only-of-type {\n",
       "        vertical-align: middle;\n",
       "    }\n",
       "\n",
       "    .dataframe tbody tr th {\n",
       "        vertical-align: top;\n",
       "    }\n",
       "\n",
       "    .dataframe thead th {\n",
       "        text-align: right;\n",
       "    }\n",
       "</style>\n",
       "<table border=\"1\" class=\"dataframe\">\n",
       "  <thead>\n",
       "    <tr style=\"text-align: right;\">\n",
       "      <th></th>\n",
       "      <th>이름</th>\n",
       "      <th>그룹</th>\n",
       "      <th>소속사</th>\n",
       "      <th>성별</th>\n",
       "      <th>생년월일</th>\n",
       "      <th>키</th>\n",
       "      <th>혈액형</th>\n",
       "      <th>인기지수</th>\n",
       "      <th>국적</th>\n",
       "    </tr>\n",
       "  </thead>\n",
       "  <tbody>\n",
       "    <tr>\n",
       "      <th>0</th>\n",
       "      <td>아이린</td>\n",
       "      <td>레드벨벳</td>\n",
       "      <td>SM</td>\n",
       "      <td>여자</td>\n",
       "      <td>1991-03-29</td>\n",
       "      <td>160.0</td>\n",
       "      <td>A</td>\n",
       "      <td>8256324</td>\n",
       "      <td>대한민국</td>\n",
       "    </tr>\n",
       "    <tr>\n",
       "      <th>1</th>\n",
       "      <td>차은우</td>\n",
       "      <td>아스트로</td>\n",
       "      <td>판타지오</td>\n",
       "      <td>남자</td>\n",
       "      <td>1997-03-30</td>\n",
       "      <td>183.0</td>\n",
       "      <td>B</td>\n",
       "      <td>3506027</td>\n",
       "      <td>대한민국</td>\n",
       "    </tr>\n",
       "    <tr>\n",
       "      <th>2</th>\n",
       "      <td>뷔</td>\n",
       "      <td>방탄소년단</td>\n",
       "      <td>빅히트</td>\n",
       "      <td>남자</td>\n",
       "      <td>1995-12-30</td>\n",
       "      <td>178.0</td>\n",
       "      <td>AB</td>\n",
       "      <td>8073501</td>\n",
       "      <td>대한민국</td>\n",
       "    </tr>\n",
       "    <tr>\n",
       "      <th>3</th>\n",
       "      <td>민현</td>\n",
       "      <td>NaN</td>\n",
       "      <td>플레디스</td>\n",
       "      <td>남자</td>\n",
       "      <td>1995-08-09</td>\n",
       "      <td>182.3</td>\n",
       "      <td>O</td>\n",
       "      <td>4989792</td>\n",
       "      <td>대한민국</td>\n",
       "    </tr>\n",
       "    <tr>\n",
       "      <th>4</th>\n",
       "      <td>소연</td>\n",
       "      <td>아이들</td>\n",
       "      <td>큐브</td>\n",
       "      <td>여자</td>\n",
       "      <td>1998-08-26</td>\n",
       "      <td>NaN</td>\n",
       "      <td>B</td>\n",
       "      <td>4668615</td>\n",
       "      <td>대한민국</td>\n",
       "    </tr>\n",
       "  </tbody>\n",
       "</table>\n",
       "</div>"
      ],
      "text/plain": [
       "    이름     그룹   소속사  성별        생년월일      키 혈액형     인기지수    국적\n",
       "0  아이린   레드벨벳    SM  여자  1991-03-29  160.0   A  8256324  대한민국\n",
       "1  차은우   아스트로  판타지오  남자  1997-03-30  183.0   B  3506027  대한민국\n",
       "2    뷔  방탄소년단   빅히트  남자  1995-12-30  178.0  AB  8073501  대한민국\n",
       "3   민현    NaN  플레디스  남자  1995-08-09  182.3   O  4989792  대한민국\n",
       "4   소연    아이들    큐브  여자  1998-08-26    NaN   B  4668615  대한민국"
      ]
     },
     "execution_count": 48,
     "metadata": {},
     "output_type": "execute_result"
    }
   ],
   "source": [
    "df.head()"
   ]
  },
  {
   "cell_type": "markdown",
   "id": "9786b0c7-61f0-4752-b749-73b20ae8ec15",
   "metadata": {},
   "source": [
    "#### **컬럼 전체에 동일한 값이 적용됨**\n",
    "만약, 값을 변경하고 싶다면, loc 함수를 활용해서 변경할 수 있음\n",
    "\n",
    "df.loc[ 조건부:df['column name*'] == '요소값' , 'update column name*'] = '대입값'\n",
    "\n",
    "ex) df.loc[ df['이름'] == '차은우' , '국적'] = 'korea'"
   ]
  },
  {
   "cell_type": "code",
   "execution_count": 49,
   "id": "93d14eea-1499-4902-8fd7-53f18a53ad35",
   "metadata": {
    "tags": []
   },
   "outputs": [],
   "source": [
    "df.loc[ df['이름'] == '차은우' , '국적'] = 'korea'"
   ]
  },
  {
   "cell_type": "code",
   "execution_count": 50,
   "id": "15ba840f-faaf-4cef-b88b-9d6d139f211a",
   "metadata": {
    "tags": []
   },
   "outputs": [
    {
     "data": {
      "text/html": [
       "<div>\n",
       "<style scoped>\n",
       "    .dataframe tbody tr th:only-of-type {\n",
       "        vertical-align: middle;\n",
       "    }\n",
       "\n",
       "    .dataframe tbody tr th {\n",
       "        vertical-align: top;\n",
       "    }\n",
       "\n",
       "    .dataframe thead th {\n",
       "        text-align: right;\n",
       "    }\n",
       "</style>\n",
       "<table border=\"1\" class=\"dataframe\">\n",
       "  <thead>\n",
       "    <tr style=\"text-align: right;\">\n",
       "      <th></th>\n",
       "      <th>이름</th>\n",
       "      <th>그룹</th>\n",
       "      <th>소속사</th>\n",
       "      <th>성별</th>\n",
       "      <th>생년월일</th>\n",
       "      <th>키</th>\n",
       "      <th>혈액형</th>\n",
       "      <th>인기지수</th>\n",
       "      <th>국적</th>\n",
       "    </tr>\n",
       "  </thead>\n",
       "  <tbody>\n",
       "    <tr>\n",
       "      <th>0</th>\n",
       "      <td>아이린</td>\n",
       "      <td>레드벨벳</td>\n",
       "      <td>SM</td>\n",
       "      <td>여자</td>\n",
       "      <td>1991-03-29</td>\n",
       "      <td>160.0</td>\n",
       "      <td>A</td>\n",
       "      <td>8256324</td>\n",
       "      <td>대한민국</td>\n",
       "    </tr>\n",
       "    <tr>\n",
       "      <th>1</th>\n",
       "      <td>차은우</td>\n",
       "      <td>아스트로</td>\n",
       "      <td>판타지오</td>\n",
       "      <td>남자</td>\n",
       "      <td>1997-03-30</td>\n",
       "      <td>183.0</td>\n",
       "      <td>B</td>\n",
       "      <td>3506027</td>\n",
       "      <td>korea</td>\n",
       "    </tr>\n",
       "    <tr>\n",
       "      <th>2</th>\n",
       "      <td>뷔</td>\n",
       "      <td>방탄소년단</td>\n",
       "      <td>빅히트</td>\n",
       "      <td>남자</td>\n",
       "      <td>1995-12-30</td>\n",
       "      <td>178.0</td>\n",
       "      <td>AB</td>\n",
       "      <td>8073501</td>\n",
       "      <td>대한민국</td>\n",
       "    </tr>\n",
       "    <tr>\n",
       "      <th>3</th>\n",
       "      <td>민현</td>\n",
       "      <td>NaN</td>\n",
       "      <td>플레디스</td>\n",
       "      <td>남자</td>\n",
       "      <td>1995-08-09</td>\n",
       "      <td>182.3</td>\n",
       "      <td>O</td>\n",
       "      <td>4989792</td>\n",
       "      <td>대한민국</td>\n",
       "    </tr>\n",
       "    <tr>\n",
       "      <th>4</th>\n",
       "      <td>소연</td>\n",
       "      <td>아이들</td>\n",
       "      <td>큐브</td>\n",
       "      <td>여자</td>\n",
       "      <td>1998-08-26</td>\n",
       "      <td>NaN</td>\n",
       "      <td>B</td>\n",
       "      <td>4668615</td>\n",
       "      <td>대한민국</td>\n",
       "    </tr>\n",
       "  </tbody>\n",
       "</table>\n",
       "</div>"
      ],
      "text/plain": [
       "    이름     그룹   소속사  성별        생년월일      키 혈액형     인기지수     국적\n",
       "0  아이린   레드벨벳    SM  여자  1991-03-29  160.0   A  8256324   대한민국\n",
       "1  차은우   아스트로  판타지오  남자  1997-03-30  183.0   B  3506027  korea\n",
       "2    뷔  방탄소년단   빅히트  남자  1995-12-30  178.0  AB  8073501   대한민국\n",
       "3   민현    NaN  플레디스  남자  1995-08-09  182.3   O  4989792   대한민국\n",
       "4   소연    아이들    큐브  여자  1998-08-26    NaN   B  4668615   대한민국"
      ]
     },
     "execution_count": 50,
     "metadata": {},
     "output_type": "execute_result"
    }
   ],
   "source": [
    "df.head()"
   ]
  },
  {
   "cell_type": "markdown",
   "id": "2b6a59b7-ac32-4150-a84a-f1ceb4f036eb",
   "metadata": {},
   "source": [
    "## 3. 통계값 다루기"
   ]
  },
  {
   "cell_type": "code",
   "execution_count": 51,
   "id": "baa1b6ca-d6b2-484b-9205-7ee48ba928f7",
   "metadata": {
    "tags": []
   },
   "outputs": [],
   "source": [
    "df = pd.read_csv('datas/korea-star.csv')"
   ]
  },
  {
   "cell_type": "markdown",
   "id": "9eb77241-b2eb-49fa-9929-d11d89d8793e",
   "metadata": {},
   "source": [
    "통계값은 data type이 float나 int형 인 column을 다룸"
   ]
  },
  {
   "cell_type": "code",
   "execution_count": 52,
   "id": "321ca1b6-6e5e-4a80-8efc-c890fd780fc3",
   "metadata": {
    "tags": []
   },
   "outputs": [
    {
     "data": {
      "text/html": [
       "<div>\n",
       "<style scoped>\n",
       "    .dataframe tbody tr th:only-of-type {\n",
       "        vertical-align: middle;\n",
       "    }\n",
       "\n",
       "    .dataframe tbody tr th {\n",
       "        vertical-align: top;\n",
       "    }\n",
       "\n",
       "    .dataframe thead th {\n",
       "        text-align: right;\n",
       "    }\n",
       "</style>\n",
       "<table border=\"1\" class=\"dataframe\">\n",
       "  <thead>\n",
       "    <tr style=\"text-align: right;\">\n",
       "      <th></th>\n",
       "      <th>이름</th>\n",
       "      <th>그룹</th>\n",
       "      <th>소속사</th>\n",
       "      <th>성별</th>\n",
       "      <th>생년월일</th>\n",
       "      <th>키</th>\n",
       "      <th>혈액형</th>\n",
       "      <th>인기지수</th>\n",
       "    </tr>\n",
       "  </thead>\n",
       "  <tbody>\n",
       "    <tr>\n",
       "      <th>0</th>\n",
       "      <td>아이린</td>\n",
       "      <td>레드벨벳</td>\n",
       "      <td>SM</td>\n",
       "      <td>여자</td>\n",
       "      <td>1991-03-29</td>\n",
       "      <td>160.0</td>\n",
       "      <td>A</td>\n",
       "      <td>8256324</td>\n",
       "    </tr>\n",
       "    <tr>\n",
       "      <th>1</th>\n",
       "      <td>차은우</td>\n",
       "      <td>아스트로</td>\n",
       "      <td>판타지오</td>\n",
       "      <td>남자</td>\n",
       "      <td>1997-03-30</td>\n",
       "      <td>183.0</td>\n",
       "      <td>B</td>\n",
       "      <td>3506027</td>\n",
       "    </tr>\n",
       "    <tr>\n",
       "      <th>2</th>\n",
       "      <td>뷔</td>\n",
       "      <td>방탄소년단</td>\n",
       "      <td>빅히트</td>\n",
       "      <td>남자</td>\n",
       "      <td>1995-12-30</td>\n",
       "      <td>178.0</td>\n",
       "      <td>AB</td>\n",
       "      <td>8073501</td>\n",
       "    </tr>\n",
       "    <tr>\n",
       "      <th>3</th>\n",
       "      <td>민현</td>\n",
       "      <td>NaN</td>\n",
       "      <td>플레디스</td>\n",
       "      <td>남자</td>\n",
       "      <td>1995-08-09</td>\n",
       "      <td>182.3</td>\n",
       "      <td>O</td>\n",
       "      <td>4989792</td>\n",
       "    </tr>\n",
       "    <tr>\n",
       "      <th>4</th>\n",
       "      <td>소연</td>\n",
       "      <td>아이들</td>\n",
       "      <td>큐브</td>\n",
       "      <td>여자</td>\n",
       "      <td>1998-08-26</td>\n",
       "      <td>NaN</td>\n",
       "      <td>B</td>\n",
       "      <td>4668615</td>\n",
       "    </tr>\n",
       "  </tbody>\n",
       "</table>\n",
       "</div>"
      ],
      "text/plain": [
       "    이름     그룹   소속사  성별        생년월일      키 혈액형     인기지수\n",
       "0  아이린   레드벨벳    SM  여자  1991-03-29  160.0   A  8256324\n",
       "1  차은우   아스트로  판타지오  남자  1997-03-30  183.0   B  3506027\n",
       "2    뷔  방탄소년단   빅히트  남자  1995-12-30  178.0  AB  8073501\n",
       "3   민현    NaN  플레디스  남자  1995-08-09  182.3   O  4989792\n",
       "4   소연    아이들    큐브  여자  1998-08-26    NaN   B  4668615"
      ]
     },
     "execution_count": 52,
     "metadata": {},
     "output_type": "execute_result"
    }
   ],
   "source": [
    "df.head()"
   ]
  },
  {
   "cell_type": "markdown",
   "id": "51712ff5-6990-40c3-a3f1-f04215325300",
   "metadata": {},
   "source": [
    "### 3-1. min(최소값), max(최대값)\n",
    "통계값은 data type이 숫자형 인 column을 다룸"
   ]
  },
  {
   "cell_type": "code",
   "execution_count": 55,
   "id": "f4a82b9c-d132-484f-a00c-5f0a668725a8",
   "metadata": {
    "tags": []
   },
   "outputs": [
    {
     "name": "stdout",
     "output_type": "stream",
     "text": [
      "160.0\n"
     ]
    }
   ],
   "source": [
    "df_min = df[\"키\"].min()\n",
    "print(df_min)"
   ]
  },
  {
   "cell_type": "code",
   "execution_count": 56,
   "id": "3e7a7ce0-eefc-487f-aac7-d8299d76ce4e",
   "metadata": {
    "tags": []
   },
   "outputs": [
    {
     "name": "stdout",
     "output_type": "stream",
     "text": [
      "183.0\n"
     ]
    }
   ],
   "source": [
    "df_max = df[\"키\"].max()\n",
    "print(df_max)"
   ]
  },
  {
   "cell_type": "markdown",
   "id": "8f7b369e-cd3d-4117-a358-8e2ff9ce6619",
   "metadata": {},
   "source": [
    "### 3-2. sum (합계), mean (평균)"
   ]
  },
  {
   "cell_type": "code",
   "execution_count": 53,
   "id": "97e09177-728d-4e98-9c01-ae6014597d9b",
   "metadata": {
    "tags": []
   },
   "outputs": [
    {
     "name": "stdout",
     "output_type": "stream",
     "text": [
      "2429.3\n"
     ]
    }
   ],
   "source": [
    "df_sum = df[\"키\"].sum()\n",
    "print(df_sum)"
   ]
  },
  {
   "cell_type": "code",
   "execution_count": 54,
   "id": "27f8f4b2-42dd-4dcf-8ae0-81f8fcbef0aa",
   "metadata": {
    "tags": []
   },
   "outputs": [
    {
     "name": "stdout",
     "output_type": "stream",
     "text": [
      "173.52142857142857\n"
     ]
    }
   ],
   "source": [
    "df_mean = df[\"키\"].mean()\n",
    "print(df_mean)"
   ]
  },
  {
   "cell_type": "markdown",
   "id": "635cc430-cfba-494d-bff2-e909977ee33f",
   "metadata": {},
   "source": [
    "### 3-3. 분산(var; variance), 표준편차(std; standard deviation)\n",
    "- 분산과 표준편차는 데이터가 **평균으로부터 얼마나 떨어져 있는지 정도**를 나타냄\n",
    "- 분산은 **(데이터 - 평균) 2** 을 모두 합한 값** / n\n",
    "- 표준편차는 **분산의 루트**"
   ]
  },
  {
   "cell_type": "code",
   "execution_count": 57,
   "id": "4b13f4e5-b1af-407c-89b8-270415676cf9",
   "metadata": {
    "tags": []
   },
   "outputs": [],
   "source": [
    "import numpy as np"
   ]
  },
  {
   "cell_type": "code",
   "execution_count": 58,
   "id": "d8b0f42d-f65e-4a19-ab56-b098ad9a1515",
   "metadata": {
    "tags": []
   },
   "outputs": [],
   "source": [
    "data_01 = np.array([1, 3, 5, 7, 9])\n",
    "data_02 = np.array([3, 4, 5, 6, 7])"
   ]
  },
  {
   "cell_type": "code",
   "execution_count": 59,
   "id": "55395ee6-005c-4ed7-942a-4d7e3c6ee427",
   "metadata": {
    "tags": []
   },
   "outputs": [
    {
     "data": {
      "text/plain": [
       "2.8284271247461903"
      ]
     },
     "execution_count": 59,
     "metadata": {},
     "output_type": "execute_result"
    }
   ],
   "source": [
    "np.sqrt(((1-5)**2 + (3-5)**2 + (5-5)**2 + (7-5)**2 + (9-5)**2 ) / 5)\n"
   ]
  },
  {
   "cell_type": "code",
   "execution_count": 60,
   "id": "c883f319-f1e6-45b3-9db4-566f260688e5",
   "metadata": {
    "tags": []
   },
   "outputs": [
    {
     "data": {
      "text/plain": [
       "5.0"
      ]
     },
     "execution_count": 60,
     "metadata": {},
     "output_type": "execute_result"
    }
   ],
   "source": [
    "data_01.mean()\n"
   ]
  },
  {
   "cell_type": "code",
   "execution_count": 61,
   "id": "1034e56f-da33-4f70-8649-d1ba0eecebc8",
   "metadata": {
    "tags": []
   },
   "outputs": [
    {
     "data": {
      "text/plain": [
       "5.0"
      ]
     },
     "execution_count": 61,
     "metadata": {},
     "output_type": "execute_result"
    }
   ],
   "source": [
    "data_02.mean()"
   ]
  },
  {
   "cell_type": "code",
   "execution_count": 62,
   "id": "fae6f37e-4fdb-4ebb-86e4-c77c2ba60eee",
   "metadata": {
    "tags": []
   },
   "outputs": [
    {
     "data": {
      "text/plain": [
       "(8.0, 2.0)"
      ]
     },
     "execution_count": 62,
     "metadata": {},
     "output_type": "execute_result"
    }
   ],
   "source": [
    "data_01.var(), data_02.var()"
   ]
  },
  {
   "cell_type": "code",
   "execution_count": 63,
   "id": "4dc62467-3ea6-4764-9212-b28f430a241d",
   "metadata": {
    "tags": []
   },
   "outputs": [
    {
     "data": {
      "text/plain": [
       "(2.8284271247461903, 1.4142135623730951)"
      ]
     },
     "execution_count": 63,
     "metadata": {},
     "output_type": "execute_result"
    }
   ],
   "source": [
    "np.sqrt(data_01.var()), np.sqrt(data_02.var())"
   ]
  },
  {
   "cell_type": "code",
   "execution_count": 64,
   "id": "f23a45d3-8dc7-4d76-adf2-b0ce0493bd3f",
   "metadata": {
    "tags": []
   },
   "outputs": [
    {
     "data": {
      "text/plain": [
       "(2.8284271247461903, 1.4142135623730951)"
      ]
     },
     "execution_count": 64,
     "metadata": {},
     "output_type": "execute_result"
    }
   ],
   "source": [
    "data_01.std(), data_02.std()"
   ]
  },
  {
   "cell_type": "markdown",
   "id": "89112666-4b75-4f07-971f-a03c4aa99238",
   "metadata": {},
   "source": [
    "주로 표준편자 (std)를 많이 사용하며, 데이터가 평균으로부터 얼마나 퍼져있는지 정도를 나타내는 지표"
   ]
  },
  {
   "cell_type": "code",
   "execution_count": 68,
   "id": "5dd7be7b-7aa1-405e-a7bd-cd54191000b8",
   "metadata": {
    "tags": []
   },
   "outputs": [
    {
     "data": {
      "text/plain": [
       "61.62335164835167"
      ]
     },
     "execution_count": 68,
     "metadata": {},
     "output_type": "execute_result"
    }
   ],
   "source": [
    "# df의 키컬럼 값의 분산\n",
    "df[\"키\"].var()"
   ]
  },
  {
   "cell_type": "code",
   "execution_count": 69,
   "id": "995450d3-6d99-4e34-a81a-2c0cd96b49ee",
   "metadata": {
    "tags": []
   },
   "outputs": [
    {
     "data": {
      "text/plain": [
       "7.8500542449305195"
      ]
     },
     "execution_count": 69,
     "metadata": {},
     "output_type": "execute_result"
    }
   ],
   "source": [
    "# df의 키컬럼 값의 표준편차\n",
    "df[\"키\"].std()"
   ]
  },
  {
   "cell_type": "markdown",
   "id": "9a91833d-eef6-41c1-86ce-3c83113efd60",
   "metadata": {},
   "source": [
    "### 3-4. 갯수를 세는 count"
   ]
  },
  {
   "cell_type": "code",
   "execution_count": 71,
   "id": "6385919d-fb6e-41f9-ba37-0ca8889d762c",
   "metadata": {
    "tags": []
   },
   "outputs": [
    {
     "data": {
      "text/plain": [
       "14"
      ]
     },
     "execution_count": 71,
     "metadata": {},
     "output_type": "execute_result"
    }
   ],
   "source": [
    "# df의 키컬럼 값의 갯수\n",
    "df[\"키\"].count()"
   ]
  },
  {
   "cell_type": "markdown",
   "id": "10097d72-e5cc-4cab-8342-c9398c03884e",
   "metadata": {},
   "source": [
    "### 3.5. 중앙값\n",
    "- 오름차순으로 정렬한 다음에 그중에서 가장 가운데."
   ]
  },
  {
   "cell_type": "code",
   "execution_count": 72,
   "id": "5e62df59-bfd4-4de1-88bc-3fbc5e7087c0",
   "metadata": {
    "tags": []
   },
   "outputs": [
    {
     "data": {
      "text/plain": [
       "175.5"
      ]
     },
     "execution_count": 72,
     "metadata": {},
     "output_type": "execute_result"
    }
   ],
   "source": [
    "# df의 키컬럼 값의 중앙값\n",
    "df['키'].median()"
   ]
  },
  {
   "cell_type": "markdown",
   "id": "ba964e7e-8cd9-4886-b6e2-fe78f81a44f9",
   "metadata": {},
   "source": [
    "### 3.6. 최빈값 (mode)\n",
    "- 얼마나 자주 나오는 인지"
   ]
  },
  {
   "cell_type": "code",
   "execution_count": 73,
   "id": "47c349b0-a6a3-42eb-a47a-9fba74cd57eb",
   "metadata": {
    "tags": []
   },
   "outputs": [
    {
     "data": {
      "text/plain": [
       "0    178.0\n",
       "Name: 키, dtype: float64"
      ]
     },
     "execution_count": 73,
     "metadata": {},
     "output_type": "execute_result"
    }
   ],
   "source": [
    "# df의 키컬럼 겂중에 최빈값\n",
    "df['키'].mode()"
   ]
  },
  {
   "cell_type": "code",
   "execution_count": 74,
   "id": "8b733901-2a27-4c88-bfa9-258e4c932593",
   "metadata": {
    "tags": []
   },
   "outputs": [],
   "source": [
    "# 슈가의 키를 176으로 변경\n",
    "\n",
    "df.loc[ df['이름'] == '슈가' , '키'] = 176"
   ]
  },
  {
   "cell_type": "code",
   "execution_count": 75,
   "id": "337c72d1-4f41-46d0-8d9c-69fd65f994cc",
   "metadata": {
    "tags": []
   },
   "outputs": [
    {
     "data": {
      "text/html": [
       "<div>\n",
       "<style scoped>\n",
       "    .dataframe tbody tr th:only-of-type {\n",
       "        vertical-align: middle;\n",
       "    }\n",
       "\n",
       "    .dataframe tbody tr th {\n",
       "        vertical-align: top;\n",
       "    }\n",
       "\n",
       "    .dataframe thead th {\n",
       "        text-align: right;\n",
       "    }\n",
       "</style>\n",
       "<table border=\"1\" class=\"dataframe\">\n",
       "  <thead>\n",
       "    <tr style=\"text-align: right;\">\n",
       "      <th></th>\n",
       "      <th>이름</th>\n",
       "      <th>그룹</th>\n",
       "      <th>소속사</th>\n",
       "      <th>성별</th>\n",
       "      <th>생년월일</th>\n",
       "      <th>키</th>\n",
       "      <th>혈액형</th>\n",
       "      <th>인기지수</th>\n",
       "    </tr>\n",
       "  </thead>\n",
       "  <tbody>\n",
       "    <tr>\n",
       "      <th>0</th>\n",
       "      <td>아이린</td>\n",
       "      <td>레드벨벳</td>\n",
       "      <td>SM</td>\n",
       "      <td>여자</td>\n",
       "      <td>1991-03-29</td>\n",
       "      <td>160.0</td>\n",
       "      <td>A</td>\n",
       "      <td>8256324</td>\n",
       "    </tr>\n",
       "    <tr>\n",
       "      <th>1</th>\n",
       "      <td>차은우</td>\n",
       "      <td>아스트로</td>\n",
       "      <td>판타지오</td>\n",
       "      <td>남자</td>\n",
       "      <td>1997-03-30</td>\n",
       "      <td>183.0</td>\n",
       "      <td>B</td>\n",
       "      <td>3506027</td>\n",
       "    </tr>\n",
       "    <tr>\n",
       "      <th>2</th>\n",
       "      <td>뷔</td>\n",
       "      <td>방탄소년단</td>\n",
       "      <td>빅히트</td>\n",
       "      <td>남자</td>\n",
       "      <td>1995-12-30</td>\n",
       "      <td>178.0</td>\n",
       "      <td>AB</td>\n",
       "      <td>8073501</td>\n",
       "    </tr>\n",
       "    <tr>\n",
       "      <th>3</th>\n",
       "      <td>민현</td>\n",
       "      <td>NaN</td>\n",
       "      <td>플레디스</td>\n",
       "      <td>남자</td>\n",
       "      <td>1995-08-09</td>\n",
       "      <td>182.3</td>\n",
       "      <td>O</td>\n",
       "      <td>4989792</td>\n",
       "    </tr>\n",
       "    <tr>\n",
       "      <th>4</th>\n",
       "      <td>소연</td>\n",
       "      <td>아이들</td>\n",
       "      <td>큐브</td>\n",
       "      <td>여자</td>\n",
       "      <td>1998-08-26</td>\n",
       "      <td>NaN</td>\n",
       "      <td>B</td>\n",
       "      <td>4668615</td>\n",
       "    </tr>\n",
       "    <tr>\n",
       "      <th>5</th>\n",
       "      <td>진</td>\n",
       "      <td>방탄소년단</td>\n",
       "      <td>빅히트</td>\n",
       "      <td>남자</td>\n",
       "      <td>1992-12-04</td>\n",
       "      <td>179.2</td>\n",
       "      <td>O</td>\n",
       "      <td>4570308</td>\n",
       "    </tr>\n",
       "    <tr>\n",
       "      <th>6</th>\n",
       "      <td>윤아</td>\n",
       "      <td>소녀시대</td>\n",
       "      <td>SM</td>\n",
       "      <td>여자</td>\n",
       "      <td>1989-03-09</td>\n",
       "      <td>NaN</td>\n",
       "      <td>A</td>\n",
       "      <td>3918661</td>\n",
       "    </tr>\n",
       "    <tr>\n",
       "      <th>7</th>\n",
       "      <td>백호</td>\n",
       "      <td>뉴이스트</td>\n",
       "      <td>플레디스</td>\n",
       "      <td>남자</td>\n",
       "      <td>1995-07-21</td>\n",
       "      <td>175.0</td>\n",
       "      <td>AB</td>\n",
       "      <td>3301654</td>\n",
       "    </tr>\n",
       "    <tr>\n",
       "      <th>8</th>\n",
       "      <td>JR</td>\n",
       "      <td>뉴이스트</td>\n",
       "      <td>플레디스</td>\n",
       "      <td>남자</td>\n",
       "      <td>1995-06-08</td>\n",
       "      <td>176.0</td>\n",
       "      <td>O</td>\n",
       "      <td>3274137</td>\n",
       "    </tr>\n",
       "    <tr>\n",
       "      <th>9</th>\n",
       "      <td>슈가</td>\n",
       "      <td>방탄소년단</td>\n",
       "      <td>빅히트</td>\n",
       "      <td>남자</td>\n",
       "      <td>1993-03-09</td>\n",
       "      <td>176.0</td>\n",
       "      <td>O</td>\n",
       "      <td>4925442</td>\n",
       "    </tr>\n",
       "    <tr>\n",
       "      <th>10</th>\n",
       "      <td>강다니엘</td>\n",
       "      <td>NaN</td>\n",
       "      <td>커넥트</td>\n",
       "      <td>남자</td>\n",
       "      <td>1996-12-10</td>\n",
       "      <td>180.0</td>\n",
       "      <td>A</td>\n",
       "      <td>8273745</td>\n",
       "    </tr>\n",
       "    <tr>\n",
       "      <th>11</th>\n",
       "      <td>정국</td>\n",
       "      <td>방탄소년단</td>\n",
       "      <td>빅히트</td>\n",
       "      <td>남자</td>\n",
       "      <td>1997-09-01</td>\n",
       "      <td>178.0</td>\n",
       "      <td>A</td>\n",
       "      <td>7208335</td>\n",
       "    </tr>\n",
       "    <tr>\n",
       "      <th>12</th>\n",
       "      <td>화사</td>\n",
       "      <td>마마무</td>\n",
       "      <td>RBW</td>\n",
       "      <td>여자</td>\n",
       "      <td>1995-07-23</td>\n",
       "      <td>162.1</td>\n",
       "      <td>A</td>\n",
       "      <td>7650928</td>\n",
       "    </tr>\n",
       "    <tr>\n",
       "      <th>13</th>\n",
       "      <td>하성운</td>\n",
       "      <td>핫샷</td>\n",
       "      <td>스타크루이엔티</td>\n",
       "      <td>남자</td>\n",
       "      <td>1994-03-22</td>\n",
       "      <td>167.1</td>\n",
       "      <td>A</td>\n",
       "      <td>4036489</td>\n",
       "    </tr>\n",
       "    <tr>\n",
       "      <th>14</th>\n",
       "      <td>슬기</td>\n",
       "      <td>레드벨벳</td>\n",
       "      <td>SM</td>\n",
       "      <td>여자</td>\n",
       "      <td>1994-02-10</td>\n",
       "      <td>161.0</td>\n",
       "      <td>A</td>\n",
       "      <td>5021452</td>\n",
       "    </tr>\n",
       "    <tr>\n",
       "      <th>15</th>\n",
       "      <td>지민</td>\n",
       "      <td>방탄소년단</td>\n",
       "      <td>빅히트</td>\n",
       "      <td>남자</td>\n",
       "      <td>1995-10-13</td>\n",
       "      <td>173.6</td>\n",
       "      <td>A</td>\n",
       "      <td>10523260</td>\n",
       "    </tr>\n",
       "  </tbody>\n",
       "</table>\n",
       "</div>"
      ],
      "text/plain": [
       "      이름     그룹      소속사  성별        생년월일      키 혈액형      인기지수\n",
       "0    아이린   레드벨벳       SM  여자  1991-03-29  160.0   A   8256324\n",
       "1    차은우   아스트로     판타지오  남자  1997-03-30  183.0   B   3506027\n",
       "2      뷔  방탄소년단      빅히트  남자  1995-12-30  178.0  AB   8073501\n",
       "3     민현    NaN     플레디스  남자  1995-08-09  182.3   O   4989792\n",
       "4     소연    아이들       큐브  여자  1998-08-26    NaN   B   4668615\n",
       "5      진  방탄소년단      빅히트  남자  1992-12-04  179.2   O   4570308\n",
       "6     윤아   소녀시대       SM  여자  1989-03-09    NaN   A   3918661\n",
       "7     백호   뉴이스트     플레디스  남자  1995-07-21  175.0  AB   3301654\n",
       "8     JR   뉴이스트     플레디스  남자  1995-06-08  176.0   O   3274137\n",
       "9     슈가  방탄소년단      빅히트  남자  1993-03-09  176.0   O   4925442\n",
       "10  강다니엘    NaN      커넥트  남자  1996-12-10  180.0   A   8273745\n",
       "11    정국  방탄소년단      빅히트  남자  1997-09-01  178.0   A   7208335\n",
       "12    화사    마마무      RBW  여자  1995-07-23  162.1   A   7650928\n",
       "13   하성운     핫샷  스타크루이엔티  남자  1994-03-22  167.1   A   4036489\n",
       "14    슬기   레드벨벳       SM  여자  1994-02-10  161.0   A   5021452\n",
       "15    지민  방탄소년단      빅히트  남자  1995-10-13  173.6   A  10523260"
      ]
     },
     "execution_count": 75,
     "metadata": {},
     "output_type": "execute_result"
    }
   ],
   "source": [
    "df"
   ]
  },
  {
   "cell_type": "code",
   "execution_count": 76,
   "id": "8424a030-eee9-4ed8-817b-9364b25a050a",
   "metadata": {
    "tags": []
   },
   "outputs": [
    {
     "data": {
      "text/plain": [
       "0    176.0\n",
       "1    178.0\n",
       "Name: 키, dtype: float64"
      ]
     },
     "execution_count": 76,
     "metadata": {},
     "output_type": "execute_result"
    }
   ],
   "source": [
    "# 최빈값이 2개 이상일 때 확인해 보기\n",
    "df['키'].mode()"
   ]
  },
  {
   "cell_type": "code",
   "execution_count": 80,
   "id": "19857c0f-b90f-4c6d-aaf0-72c008b271e4",
   "metadata": {
    "tags": []
   },
   "outputs": [
    {
     "name": "stdout",
     "output_type": "stream",
     "text": [
      "<class 'pandas.core.series.Series'>\n"
     ]
    }
   ],
   "source": [
    "print(type(df['키'].mode())) # Series : 1차원"
   ]
  },
  {
   "cell_type": "code",
   "execution_count": 78,
   "id": "9e2025b4-ecb1-4b8c-bf29-518c9730d991",
   "metadata": {
    "tags": []
   },
   "outputs": [
    {
     "name": "stdout",
     "output_type": "stream",
     "text": [
      "176.0\n"
     ]
    }
   ],
   "source": [
    "print(df['키'].mode()[0])"
   ]
  },
  {
   "cell_type": "code",
   "execution_count": 79,
   "id": "bdf30bcc-f9b8-4c7a-811a-0fd86bafc378",
   "metadata": {
    "tags": []
   },
   "outputs": [
    {
     "name": "stdout",
     "output_type": "stream",
     "text": [
      "178.0\n"
     ]
    }
   ],
   "source": [
    "print(df['키'].mode()[1])"
   ]
  },
  {
   "cell_type": "code",
   "execution_count": 81,
   "id": "f5bb06cd-ba36-47d5-b763-47cd8070fa5e",
   "metadata": {
    "tags": []
   },
   "outputs": [
    {
     "data": {
      "text/html": [
       "<div>\n",
       "<style scoped>\n",
       "    .dataframe tbody tr th:only-of-type {\n",
       "        vertical-align: middle;\n",
       "    }\n",
       "\n",
       "    .dataframe tbody tr th {\n",
       "        vertical-align: top;\n",
       "    }\n",
       "\n",
       "    .dataframe thead th {\n",
       "        text-align: right;\n",
       "    }\n",
       "</style>\n",
       "<table border=\"1\" class=\"dataframe\">\n",
       "  <thead>\n",
       "    <tr style=\"text-align: right;\">\n",
       "      <th></th>\n",
       "      <th>이름</th>\n",
       "      <th>그룹</th>\n",
       "      <th>소속사</th>\n",
       "      <th>성별</th>\n",
       "      <th>생년월일</th>\n",
       "      <th>키</th>\n",
       "      <th>혈액형</th>\n",
       "      <th>인기지수</th>\n",
       "    </tr>\n",
       "  </thead>\n",
       "  <tbody>\n",
       "    <tr>\n",
       "      <th>2</th>\n",
       "      <td>뷔</td>\n",
       "      <td>방탄소년단</td>\n",
       "      <td>빅히트</td>\n",
       "      <td>남자</td>\n",
       "      <td>1995-12-30</td>\n",
       "      <td>178.0</td>\n",
       "      <td>AB</td>\n",
       "      <td>8073501</td>\n",
       "    </tr>\n",
       "    <tr>\n",
       "      <th>11</th>\n",
       "      <td>정국</td>\n",
       "      <td>방탄소년단</td>\n",
       "      <td>빅히트</td>\n",
       "      <td>남자</td>\n",
       "      <td>1997-09-01</td>\n",
       "      <td>178.0</td>\n",
       "      <td>A</td>\n",
       "      <td>7208335</td>\n",
       "    </tr>\n",
       "  </tbody>\n",
       "</table>\n",
       "</div>"
      ],
      "text/plain": [
       "    이름     그룹  소속사  성별        생년월일      키 혈액형     인기지수\n",
       "2    뷔  방탄소년단  빅히트  남자  1995-12-30  178.0  AB  8073501\n",
       "11  정국  방탄소년단  빅히트  남자  1997-09-01  178.0   A  7208335"
      ]
     },
     "execution_count": 81,
     "metadata": {},
     "output_type": "execute_result"
    }
   ],
   "source": [
    "# 최빈값의 data 확인\n",
    "df.loc[df[\"키\"] == 178, :]"
   ]
  },
  {
   "cell_type": "code",
   "execution_count": 82,
   "id": "58e599c3-ef16-428f-b140-954c0eec3191",
   "metadata": {
    "tags": []
   },
   "outputs": [
    {
     "data": {
      "text/html": [
       "<div>\n",
       "<style scoped>\n",
       "    .dataframe tbody tr th:only-of-type {\n",
       "        vertical-align: middle;\n",
       "    }\n",
       "\n",
       "    .dataframe tbody tr th {\n",
       "        vertical-align: top;\n",
       "    }\n",
       "\n",
       "    .dataframe thead th {\n",
       "        text-align: right;\n",
       "    }\n",
       "</style>\n",
       "<table border=\"1\" class=\"dataframe\">\n",
       "  <thead>\n",
       "    <tr style=\"text-align: right;\">\n",
       "      <th></th>\n",
       "      <th>이름</th>\n",
       "      <th>그룹</th>\n",
       "      <th>소속사</th>\n",
       "      <th>성별</th>\n",
       "      <th>생년월일</th>\n",
       "      <th>키</th>\n",
       "      <th>혈액형</th>\n",
       "      <th>인기지수</th>\n",
       "    </tr>\n",
       "  </thead>\n",
       "  <tbody>\n",
       "    <tr>\n",
       "      <th>8</th>\n",
       "      <td>JR</td>\n",
       "      <td>뉴이스트</td>\n",
       "      <td>플레디스</td>\n",
       "      <td>남자</td>\n",
       "      <td>1995-06-08</td>\n",
       "      <td>176.0</td>\n",
       "      <td>O</td>\n",
       "      <td>3274137</td>\n",
       "    </tr>\n",
       "    <tr>\n",
       "      <th>9</th>\n",
       "      <td>슈가</td>\n",
       "      <td>방탄소년단</td>\n",
       "      <td>빅히트</td>\n",
       "      <td>남자</td>\n",
       "      <td>1993-03-09</td>\n",
       "      <td>176.0</td>\n",
       "      <td>O</td>\n",
       "      <td>4925442</td>\n",
       "    </tr>\n",
       "  </tbody>\n",
       "</table>\n",
       "</div>"
      ],
      "text/plain": [
       "   이름     그룹   소속사  성별        생년월일      키 혈액형     인기지수\n",
       "8  JR   뉴이스트  플레디스  남자  1995-06-08  176.0   O  3274137\n",
       "9  슈가  방탄소년단   빅히트  남자  1993-03-09  176.0   O  4925442"
      ]
     },
     "execution_count": 82,
     "metadata": {},
     "output_type": "execute_result"
    }
   ],
   "source": [
    "df.loc[df[\"키\"] == 176, :]"
   ]
  },
  {
   "cell_type": "markdown",
   "id": "0879916d-0cf0-4689-aa4d-482fb1d93167",
   "metadata": {},
   "source": [
    "## 4. GroupBy (그룹으로 묶어 보기)\n",
    "- groupby는 데이터를 그룹으로 묶어 분석할 때 활용합니다.\n",
    "- 소속사별 키의 평균, 성별 키의 평균 등 특정, 그룹별 통계 및 데이터의 성질을 확인하고자 할 때 활용합니다."
   ]
  },
  {
   "cell_type": "code",
   "execution_count": 83,
   "id": "f29329c0-e387-4dac-a95f-1de205fc703c",
   "metadata": {
    "tags": []
   },
   "outputs": [],
   "source": [
    "df = pd.read_csv('datas/korea-star.csv')"
   ]
  },
  {
   "cell_type": "code",
   "execution_count": 84,
   "id": "20702269-e392-465c-a3f0-ed3552970bbb",
   "metadata": {
    "tags": []
   },
   "outputs": [
    {
     "data": {
      "text/html": [
       "<div>\n",
       "<style scoped>\n",
       "    .dataframe tbody tr th:only-of-type {\n",
       "        vertical-align: middle;\n",
       "    }\n",
       "\n",
       "    .dataframe tbody tr th {\n",
       "        vertical-align: top;\n",
       "    }\n",
       "\n",
       "    .dataframe thead th {\n",
       "        text-align: right;\n",
       "    }\n",
       "</style>\n",
       "<table border=\"1\" class=\"dataframe\">\n",
       "  <thead>\n",
       "    <tr style=\"text-align: right;\">\n",
       "      <th></th>\n",
       "      <th>이름</th>\n",
       "      <th>그룹</th>\n",
       "      <th>소속사</th>\n",
       "      <th>성별</th>\n",
       "      <th>생년월일</th>\n",
       "      <th>키</th>\n",
       "      <th>혈액형</th>\n",
       "      <th>인기지수</th>\n",
       "    </tr>\n",
       "  </thead>\n",
       "  <tbody>\n",
       "    <tr>\n",
       "      <th>0</th>\n",
       "      <td>아이린</td>\n",
       "      <td>레드벨벳</td>\n",
       "      <td>SM</td>\n",
       "      <td>여자</td>\n",
       "      <td>1991-03-29</td>\n",
       "      <td>160.0</td>\n",
       "      <td>A</td>\n",
       "      <td>8256324</td>\n",
       "    </tr>\n",
       "    <tr>\n",
       "      <th>1</th>\n",
       "      <td>차은우</td>\n",
       "      <td>아스트로</td>\n",
       "      <td>판타지오</td>\n",
       "      <td>남자</td>\n",
       "      <td>1997-03-30</td>\n",
       "      <td>183.0</td>\n",
       "      <td>B</td>\n",
       "      <td>3506027</td>\n",
       "    </tr>\n",
       "    <tr>\n",
       "      <th>2</th>\n",
       "      <td>뷔</td>\n",
       "      <td>방탄소년단</td>\n",
       "      <td>빅히트</td>\n",
       "      <td>남자</td>\n",
       "      <td>1995-12-30</td>\n",
       "      <td>178.0</td>\n",
       "      <td>AB</td>\n",
       "      <td>8073501</td>\n",
       "    </tr>\n",
       "  </tbody>\n",
       "</table>\n",
       "</div>"
      ],
      "text/plain": [
       "    이름     그룹   소속사  성별        생년월일      키 혈액형     인기지수\n",
       "0  아이린   레드벨벳    SM  여자  1991-03-29  160.0   A  8256324\n",
       "1  차은우   아스트로  판타지오  남자  1997-03-30  183.0   B  3506027\n",
       "2    뷔  방탄소년단   빅히트  남자  1995-12-30  178.0  AB  8073501"
      ]
     },
     "execution_count": 84,
     "metadata": {},
     "output_type": "execute_result"
    }
   ],
   "source": [
    "df.head(3)"
   ]
  },
  {
   "cell_type": "code",
   "execution_count": 85,
   "id": "9a67803a-9afb-4760-85fd-4e1af5b92a42",
   "metadata": {
    "tags": []
   },
   "outputs": [
    {
     "data": {
      "text/plain": [
       "소속사\n",
       "빅히트        5\n",
       "SM         3\n",
       "플레디스       3\n",
       "RBW        1\n",
       "스타크루이엔티    1\n",
       "커넥트        1\n",
       "큐브         1\n",
       "판타지오       1\n",
       "Name: count, dtype: int64"
      ]
     },
     "execution_count": 85,
     "metadata": {},
     "output_type": "execute_result"
    }
   ],
   "source": [
    "df.value_counts('소속사')"
   ]
  },
  {
   "cell_type": "code",
   "execution_count": 86,
   "id": "e93e88b1-6f3d-4614-a11a-d5c704e7c6b6",
   "metadata": {
    "tags": []
   },
   "outputs": [
    {
     "data": {
      "text/plain": [
       "<pandas.core.groupby.generic.DataFrameGroupBy object at 0x000001C7D712E940>"
      ]
     },
     "execution_count": 86,
     "metadata": {},
     "output_type": "execute_result"
    }
   ],
   "source": [
    "df.groupby('소속사')"
   ]
  },
  {
   "cell_type": "markdown",
   "id": "ac1b0ce7-0267-48bf-8c9e-747d4c448ff0",
   "metadata": {},
   "source": [
    "#### groupby와 함께\n",
    "- count() - 갯수\n",
    "- sum() - 합계\n",
    "- mean() - 평균\n",
    "- var() - 분산\n",
    "- std() - 표준편차\n",
    "- min()/max() - 최소값, 최대값"
   ]
  },
  {
   "cell_type": "code",
   "execution_count": 87,
   "id": "36f2a714-602f-4948-9263-9235d70180ad",
   "metadata": {
    "tags": []
   },
   "outputs": [
    {
     "data": {
      "text/html": [
       "<div>\n",
       "<style scoped>\n",
       "    .dataframe tbody tr th:only-of-type {\n",
       "        vertical-align: middle;\n",
       "    }\n",
       "\n",
       "    .dataframe tbody tr th {\n",
       "        vertical-align: top;\n",
       "    }\n",
       "\n",
       "    .dataframe thead th {\n",
       "        text-align: right;\n",
       "    }\n",
       "</style>\n",
       "<table border=\"1\" class=\"dataframe\">\n",
       "  <thead>\n",
       "    <tr style=\"text-align: right;\">\n",
       "      <th></th>\n",
       "      <th>이름</th>\n",
       "      <th>그룹</th>\n",
       "      <th>성별</th>\n",
       "      <th>생년월일</th>\n",
       "      <th>키</th>\n",
       "      <th>혈액형</th>\n",
       "      <th>인기지수</th>\n",
       "    </tr>\n",
       "    <tr>\n",
       "      <th>소속사</th>\n",
       "      <th></th>\n",
       "      <th></th>\n",
       "      <th></th>\n",
       "      <th></th>\n",
       "      <th></th>\n",
       "      <th></th>\n",
       "      <th></th>\n",
       "    </tr>\n",
       "  </thead>\n",
       "  <tbody>\n",
       "    <tr>\n",
       "      <th>RBW</th>\n",
       "      <td>1</td>\n",
       "      <td>1</td>\n",
       "      <td>1</td>\n",
       "      <td>1</td>\n",
       "      <td>1</td>\n",
       "      <td>1</td>\n",
       "      <td>1</td>\n",
       "    </tr>\n",
       "    <tr>\n",
       "      <th>SM</th>\n",
       "      <td>3</td>\n",
       "      <td>3</td>\n",
       "      <td>3</td>\n",
       "      <td>3</td>\n",
       "      <td>2</td>\n",
       "      <td>3</td>\n",
       "      <td>3</td>\n",
       "    </tr>\n",
       "    <tr>\n",
       "      <th>빅히트</th>\n",
       "      <td>5</td>\n",
       "      <td>5</td>\n",
       "      <td>5</td>\n",
       "      <td>5</td>\n",
       "      <td>5</td>\n",
       "      <td>5</td>\n",
       "      <td>5</td>\n",
       "    </tr>\n",
       "    <tr>\n",
       "      <th>스타크루이엔티</th>\n",
       "      <td>1</td>\n",
       "      <td>1</td>\n",
       "      <td>1</td>\n",
       "      <td>1</td>\n",
       "      <td>1</td>\n",
       "      <td>1</td>\n",
       "      <td>1</td>\n",
       "    </tr>\n",
       "    <tr>\n",
       "      <th>커넥트</th>\n",
       "      <td>1</td>\n",
       "      <td>0</td>\n",
       "      <td>1</td>\n",
       "      <td>1</td>\n",
       "      <td>1</td>\n",
       "      <td>1</td>\n",
       "      <td>1</td>\n",
       "    </tr>\n",
       "    <tr>\n",
       "      <th>큐브</th>\n",
       "      <td>1</td>\n",
       "      <td>1</td>\n",
       "      <td>1</td>\n",
       "      <td>1</td>\n",
       "      <td>0</td>\n",
       "      <td>1</td>\n",
       "      <td>1</td>\n",
       "    </tr>\n",
       "    <tr>\n",
       "      <th>판타지오</th>\n",
       "      <td>1</td>\n",
       "      <td>1</td>\n",
       "      <td>1</td>\n",
       "      <td>1</td>\n",
       "      <td>1</td>\n",
       "      <td>1</td>\n",
       "      <td>1</td>\n",
       "    </tr>\n",
       "    <tr>\n",
       "      <th>플레디스</th>\n",
       "      <td>3</td>\n",
       "      <td>2</td>\n",
       "      <td>3</td>\n",
       "      <td>3</td>\n",
       "      <td>3</td>\n",
       "      <td>3</td>\n",
       "      <td>3</td>\n",
       "    </tr>\n",
       "  </tbody>\n",
       "</table>\n",
       "</div>"
      ],
      "text/plain": [
       "         이름  그룹  성별  생년월일  키  혈액형  인기지수\n",
       "소속사                                    \n",
       "RBW       1   1   1     1  1    1     1\n",
       "SM        3   3   3     3  2    3     3\n",
       "빅히트       5   5   5     5  5    5     5\n",
       "스타크루이엔티   1   1   1     1  1    1     1\n",
       "커넥트       1   0   1     1  1    1     1\n",
       "큐브        1   1   1     1  0    1     1\n",
       "판타지오      1   1   1     1  1    1     1\n",
       "플레디스      3   2   3     3  3    3     3"
      ]
     },
     "execution_count": 87,
     "metadata": {},
     "output_type": "execute_result"
    }
   ],
   "source": [
    "df.groupby('소속사').count()"
   ]
  },
  {
   "cell_type": "code",
   "execution_count": 88,
   "id": "8a4c3e9e-ba26-473e-9feb-83957864befd",
   "metadata": {
    "tags": []
   },
   "outputs": [
    {
     "data": {
      "text/plain": [
       "소속사\n",
       "빅히트        5\n",
       "SM         3\n",
       "플레디스       3\n",
       "RBW        1\n",
       "스타크루이엔티    1\n",
       "커넥트        1\n",
       "큐브         1\n",
       "판타지오       1\n",
       "Name: count, dtype: int64"
      ]
     },
     "execution_count": 88,
     "metadata": {},
     "output_type": "execute_result"
    }
   ],
   "source": [
    "df.value_counts('소속사')"
   ]
  },
  {
   "cell_type": "code",
   "execution_count": 89,
   "id": "a4072750-e2d4-4319-aacf-88cc6b212024",
   "metadata": {
    "tags": []
   },
   "outputs": [
    {
     "data": {
      "text/html": [
       "<div>\n",
       "<style scoped>\n",
       "    .dataframe tbody tr th:only-of-type {\n",
       "        vertical-align: middle;\n",
       "    }\n",
       "\n",
       "    .dataframe tbody tr th {\n",
       "        vertical-align: top;\n",
       "    }\n",
       "\n",
       "    .dataframe thead th {\n",
       "        text-align: right;\n",
       "    }\n",
       "</style>\n",
       "<table border=\"1\" class=\"dataframe\">\n",
       "  <thead>\n",
       "    <tr style=\"text-align: right;\">\n",
       "      <th></th>\n",
       "      <th>이름</th>\n",
       "      <th>소속사</th>\n",
       "      <th>성별</th>\n",
       "      <th>생년월일</th>\n",
       "      <th>키</th>\n",
       "      <th>혈액형</th>\n",
       "      <th>인기지수</th>\n",
       "    </tr>\n",
       "    <tr>\n",
       "      <th>그룹</th>\n",
       "      <th></th>\n",
       "      <th></th>\n",
       "      <th></th>\n",
       "      <th></th>\n",
       "      <th></th>\n",
       "      <th></th>\n",
       "      <th></th>\n",
       "    </tr>\n",
       "  </thead>\n",
       "  <tbody>\n",
       "    <tr>\n",
       "      <th>뉴이스트</th>\n",
       "      <td>백호JR</td>\n",
       "      <td>플레디스플레디스</td>\n",
       "      <td>남자남자</td>\n",
       "      <td>1995-07-211995-06-08</td>\n",
       "      <td>351.0</td>\n",
       "      <td>ABO</td>\n",
       "      <td>6575791</td>\n",
       "    </tr>\n",
       "    <tr>\n",
       "      <th>레드벨벳</th>\n",
       "      <td>아이린슬기</td>\n",
       "      <td>SMSM</td>\n",
       "      <td>여자여자</td>\n",
       "      <td>1991-03-291994-02-10</td>\n",
       "      <td>321.0</td>\n",
       "      <td>AA</td>\n",
       "      <td>13277776</td>\n",
       "    </tr>\n",
       "    <tr>\n",
       "      <th>마마무</th>\n",
       "      <td>화사</td>\n",
       "      <td>RBW</td>\n",
       "      <td>여자</td>\n",
       "      <td>1995-07-23</td>\n",
       "      <td>162.1</td>\n",
       "      <td>A</td>\n",
       "      <td>7650928</td>\n",
       "    </tr>\n",
       "    <tr>\n",
       "      <th>방탄소년단</th>\n",
       "      <td>뷔진슈가정국지민</td>\n",
       "      <td>빅히트빅히트빅히트빅히트빅히트</td>\n",
       "      <td>남자남자남자남자남자</td>\n",
       "      <td>1995-12-301992-12-041993-03-091997-09-011995-1...</td>\n",
       "      <td>882.8</td>\n",
       "      <td>ABOOAA</td>\n",
       "      <td>35300846</td>\n",
       "    </tr>\n",
       "    <tr>\n",
       "      <th>소녀시대</th>\n",
       "      <td>윤아</td>\n",
       "      <td>SM</td>\n",
       "      <td>여자</td>\n",
       "      <td>1989-03-09</td>\n",
       "      <td>0.0</td>\n",
       "      <td>A</td>\n",
       "      <td>3918661</td>\n",
       "    </tr>\n",
       "    <tr>\n",
       "      <th>아스트로</th>\n",
       "      <td>차은우</td>\n",
       "      <td>판타지오</td>\n",
       "      <td>남자</td>\n",
       "      <td>1997-03-30</td>\n",
       "      <td>183.0</td>\n",
       "      <td>B</td>\n",
       "      <td>3506027</td>\n",
       "    </tr>\n",
       "    <tr>\n",
       "      <th>아이들</th>\n",
       "      <td>소연</td>\n",
       "      <td>큐브</td>\n",
       "      <td>여자</td>\n",
       "      <td>1998-08-26</td>\n",
       "      <td>0.0</td>\n",
       "      <td>B</td>\n",
       "      <td>4668615</td>\n",
       "    </tr>\n",
       "    <tr>\n",
       "      <th>핫샷</th>\n",
       "      <td>하성운</td>\n",
       "      <td>스타크루이엔티</td>\n",
       "      <td>남자</td>\n",
       "      <td>1994-03-22</td>\n",
       "      <td>167.1</td>\n",
       "      <td>A</td>\n",
       "      <td>4036489</td>\n",
       "    </tr>\n",
       "  </tbody>\n",
       "</table>\n",
       "</div>"
      ],
      "text/plain": [
       "             이름              소속사          성별   \n",
       "그룹                                             \n",
       "뉴이스트       백호JR         플레디스플레디스        남자남자  \\\n",
       "레드벨벳      아이린슬기             SMSM        여자여자   \n",
       "마마무          화사              RBW          여자   \n",
       "방탄소년단  뷔진슈가정국지민  빅히트빅히트빅히트빅히트빅히트  남자남자남자남자남자   \n",
       "소녀시대         윤아               SM          여자   \n",
       "아스트로        차은우             판타지오          남자   \n",
       "아이들          소연               큐브          여자   \n",
       "핫샷          하성운          스타크루이엔티          남자   \n",
       "\n",
       "                                                    생년월일      키     혈액형   \n",
       "그룹                                                                        \n",
       "뉴이스트                                1995-07-211995-06-08  351.0     ABO  \\\n",
       "레드벨벳                                1991-03-291994-02-10  321.0      AA   \n",
       "마마무                                           1995-07-23  162.1       A   \n",
       "방탄소년단  1995-12-301992-12-041993-03-091997-09-011995-1...  882.8  ABOOAA   \n",
       "소녀시대                                          1989-03-09    0.0       A   \n",
       "아스트로                                          1997-03-30  183.0       B   \n",
       "아이들                                           1998-08-26    0.0       B   \n",
       "핫샷                                            1994-03-22  167.1       A   \n",
       "\n",
       "           인기지수  \n",
       "그룹               \n",
       "뉴이스트    6575791  \n",
       "레드벨벳   13277776  \n",
       "마마무     7650928  \n",
       "방탄소년단  35300846  \n",
       "소녀시대    3918661  \n",
       "아스트로    3506027  \n",
       "아이들     4668615  \n",
       "핫샷      4036489  "
      ]
     },
     "execution_count": 89,
     "metadata": {},
     "output_type": "execute_result"
    }
   ],
   "source": [
    "df.groupby('그룹').sum()"
   ]
  },
  {
   "cell_type": "code",
   "execution_count": 90,
   "id": "5455a89c-405d-4337-bac8-3193d0fcfac8",
   "metadata": {
    "tags": []
   },
   "outputs": [
    {
     "data": {
      "text/html": [
       "<div>\n",
       "<style scoped>\n",
       "    .dataframe tbody tr th:only-of-type {\n",
       "        vertical-align: middle;\n",
       "    }\n",
       "\n",
       "    .dataframe tbody tr th {\n",
       "        vertical-align: top;\n",
       "    }\n",
       "\n",
       "    .dataframe thead th {\n",
       "        text-align: right;\n",
       "    }\n",
       "</style>\n",
       "<table border=\"1\" class=\"dataframe\">\n",
       "  <thead>\n",
       "    <tr style=\"text-align: right;\">\n",
       "      <th></th>\n",
       "      <th>이름</th>\n",
       "      <th>그룹</th>\n",
       "      <th>소속사</th>\n",
       "      <th>생년월일</th>\n",
       "      <th>키</th>\n",
       "      <th>혈액형</th>\n",
       "      <th>인기지수</th>\n",
       "    </tr>\n",
       "    <tr>\n",
       "      <th>성별</th>\n",
       "      <th></th>\n",
       "      <th></th>\n",
       "      <th></th>\n",
       "      <th></th>\n",
       "      <th></th>\n",
       "      <th></th>\n",
       "      <th></th>\n",
       "    </tr>\n",
       "  </thead>\n",
       "  <tbody>\n",
       "    <tr>\n",
       "      <th>남자</th>\n",
       "      <td>차은우뷔민현진백호JR슈가강다니엘정국하성운지민</td>\n",
       "      <td>아스트로방탄소년단방탄소년단뉴이스트뉴이스트방탄소년단방탄소년단핫샷방탄소년단</td>\n",
       "      <td>판타지오빅히트플레디스빅히트플레디스플레디스빅히트커넥트빅히트스타크루이엔티빅히트</td>\n",
       "      <td>1997-03-301995-12-301995-08-091992-12-041995-0...</td>\n",
       "      <td>1946.2</td>\n",
       "      <td>BABOOABOOAAAA</td>\n",
       "      <td>62682690</td>\n",
       "    </tr>\n",
       "    <tr>\n",
       "      <th>여자</th>\n",
       "      <td>아이린소연윤아화사슬기</td>\n",
       "      <td>레드벨벳아이들소녀시대마마무레드벨벳</td>\n",
       "      <td>SM큐브SMRBWSM</td>\n",
       "      <td>1991-03-291998-08-261989-03-091995-07-231994-0...</td>\n",
       "      <td>483.1</td>\n",
       "      <td>ABAAA</td>\n",
       "      <td>29515980</td>\n",
       "    </tr>\n",
       "  </tbody>\n",
       "</table>\n",
       "</div>"
      ],
      "text/plain": [
       "                          이름                                       그룹   \n",
       "성별                                                                      \n",
       "남자  차은우뷔민현진백호JR슈가강다니엘정국하성운지민  아스트로방탄소년단방탄소년단뉴이스트뉴이스트방탄소년단방탄소년단핫샷방탄소년단  \\\n",
       "여자               아이린소연윤아화사슬기                       레드벨벳아이들소녀시대마마무레드벨벳   \n",
       "\n",
       "                                          소속사   \n",
       "성별                                              \n",
       "남자  판타지오빅히트플레디스빅히트플레디스플레디스빅히트커넥트빅히트스타크루이엔티빅히트  \\\n",
       "여자                                SM큐브SMRBWSM   \n",
       "\n",
       "                                                 생년월일       키            혈액형   \n",
       "성별                                                                             \n",
       "남자  1997-03-301995-12-301995-08-091992-12-041995-0...  1946.2  BABOOABOOAAAA  \\\n",
       "여자  1991-03-291998-08-261989-03-091995-07-231994-0...   483.1          ABAAA   \n",
       "\n",
       "        인기지수  \n",
       "성별            \n",
       "남자  62682690  \n",
       "여자  29515980  "
      ]
     },
     "execution_count": 90,
     "metadata": {},
     "output_type": "execute_result"
    }
   ],
   "source": [
    "df.groupby('성별').sum()"
   ]
  },
  {
   "cell_type": "code",
   "execution_count": 91,
   "id": "322c0cbc-fec3-4c1f-b3d8-14646d38fd85",
   "metadata": {
    "tags": []
   },
   "outputs": [
    {
     "data": {
      "text/html": [
       "<div>\n",
       "<style scoped>\n",
       "    .dataframe tbody tr th:only-of-type {\n",
       "        vertical-align: middle;\n",
       "    }\n",
       "\n",
       "    .dataframe tbody tr th {\n",
       "        vertical-align: top;\n",
       "    }\n",
       "\n",
       "    .dataframe thead th {\n",
       "        text-align: right;\n",
       "    }\n",
       "</style>\n",
       "<table border=\"1\" class=\"dataframe\">\n",
       "  <thead>\n",
       "    <tr style=\"text-align: right;\">\n",
       "      <th></th>\n",
       "      <th>이름</th>\n",
       "      <th>그룹</th>\n",
       "      <th>소속사</th>\n",
       "      <th>성별</th>\n",
       "      <th>생년월일</th>\n",
       "      <th>키</th>\n",
       "      <th>혈액형</th>\n",
       "      <th>인기지수</th>\n",
       "    </tr>\n",
       "  </thead>\n",
       "  <tbody>\n",
       "    <tr>\n",
       "      <th>0</th>\n",
       "      <td>아이린</td>\n",
       "      <td>레드벨벳</td>\n",
       "      <td>SM</td>\n",
       "      <td>여자</td>\n",
       "      <td>1991-03-29</td>\n",
       "      <td>160.0</td>\n",
       "      <td>A</td>\n",
       "      <td>8256324</td>\n",
       "    </tr>\n",
       "    <tr>\n",
       "      <th>1</th>\n",
       "      <td>차은우</td>\n",
       "      <td>아스트로</td>\n",
       "      <td>판타지오</td>\n",
       "      <td>남자</td>\n",
       "      <td>1997-03-30</td>\n",
       "      <td>183.0</td>\n",
       "      <td>B</td>\n",
       "      <td>3506027</td>\n",
       "    </tr>\n",
       "    <tr>\n",
       "      <th>2</th>\n",
       "      <td>뷔</td>\n",
       "      <td>방탄소년단</td>\n",
       "      <td>빅히트</td>\n",
       "      <td>남자</td>\n",
       "      <td>1995-12-30</td>\n",
       "      <td>178.0</td>\n",
       "      <td>AB</td>\n",
       "      <td>8073501</td>\n",
       "    </tr>\n",
       "  </tbody>\n",
       "</table>\n",
       "</div>"
      ],
      "text/plain": [
       "    이름     그룹   소속사  성별        생년월일      키 혈액형     인기지수\n",
       "0  아이린   레드벨벳    SM  여자  1991-03-29  160.0   A  8256324\n",
       "1  차은우   아스트로  판타지오  남자  1997-03-30  183.0   B  3506027\n",
       "2    뷔  방탄소년단   빅히트  남자  1995-12-30  178.0  AB  8073501"
      ]
     },
     "execution_count": 91,
     "metadata": {},
     "output_type": "execute_result"
    }
   ],
   "source": [
    "df.head(3)"
   ]
  },
  {
   "cell_type": "code",
   "execution_count": 92,
   "id": "36ac17a5-d9b3-4469-bdc0-c66d6501fa39",
   "metadata": {
    "tags": []
   },
   "outputs": [
    {
     "data": {
      "text/html": [
       "<div>\n",
       "<style scoped>\n",
       "    .dataframe tbody tr th:only-of-type {\n",
       "        vertical-align: middle;\n",
       "    }\n",
       "\n",
       "    .dataframe tbody tr th {\n",
       "        vertical-align: top;\n",
       "    }\n",
       "\n",
       "    .dataframe thead th {\n",
       "        text-align: right;\n",
       "    }\n",
       "</style>\n",
       "<table border=\"1\" class=\"dataframe\">\n",
       "  <thead>\n",
       "    <tr style=\"text-align: right;\">\n",
       "      <th></th>\n",
       "      <th>키</th>\n",
       "      <th>인기지수</th>\n",
       "    </tr>\n",
       "    <tr>\n",
       "      <th>혈액형</th>\n",
       "      <th></th>\n",
       "      <th></th>\n",
       "    </tr>\n",
       "  </thead>\n",
       "  <tbody>\n",
       "    <tr>\n",
       "      <th>A</th>\n",
       "      <td>168.828571</td>\n",
       "      <td>6861149.25</td>\n",
       "    </tr>\n",
       "    <tr>\n",
       "      <th>AB</th>\n",
       "      <td>176.500000</td>\n",
       "      <td>5687577.50</td>\n",
       "    </tr>\n",
       "    <tr>\n",
       "      <th>B</th>\n",
       "      <td>183.000000</td>\n",
       "      <td>4087321.00</td>\n",
       "    </tr>\n",
       "    <tr>\n",
       "      <th>O</th>\n",
       "      <td>177.875000</td>\n",
       "      <td>4439919.75</td>\n",
       "    </tr>\n",
       "  </tbody>\n",
       "</table>\n",
       "</div>"
      ],
      "text/plain": [
       "              키        인기지수\n",
       "혈액형                        \n",
       "A    168.828571  6861149.25\n",
       "AB   176.500000  5687577.50\n",
       "B    183.000000  4087321.00\n",
       "O    177.875000  4439919.75"
      ]
     },
     "execution_count": 92,
     "metadata": {},
     "output_type": "execute_result"
    }
   ],
   "source": [
    "df.groupby('혈액형')[['키','인기지수']].mean()"
   ]
  },
  {
   "cell_type": "code",
   "execution_count": 93,
   "id": "507631f7-027c-4d9c-a0f6-867a91d05bdb",
   "metadata": {
    "tags": []
   },
   "outputs": [
    {
     "data": {
      "text/html": [
       "<div>\n",
       "<style scoped>\n",
       "    .dataframe tbody tr th:only-of-type {\n",
       "        vertical-align: middle;\n",
       "    }\n",
       "\n",
       "    .dataframe tbody tr th {\n",
       "        vertical-align: top;\n",
       "    }\n",
       "\n",
       "    .dataframe thead th {\n",
       "        text-align: right;\n",
       "    }\n",
       "</style>\n",
       "<table border=\"1\" class=\"dataframe\">\n",
       "  <thead>\n",
       "    <tr style=\"text-align: right;\">\n",
       "      <th></th>\n",
       "      <th>키</th>\n",
       "      <th>인기지수</th>\n",
       "    </tr>\n",
       "    <tr>\n",
       "      <th>혈액형</th>\n",
       "      <th></th>\n",
       "      <th></th>\n",
       "    </tr>\n",
       "  </thead>\n",
       "  <tbody>\n",
       "    <tr>\n",
       "      <th>A</th>\n",
       "      <td>69.862381</td>\n",
       "      <td>5.445530e+12</td>\n",
       "    </tr>\n",
       "    <tr>\n",
       "      <th>AB</th>\n",
       "      <td>4.500000</td>\n",
       "      <td>1.138526e+13</td>\n",
       "    </tr>\n",
       "    <tr>\n",
       "      <th>B</th>\n",
       "      <td>NaN</td>\n",
       "      <td>6.758054e+11</td>\n",
       "    </tr>\n",
       "    <tr>\n",
       "      <th>O</th>\n",
       "      <td>13.289167</td>\n",
       "      <td>6.380473e+11</td>\n",
       "    </tr>\n",
       "  </tbody>\n",
       "</table>\n",
       "</div>"
      ],
      "text/plain": [
       "             키          인기지수\n",
       "혈액형                         \n",
       "A    69.862381  5.445530e+12\n",
       "AB    4.500000  1.138526e+13\n",
       "B          NaN  6.758054e+11\n",
       "O    13.289167  6.380473e+11"
      ]
     },
     "execution_count": 93,
     "metadata": {},
     "output_type": "execute_result"
    }
   ],
   "source": [
    "df.groupby('혈액형')[['키','인기지수']].var()"
   ]
  },
  {
   "cell_type": "code",
   "execution_count": 94,
   "id": "21d87674-000b-4877-8dbe-40a5791ceb0d",
   "metadata": {
    "tags": []
   },
   "outputs": [
    {
     "data": {
      "text/html": [
       "<div>\n",
       "<style scoped>\n",
       "    .dataframe tbody tr th:only-of-type {\n",
       "        vertical-align: middle;\n",
       "    }\n",
       "\n",
       "    .dataframe tbody tr th {\n",
       "        vertical-align: top;\n",
       "    }\n",
       "\n",
       "    .dataframe thead th {\n",
       "        text-align: right;\n",
       "    }\n",
       "</style>\n",
       "<table border=\"1\" class=\"dataframe\">\n",
       "  <thead>\n",
       "    <tr style=\"text-align: right;\">\n",
       "      <th></th>\n",
       "      <th>키</th>\n",
       "      <th>인기지수</th>\n",
       "    </tr>\n",
       "    <tr>\n",
       "      <th>혈액형</th>\n",
       "      <th></th>\n",
       "      <th></th>\n",
       "    </tr>\n",
       "  </thead>\n",
       "  <tbody>\n",
       "    <tr>\n",
       "      <th>A</th>\n",
       "      <td>8.358372</td>\n",
       "      <td>2.333566e+06</td>\n",
       "    </tr>\n",
       "    <tr>\n",
       "      <th>AB</th>\n",
       "      <td>2.121320</td>\n",
       "      <td>3.374205e+06</td>\n",
       "    </tr>\n",
       "    <tr>\n",
       "      <th>B</th>\n",
       "      <td>NaN</td>\n",
       "      <td>8.220739e+05</td>\n",
       "    </tr>\n",
       "    <tr>\n",
       "      <th>O</th>\n",
       "      <td>3.645431</td>\n",
       "      <td>7.987786e+05</td>\n",
       "    </tr>\n",
       "  </tbody>\n",
       "</table>\n",
       "</div>"
      ],
      "text/plain": [
       "            키          인기지수\n",
       "혈액형                        \n",
       "A    8.358372  2.333566e+06\n",
       "AB   2.121320  3.374205e+06\n",
       "B         NaN  8.220739e+05\n",
       "O    3.645431  7.987786e+05"
      ]
     },
     "execution_count": 94,
     "metadata": {},
     "output_type": "execute_result"
    }
   ],
   "source": [
    "df.groupby('혈액형')[['키','인기지수']].std()"
   ]
  },
  {
   "cell_type": "code",
   "execution_count": 95,
   "id": "b5352124-9e44-44e3-bf6d-118b3840514f",
   "metadata": {
    "tags": []
   },
   "outputs": [
    {
     "data": {
      "text/html": [
       "<div>\n",
       "<style scoped>\n",
       "    .dataframe tbody tr th:only-of-type {\n",
       "        vertical-align: middle;\n",
       "    }\n",
       "\n",
       "    .dataframe tbody tr th {\n",
       "        vertical-align: top;\n",
       "    }\n",
       "\n",
       "    .dataframe thead th {\n",
       "        text-align: right;\n",
       "    }\n",
       "</style>\n",
       "<table border=\"1\" class=\"dataframe\">\n",
       "  <thead>\n",
       "    <tr style=\"text-align: right;\">\n",
       "      <th></th>\n",
       "      <th>키</th>\n",
       "      <th>인기지수</th>\n",
       "    </tr>\n",
       "    <tr>\n",
       "      <th>혈액형</th>\n",
       "      <th></th>\n",
       "      <th></th>\n",
       "    </tr>\n",
       "  </thead>\n",
       "  <tbody>\n",
       "    <tr>\n",
       "      <th>A</th>\n",
       "      <td>160.0</td>\n",
       "      <td>3918661</td>\n",
       "    </tr>\n",
       "    <tr>\n",
       "      <th>AB</th>\n",
       "      <td>175.0</td>\n",
       "      <td>3301654</td>\n",
       "    </tr>\n",
       "    <tr>\n",
       "      <th>B</th>\n",
       "      <td>183.0</td>\n",
       "      <td>3506027</td>\n",
       "    </tr>\n",
       "    <tr>\n",
       "      <th>O</th>\n",
       "      <td>174.0</td>\n",
       "      <td>3274137</td>\n",
       "    </tr>\n",
       "  </tbody>\n",
       "</table>\n",
       "</div>"
      ],
      "text/plain": [
       "         키     인기지수\n",
       "혈액형                \n",
       "A    160.0  3918661\n",
       "AB   175.0  3301654\n",
       "B    183.0  3506027\n",
       "O    174.0  3274137"
      ]
     },
     "execution_count": 95,
     "metadata": {},
     "output_type": "execute_result"
    }
   ],
   "source": [
    "df.groupby('혈액형')[['키','인기지수']].min() "
   ]
  },
  {
   "cell_type": "code",
   "execution_count": 96,
   "id": "72987c3a-3747-4514-afc1-183ce9fabc75",
   "metadata": {
    "tags": []
   },
   "outputs": [
    {
     "data": {
      "text/html": [
       "<div>\n",
       "<style scoped>\n",
       "    .dataframe tbody tr th:only-of-type {\n",
       "        vertical-align: middle;\n",
       "    }\n",
       "\n",
       "    .dataframe tbody tr th {\n",
       "        vertical-align: top;\n",
       "    }\n",
       "\n",
       "    .dataframe thead th {\n",
       "        text-align: right;\n",
       "    }\n",
       "</style>\n",
       "<table border=\"1\" class=\"dataframe\">\n",
       "  <thead>\n",
       "    <tr style=\"text-align: right;\">\n",
       "      <th></th>\n",
       "      <th>키</th>\n",
       "      <th>인기지수</th>\n",
       "    </tr>\n",
       "    <tr>\n",
       "      <th>혈액형</th>\n",
       "      <th></th>\n",
       "      <th></th>\n",
       "    </tr>\n",
       "  </thead>\n",
       "  <tbody>\n",
       "    <tr>\n",
       "      <th>A</th>\n",
       "      <td>180.0</td>\n",
       "      <td>10523260</td>\n",
       "    </tr>\n",
       "    <tr>\n",
       "      <th>AB</th>\n",
       "      <td>178.0</td>\n",
       "      <td>8073501</td>\n",
       "    </tr>\n",
       "    <tr>\n",
       "      <th>B</th>\n",
       "      <td>183.0</td>\n",
       "      <td>4668615</td>\n",
       "    </tr>\n",
       "    <tr>\n",
       "      <th>O</th>\n",
       "      <td>182.3</td>\n",
       "      <td>4989792</td>\n",
       "    </tr>\n",
       "  </tbody>\n",
       "</table>\n",
       "</div>"
      ],
      "text/plain": [
       "         키      인기지수\n",
       "혈액형                 \n",
       "A    180.0  10523260\n",
       "AB   178.0   8073501\n",
       "B    183.0   4668615\n",
       "O    182.3   4989792"
      ]
     },
     "execution_count": 96,
     "metadata": {},
     "output_type": "execute_result"
    }
   ],
   "source": [
    "df.groupby('혈액형')[['키','인기지수']].max()"
   ]
  },
  {
   "cell_type": "markdown",
   "id": "f72451ce-34f1-4da5-badf-bee359e401c3",
   "metadata": {},
   "source": [
    "## 5. Multi-Index(복합 인덱스)"
   ]
  },
  {
   "cell_type": "code",
   "execution_count": 97,
   "id": "705be764-d903-4aae-a4b7-03f016ed0b07",
   "metadata": {
    "tags": []
   },
   "outputs": [],
   "source": [
    "df = pd.read_csv(\"datas/korea-star.csv\")"
   ]
  },
  {
   "cell_type": "markdown",
   "id": "a4623b27-5d92-4c0d-8ba5-03a0df68279d",
   "metadata": {},
   "source": [
    "### 5-1. Multi-Index 적용\n",
    "행 인덱스를 복합적으로 구성하고 싶은 경우는 인덱스를 리스트로 만들어줌"
   ]
  },
  {
   "cell_type": "code",
   "execution_count": 98,
   "id": "c305a28b-a27b-4b62-b3bb-c653278c43f7",
   "metadata": {
    "tags": []
   },
   "outputs": [
    {
     "data": {
      "text/html": [
       "<div>\n",
       "<style scoped>\n",
       "    .dataframe tbody tr th:only-of-type {\n",
       "        vertical-align: middle;\n",
       "    }\n",
       "\n",
       "    .dataframe tbody tr th {\n",
       "        vertical-align: top;\n",
       "    }\n",
       "\n",
       "    .dataframe thead th {\n",
       "        text-align: right;\n",
       "    }\n",
       "</style>\n",
       "<table border=\"1\" class=\"dataframe\">\n",
       "  <thead>\n",
       "    <tr style=\"text-align: right;\">\n",
       "      <th></th>\n",
       "      <th></th>\n",
       "      <th>키</th>\n",
       "      <th>인기지수</th>\n",
       "    </tr>\n",
       "    <tr>\n",
       "      <th>혈액형</th>\n",
       "      <th>성별</th>\n",
       "      <th></th>\n",
       "      <th></th>\n",
       "    </tr>\n",
       "  </thead>\n",
       "  <tbody>\n",
       "    <tr>\n",
       "      <th rowspan=\"2\" valign=\"top\">A</th>\n",
       "      <th>남자</th>\n",
       "      <td>174.675000</td>\n",
       "      <td>7510457.25</td>\n",
       "    </tr>\n",
       "    <tr>\n",
       "      <th>여자</th>\n",
       "      <td>161.033333</td>\n",
       "      <td>6211841.25</td>\n",
       "    </tr>\n",
       "    <tr>\n",
       "      <th>AB</th>\n",
       "      <th>남자</th>\n",
       "      <td>176.500000</td>\n",
       "      <td>5687577.50</td>\n",
       "    </tr>\n",
       "    <tr>\n",
       "      <th rowspan=\"2\" valign=\"top\">B</th>\n",
       "      <th>남자</th>\n",
       "      <td>183.000000</td>\n",
       "      <td>3506027.00</td>\n",
       "    </tr>\n",
       "    <tr>\n",
       "      <th>여자</th>\n",
       "      <td>NaN</td>\n",
       "      <td>4668615.00</td>\n",
       "    </tr>\n",
       "    <tr>\n",
       "      <th>O</th>\n",
       "      <th>남자</th>\n",
       "      <td>177.875000</td>\n",
       "      <td>4439919.75</td>\n",
       "    </tr>\n",
       "  </tbody>\n",
       "</table>\n",
       "</div>"
      ],
      "text/plain": [
       "                 키        인기지수\n",
       "혈액형 성별                        \n",
       "A   남자  174.675000  7510457.25\n",
       "    여자  161.033333  6211841.25\n",
       "AB  남자  176.500000  5687577.50\n",
       "B   남자  183.000000  3506027.00\n",
       "    여자         NaN  4668615.00\n",
       "O   남자  177.875000  4439919.75"
      ]
     },
     "execution_count": 98,
     "metadata": {},
     "output_type": "execute_result"
    }
   ],
   "source": [
    "df.groupby(['혈액형', '성별'])[[\"키\", \"인기지수\"]].mean()"
   ]
  },
  {
   "cell_type": "markdown",
   "id": "d3fce97e-b5ea-4f41-b2c1-1a526bc1ea12",
   "metadata": {},
   "source": [
    "### 5-2. Multi-Index 데이터 프레임을 피벗 테이블로 변환\n",
    "- PIVOT : (회전하는 물체의 균형을 잡아 주는) 중심점이라는 뜻\n",
    "- 원하는 컬럼 기준에 따라 테이블은 제구성 할 수 있음\n",
    "\n",
    "Multi-Index로 된 데이터프레임을 피벗테이블 형태로 다시 변환해 줄 수 있음"
   ]
  },
  {
   "cell_type": "code",
   "execution_count": 99,
   "id": "f5f0f7a2-a209-466a-8e7d-8ee0181ce842",
   "metadata": {
    "tags": []
   },
   "outputs": [],
   "source": [
    "# 그룹 by 수행수 multi index 데이터 프레임 만들고,\n",
    "df2 = df.groupby(['혈액형', '성별'])[[\"키\", \"인기지수\"]].mean()"
   ]
  },
  {
   "cell_type": "code",
   "execution_count": 100,
   "id": "a3b0020a-d657-4b04-ae7b-a3994532c158",
   "metadata": {
    "tags": []
   },
   "outputs": [
    {
     "name": "stdout",
     "output_type": "stream",
     "text": [
      "                 키        인기지수\n",
      "혈액형 성별                        \n",
      "A   남자  174.675000  7510457.25\n",
      "    여자  161.033333  6211841.25\n",
      "AB  남자  176.500000  5687577.50\n",
      "B   남자  183.000000  3506027.00\n",
      "    여자         NaN  4668615.00\n",
      "O   남자  177.875000  4439919.75\n"
     ]
    }
   ],
   "source": [
    "print(df2)"
   ]
  },
  {
   "cell_type": "code",
   "execution_count": 101,
   "id": "2359774a-10de-4da3-96d7-8c3b3c3206a5",
   "metadata": {
    "tags": []
   },
   "outputs": [
    {
     "name": "stdout",
     "output_type": "stream",
     "text": [
      "혈액형  성별      \n",
      "A    남자  키       1.746750e+02\n",
      "         인기지수    7.510457e+06\n",
      "     여자  키       1.610333e+02\n",
      "         인기지수    6.211841e+06\n",
      "AB   남자  키       1.765000e+02\n",
      "         인기지수    5.687578e+06\n",
      "B    남자  키       1.830000e+02\n",
      "         인기지수    3.506027e+06\n",
      "     여자  인기지수    4.668615e+06\n",
      "O    남자  키       1.778750e+02\n",
      "         인기지수    4.439920e+06\n",
      "dtype: float64\n"
     ]
    }
   ],
   "source": [
    "print(df2.stack())"
   ]
  },
  {
   "cell_type": "code",
   "execution_count": 102,
   "id": "096b3592-1a2b-43f3-b8bb-beec439780fe",
   "metadata": {
    "tags": []
   },
   "outputs": [
    {
     "name": "stdout",
     "output_type": "stream",
     "text": [
      "              키                               인기지수                         \n",
      "혈액형           A     AB      B        O           A         AB          B   \n",
      "성별                                                                         \n",
      "남자   174.675000  176.5  183.0  177.875  7510457.25  5687577.5  3506027.0  \\\n",
      "여자   161.033333    NaN    NaN      NaN  6211841.25        NaN  4668615.0   \n",
      "\n",
      "                 \n",
      "혈액형           O  \n",
      "성별               \n",
      "남자   4439919.75  \n",
      "여자          NaN  \n"
     ]
    }
   ],
   "source": [
    "# 혈액형 컬럼을 기준으로 피벗테이블 변형\n",
    "print(df2.unstack('혈액형'))"
   ]
  },
  {
   "cell_type": "code",
   "execution_count": 104,
   "id": "3b2d3f5b-5e2a-4bf2-ab30-ae6b4653355a",
   "metadata": {
    "tags": []
   },
   "outputs": [
    {
     "name": "stdout",
     "output_type": "stream",
     "text": [
      "           키                    인기지수            \n",
      "성별        남자          여자          남자          여자\n",
      "혈액형                                             \n",
      "A    174.675  161.033333  7510457.25  6211841.25\n",
      "AB   176.500         NaN  5687577.50         NaN\n",
      "B    183.000         NaN  3506027.00  4668615.00\n",
      "O    177.875         NaN  4439919.75         NaN\n"
     ]
    }
   ],
   "source": [
    "print(df2.unstack('성별'))"
   ]
  },
  {
   "cell_type": "markdown",
   "id": "43716529-577a-4e20-911d-b16cd5e6761c",
   "metadata": {},
   "source": [
    "## 5-3. 인덱스 초기화 (reset_index)\n",
    "reset_index() 는 Multi-Index로 구성된 데이터 프레임의 **인덱스를 초기화**해줌."
   ]
  },
  {
   "cell_type": "code",
   "execution_count": 111,
   "id": "860218fa-6a77-4113-9aa8-9cc4c7073b0e",
   "metadata": {
    "tags": []
   },
   "outputs": [
    {
     "data": {
      "text/html": [
       "<div>\n",
       "<style scoped>\n",
       "    .dataframe tbody tr th:only-of-type {\n",
       "        vertical-align: middle;\n",
       "    }\n",
       "\n",
       "    .dataframe tbody tr th {\n",
       "        vertical-align: top;\n",
       "    }\n",
       "\n",
       "    .dataframe thead th {\n",
       "        text-align: right;\n",
       "    }\n",
       "</style>\n",
       "<table border=\"1\" class=\"dataframe\">\n",
       "  <thead>\n",
       "    <tr style=\"text-align: right;\">\n",
       "      <th></th>\n",
       "      <th>혈액형</th>\n",
       "      <th>성별</th>\n",
       "      <th>키</th>\n",
       "      <th>인기지수</th>\n",
       "    </tr>\n",
       "  </thead>\n",
       "  <tbody>\n",
       "    <tr>\n",
       "      <th>0</th>\n",
       "      <td>A</td>\n",
       "      <td>남자</td>\n",
       "      <td>174.675000</td>\n",
       "      <td>7510457.25</td>\n",
       "    </tr>\n",
       "    <tr>\n",
       "      <th>1</th>\n",
       "      <td>A</td>\n",
       "      <td>여자</td>\n",
       "      <td>161.033333</td>\n",
       "      <td>6211841.25</td>\n",
       "    </tr>\n",
       "    <tr>\n",
       "      <th>2</th>\n",
       "      <td>AB</td>\n",
       "      <td>남자</td>\n",
       "      <td>176.500000</td>\n",
       "      <td>5687577.50</td>\n",
       "    </tr>\n",
       "    <tr>\n",
       "      <th>3</th>\n",
       "      <td>B</td>\n",
       "      <td>남자</td>\n",
       "      <td>183.000000</td>\n",
       "      <td>3506027.00</td>\n",
       "    </tr>\n",
       "    <tr>\n",
       "      <th>4</th>\n",
       "      <td>B</td>\n",
       "      <td>여자</td>\n",
       "      <td>NaN</td>\n",
       "      <td>4668615.00</td>\n",
       "    </tr>\n",
       "    <tr>\n",
       "      <th>5</th>\n",
       "      <td>O</td>\n",
       "      <td>남자</td>\n",
       "      <td>177.875000</td>\n",
       "      <td>4439919.75</td>\n",
       "    </tr>\n",
       "  </tbody>\n",
       "</table>\n",
       "</div>"
      ],
      "text/plain": [
       "  혈액형  성별           키        인기지수\n",
       "0   A  남자  174.675000  7510457.25\n",
       "1   A  여자  161.033333  6211841.25\n",
       "2  AB  남자  176.500000  5687577.50\n",
       "3   B  남자  183.000000  3506027.00\n",
       "4   B  여자         NaN  4668615.00\n",
       "5   O  남자  177.875000  4439919.75"
      ]
     },
     "execution_count": 111,
     "metadata": {},
     "output_type": "execute_result"
    }
   ],
   "source": [
    "df2"
   ]
  },
  {
   "cell_type": "code",
   "execution_count": 115,
   "id": "d4dc1ec4-943f-41b0-9ed7-390db1a9c9f1",
   "metadata": {
    "tags": []
   },
   "outputs": [],
   "source": [
    "# axis = 0, 행 index \n",
    "df2 = df2.reset_index()"
   ]
  },
  {
   "cell_type": "code",
   "execution_count": 108,
   "id": "a5e0954e-ff31-4610-85f9-f04b6ecdee7e",
   "metadata": {
    "tags": []
   },
   "outputs": [
    {
     "data": {
      "text/html": [
       "<div>\n",
       "<style scoped>\n",
       "    .dataframe tbody tr th:only-of-type {\n",
       "        vertical-align: middle;\n",
       "    }\n",
       "\n",
       "    .dataframe tbody tr th {\n",
       "        vertical-align: top;\n",
       "    }\n",
       "\n",
       "    .dataframe thead th {\n",
       "        text-align: right;\n",
       "    }\n",
       "</style>\n",
       "<table border=\"1\" class=\"dataframe\">\n",
       "  <thead>\n",
       "    <tr style=\"text-align: right;\">\n",
       "      <th></th>\n",
       "      <th>혈액형</th>\n",
       "      <th>성별</th>\n",
       "      <th>키</th>\n",
       "      <th>인기지수</th>\n",
       "    </tr>\n",
       "  </thead>\n",
       "  <tbody>\n",
       "    <tr>\n",
       "      <th>0</th>\n",
       "      <td>A</td>\n",
       "      <td>남자</td>\n",
       "      <td>174.675000</td>\n",
       "      <td>7510457.25</td>\n",
       "    </tr>\n",
       "    <tr>\n",
       "      <th>1</th>\n",
       "      <td>A</td>\n",
       "      <td>여자</td>\n",
       "      <td>161.033333</td>\n",
       "      <td>6211841.25</td>\n",
       "    </tr>\n",
       "    <tr>\n",
       "      <th>2</th>\n",
       "      <td>AB</td>\n",
       "      <td>남자</td>\n",
       "      <td>176.500000</td>\n",
       "      <td>5687577.50</td>\n",
       "    </tr>\n",
       "    <tr>\n",
       "      <th>3</th>\n",
       "      <td>B</td>\n",
       "      <td>남자</td>\n",
       "      <td>183.000000</td>\n",
       "      <td>3506027.00</td>\n",
       "    </tr>\n",
       "    <tr>\n",
       "      <th>4</th>\n",
       "      <td>B</td>\n",
       "      <td>여자</td>\n",
       "      <td>NaN</td>\n",
       "      <td>4668615.00</td>\n",
       "    </tr>\n",
       "    <tr>\n",
       "      <th>5</th>\n",
       "      <td>O</td>\n",
       "      <td>남자</td>\n",
       "      <td>177.875000</td>\n",
       "      <td>4439919.75</td>\n",
       "    </tr>\n",
       "  </tbody>\n",
       "</table>\n",
       "</div>"
      ],
      "text/plain": [
       "  혈액형  성별           키        인기지수\n",
       "0   A  남자  174.675000  7510457.25\n",
       "1   A  여자  161.033333  6211841.25\n",
       "2  AB  남자  176.500000  5687577.50\n",
       "3   B  남자  183.000000  3506027.00\n",
       "4   B  여자         NaN  4668615.00\n",
       "5   O  남자  177.875000  4439919.75"
      ]
     },
     "execution_count": 108,
     "metadata": {},
     "output_type": "execute_result"
    }
   ],
   "source": [
    "df2"
   ]
  },
  {
   "cell_type": "code",
   "execution_count": 116,
   "id": "5cfef82f-7175-4676-81cf-489d0831e8f9",
   "metadata": {
    "tags": []
   },
   "outputs": [
    {
     "data": {
      "text/html": [
       "<div>\n",
       "<style scoped>\n",
       "    .dataframe tbody tr th:only-of-type {\n",
       "        vertical-align: middle;\n",
       "    }\n",
       "\n",
       "    .dataframe tbody tr th {\n",
       "        vertical-align: top;\n",
       "    }\n",
       "\n",
       "    .dataframe thead th {\n",
       "        text-align: right;\n",
       "    }\n",
       "</style>\n",
       "<table border=\"1\" class=\"dataframe\">\n",
       "  <thead>\n",
       "    <tr style=\"text-align: right;\">\n",
       "      <th></th>\n",
       "      <th>혈액형</th>\n",
       "      <th>성별</th>\n",
       "      <th>키</th>\n",
       "      <th>인기지수</th>\n",
       "    </tr>\n",
       "  </thead>\n",
       "  <tbody>\n",
       "    <tr>\n",
       "      <th>0</th>\n",
       "      <td>A</td>\n",
       "      <td>남자</td>\n",
       "      <td>174.675000</td>\n",
       "      <td>7510457.25</td>\n",
       "    </tr>\n",
       "    <tr>\n",
       "      <th>1</th>\n",
       "      <td>A</td>\n",
       "      <td>여자</td>\n",
       "      <td>161.033333</td>\n",
       "      <td>6211841.25</td>\n",
       "    </tr>\n",
       "    <tr>\n",
       "      <th>2</th>\n",
       "      <td>AB</td>\n",
       "      <td>남자</td>\n",
       "      <td>176.500000</td>\n",
       "      <td>5687577.50</td>\n",
       "    </tr>\n",
       "    <tr>\n",
       "      <th>3</th>\n",
       "      <td>B</td>\n",
       "      <td>남자</td>\n",
       "      <td>183.000000</td>\n",
       "      <td>3506027.00</td>\n",
       "    </tr>\n",
       "    <tr>\n",
       "      <th>4</th>\n",
       "      <td>B</td>\n",
       "      <td>여자</td>\n",
       "      <td>NaN</td>\n",
       "      <td>4668615.00</td>\n",
       "    </tr>\n",
       "    <tr>\n",
       "      <th>5</th>\n",
       "      <td>O</td>\n",
       "      <td>남자</td>\n",
       "      <td>177.875000</td>\n",
       "      <td>4439919.75</td>\n",
       "    </tr>\n",
       "  </tbody>\n",
       "</table>\n",
       "</div>"
      ],
      "text/plain": [
       "  혈액형  성별           키        인기지수\n",
       "0   A  남자  174.675000  7510457.25\n",
       "1   A  여자  161.033333  6211841.25\n",
       "2  AB  남자  176.500000  5687577.50\n",
       "3   B  남자  183.000000  3506027.00\n",
       "4   B  여자         NaN  4668615.00\n",
       "5   O  남자  177.875000  4439919.75"
      ]
     },
     "execution_count": 116,
     "metadata": {},
     "output_type": "execute_result"
    }
   ],
   "source": [
    "df2.drop([\"index\"], axis=1)"
   ]
  },
  {
   "cell_type": "markdown",
   "id": "f07f9944-32ab-4835-bc8e-3097dcb0af01",
   "metadata": {},
   "source": [
    "# 6. 피벗테이블 (pivot_table)\n",
    "- 피벗테이블은 엑셀의 피벗테이블과 동일함\n",
    "- 데이터 열 중에서 **두 개의 열을 각각 행 인덱스, 열 인덱스로 사용**하여 데이터를 조회하여 펼쳐놓은 것을 의미함\n",
    "- 왼쪽에 나타나는 인덱스를 **행 인덱스**, 상단에 나타나는 인덱스를 **열 인덱스**라고 부름"
   ]
  },
  {
   "cell_type": "code",
   "execution_count": 117,
   "id": "68e6b630-7b42-493b-a18a-47b613428cf6",
   "metadata": {
    "tags": []
   },
   "outputs": [
    {
     "data": {
      "text/html": [
       "<div>\n",
       "<style scoped>\n",
       "    .dataframe tbody tr th:only-of-type {\n",
       "        vertical-align: middle;\n",
       "    }\n",
       "\n",
       "    .dataframe tbody tr th {\n",
       "        vertical-align: top;\n",
       "    }\n",
       "\n",
       "    .dataframe thead th {\n",
       "        text-align: right;\n",
       "    }\n",
       "</style>\n",
       "<table border=\"1\" class=\"dataframe\">\n",
       "  <thead>\n",
       "    <tr style=\"text-align: right;\">\n",
       "      <th></th>\n",
       "      <th>이름</th>\n",
       "      <th>그룹</th>\n",
       "      <th>소속사</th>\n",
       "      <th>성별</th>\n",
       "      <th>생년월일</th>\n",
       "      <th>키</th>\n",
       "      <th>혈액형</th>\n",
       "      <th>인기지수</th>\n",
       "    </tr>\n",
       "  </thead>\n",
       "  <tbody>\n",
       "    <tr>\n",
       "      <th>0</th>\n",
       "      <td>아이린</td>\n",
       "      <td>레드벨벳</td>\n",
       "      <td>SM</td>\n",
       "      <td>여자</td>\n",
       "      <td>1991-03-29</td>\n",
       "      <td>160.0</td>\n",
       "      <td>A</td>\n",
       "      <td>8256324</td>\n",
       "    </tr>\n",
       "    <tr>\n",
       "      <th>1</th>\n",
       "      <td>차은우</td>\n",
       "      <td>아스트로</td>\n",
       "      <td>판타지오</td>\n",
       "      <td>남자</td>\n",
       "      <td>1997-03-30</td>\n",
       "      <td>183.0</td>\n",
       "      <td>B</td>\n",
       "      <td>3506027</td>\n",
       "    </tr>\n",
       "    <tr>\n",
       "      <th>2</th>\n",
       "      <td>뷔</td>\n",
       "      <td>방탄소년단</td>\n",
       "      <td>빅히트</td>\n",
       "      <td>남자</td>\n",
       "      <td>1995-12-30</td>\n",
       "      <td>178.0</td>\n",
       "      <td>AB</td>\n",
       "      <td>8073501</td>\n",
       "    </tr>\n",
       "    <tr>\n",
       "      <th>3</th>\n",
       "      <td>민현</td>\n",
       "      <td>NaN</td>\n",
       "      <td>플레디스</td>\n",
       "      <td>남자</td>\n",
       "      <td>1995-08-09</td>\n",
       "      <td>182.3</td>\n",
       "      <td>O</td>\n",
       "      <td>4989792</td>\n",
       "    </tr>\n",
       "    <tr>\n",
       "      <th>4</th>\n",
       "      <td>소연</td>\n",
       "      <td>아이들</td>\n",
       "      <td>큐브</td>\n",
       "      <td>여자</td>\n",
       "      <td>1998-08-26</td>\n",
       "      <td>NaN</td>\n",
       "      <td>B</td>\n",
       "      <td>4668615</td>\n",
       "    </tr>\n",
       "  </tbody>\n",
       "</table>\n",
       "</div>"
      ],
      "text/plain": [
       "    이름     그룹   소속사  성별        생년월일      키 혈액형     인기지수\n",
       "0  아이린   레드벨벳    SM  여자  1991-03-29  160.0   A  8256324\n",
       "1  차은우   아스트로  판타지오  남자  1997-03-30  183.0   B  3506027\n",
       "2    뷔  방탄소년단   빅히트  남자  1995-12-30  178.0  AB  8073501\n",
       "3   민현    NaN  플레디스  남자  1995-08-09  182.3   O  4989792\n",
       "4   소연    아이들    큐브  여자  1998-08-26    NaN   B  4668615"
      ]
     },
     "execution_count": 117,
     "metadata": {},
     "output_type": "execute_result"
    }
   ],
   "source": [
    "df.head()"
   ]
  },
  {
   "cell_type": "code",
   "execution_count": 118,
   "id": "1abc572c-13db-4b32-95fe-9baec7c1b200",
   "metadata": {
    "tags": []
   },
   "outputs": [
    {
     "data": {
      "text/html": [
       "<div>\n",
       "<style scoped>\n",
       "    .dataframe tbody tr th:only-of-type {\n",
       "        vertical-align: middle;\n",
       "    }\n",
       "\n",
       "    .dataframe tbody tr th {\n",
       "        vertical-align: top;\n",
       "    }\n",
       "\n",
       "    .dataframe thead th {\n",
       "        text-align: right;\n",
       "    }\n",
       "</style>\n",
       "<table border=\"1\" class=\"dataframe\">\n",
       "  <thead>\n",
       "    <tr style=\"text-align: right;\">\n",
       "      <th>혈액형</th>\n",
       "      <th>A</th>\n",
       "      <th>AB</th>\n",
       "      <th>B</th>\n",
       "      <th>O</th>\n",
       "    </tr>\n",
       "    <tr>\n",
       "      <th>소속사</th>\n",
       "      <th></th>\n",
       "      <th></th>\n",
       "      <th></th>\n",
       "      <th></th>\n",
       "    </tr>\n",
       "  </thead>\n",
       "  <tbody>\n",
       "    <tr>\n",
       "      <th>RBW</th>\n",
       "      <td>162.1</td>\n",
       "      <td>NaN</td>\n",
       "      <td>NaN</td>\n",
       "      <td>NaN</td>\n",
       "    </tr>\n",
       "    <tr>\n",
       "      <th>SM</th>\n",
       "      <td>160.5</td>\n",
       "      <td>NaN</td>\n",
       "      <td>NaN</td>\n",
       "      <td>NaN</td>\n",
       "    </tr>\n",
       "    <tr>\n",
       "      <th>빅히트</th>\n",
       "      <td>175.8</td>\n",
       "      <td>178.0</td>\n",
       "      <td>NaN</td>\n",
       "      <td>176.60</td>\n",
       "    </tr>\n",
       "    <tr>\n",
       "      <th>스타크루이엔티</th>\n",
       "      <td>167.1</td>\n",
       "      <td>NaN</td>\n",
       "      <td>NaN</td>\n",
       "      <td>NaN</td>\n",
       "    </tr>\n",
       "    <tr>\n",
       "      <th>커넥트</th>\n",
       "      <td>180.0</td>\n",
       "      <td>NaN</td>\n",
       "      <td>NaN</td>\n",
       "      <td>NaN</td>\n",
       "    </tr>\n",
       "    <tr>\n",
       "      <th>판타지오</th>\n",
       "      <td>NaN</td>\n",
       "      <td>NaN</td>\n",
       "      <td>183.0</td>\n",
       "      <td>NaN</td>\n",
       "    </tr>\n",
       "    <tr>\n",
       "      <th>플레디스</th>\n",
       "      <td>NaN</td>\n",
       "      <td>175.0</td>\n",
       "      <td>NaN</td>\n",
       "      <td>179.15</td>\n",
       "    </tr>\n",
       "  </tbody>\n",
       "</table>\n",
       "</div>"
      ],
      "text/plain": [
       "혈액형          A     AB      B       O\n",
       "소속사                                 \n",
       "RBW      162.1    NaN    NaN     NaN\n",
       "SM       160.5    NaN    NaN     NaN\n",
       "빅히트      175.8  178.0    NaN  176.60\n",
       "스타크루이엔티  167.1    NaN    NaN     NaN\n",
       "커넥트      180.0    NaN    NaN     NaN\n",
       "판타지오       NaN    NaN  183.0     NaN\n",
       "플레디스       NaN  175.0    NaN  179.15"
      ]
     },
     "execution_count": 118,
     "metadata": {},
     "output_type": "execute_result"
    }
   ],
   "source": [
    "# index는 행 인덱스\n",
    "# columns는 열 인덱스\n",
    "# values는 조회하고 싶은 값\n",
    "pd.pivot_table(df, index='소속사', columns='혈액형', values='키')"
   ]
  },
  {
   "cell_type": "code",
   "execution_count": 119,
   "id": "f552d8c1-d685-474a-9410-ac2033e4d3f2",
   "metadata": {
    "tags": []
   },
   "outputs": [
    {
     "data": {
      "text/html": [
       "<div>\n",
       "<style scoped>\n",
       "    .dataframe tbody tr th:only-of-type {\n",
       "        vertical-align: middle;\n",
       "    }\n",
       "\n",
       "    .dataframe tbody tr th {\n",
       "        vertical-align: top;\n",
       "    }\n",
       "\n",
       "    .dataframe thead th {\n",
       "        text-align: right;\n",
       "    }\n",
       "</style>\n",
       "<table border=\"1\" class=\"dataframe\">\n",
       "  <thead>\n",
       "    <tr style=\"text-align: right;\">\n",
       "      <th>혈액형</th>\n",
       "      <th>A</th>\n",
       "      <th>AB</th>\n",
       "      <th>B</th>\n",
       "      <th>O</th>\n",
       "    </tr>\n",
       "    <tr>\n",
       "      <th>그룹</th>\n",
       "      <th></th>\n",
       "      <th></th>\n",
       "      <th></th>\n",
       "      <th></th>\n",
       "    </tr>\n",
       "  </thead>\n",
       "  <tbody>\n",
       "    <tr>\n",
       "      <th>뉴이스트</th>\n",
       "      <td>NaN</td>\n",
       "      <td>3301654.0</td>\n",
       "      <td>NaN</td>\n",
       "      <td>3274137.0</td>\n",
       "    </tr>\n",
       "    <tr>\n",
       "      <th>레드벨벳</th>\n",
       "      <td>6638888.0</td>\n",
       "      <td>NaN</td>\n",
       "      <td>NaN</td>\n",
       "      <td>NaN</td>\n",
       "    </tr>\n",
       "    <tr>\n",
       "      <th>마마무</th>\n",
       "      <td>7650928.0</td>\n",
       "      <td>NaN</td>\n",
       "      <td>NaN</td>\n",
       "      <td>NaN</td>\n",
       "    </tr>\n",
       "    <tr>\n",
       "      <th>방탄소년단</th>\n",
       "      <td>8865797.5</td>\n",
       "      <td>8073501.0</td>\n",
       "      <td>NaN</td>\n",
       "      <td>4747875.0</td>\n",
       "    </tr>\n",
       "    <tr>\n",
       "      <th>소녀시대</th>\n",
       "      <td>3918661.0</td>\n",
       "      <td>NaN</td>\n",
       "      <td>NaN</td>\n",
       "      <td>NaN</td>\n",
       "    </tr>\n",
       "    <tr>\n",
       "      <th>아스트로</th>\n",
       "      <td>NaN</td>\n",
       "      <td>NaN</td>\n",
       "      <td>3506027.0</td>\n",
       "      <td>NaN</td>\n",
       "    </tr>\n",
       "    <tr>\n",
       "      <th>아이들</th>\n",
       "      <td>NaN</td>\n",
       "      <td>NaN</td>\n",
       "      <td>4668615.0</td>\n",
       "      <td>NaN</td>\n",
       "    </tr>\n",
       "    <tr>\n",
       "      <th>핫샷</th>\n",
       "      <td>4036489.0</td>\n",
       "      <td>NaN</td>\n",
       "      <td>NaN</td>\n",
       "      <td>NaN</td>\n",
       "    </tr>\n",
       "  </tbody>\n",
       "</table>\n",
       "</div>"
      ],
      "text/plain": [
       "혈액형            A         AB          B          O\n",
       "그룹                                               \n",
       "뉴이스트         NaN  3301654.0        NaN  3274137.0\n",
       "레드벨벳   6638888.0        NaN        NaN        NaN\n",
       "마마무    7650928.0        NaN        NaN        NaN\n",
       "방탄소년단  8865797.5  8073501.0        NaN  4747875.0\n",
       "소녀시대   3918661.0        NaN        NaN        NaN\n",
       "아스트로         NaN        NaN  3506027.0        NaN\n",
       "아이들          NaN        NaN  4668615.0        NaN\n",
       "핫샷     4036489.0        NaN        NaN        NaN"
      ]
     },
     "execution_count": 119,
     "metadata": {},
     "output_type": "execute_result"
    }
   ],
   "source": [
    "# aggfunc에는 추가 계산 옵션 (np.sum, np.mean) - 기본값은 평균\n",
    "pd.pivot_table(df, index='그룹', columns='혈액형', values='인기지수', aggfunc=np.mean)"
   ]
  },
  {
   "cell_type": "code",
   "execution_count": null,
   "id": "5665f9a5-fae4-47bb-80b0-e595e86bb430",
   "metadata": {},
   "outputs": [],
   "source": []
  },
  {
   "cell_type": "code",
   "execution_count": null,
   "id": "7cc9ec09-d16a-488c-86cd-9a0073d81af5",
   "metadata": {},
   "outputs": [],
   "source": []
  },
  {
   "cell_type": "code",
   "execution_count": null,
   "id": "cf2e3655-8689-4d3d-93b7-e321a8316428",
   "metadata": {},
   "outputs": [],
   "source": []
  }
 ],
 "metadata": {
  "kernelspec": {
   "display_name": "dl_ml",
   "language": "python",
   "name": "da_venv"
  },
  "language_info": {
   "codemirror_mode": {
    "name": "ipython",
    "version": 3
   },
   "file_extension": ".py",
   "mimetype": "text/x-python",
   "name": "python",
   "nbconvert_exporter": "python",
   "pygments_lexer": "ipython3",
   "version": "3.9.13"
  }
 },
 "nbformat": 4,
 "nbformat_minor": 5
}
