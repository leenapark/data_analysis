{
 "cells": [
  {
   "cell_type": "markdown",
   "id": "f27e70bc-363c-4d5f-bbe0-00cf51a24b52",
   "metadata": {},
   "source": [
    "# pandas"
   ]
  },
  {
   "cell_type": "code",
   "execution_count": 3,
   "id": "e92b4aaa-f199-4299-8065-b840fb0bc6e0",
   "metadata": {
    "tags": []
   },
   "outputs": [],
   "source": [
    "import pandas as pd\n",
    "import numpy as np"
   ]
  },
  {
   "cell_type": "code",
   "execution_count": 2,
   "id": "84036a58-77aa-4132-9550-fc94333f7367",
   "metadata": {
    "tags": []
   },
   "outputs": [
    {
     "name": "stdout",
     "output_type": "stream",
     "text": [
      "<module 'pandas' from 'C:\\\\playdata_lab\\\\data_analysis\\\\da_venv\\\\lib\\\\site-packages\\\\pandas\\\\__init__.py'>\n"
     ]
    }
   ],
   "source": [
    "print(pd)"
   ]
  },
  {
   "cell_type": "code",
   "execution_count": 6,
   "id": "df425077-9625-4c22-b5ef-46a2bfa9f4d2",
   "metadata": {
    "tags": []
   },
   "outputs": [],
   "source": [
    "nums = np.arange(1, 8)"
   ]
  },
  {
   "cell_type": "code",
   "execution_count": 8,
   "id": "7b8808a6-f9ba-4749-9fed-8ae790522fd8",
   "metadata": {
    "tags": []
   },
   "outputs": [
    {
     "name": "stdout",
     "output_type": "stream",
     "text": [
      "0    1\n",
      "1    2\n",
      "2    3\n",
      "3    4\n",
      "4    5\n",
      "5    6\n",
      "6    7\n",
      "dtype: int32\n",
      "<class 'pandas.core.series.Series'>\n"
     ]
    }
   ],
   "source": [
    "s = pd.Series(nums)\n",
    "print(s)\n",
    "print(type(s))"
   ]
  },
  {
   "cell_type": "code",
   "execution_count": 9,
   "id": "46d12921-1e65-44de-ba39-e1c401659798",
   "metadata": {
    "tags": []
   },
   "outputs": [
    {
     "name": "stdout",
     "output_type": "stream",
     "text": [
      "[[ 1  2  3  4]\n",
      " [ 5  6  7  8]\n",
      " [ 9 10 11 12]\n",
      " [13 14 15 16]\n",
      " [17 18 19 20]]\n"
     ]
    }
   ],
   "source": [
    "nums=np.arange(1, 21)\n",
    "nums = nums.reshape((-1, 4))\n",
    "print(nums)"
   ]
  },
  {
   "cell_type": "code",
   "execution_count": 10,
   "id": "9f8be4f3-2e16-4be3-9d2f-da8c82f84bbc",
   "metadata": {
    "tags": []
   },
   "outputs": [
    {
     "name": "stdout",
     "output_type": "stream",
     "text": [
      "    0   1   2   3\n",
      "0   1   2   3   4\n",
      "1   5   6   7   8\n",
      "2   9  10  11  12\n",
      "3  13  14  15  16\n",
      "4  17  18  19  20\n"
     ]
    }
   ],
   "source": [
    "df = pd.DataFrame(nums)\n",
    "print(df)"
   ]
  },
  {
   "cell_type": "markdown",
   "id": "7ade3ed7-19f9-4b1b-835d-4246a202ee43",
   "metadata": {},
   "source": [
    "## DataFrame"
   ]
  },
  {
   "cell_type": "markdown",
   "id": "ba7e3c5f-4a65-4e22-8579-0abc1e37b659",
   "metadata": {},
   "source": [
    "### 방법1. list"
   ]
  },
  {
   "cell_type": "code",
   "execution_count": 11,
   "id": "2cff9b4a-0ba1-4074-9fa6-4fe047ae1d09",
   "metadata": {
    "tags": []
   },
   "outputs": [],
   "source": [
    "company1 = [['삼성', 2000, '스마트폰'],\n",
    "           ['현대', 2500, '자동차'],\n",
    "           ['LG', 3000, '건조기']]"
   ]
  },
  {
   "cell_type": "code",
   "execution_count": 12,
   "id": "43cbbf32-1d0e-4caa-bb96-c2be6e29617f",
   "metadata": {
    "tags": []
   },
   "outputs": [
    {
     "name": "stdout",
     "output_type": "stream",
     "text": [
      "    0     1     2\n",
      "0  삼성  2000  스마트폰\n",
      "1  현대  2500   자동차\n",
      "2  LG  3000   건조기\n"
     ]
    }
   ],
   "source": [
    "print(pd.DataFrame(company1))"
   ]
  },
  {
   "cell_type": "code",
   "execution_count": 13,
   "id": "bf3418f2-9f55-41b0-9735-fdbe1fdc4c51",
   "metadata": {
    "tags": []
   },
   "outputs": [
    {
     "name": "stdout",
     "output_type": "stream",
     "text": [
      "    0     1     2\n",
      "0  삼성  2000  스마트폰\n",
      "1  현대  2500   자동차\n",
      "2  LG  3000   건조기\n"
     ]
    }
   ],
   "source": [
    "df1 = pd.DataFrame(company1)\n",
    "print(df1)"
   ]
  },
  {
   "cell_type": "markdown",
   "id": "b53e355e-fd5c-4fb1-ab07-6658ca55305c",
   "metadata": {},
   "source": [
    "### column name"
   ]
  },
  {
   "cell_type": "code",
   "execution_count": 16,
   "id": "38a499cd-02b8-4b30-bacf-a549f65c67ce",
   "metadata": {
    "tags": []
   },
   "outputs": [
    {
     "name": "stdout",
     "output_type": "stream",
     "text": [
      "  기업명   매출액    업종\n",
      "0  삼성  2000  스마트폰\n",
      "1  현대  2500   자동차\n",
      "2  LG  3000   건조기\n"
     ]
    }
   ],
   "source": [
    "df1.columns = [\"기업명\", \"매출액\", \"업종\"]\n",
    "print(df1)"
   ]
  },
  {
   "cell_type": "code",
   "execution_count": 17,
   "id": "10594379-3dbe-415d-88dc-5441f14e3ce7",
   "metadata": {
    "tags": []
   },
   "outputs": [
    {
     "name": "stdout",
     "output_type": "stream",
     "text": [
      "  기업명   매출액    업종\n",
      "0  삼성  2000  스마트폰\n",
      "1  현대  2500   자동차\n",
      "2  LG  3000   건조기\n"
     ]
    }
   ],
   "source": [
    "df2 = pd.DataFrame(company1, columns=[\"기업명\", \"매출액\", \"업종\"])\n",
    "print(df2)"
   ]
  },
  {
   "cell_type": "markdown",
   "id": "52b6db0e-8e89-481d-babc-b5b721726abe",
   "metadata": {},
   "source": [
    "### 방법 2. dict로 만들기 - key:value로 정의"
   ]
  },
  {
   "cell_type": "code",
   "execution_count": 18,
   "id": "489c7be9-446e-4bec-afd6-60111bf912df",
   "metadata": {
    "tags": []
   },
   "outputs": [],
   "source": [
    "company2 = {\n",
    "            '기업명':['삼성', '현대', 'LG'], \n",
    "            '매출액': [2000, 2500, 3000], \n",
    "            '업종': ['스마트폰', '자동차', '건조기']\n",
    "            }"
   ]
  },
  {
   "cell_type": "code",
   "execution_count": 19,
   "id": "443f628a-2e34-410f-9ee3-4a391a611ac1",
   "metadata": {
    "tags": []
   },
   "outputs": [
    {
     "name": "stdout",
     "output_type": "stream",
     "text": [
      "  기업명   매출액    업종\n",
      "0  삼성  2000  스마트폰\n",
      "1  현대  2500   자동차\n",
      "2  LG  3000   건조기\n"
     ]
    }
   ],
   "source": [
    "df3 = pd.DataFrame(company2)\n",
    "print(df3)"
   ]
  },
  {
   "cell_type": "markdown",
   "id": "23a7dbc0-1c38-4f8e-a6f3-22813aea8b9e",
   "metadata": {},
   "source": [
    "#### 특정 column으로 index를 지정하기"
   ]
  },
  {
   "cell_type": "code",
   "execution_count": 20,
   "id": "650eeb3c-5511-4170-91b5-9e191d38b6fc",
   "metadata": {
    "tags": []
   },
   "outputs": [
    {
     "name": "stdout",
     "output_type": "stream",
     "text": [
      "  기업명   매출액    업종\n",
      "0  삼성  2000  스마트폰\n",
      "1  현대  2500   자동차\n",
      "2  LG  3000   건조기\n"
     ]
    }
   ],
   "source": [
    "print(df1)"
   ]
  },
  {
   "cell_type": "code",
   "execution_count": 22,
   "id": "da8ca7be-cd95-4d5f-9fbf-511aa35988b8",
   "metadata": {
    "tags": []
   },
   "outputs": [
    {
     "name": "stdout",
     "output_type": "stream",
     "text": [
      "    기업명   매출액    업종\n",
      "기업명                \n",
      "삼성   삼성  2000  스마트폰\n",
      "현대   현대  2500   자동차\n",
      "LG   LG  3000   건조기\n"
     ]
    }
   ],
   "source": [
    "df1.index = df1['기업명']\n",
    "print(df1)"
   ]
  },
  {
   "cell_type": "markdown",
   "id": "ce490cd8-b5cd-454f-aec7-3f8473e0649e",
   "metadata": {},
   "source": [
    "#### series : column 1개 확인하기"
   ]
  },
  {
   "cell_type": "code",
   "execution_count": 23,
   "id": "76d4504f-37cb-45ad-82f1-a27f0d47698c",
   "metadata": {
    "tags": []
   },
   "outputs": [
    {
     "data": {
      "text/plain": [
       "기업명\n",
       "삼성    2000\n",
       "현대    2500\n",
       "LG    3000\n",
       "Name: 매출액, dtype: int64"
      ]
     },
     "execution_count": 23,
     "metadata": {},
     "output_type": "execute_result"
    }
   ],
   "source": [
    "df1['매출액']"
   ]
  },
  {
   "cell_type": "code",
   "execution_count": 24,
   "id": "2c0e58a6-5575-46ba-aaf8-2dabd0476cc6",
   "metadata": {
    "tags": []
   },
   "outputs": [
    {
     "data": {
      "text/plain": [
       "pandas.core.series.Series"
      ]
     },
     "execution_count": 24,
     "metadata": {},
     "output_type": "execute_result"
    }
   ],
   "source": [
    "type(df1['매출액'])"
   ]
  },
  {
   "cell_type": "markdown",
   "id": "70e5ac33-7e82-4beb-ba77-4873b562c1af",
   "metadata": {},
   "source": [
    "## [문제1] 다음의 정보를 데이터 프레임으로 만들기\n",
    "<pre>\n",
    "이름, 포지션, 나이\n",
    "진, 서브보컬, 28\n",
    "슈가, 리드래퍼, 28\n",
    "제이홉, 서브래퍼, 27\n",
    "RM, 리더, 26\n",
    "지민, 리드보컬, 25\n",
    "뷔, 리드댄서, 25\n",
    "정국, 리드댄서,23\n",
    "</pre>"
   ]
  },
  {
   "cell_type": "code",
   "execution_count": 62,
   "id": "103126d7-9848-4dbe-9cfb-f0270726318e",
   "metadata": {
    "tags": []
   },
   "outputs": [
    {
     "name": "stdout",
     "output_type": "stream",
     "text": [
      "[['진', '서브보컬', '28']]\n",
      "[['진', '서브보컬', '28'], ['슈가', '리드래퍼', '28']]\n",
      "[['진', '서브보컬', '28'], ['슈가', '리드래퍼', '28'], ['제이홉', '서브래퍼', '27']]\n",
      "[['진', '서브보컬', '28'], ['슈가', '리드래퍼', '28'], ['제이홉', '서브래퍼', '27'], ['RM', '리더', '26']]\n",
      "[['진', '서브보컬', '28'], ['슈가', '리드래퍼', '28'], ['제이홉', '서브래퍼', '27'], ['RM', '리더', '26'], ['지민', '리드보컬', '25']]\n",
      "[['진', '서브보컬', '28'], ['슈가', '리드래퍼', '28'], ['제이홉', '서브래퍼', '27'], ['RM', '리더', '26'], ['지민', '리드보컬', '25'], ['뷔', '리드댄서', '25']]\n",
      "[['진', '서브보컬', '28'], ['슈가', '리드래퍼', '28'], ['제이홉', '서브래퍼', '27'], ['RM', '리더', '26'], ['지민', '리드보컬', '25'], ['뷔', '리드댄서', '25'], ['정국', '리드댄서', '23']]\n"
     ]
    }
   ],
   "source": [
    "datasList = []\n",
    "head = \"이름, 포지션, 나이\"\n",
    "head = head.split(\", \")\n",
    "# # print(\"data1\",data1)\n",
    "# datasList.append(data1)\n",
    "# print(datasList)\n",
    "data1 = \"진, 서브보컬, 28\"\n",
    "data1 = data1.split(\", \")\n",
    "datasList.append(data1)\n",
    "print(datasList)\n",
    "data1 = \"슈가, 리드래퍼, 28\"\n",
    "data1 = data1.split(\", \")\n",
    "datasList.append(data1)\n",
    "print(datasList)\n",
    "data1 = \"제이홉, 서브래퍼, 27\"\n",
    "data1 = data1.split(\", \")\n",
    "datasList.append(data1)\n",
    "print(datasList)\n",
    "data1 = \"RM, 리더, 26\"\n",
    "data1 = data1.split(\", \")\n",
    "datasList.append(data1)\n",
    "print(datasList)\n",
    "data1 = \"지민, 리드보컬, 25\"\n",
    "data1 = data1.split(\", \")\n",
    "datasList.append(data1)\n",
    "print(datasList)\n",
    "data1 = \"뷔, 리드댄서, 25\"\n",
    "data1 = data1.split(\", \")\n",
    "datasList.append(data1)\n",
    "print(datasList)\n",
    "data1 = \"정국, 리드댄서, 23\"\n",
    "data1 = data1.split(\", \")\n",
    "datasList.append(data1)\n",
    "print(datasList)"
   ]
  },
  {
   "cell_type": "code",
   "execution_count": 63,
   "id": "5c10c2a4-8e02-4a8d-ae0d-aec8e2d89835",
   "metadata": {
    "tags": []
   },
   "outputs": [
    {
     "name": "stdout",
     "output_type": "stream",
     "text": [
      "    이름   포지션  나이\n",
      "0    진  서브보컬  28\n",
      "1   슈가  리드래퍼  28\n",
      "2  제이홉  서브래퍼  27\n",
      "3   RM    리더  26\n",
      "4   지민  리드보컬  25\n",
      "5    뷔  리드댄서  25\n",
      "6   정국  리드댄서  23\n"
     ]
    }
   ],
   "source": [
    "df4 = pd.DataFrame(datasList, columns=head)\n",
    "print(df4)"
   ]
  },
  {
   "cell_type": "code",
   "execution_count": 72,
   "id": "b34c5fc0-7a84-4877-a6b1-6251e900865d",
   "metadata": {
    "tags": []
   },
   "outputs": [
    {
     "name": "stdout",
     "output_type": "stream",
     "text": [
      "['진', '서브보컬', '28', '슈가', '리드래퍼', '28', '제이홉', '서브래퍼', '27', 'RM', '리더', '26', '지민', '리드보컬', '25', '뷔', '리드댄서', '25', '정국', '리드댄서', '23']\n"
     ]
    }
   ],
   "source": [
    "datas2 = \"\"\"진, 서브보컬, 28\n",
    "슈가, 리드래퍼, 28\n",
    "제이홉, 서브래퍼, 27\n",
    "RM, 리더, 26\n",
    "지민, 리드보컬, 25\n",
    "뷔, 리드댄서, 25\n",
    "정국, 리드댄서, 23\"\"\"\n",
    "\n",
    "datas2 = datas2.replace(\"\\n\", \", \").split(\", \")\n",
    "print(datas2)\n"
   ]
  },
  {
   "cell_type": "code",
   "execution_count": 70,
   "id": "54b22ed4-0a98-44eb-be6c-ba2fcee80ad7",
   "metadata": {
    "tags": []
   },
   "outputs": [
    {
     "name": "stdout",
     "output_type": "stream",
     "text": [
      "['진']\n",
      "진\n",
      "['서브보컬']\n",
      "서브보컬\n",
      "['28', '슈가']\n",
      "28\n",
      "슈가\n",
      "['리드래퍼']\n",
      "리드래퍼\n",
      "['28', '제이홉']\n",
      "28\n",
      "제이홉\n",
      "['서브래퍼']\n",
      "서브래퍼\n",
      "['27', 'RM']\n",
      "27\n",
      "RM\n",
      "['리더']\n",
      "리더\n",
      "['26', '지민']\n",
      "26\n",
      "지민\n",
      "['리드보컬']\n",
      "리드보컬\n",
      "['25', '뷔']\n",
      "25\n",
      "뷔\n",
      "['리드댄서']\n",
      "리드댄서\n",
      "['25', '정국']\n",
      "25\n",
      "정국\n",
      "['리드댄서']\n",
      "리드댄서\n",
      "['23']\n",
      "23\n"
     ]
    }
   ],
   "source": [
    "1num = [0, 3,  \n",
    "btsDict={}\n",
    "name = []\n",
    "position = []\n",
    "age = []\n",
    "key = \"이름, 포지션, 나이\"\n",
    "key = key.split(\", \")\n",
    "\n"
   ]
  },
  {
   "cell_type": "code",
   "execution_count": 61,
   "id": "d9f7fd4a-2d76-4eb8-a597-44dab3ec2f70",
   "metadata": {
    "tags": []
   },
   "outputs": [
    {
     "name": "stdout",
     "output_type": "stream",
     "text": [
      "    0   1   2   3\n",
      "0   1   3   5   7\n",
      "1   9  11  13  15\n",
      "2  17  19  21  23\n",
      "3  25  27  29  31\n",
      "4  33  35  37  39\n"
     ]
    }
   ],
   "source": [
    "holsu = np.arange(1, 40, 2)\n",
    "# print(holsu.reshape(-1, 4))\n",
    "holsu = holsu.reshape(-1, 4)\n",
    "df5 = pd.DataFrame(holsu)\n",
    "print(df5)"
   ]
  },
  {
   "cell_type": "code",
   "execution_count": null,
   "id": "7b0dd4c9-24d5-465d-96a0-bee7c332d996",
   "metadata": {},
   "outputs": [],
   "source": []
  },
  {
   "cell_type": "code",
   "execution_count": null,
   "id": "de9ca446-4a9c-4cf1-9675-cf7257141568",
   "metadata": {},
   "outputs": [],
   "source": []
  },
  {
   "cell_type": "code",
   "execution_count": null,
   "id": "a70129ce-be0e-424f-b535-12e716c03947",
   "metadata": {},
   "outputs": [],
   "source": []
  },
  {
   "cell_type": "code",
   "execution_count": null,
   "id": "1053c089-b28e-4c2a-b317-cbd86af86265",
   "metadata": {},
   "outputs": [],
   "source": []
  },
  {
   "cell_type": "code",
   "execution_count": null,
   "id": "30c47dd7-bd57-4a76-80b4-9909095efdf6",
   "metadata": {},
   "outputs": [],
   "source": []
  },
  {
   "cell_type": "code",
   "execution_count": null,
   "id": "12c77bba-0514-41fe-a283-05764e3a6ef2",
   "metadata": {},
   "outputs": [],
   "source": []
  },
  {
   "cell_type": "code",
   "execution_count": null,
   "id": "567ac6d6-820d-40b6-b161-6a2761bbeb1f",
   "metadata": {},
   "outputs": [],
   "source": []
  }
 ],
 "metadata": {
  "kernelspec": {
   "display_name": "dl_ml",
   "language": "python",
   "name": "da_venv"
  },
  "language_info": {
   "codemirror_mode": {
    "name": "ipython",
    "version": 3
   },
   "file_extension": ".py",
   "mimetype": "text/x-python",
   "name": "python",
   "nbconvert_exporter": "python",
   "pygments_lexer": "ipython3",
   "version": "3.9.13"
  }
 },
 "nbformat": 4,
 "nbformat_minor": 5
}
